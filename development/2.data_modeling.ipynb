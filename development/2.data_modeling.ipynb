{
 "cells": [
  {
   "cell_type": "code",
   "execution_count": 1,
   "metadata": {},
   "outputs": [],
   "source": [
    "# !python -m pip install xgboost"
   ]
  },
  {
   "cell_type": "code",
   "execution_count": 2,
   "metadata": {},
   "outputs": [],
   "source": [
    "# !python -m pip install svgling"
   ]
  },
  {
   "cell_type": "code",
   "execution_count": 3,
   "metadata": {},
   "outputs": [],
   "source": [
    "# !python -m pip install scikit-multilearn"
   ]
  },
  {
   "cell_type": "code",
   "execution_count": 4,
   "metadata": {},
   "outputs": [],
   "source": [
    "import requests\n",
    "import json\n",
    "from pandas import json_normalize\n",
    "import ast\n",
    "\n",
    "import pandas as pd\n",
    "import numpy as np\n",
    "import re\n",
    "import string\n",
    "import itertools\n",
    "from collections import Counter\n",
    "\n",
    "from sklearn.model_selection import train_test_split\n",
    "from sklearn.model_selection import train_test_split, RandomizedSearchCV, cross_validate, KFold, cross_val_score, cross_validate, StratifiedKFold\n",
    "\n",
    "from difflib import SequenceMatcher\n",
    "from sklearn.feature_extraction.text import TfidfVectorizer\n",
    "from sklearn.feature_selection import chi2\n",
    "from sklearn.metrics import accuracy_score\n",
    "from sklearn.metrics import classification_report\n",
    "import contractions\n",
    "import nltk\n",
    "from nltk.corpus import stopwords\n",
    "from nltk.tokenize import word_tokenize\n",
    "from nltk import ne_chunk, pos_tag, word_tokenize\n",
    "from wordcloud import WordCloud\n",
    "import gensim\n",
    "from gensim.models import CoherenceModel\n",
    "import pyLDAvis.gensim_models\n",
    "\n",
    "import matplotlib.pyplot as plt\n",
    "import seaborn as sns\n",
    "from plotnine import ggplot, aes, geom_line, geom_point, geom_col, geom_bar, geom_density, geom_hline, geom_vline, geom_text, theme, theme_minimal, labs, coord_flip, scale_fill_brewer, scale_color_manual, scale_x_discrete, scale_x_continuous, scale_y_continuous, position_stack, theme_classic, element_blank"
   ]
  },
  {
   "cell_type": "code",
   "execution_count": 5,
   "metadata": {},
   "outputs": [
    {
     "name": "stderr",
     "output_type": "stream",
     "text": [
      "[nltk_data] Downloading package maxent_treebank_pos_tagger to\n",
      "[nltk_data]     /Users/julianadaikawa/nltk_data...\n",
      "[nltk_data]   Package maxent_treebank_pos_tagger is already up-to-\n",
      "[nltk_data]       date!\n",
      "[nltk_data] Downloading package averaged_perceptron_tagger to\n",
      "[nltk_data]     /Users/julianadaikawa/nltk_data...\n",
      "[nltk_data]   Package averaged_perceptron_tagger is already up-to-\n",
      "[nltk_data]       date!\n",
      "[nltk_data] Downloading package punkt to\n",
      "[nltk_data]     /Users/julianadaikawa/nltk_data...\n",
      "[nltk_data]   Package punkt is already up-to-date!\n"
     ]
    },
    {
     "data": {
      "text/plain": [
       "True"
      ]
     },
     "execution_count": 5,
     "metadata": {},
     "output_type": "execute_result"
    }
   ],
   "source": [
    "nltk.download('maxent_treebank_pos_tagger')\n",
    "nltk.download('averaged_perceptron_tagger')\n",
    "nltk.download('punkt')"
   ]
  },
  {
   "cell_type": "code",
   "execution_count": 6,
   "metadata": {},
   "outputs": [
    {
     "name": "stderr",
     "output_type": "stream",
     "text": [
      "[nltk_data] Downloading package words to\n",
      "[nltk_data]     /Users/julianadaikawa/nltk_data...\n",
      "[nltk_data]   Package words is already up-to-date!\n"
     ]
    },
    {
     "data": {
      "text/plain": [
       "True"
      ]
     },
     "execution_count": 6,
     "metadata": {},
     "output_type": "execute_result"
    }
   ],
   "source": [
    "nltk.download('words')"
   ]
  },
  {
   "cell_type": "code",
   "execution_count": 7,
   "metadata": {},
   "outputs": [
    {
     "name": "stderr",
     "output_type": "stream",
     "text": [
      "[nltk_data] Downloading package maxent_ne_chunker to\n",
      "[nltk_data]     /Users/julianadaikawa/nltk_data...\n",
      "[nltk_data]   Package maxent_ne_chunker is already up-to-date!\n"
     ]
    },
    {
     "data": {
      "text/plain": [
       "True"
      ]
     },
     "execution_count": 7,
     "metadata": {},
     "output_type": "execute_result"
    }
   ],
   "source": [
    "nltk.download('maxent_ne_chunker')"
   ]
  },
  {
   "cell_type": "code",
   "execution_count": 8,
   "metadata": {},
   "outputs": [],
   "source": [
    "data = pd.read_csv('songs_lyrics_post_preprocessing.csv')\n",
    "data['lyrics_nlp'] = data.lyrics_nlp.fillna('')"
   ]
  },
  {
   "cell_type": "code",
   "execution_count": 9,
   "metadata": {},
   "outputs": [
    {
     "data": {
      "text/html": [
       "<div>\n",
       "<style scoped>\n",
       "    .dataframe tbody tr th:only-of-type {\n",
       "        vertical-align: middle;\n",
       "    }\n",
       "\n",
       "    .dataframe tbody tr th {\n",
       "        vertical-align: top;\n",
       "    }\n",
       "\n",
       "    .dataframe thead th {\n",
       "        text-align: right;\n",
       "    }\n",
       "</style>\n",
       "<table border=\"1\" class=\"dataframe\">\n",
       "  <thead>\n",
       "    <tr style=\"text-align: right;\">\n",
       "      <th></th>\n",
       "      <th>topic</th>\n",
       "      <th>name</th>\n",
       "    </tr>\n",
       "  </thead>\n",
       "  <tbody>\n",
       "    <tr>\n",
       "      <th>25</th>\n",
       "      <td>Songs about heartache</td>\n",
       "      <td>769</td>\n",
       "    </tr>\n",
       "    <tr>\n",
       "      <th>54</th>\n",
       "      <td>Songs written for a girl</td>\n",
       "      <td>512</td>\n",
       "    </tr>\n",
       "    <tr>\n",
       "      <th>40</th>\n",
       "      <td>Songs about sex</td>\n",
       "      <td>489</td>\n",
       "    </tr>\n",
       "    <tr>\n",
       "      <th>42</th>\n",
       "      <td>Songs about spirituality or religion</td>\n",
       "      <td>476</td>\n",
       "    </tr>\n",
       "    <tr>\n",
       "      <th>3</th>\n",
       "      <td>Songs about an ex-girlfriend or ex-boyfriend</td>\n",
       "      <td>473</td>\n",
       "    </tr>\n",
       "    <tr>\n",
       "      <th>0</th>\n",
       "      <td>Songs about a breakup</td>\n",
       "      <td>396</td>\n",
       "    </tr>\n",
       "    <tr>\n",
       "      <th>1</th>\n",
       "      <td>Songs about a mother or father</td>\n",
       "      <td>385</td>\n",
       "    </tr>\n",
       "    <tr>\n",
       "      <th>19</th>\n",
       "      <td>Songs about drugs</td>\n",
       "      <td>361</td>\n",
       "    </tr>\n",
       "    <tr>\n",
       "      <th>52</th>\n",
       "      <td>Songs that are tributes to friends who died</td>\n",
       "      <td>353</td>\n",
       "    </tr>\n",
       "    <tr>\n",
       "      <th>15</th>\n",
       "      <td>Songs about death</td>\n",
       "      <td>331</td>\n",
       "    </tr>\n",
       "    <tr>\n",
       "      <th>53</th>\n",
       "      <td>Songs with political statements</td>\n",
       "      <td>318</td>\n",
       "    </tr>\n",
       "    <tr>\n",
       "      <th>36</th>\n",
       "      <td>Songs about places</td>\n",
       "      <td>302</td>\n",
       "    </tr>\n",
       "    <tr>\n",
       "      <th>29</th>\n",
       "      <td>Songs about loneliness or isolation</td>\n",
       "      <td>302</td>\n",
       "    </tr>\n",
       "    <tr>\n",
       "      <th>51</th>\n",
       "      <td>Songs that are autobiographical</td>\n",
       "      <td>300</td>\n",
       "    </tr>\n",
       "    <tr>\n",
       "      <th>20</th>\n",
       "      <td>Songs about events in the news</td>\n",
       "      <td>299</td>\n",
       "    </tr>\n",
       "    <tr>\n",
       "      <th>49</th>\n",
       "      <td>Songs about war</td>\n",
       "      <td>295</td>\n",
       "    </tr>\n",
       "    <tr>\n",
       "      <th>9</th>\n",
       "      <td>Songs about cheating</td>\n",
       "      <td>276</td>\n",
       "    </tr>\n",
       "    <tr>\n",
       "      <th>21</th>\n",
       "      <td>Songs about finding love</td>\n",
       "      <td>259</td>\n",
       "    </tr>\n",
       "    <tr>\n",
       "      <th>17</th>\n",
       "      <td>Songs about depression</td>\n",
       "      <td>258</td>\n",
       "    </tr>\n",
       "    <tr>\n",
       "      <th>4</th>\n",
       "      <td>Songs about being away from loved ones</td>\n",
       "      <td>256</td>\n",
       "    </tr>\n",
       "    <tr>\n",
       "      <th>14</th>\n",
       "      <td>Songs about dealing with fame</td>\n",
       "      <td>249</td>\n",
       "    </tr>\n",
       "    <tr>\n",
       "      <th>13</th>\n",
       "      <td>Songs about confidence or courage</td>\n",
       "      <td>249</td>\n",
       "    </tr>\n",
       "    <tr>\n",
       "      <th>31</th>\n",
       "      <td>Songs about marital problems or divorce</td>\n",
       "      <td>248</td>\n",
       "    </tr>\n",
       "    <tr>\n",
       "      <th>11</th>\n",
       "      <td>Songs about clubbing or a night out</td>\n",
       "      <td>243</td>\n",
       "    </tr>\n",
       "    <tr>\n",
       "      <th>18</th>\n",
       "      <td>Songs about desire or longing</td>\n",
       "      <td>242</td>\n",
       "    </tr>\n",
       "    <tr>\n",
       "      <th>2</th>\n",
       "      <td>Songs about alcohol</td>\n",
       "      <td>237</td>\n",
       "    </tr>\n",
       "    <tr>\n",
       "      <th>33</th>\n",
       "      <td>Songs about music</td>\n",
       "      <td>231</td>\n",
       "    </tr>\n",
       "    <tr>\n",
       "      <th>35</th>\n",
       "      <td>Songs about perseverance</td>\n",
       "      <td>222</td>\n",
       "    </tr>\n",
       "    <tr>\n",
       "      <th>6</th>\n",
       "      <td>Songs about being there for someone</td>\n",
       "      <td>220</td>\n",
       "    </tr>\n",
       "    <tr>\n",
       "      <th>55</th>\n",
       "      <td>Songs written for a son or daughter</td>\n",
       "      <td>216</td>\n",
       "    </tr>\n",
       "    <tr>\n",
       "      <th>24</th>\n",
       "      <td>Songs about getting older</td>\n",
       "      <td>216</td>\n",
       "    </tr>\n",
       "    <tr>\n",
       "      <th>41</th>\n",
       "      <td>Songs about specific musicians</td>\n",
       "      <td>208</td>\n",
       "    </tr>\n",
       "    <tr>\n",
       "      <th>32</th>\n",
       "      <td>Songs about medical conditions</td>\n",
       "      <td>207</td>\n",
       "    </tr>\n",
       "    <tr>\n",
       "      <th>8</th>\n",
       "      <td>Songs about change</td>\n",
       "      <td>203</td>\n",
       "    </tr>\n",
       "    <tr>\n",
       "      <th>22</th>\n",
       "      <td>Songs about friendship</td>\n",
       "      <td>201</td>\n",
       "    </tr>\n",
       "    <tr>\n",
       "      <th>26</th>\n",
       "      <td>Songs about historical events</td>\n",
       "      <td>201</td>\n",
       "    </tr>\n",
       "    <tr>\n",
       "      <th>47</th>\n",
       "      <td>Songs about unhealthy relationships</td>\n",
       "      <td>201</td>\n",
       "    </tr>\n",
       "    <tr>\n",
       "      <th>28</th>\n",
       "      <td>Songs about joy and happiness</td>\n",
       "      <td>198</td>\n",
       "    </tr>\n",
       "    <tr>\n",
       "      <th>27</th>\n",
       "      <td>Songs about individuality</td>\n",
       "      <td>190</td>\n",
       "    </tr>\n",
       "    <tr>\n",
       "      <th>48</th>\n",
       "      <td>Songs about unrequited love</td>\n",
       "      <td>190</td>\n",
       "    </tr>\n",
       "    <tr>\n",
       "      <th>23</th>\n",
       "      <td>Songs about getting away</td>\n",
       "      <td>185</td>\n",
       "    </tr>\n",
       "    <tr>\n",
       "      <th>34</th>\n",
       "      <td>Songs about people who committed crimes</td>\n",
       "      <td>185</td>\n",
       "    </tr>\n",
       "    <tr>\n",
       "      <th>37</th>\n",
       "      <td>Songs about political figures</td>\n",
       "      <td>177</td>\n",
       "    </tr>\n",
       "    <tr>\n",
       "      <th>16</th>\n",
       "      <td>Songs about dependency or addiction</td>\n",
       "      <td>177</td>\n",
       "    </tr>\n",
       "    <tr>\n",
       "      <th>46</th>\n",
       "      <td>Songs about traveling</td>\n",
       "      <td>176</td>\n",
       "    </tr>\n",
       "    <tr>\n",
       "      <th>5</th>\n",
       "      <td>Songs about being free</td>\n",
       "      <td>161</td>\n",
       "    </tr>\n",
       "    <tr>\n",
       "      <th>10</th>\n",
       "      <td>Songs about childhood</td>\n",
       "      <td>159</td>\n",
       "    </tr>\n",
       "    <tr>\n",
       "      <th>12</th>\n",
       "      <td>Songs about computers or technology</td>\n",
       "      <td>147</td>\n",
       "    </tr>\n",
       "    <tr>\n",
       "      <th>38</th>\n",
       "      <td>Songs about racism or discrimination</td>\n",
       "      <td>146</td>\n",
       "    </tr>\n",
       "    <tr>\n",
       "      <th>44</th>\n",
       "      <td>Songs about the environment</td>\n",
       "      <td>138</td>\n",
       "    </tr>\n",
       "    <tr>\n",
       "      <th>45</th>\n",
       "      <td>Songs about the music industry</td>\n",
       "      <td>138</td>\n",
       "    </tr>\n",
       "    <tr>\n",
       "      <th>7</th>\n",
       "      <td>Songs about being young and confused</td>\n",
       "      <td>134</td>\n",
       "    </tr>\n",
       "    <tr>\n",
       "      <th>30</th>\n",
       "      <td>Songs about magic, witchcraft, UFOs or the occult</td>\n",
       "      <td>113</td>\n",
       "    </tr>\n",
       "    <tr>\n",
       "      <th>43</th>\n",
       "      <td>Songs about the dangers of materialism</td>\n",
       "      <td>108</td>\n",
       "    </tr>\n",
       "    <tr>\n",
       "      <th>39</th>\n",
       "      <td>Songs about radio stations</td>\n",
       "      <td>35</td>\n",
       "    </tr>\n",
       "    <tr>\n",
       "      <th>50</th>\n",
       "      <td>Songs of or about the Northern Soul movement</td>\n",
       "      <td>5</td>\n",
       "    </tr>\n",
       "  </tbody>\n",
       "</table>\n",
       "</div>"
      ],
      "text/plain": [
       "                                                topic  name\n",
       "25                              Songs about heartache   769\n",
       "54                           Songs written for a girl   512\n",
       "40                                    Songs about sex   489\n",
       "42               Songs about spirituality or religion   476\n",
       "3        Songs about an ex-girlfriend or ex-boyfriend   473\n",
       "0                               Songs about a breakup   396\n",
       "1                      Songs about a mother or father   385\n",
       "19                                  Songs about drugs   361\n",
       "52        Songs that are tributes to friends who died   353\n",
       "15                                  Songs about death   331\n",
       "53                    Songs with political statements   318\n",
       "36                                 Songs about places   302\n",
       "29                Songs about loneliness or isolation   302\n",
       "51                    Songs that are autobiographical   300\n",
       "20                     Songs about events in the news   299\n",
       "49                                    Songs about war   295\n",
       "9                                Songs about cheating   276\n",
       "21                           Songs about finding love   259\n",
       "17                             Songs about depression   258\n",
       "4              Songs about being away from loved ones   256\n",
       "14                      Songs about dealing with fame   249\n",
       "13                  Songs about confidence or courage   249\n",
       "31            Songs about marital problems or divorce   248\n",
       "11                Songs about clubbing or a night out   243\n",
       "18                      Songs about desire or longing   242\n",
       "2                                 Songs about alcohol   237\n",
       "33                                  Songs about music   231\n",
       "35                           Songs about perseverance   222\n",
       "6                 Songs about being there for someone   220\n",
       "55                Songs written for a son or daughter   216\n",
       "24                          Songs about getting older   216\n",
       "41                     Songs about specific musicians   208\n",
       "32                     Songs about medical conditions   207\n",
       "8                                  Songs about change   203\n",
       "22                             Songs about friendship   201\n",
       "26                      Songs about historical events   201\n",
       "47                Songs about unhealthy relationships   201\n",
       "28                      Songs about joy and happiness   198\n",
       "27                          Songs about individuality   190\n",
       "48                        Songs about unrequited love   190\n",
       "23                           Songs about getting away   185\n",
       "34            Songs about people who committed crimes   185\n",
       "37                      Songs about political figures   177\n",
       "16                Songs about dependency or addiction   177\n",
       "46                              Songs about traveling   176\n",
       "5                              Songs about being free   161\n",
       "10                              Songs about childhood   159\n",
       "12                Songs about computers or technology   147\n",
       "38               Songs about racism or discrimination   146\n",
       "44                        Songs about the environment   138\n",
       "45                     Songs about the music industry   138\n",
       "7                Songs about being young and confused   134\n",
       "30  Songs about magic, witchcraft, UFOs or the occult   113\n",
       "43             Songs about the dangers of materialism   108\n",
       "39                         Songs about radio stations    35\n",
       "50       Songs of or about the Northern Soul movement     5"
      ]
     },
     "execution_count": 9,
     "metadata": {},
     "output_type": "execute_result"
    }
   ],
   "source": [
    "data.groupby('topic')['name'].count().reset_index().sort_values('name',ascending=False)"
   ]
  },
  {
   "cell_type": "code",
   "execution_count": 10,
   "metadata": {},
   "outputs": [],
   "source": [
    "# Label encoding the target to train the models\n",
    "data['topic_id'] = data['topic'].factorize()[0]\n",
    "topic_id_df = data[['topic', 'topic_id']].drop_duplicates()\n",
    "\n",
    "# Dictionaries for future use\n",
    "topic_to_id = dict(topic_id_df.values)\n",
    "id_to_topic = dict(topic_id_df[['topic_id', 'topic']].values)"
   ]
  },
  {
   "cell_type": "code",
   "execution_count": 11,
   "metadata": {},
   "outputs": [
    {
     "name": "stdout",
     "output_type": "stream",
     "text": [
      "All words:  15340\n",
      "Over 5:  6435\n"
     ]
    }
   ],
   "source": [
    "# Removing rare words. Word should appear at least at 5 different songs\n",
    "\n",
    "data_wo_repetition = data.groupby(['name','artist'])['lyrics_nlp'].max().reset_index()\n",
    "allwords_list = data_wo_repetition['lyrics_nlp'].apply(lambda x: list(set(x.replace(',', ' ').split()))).values\n",
    "all_words = [item for sublist in allwords_list for item in sublist]\n",
    "freq_dist = nltk.FreqDist(all_words)\n",
    "allwords = freq_dist.most_common(len(all_words))\n",
    "words_over = list(filter(lambda x: x[1]>=5, allwords)) # At least in 5 of songs\n",
    "rarewords = words_over[-5:]\n",
    "print('All words: ',len(allwords))\n",
    "print('Over 5: ', len(words_over))"
   ]
  },
  {
   "cell_type": "code",
   "execution_count": 12,
   "metadata": {},
   "outputs": [
    {
     "data": {
      "text/plain": [
       "[('go', 7990),\n",
       " ('know', 7470),\n",
       " ('get', 7465),\n",
       " ('like', 6343),\n",
       " ('say', 5719),\n",
       " ('love', 5501),\n",
       " ('see', 5301),\n",
       " ('make', 5299),\n",
       " ('time', 5264),\n",
       " ('come', 5229)]"
      ]
     },
     "execution_count": 12,
     "metadata": {},
     "output_type": "execute_result"
    }
   ],
   "source": [
    "# Most frequent words\n",
    "words_over[:10]"
   ]
  },
  {
   "cell_type": "code",
   "execution_count": 13,
   "metadata": {},
   "outputs": [
    {
     "data": {
      "text/plain": [
       "[('deceitful', 5),\n",
       " ('auction', 5),\n",
       " ('recourse', 5),\n",
       " ('burrow', 5),\n",
       " ('badness', 5),\n",
       " ('militia', 5),\n",
       " ('exaggerate', 5),\n",
       " ('unsteady', 5),\n",
       " ('geneva', 5),\n",
       " ('warp', 5)]"
      ]
     },
     "execution_count": 13,
     "metadata": {},
     "output_type": "execute_result"
    }
   ],
   "source": [
    "# Least frequent words\n",
    "words_over[-10:]"
   ]
  },
  {
   "cell_type": "code",
   "execution_count": 14,
   "metadata": {},
   "outputs": [],
   "source": [
    "# We will separate a random portion of the dataset to test our model later.\n",
    "train, test = train_test_split(data, test_size=0.1, random_state=42)"
   ]
  },
  {
   "cell_type": "code",
   "execution_count": 15,
   "metadata": {},
   "outputs": [],
   "source": [
    "# Now let's stack lyrics for each topic\n",
    "train_grouped = train.groupby('topic')['lyrics_nlp'].apply(list).reset_index(name='lyrics')\n",
    "train_grouped['lyrics'] = train_grouped['lyrics'].apply(lambda x: ' '.join(x))\n",
    "train_grouped['bow_lyrics'] = train_grouped['lyrics'].apply(lambda x: nltk.WordPunctTokenizer().tokenize(x))"
   ]
  },
  {
   "cell_type": "code",
   "execution_count": 55,
   "metadata": {},
   "outputs": [],
   "source": [
    "# Removing rare words\n",
    "threshold_cut = []\n",
    "perc_threshold = []\n",
    "for i in range(2,200,2):\n",
    "    word_to_remove = list(filter(lambda x: x[1]<i, allwords)) \n",
    "    word_to_remove = [w for w,v in word_to_remove]\n",
    "    words_left = [w for w,v in allwords if w not in word_to_remove]\n",
    "    perc = (len(allwords)-len(word_to_remove))*100/len(allwords)\n",
    "    threshold_cut.append(i)\n",
    "    perc_threshold.append(perc)"
   ]
  },
  {
   "cell_type": "code",
   "execution_count": 56,
   "metadata": {},
   "outputs": [
    {
     "data": {
      "image/png": "[encoded data removed]",
      "text/plain": [
       "<Figure size 640x480 with 1 Axes>"
      ]
     },
     "metadata": {},
     "output_type": "display_data"
    },
    {
     "data": {
      "text/plain": [
       "<ggplot: (362145288)>"
      ]
     },
     "execution_count": 56,
     "metadata": {},
     "output_type": "execute_result"
    }
   ],
   "source": [
    "threshold_words = pd.DataFrame()\n",
    "threshold_words['threshold_cut'] = threshold_cut\n",
    "threshold_words['perc_threshold'] = perc_threshold\n",
    "threshold_words['perc_threshold'] = threshold_words['perc_threshold'].apply(lambda x: x*0.01)\n",
    "\n",
    "(\n",
    "    ggplot(threshold_words)\n",
    "    + aes(x=\"threshold_cut\", y=\"perc_threshold\")  \n",
    "    + theme_classic()\n",
    "    + scale_y_continuous(expand=(0, 0, 0, 0))\n",
    "    + scale_x_continuous(expand=(0, 0, 0, 0))\n",
    "    + theme(legend_position = (0.5, 0.01),\n",
    "            legend_title=element_blank())\n",
    "    + geom_line() \n",
    "    # + geom_point(count_topics_remove[count_topics_remove['n'].isin([5,10,15])])\n",
    "    # + geom_text(count_topics_remove[count_topics_remove['n'].isin([5,10,15])], aes(label='np.round(share,2)'), va=\"bottom\",ha=\"right\", size=9)\n",
    "    + labs(title='Decrease of features by threshold (number of documents)',x='',y='')\n",
    ")"
   ]
  },
  {
   "cell_type": "code",
   "execution_count": 16,
   "metadata": {},
   "outputs": [
    {
     "name": "stdout",
     "output_type": "stream",
     "text": [
      "(12569, 1648)\n"
     ]
    }
   ],
   "source": [
    "# vectorizer = TfidfVectorizer(strip_accents='unicode', analyzer='word', ngram_range=(1,3), norm='l2')\n",
    "vectorizer = TfidfVectorizer(use_idf=True)\n",
    "vectors = vectorizer.fit_transform(train.lyrics_nlp.values)\n",
    "idf = vectorizer.idf_\n",
    "vectors_test = vectorizer.transform(test.lyrics_nlp.values)\n",
    "feature_names = vectorizer.get_feature_names_out()\n",
    "dense = vectors.todense()\n",
    "denselist = dense.tolist()\n",
    "X_train = pd.DataFrame(denselist, columns=feature_names)\n",
    "dense_test = vectors_test.todense()\n",
    "denselist_test = dense_test.tolist()\n",
    "X_test = pd.DataFrame(denselist_test, columns=feature_names)\n",
    "y_train = train.topic_id.values\n",
    "y_test = test.topic_id.values\n",
    "\n",
    "# Removing rare words\n",
    "n_min_docs = 50 \n",
    "word_to_remove = list(filter(lambda x: x[1]<n_min_docs, allwords)) \n",
    "word_to_remove = [w for w,v in word_to_remove]\n",
    "X_train = X_train[[col for col in X_train.columns if col not in word_to_remove]]\n",
    "X_test = X_test[[col for col in X_test.columns if col not in word_to_remove]]\n",
    "print(X_train.shape)"
   ]
  },
  {
   "cell_type": "code",
   "execution_count": 17,
   "metadata": {},
   "outputs": [
    {
     "data": {
      "text/html": [
       "<div>\n",
       "<style scoped>\n",
       "    .dataframe tbody tr th:only-of-type {\n",
       "        vertical-align: middle;\n",
       "    }\n",
       "\n",
       "    .dataframe tbody tr th {\n",
       "        vertical-align: top;\n",
       "    }\n",
       "\n",
       "    .dataframe thead th {\n",
       "        text-align: right;\n",
       "    }\n",
       "</style>\n",
       "<table border=\"1\" class=\"dataframe\">\n",
       "  <thead>\n",
       "    <tr style=\"text-align: right;\">\n",
       "      <th></th>\n",
       "      <th>abandon</th>\n",
       "      <th>able</th>\n",
       "      <th>abuse</th>\n",
       "      <th>accept</th>\n",
       "      <th>ache</th>\n",
       "      <th>across</th>\n",
       "      <th>act</th>\n",
       "      <th>actin</th>\n",
       "      <th>action</th>\n",
       "      <th>add</th>\n",
       "      <th>...</th>\n",
       "      <th>yellow</th>\n",
       "      <th>yes</th>\n",
       "      <th>yesterday</th>\n",
       "      <th>yet</th>\n",
       "      <th>yo</th>\n",
       "      <th>york</th>\n",
       "      <th>young</th>\n",
       "      <th>younger</th>\n",
       "      <th>youth</th>\n",
       "      <th>zone</th>\n",
       "    </tr>\n",
       "  </thead>\n",
       "  <tbody>\n",
       "    <tr>\n",
       "      <th>0</th>\n",
       "      <td>0.0</td>\n",
       "      <td>0.000000</td>\n",
       "      <td>0.0</td>\n",
       "      <td>0.0</td>\n",
       "      <td>0.0</td>\n",
       "      <td>0.0</td>\n",
       "      <td>0.0</td>\n",
       "      <td>0.0</td>\n",
       "      <td>0.0</td>\n",
       "      <td>0.0</td>\n",
       "      <td>...</td>\n",
       "      <td>0.0</td>\n",
       "      <td>0.000000</td>\n",
       "      <td>0.0</td>\n",
       "      <td>0.0</td>\n",
       "      <td>0.0</td>\n",
       "      <td>0.0</td>\n",
       "      <td>0.000000</td>\n",
       "      <td>0.0</td>\n",
       "      <td>0.0</td>\n",
       "      <td>0.0</td>\n",
       "    </tr>\n",
       "    <tr>\n",
       "      <th>1</th>\n",
       "      <td>0.0</td>\n",
       "      <td>0.000000</td>\n",
       "      <td>0.0</td>\n",
       "      <td>0.0</td>\n",
       "      <td>0.0</td>\n",
       "      <td>0.0</td>\n",
       "      <td>0.0</td>\n",
       "      <td>0.0</td>\n",
       "      <td>0.0</td>\n",
       "      <td>0.0</td>\n",
       "      <td>...</td>\n",
       "      <td>0.0</td>\n",
       "      <td>0.000000</td>\n",
       "      <td>0.0</td>\n",
       "      <td>0.0</td>\n",
       "      <td>0.0</td>\n",
       "      <td>0.0</td>\n",
       "      <td>0.034990</td>\n",
       "      <td>0.0</td>\n",
       "      <td>0.0</td>\n",
       "      <td>0.0</td>\n",
       "    </tr>\n",
       "    <tr>\n",
       "      <th>2</th>\n",
       "      <td>0.0</td>\n",
       "      <td>0.000000</td>\n",
       "      <td>0.0</td>\n",
       "      <td>0.0</td>\n",
       "      <td>0.0</td>\n",
       "      <td>0.0</td>\n",
       "      <td>0.0</td>\n",
       "      <td>0.0</td>\n",
       "      <td>0.0</td>\n",
       "      <td>0.0</td>\n",
       "      <td>...</td>\n",
       "      <td>0.0</td>\n",
       "      <td>0.000000</td>\n",
       "      <td>0.0</td>\n",
       "      <td>0.0</td>\n",
       "      <td>0.0</td>\n",
       "      <td>0.0</td>\n",
       "      <td>0.000000</td>\n",
       "      <td>0.0</td>\n",
       "      <td>0.0</td>\n",
       "      <td>0.0</td>\n",
       "    </tr>\n",
       "    <tr>\n",
       "      <th>3</th>\n",
       "      <td>0.0</td>\n",
       "      <td>0.000000</td>\n",
       "      <td>0.0</td>\n",
       "      <td>0.0</td>\n",
       "      <td>0.0</td>\n",
       "      <td>0.0</td>\n",
       "      <td>0.0</td>\n",
       "      <td>0.0</td>\n",
       "      <td>0.0</td>\n",
       "      <td>0.0</td>\n",
       "      <td>...</td>\n",
       "      <td>0.0</td>\n",
       "      <td>0.000000</td>\n",
       "      <td>0.0</td>\n",
       "      <td>0.0</td>\n",
       "      <td>0.0</td>\n",
       "      <td>0.0</td>\n",
       "      <td>0.000000</td>\n",
       "      <td>0.0</td>\n",
       "      <td>0.0</td>\n",
       "      <td>0.0</td>\n",
       "    </tr>\n",
       "    <tr>\n",
       "      <th>4</th>\n",
       "      <td>0.0</td>\n",
       "      <td>0.000000</td>\n",
       "      <td>0.0</td>\n",
       "      <td>0.0</td>\n",
       "      <td>0.0</td>\n",
       "      <td>0.0</td>\n",
       "      <td>0.0</td>\n",
       "      <td>0.0</td>\n",
       "      <td>0.0</td>\n",
       "      <td>0.0</td>\n",
       "      <td>...</td>\n",
       "      <td>0.0</td>\n",
       "      <td>0.177075</td>\n",
       "      <td>0.0</td>\n",
       "      <td>0.0</td>\n",
       "      <td>0.0</td>\n",
       "      <td>0.0</td>\n",
       "      <td>0.000000</td>\n",
       "      <td>0.0</td>\n",
       "      <td>0.0</td>\n",
       "      <td>0.0</td>\n",
       "    </tr>\n",
       "    <tr>\n",
       "      <th>...</th>\n",
       "      <td>...</td>\n",
       "      <td>...</td>\n",
       "      <td>...</td>\n",
       "      <td>...</td>\n",
       "      <td>...</td>\n",
       "      <td>...</td>\n",
       "      <td>...</td>\n",
       "      <td>...</td>\n",
       "      <td>...</td>\n",
       "      <td>...</td>\n",
       "      <td>...</td>\n",
       "      <td>...</td>\n",
       "      <td>...</td>\n",
       "      <td>...</td>\n",
       "      <td>...</td>\n",
       "      <td>...</td>\n",
       "      <td>...</td>\n",
       "      <td>...</td>\n",
       "      <td>...</td>\n",
       "      <td>...</td>\n",
       "      <td>...</td>\n",
       "    </tr>\n",
       "    <tr>\n",
       "      <th>12564</th>\n",
       "      <td>0.0</td>\n",
       "      <td>0.000000</td>\n",
       "      <td>0.0</td>\n",
       "      <td>0.0</td>\n",
       "      <td>0.0</td>\n",
       "      <td>0.0</td>\n",
       "      <td>0.0</td>\n",
       "      <td>0.0</td>\n",
       "      <td>0.0</td>\n",
       "      <td>0.0</td>\n",
       "      <td>...</td>\n",
       "      <td>0.0</td>\n",
       "      <td>0.000000</td>\n",
       "      <td>0.0</td>\n",
       "      <td>0.0</td>\n",
       "      <td>0.0</td>\n",
       "      <td>0.0</td>\n",
       "      <td>0.068245</td>\n",
       "      <td>0.0</td>\n",
       "      <td>0.0</td>\n",
       "      <td>0.0</td>\n",
       "    </tr>\n",
       "    <tr>\n",
       "      <th>12565</th>\n",
       "      <td>0.0</td>\n",
       "      <td>0.000000</td>\n",
       "      <td>0.0</td>\n",
       "      <td>0.0</td>\n",
       "      <td>0.0</td>\n",
       "      <td>0.0</td>\n",
       "      <td>0.0</td>\n",
       "      <td>0.0</td>\n",
       "      <td>0.0</td>\n",
       "      <td>0.0</td>\n",
       "      <td>...</td>\n",
       "      <td>0.0</td>\n",
       "      <td>0.000000</td>\n",
       "      <td>0.0</td>\n",
       "      <td>0.0</td>\n",
       "      <td>0.0</td>\n",
       "      <td>0.0</td>\n",
       "      <td>0.000000</td>\n",
       "      <td>0.0</td>\n",
       "      <td>0.0</td>\n",
       "      <td>0.0</td>\n",
       "    </tr>\n",
       "    <tr>\n",
       "      <th>12566</th>\n",
       "      <td>0.0</td>\n",
       "      <td>0.000000</td>\n",
       "      <td>0.0</td>\n",
       "      <td>0.0</td>\n",
       "      <td>0.0</td>\n",
       "      <td>0.0</td>\n",
       "      <td>0.0</td>\n",
       "      <td>0.0</td>\n",
       "      <td>0.0</td>\n",
       "      <td>0.0</td>\n",
       "      <td>...</td>\n",
       "      <td>0.0</td>\n",
       "      <td>0.000000</td>\n",
       "      <td>0.0</td>\n",
       "      <td>0.0</td>\n",
       "      <td>0.0</td>\n",
       "      <td>0.0</td>\n",
       "      <td>0.000000</td>\n",
       "      <td>0.0</td>\n",
       "      <td>0.0</td>\n",
       "      <td>0.0</td>\n",
       "    </tr>\n",
       "    <tr>\n",
       "      <th>12567</th>\n",
       "      <td>0.0</td>\n",
       "      <td>0.000000</td>\n",
       "      <td>0.0</td>\n",
       "      <td>0.0</td>\n",
       "      <td>0.0</td>\n",
       "      <td>0.0</td>\n",
       "      <td>0.0</td>\n",
       "      <td>0.0</td>\n",
       "      <td>0.0</td>\n",
       "      <td>0.0</td>\n",
       "      <td>...</td>\n",
       "      <td>0.0</td>\n",
       "      <td>0.000000</td>\n",
       "      <td>0.0</td>\n",
       "      <td>0.0</td>\n",
       "      <td>0.0</td>\n",
       "      <td>0.0</td>\n",
       "      <td>0.000000</td>\n",
       "      <td>0.0</td>\n",
       "      <td>0.0</td>\n",
       "      <td>0.0</td>\n",
       "    </tr>\n",
       "    <tr>\n",
       "      <th>12568</th>\n",
       "      <td>0.0</td>\n",
       "      <td>0.048373</td>\n",
       "      <td>0.0</td>\n",
       "      <td>0.0</td>\n",
       "      <td>0.0</td>\n",
       "      <td>0.0</td>\n",
       "      <td>0.0</td>\n",
       "      <td>0.0</td>\n",
       "      <td>0.0</td>\n",
       "      <td>0.0</td>\n",
       "      <td>...</td>\n",
       "      <td>0.0</td>\n",
       "      <td>0.000000</td>\n",
       "      <td>0.0</td>\n",
       "      <td>0.0</td>\n",
       "      <td>0.0</td>\n",
       "      <td>0.0</td>\n",
       "      <td>0.000000</td>\n",
       "      <td>0.0</td>\n",
       "      <td>0.0</td>\n",
       "      <td>0.0</td>\n",
       "    </tr>\n",
       "  </tbody>\n",
       "</table>\n",
       "<p>12569 rows × 1648 columns</p>\n",
       "</div>"
      ],
      "text/plain": [
       "       abandon      able  abuse  accept  ache  across  act  actin  action  \\\n",
       "0          0.0  0.000000    0.0     0.0   0.0     0.0  0.0    0.0     0.0   \n",
       "1          0.0  0.000000    0.0     0.0   0.0     0.0  0.0    0.0     0.0   \n",
       "2          0.0  0.000000    0.0     0.0   0.0     0.0  0.0    0.0     0.0   \n",
       "3          0.0  0.000000    0.0     0.0   0.0     0.0  0.0    0.0     0.0   \n",
       "4          0.0  0.000000    0.0     0.0   0.0     0.0  0.0    0.0     0.0   \n",
       "...        ...       ...    ...     ...   ...     ...  ...    ...     ...   \n",
       "12564      0.0  0.000000    0.0     0.0   0.0     0.0  0.0    0.0     0.0   \n",
       "12565      0.0  0.000000    0.0     0.0   0.0     0.0  0.0    0.0     0.0   \n",
       "12566      0.0  0.000000    0.0     0.0   0.0     0.0  0.0    0.0     0.0   \n",
       "12567      0.0  0.000000    0.0     0.0   0.0     0.0  0.0    0.0     0.0   \n",
       "12568      0.0  0.048373    0.0     0.0   0.0     0.0  0.0    0.0     0.0   \n",
       "\n",
       "       add  ...  yellow       yes  yesterday  yet   yo  york     young  \\\n",
       "0      0.0  ...     0.0  0.000000        0.0  0.0  0.0   0.0  0.000000   \n",
       "1      0.0  ...     0.0  0.000000        0.0  0.0  0.0   0.0  0.034990   \n",
       "2      0.0  ...     0.0  0.000000        0.0  0.0  0.0   0.0  0.000000   \n",
       "3      0.0  ...     0.0  0.000000        0.0  0.0  0.0   0.0  0.000000   \n",
       "4      0.0  ...     0.0  0.177075        0.0  0.0  0.0   0.0  0.000000   \n",
       "...    ...  ...     ...       ...        ...  ...  ...   ...       ...   \n",
       "12564  0.0  ...     0.0  0.000000        0.0  0.0  0.0   0.0  0.068245   \n",
       "12565  0.0  ...     0.0  0.000000        0.0  0.0  0.0   0.0  0.000000   \n",
       "12566  0.0  ...     0.0  0.000000        0.0  0.0  0.0   0.0  0.000000   \n",
       "12567  0.0  ...     0.0  0.000000        0.0  0.0  0.0   0.0  0.000000   \n",
       "12568  0.0  ...     0.0  0.000000        0.0  0.0  0.0   0.0  0.000000   \n",
       "\n",
       "       younger  youth  zone  \n",
       "0          0.0    0.0   0.0  \n",
       "1          0.0    0.0   0.0  \n",
       "2          0.0    0.0   0.0  \n",
       "3          0.0    0.0   0.0  \n",
       "4          0.0    0.0   0.0  \n",
       "...        ...    ...   ...  \n",
       "12564      0.0    0.0   0.0  \n",
       "12565      0.0    0.0   0.0  \n",
       "12566      0.0    0.0   0.0  \n",
       "12567      0.0    0.0   0.0  \n",
       "12568      0.0    0.0   0.0  \n",
       "\n",
       "[12569 rows x 1648 columns]"
      ]
     },
     "execution_count": 17,
     "metadata": {},
     "output_type": "execute_result"
    }
   ],
   "source": [
    "X_train # 1648"
   ]
  },
  {
   "cell_type": "code",
   "execution_count": 18,
   "metadata": {},
   "outputs": [
    {
     "data": {
      "text/html": [
       "<div>\n",
       "<style scoped>\n",
       "    .dataframe tbody tr th:only-of-type {\n",
       "        vertical-align: middle;\n",
       "    }\n",
       "\n",
       "    .dataframe tbody tr th {\n",
       "        vertical-align: top;\n",
       "    }\n",
       "\n",
       "    .dataframe thead th {\n",
       "        text-align: right;\n",
       "    }\n",
       "</style>\n",
       "<table border=\"1\" class=\"dataframe\">\n",
       "  <thead>\n",
       "    <tr style=\"text-align: right;\">\n",
       "      <th></th>\n",
       "      <th>topic</th>\n",
       "      <th>unigrams</th>\n",
       "    </tr>\n",
       "  </thead>\n",
       "  <tbody>\n",
       "    <tr>\n",
       "      <th>0</th>\n",
       "      <td>Songs about a breakup</td>\n",
       "      <td>foo, unfriend, bye</td>\n",
       "    </tr>\n",
       "    <tr>\n",
       "      <th>1</th>\n",
       "      <td>Songs about a mother or father</td>\n",
       "      <td>father, daddy, mother</td>\n",
       "    </tr>\n",
       "    <tr>\n",
       "      <th>2</th>\n",
       "      <td>Songs about alcohol</td>\n",
       "      <td>tequila, beer, drink</td>\n",
       "    </tr>\n",
       "    <tr>\n",
       "      <th>3</th>\n",
       "      <td>Songs about an ex-girlfriend or ex-boyfriend</td>\n",
       "      <td>lo, rekindle, ex</td>\n",
       "    </tr>\n",
       "    <tr>\n",
       "      <th>4</th>\n",
       "      <td>Songs about being away from loved ones</td>\n",
       "      <td>miss, wanderer, home</td>\n",
       "    </tr>\n",
       "    <tr>\n",
       "      <th>5</th>\n",
       "      <td>Songs about being free</td>\n",
       "      <td>bondage, freedom, free</td>\n",
       "    </tr>\n",
       "    <tr>\n",
       "      <th>6</th>\n",
       "      <td>Songs about being there for someone</td>\n",
       "      <td>lade, generator, woohoo</td>\n",
       "    </tr>\n",
       "    <tr>\n",
       "      <th>7</th>\n",
       "      <td>Songs about being young and confused</td>\n",
       "      <td>sobriety, ripcord, naivety</td>\n",
       "    </tr>\n",
       "    <tr>\n",
       "      <th>8</th>\n",
       "      <td>Songs about change</td>\n",
       "      <td>evacuation, leathery, change</td>\n",
       "    </tr>\n",
       "    <tr>\n",
       "      <th>9</th>\n",
       "      <td>Songs about cheating</td>\n",
       "      <td>messin, womanizer, cheat</td>\n",
       "    </tr>\n",
       "    <tr>\n",
       "      <th>10</th>\n",
       "      <td>Songs about childhood</td>\n",
       "      <td>birdhouse, youngster, dragonhead</td>\n",
       "    </tr>\n",
       "    <tr>\n",
       "      <th>11</th>\n",
       "      <td>Songs about clubbing or a night out</td>\n",
       "      <td>dance, party, club</td>\n",
       "    </tr>\n",
       "    <tr>\n",
       "      <th>12</th>\n",
       "      <td>Songs about computers or technology</td>\n",
       "      <td>virtual, digital, computer</td>\n",
       "    </tr>\n",
       "    <tr>\n",
       "      <th>13</th>\n",
       "      <td>Songs about confidence or courage</td>\n",
       "      <td>unafraid, alleluia, invincible</td>\n",
       "    </tr>\n",
       "    <tr>\n",
       "      <th>14</th>\n",
       "      <td>Songs about dealing with fame</td>\n",
       "      <td>meteorite, fame, famous</td>\n",
       "    </tr>\n",
       "    <tr>\n",
       "      <th>15</th>\n",
       "      <td>Songs about death</td>\n",
       "      <td>bullfighter, afterlife, die</td>\n",
       "    </tr>\n",
       "    <tr>\n",
       "      <th>16</th>\n",
       "      <td>Songs about dependency or addiction</td>\n",
       "      <td>wretchedness, deliverer, addiction</td>\n",
       "    </tr>\n",
       "    <tr>\n",
       "      <th>17</th>\n",
       "      <td>Songs about depression</td>\n",
       "      <td>lithium, cutthroat, typhoon</td>\n",
       "    </tr>\n",
       "    <tr>\n",
       "      <th>18</th>\n",
       "      <td>Songs about desire or longing</td>\n",
       "      <td>plaything, obsession, desire</td>\n",
       "    </tr>\n",
       "    <tr>\n",
       "      <th>19</th>\n",
       "      <td>Songs about drugs</td>\n",
       "      <td>heroin, weed, cocaine</td>\n",
       "    </tr>\n",
       "    <tr>\n",
       "      <th>20</th>\n",
       "      <td>Songs about events in the news</td>\n",
       "      <td>timor, teil, contagion</td>\n",
       "    </tr>\n",
       "    <tr>\n",
       "      <th>21</th>\n",
       "      <td>Songs about finding love</td>\n",
       "      <td>brainer, cate, whiplash</td>\n",
       "    </tr>\n",
       "    <tr>\n",
       "      <th>22</th>\n",
       "      <td>Songs about friendship</td>\n",
       "      <td>gossamer, yawp, friend</td>\n",
       "    </tr>\n",
       "    <tr>\n",
       "      <th>23</th>\n",
       "      <td>Songs about getting away</td>\n",
       "      <td>chariot, grid, traveler</td>\n",
       "    </tr>\n",
       "    <tr>\n",
       "      <th>24</th>\n",
       "      <td>Songs about getting older</td>\n",
       "      <td>uselessly, squirrel, older</td>\n",
       "    </tr>\n",
       "    <tr>\n",
       "      <th>25</th>\n",
       "      <td>Songs about heartache</td>\n",
       "      <td>heartbreak, heartache, heart</td>\n",
       "    </tr>\n",
       "    <tr>\n",
       "      <th>26</th>\n",
       "      <td>Songs about historical events</td>\n",
       "      <td>isle, roulette, infanta</td>\n",
       "    </tr>\n",
       "    <tr>\n",
       "      <th>27</th>\n",
       "      <td>Songs about individuality</td>\n",
       "      <td>incorporate, freak, outsider</td>\n",
       "    </tr>\n",
       "    <tr>\n",
       "      <th>28</th>\n",
       "      <td>Songs about joy and happiness</td>\n",
       "      <td>happy, happiness, joy</td>\n",
       "    </tr>\n",
       "    <tr>\n",
       "      <th>29</th>\n",
       "      <td>Songs about loneliness or isolation</td>\n",
       "      <td>lonesome, alone, lonely</td>\n",
       "    </tr>\n",
       "    <tr>\n",
       "      <th>30</th>\n",
       "      <td>Songs about magic, witchcraft, UFOs or the occult</td>\n",
       "      <td>hangar, voodoo, alien</td>\n",
       "    </tr>\n",
       "    <tr>\n",
       "      <th>31</th>\n",
       "      <td>Songs about marital problems or divorce</td>\n",
       "      <td>unsteady, pendulum, divorce</td>\n",
       "    </tr>\n",
       "    <tr>\n",
       "      <th>32</th>\n",
       "      <td>Songs about medical conditions</td>\n",
       "      <td>beth, inhaler, myxomatosis</td>\n",
       "    </tr>\n",
       "    <tr>\n",
       "      <th>33</th>\n",
       "      <td>Songs about music</td>\n",
       "      <td>rock, metal, music</td>\n",
       "    </tr>\n",
       "    <tr>\n",
       "      <th>34</th>\n",
       "      <td>Songs about people who committed crimes</td>\n",
       "      <td>jail, dalton, ripper</td>\n",
       "    </tr>\n",
       "    <tr>\n",
       "      <th>35</th>\n",
       "      <td>Songs about perseverance</td>\n",
       "      <td>legit, survivor, builder</td>\n",
       "    </tr>\n",
       "    <tr>\n",
       "      <th>36</th>\n",
       "      <td>Songs about places</td>\n",
       "      <td>san, barcelona, city</td>\n",
       "    </tr>\n",
       "    <tr>\n",
       "      <th>37</th>\n",
       "      <td>Songs about political figures</td>\n",
       "      <td>mayday, elect, demagogue</td>\n",
       "    </tr>\n",
       "    <tr>\n",
       "      <th>38</th>\n",
       "      <td>Songs about racism or discrimination</td>\n",
       "      <td>dreamworld, immigration, gigantic</td>\n",
       "    </tr>\n",
       "    <tr>\n",
       "      <th>39</th>\n",
       "      <td>Songs about radio stations</td>\n",
       "      <td>clash, knob, radio</td>\n",
       "    </tr>\n",
       "    <tr>\n",
       "      <th>40</th>\n",
       "      <td>Songs about sex</td>\n",
       "      <td>booty, pussy, sex</td>\n",
       "    </tr>\n",
       "    <tr>\n",
       "      <th>41</th>\n",
       "      <td>Songs about specific musicians</td>\n",
       "      <td>bret, mau, dodo</td>\n",
       "    </tr>\n",
       "    <tr>\n",
       "      <th>42</th>\n",
       "      <td>Songs about spirituality or religion</td>\n",
       "      <td>lord, holy, god</td>\n",
       "    </tr>\n",
       "    <tr>\n",
       "      <th>43</th>\n",
       "      <td>Songs about the dangers of materialism</td>\n",
       "      <td>hollandaise, dop, dorado</td>\n",
       "    </tr>\n",
       "    <tr>\n",
       "      <th>44</th>\n",
       "      <td>Songs about the environment</td>\n",
       "      <td>curie, bicker, rewear</td>\n",
       "    </tr>\n",
       "    <tr>\n",
       "      <th>45</th>\n",
       "      <td>Songs about the music industry</td>\n",
       "      <td>adieu, orchid, wristband</td>\n",
       "    </tr>\n",
       "    <tr>\n",
       "      <th>46</th>\n",
       "      <td>Songs about traveling</td>\n",
       "      <td>highway, wanderlust, wayfarer</td>\n",
       "    </tr>\n",
       "    <tr>\n",
       "      <th>47</th>\n",
       "      <td>Songs about unhealthy relationships</td>\n",
       "      <td>inconsistent, allergic, toxic</td>\n",
       "    </tr>\n",
       "    <tr>\n",
       "      <th>48</th>\n",
       "      <td>Songs about unrequited love</td>\n",
       "      <td>utmost, invisible, sender</td>\n",
       "    </tr>\n",
       "    <tr>\n",
       "      <th>49</th>\n",
       "      <td>Songs about war</td>\n",
       "      <td>march, soldier, war</td>\n",
       "    </tr>\n",
       "    <tr>\n",
       "      <th>50</th>\n",
       "      <td>Songs of or about the Northern Soul movement</td>\n",
       "      <td>degree, guilty, cagey</td>\n",
       "    </tr>\n",
       "    <tr>\n",
       "      <th>51</th>\n",
       "      <td>Songs that are autobiographical</td>\n",
       "      <td>redeye, entertainer, interviewer</td>\n",
       "    </tr>\n",
       "    <tr>\n",
       "      <th>52</th>\n",
       "      <td>Songs that are tributes to friends who died</td>\n",
       "      <td>tuberose, identical, om</td>\n",
       "    </tr>\n",
       "    <tr>\n",
       "      <th>53</th>\n",
       "      <td>Songs with political statements</td>\n",
       "      <td>president, empire, violator</td>\n",
       "    </tr>\n",
       "    <tr>\n",
       "      <th>54</th>\n",
       "      <td>Songs written for a girl</td>\n",
       "      <td>glycerine, juniper, lady</td>\n",
       "    </tr>\n",
       "    <tr>\n",
       "      <th>55</th>\n",
       "      <td>Songs written for a son or daughter</td>\n",
       "      <td>magnolia, confidentially, transformer</td>\n",
       "    </tr>\n",
       "  </tbody>\n",
       "</table>\n",
       "</div>"
      ],
      "text/plain": [
       "                                                topic  \\\n",
       "0                               Songs about a breakup   \n",
       "1                      Songs about a mother or father   \n",
       "2                                 Songs about alcohol   \n",
       "3        Songs about an ex-girlfriend or ex-boyfriend   \n",
       "4              Songs about being away from loved ones   \n",
       "5                              Songs about being free   \n",
       "6                 Songs about being there for someone   \n",
       "7                Songs about being young and confused   \n",
       "8                                  Songs about change   \n",
       "9                                Songs about cheating   \n",
       "10                              Songs about childhood   \n",
       "11                Songs about clubbing or a night out   \n",
       "12                Songs about computers or technology   \n",
       "13                  Songs about confidence or courage   \n",
       "14                      Songs about dealing with fame   \n",
       "15                                  Songs about death   \n",
       "16                Songs about dependency or addiction   \n",
       "17                             Songs about depression   \n",
       "18                      Songs about desire or longing   \n",
       "19                                  Songs about drugs   \n",
       "20                     Songs about events in the news   \n",
       "21                           Songs about finding love   \n",
       "22                             Songs about friendship   \n",
       "23                           Songs about getting away   \n",
       "24                          Songs about getting older   \n",
       "25                              Songs about heartache   \n",
       "26                      Songs about historical events   \n",
       "27                          Songs about individuality   \n",
       "28                      Songs about joy and happiness   \n",
       "29                Songs about loneliness or isolation   \n",
       "30  Songs about magic, witchcraft, UFOs or the occult   \n",
       "31            Songs about marital problems or divorce   \n",
       "32                     Songs about medical conditions   \n",
       "33                                  Songs about music   \n",
       "34            Songs about people who committed crimes   \n",
       "35                           Songs about perseverance   \n",
       "36                                 Songs about places   \n",
       "37                      Songs about political figures   \n",
       "38               Songs about racism or discrimination   \n",
       "39                         Songs about radio stations   \n",
       "40                                    Songs about sex   \n",
       "41                     Songs about specific musicians   \n",
       "42               Songs about spirituality or religion   \n",
       "43             Songs about the dangers of materialism   \n",
       "44                        Songs about the environment   \n",
       "45                     Songs about the music industry   \n",
       "46                              Songs about traveling   \n",
       "47                Songs about unhealthy relationships   \n",
       "48                        Songs about unrequited love   \n",
       "49                                    Songs about war   \n",
       "50       Songs of or about the Northern Soul movement   \n",
       "51                    Songs that are autobiographical   \n",
       "52        Songs that are tributes to friends who died   \n",
       "53                    Songs with political statements   \n",
       "54                           Songs written for a girl   \n",
       "55                Songs written for a son or daughter   \n",
       "\n",
       "                                 unigrams  \n",
       "0                      foo, unfriend, bye  \n",
       "1                   father, daddy, mother  \n",
       "2                    tequila, beer, drink  \n",
       "3                        lo, rekindle, ex  \n",
       "4                    miss, wanderer, home  \n",
       "5                  bondage, freedom, free  \n",
       "6                 lade, generator, woohoo  \n",
       "7              sobriety, ripcord, naivety  \n",
       "8            evacuation, leathery, change  \n",
       "9                messin, womanizer, cheat  \n",
       "10       birdhouse, youngster, dragonhead  \n",
       "11                     dance, party, club  \n",
       "12             virtual, digital, computer  \n",
       "13         unafraid, alleluia, invincible  \n",
       "14                meteorite, fame, famous  \n",
       "15            bullfighter, afterlife, die  \n",
       "16     wretchedness, deliverer, addiction  \n",
       "17            lithium, cutthroat, typhoon  \n",
       "18           plaything, obsession, desire  \n",
       "19                  heroin, weed, cocaine  \n",
       "20                 timor, teil, contagion  \n",
       "21                brainer, cate, whiplash  \n",
       "22                 gossamer, yawp, friend  \n",
       "23                chariot, grid, traveler  \n",
       "24             uselessly, squirrel, older  \n",
       "25           heartbreak, heartache, heart  \n",
       "26                isle, roulette, infanta  \n",
       "27           incorporate, freak, outsider  \n",
       "28                  happy, happiness, joy  \n",
       "29                lonesome, alone, lonely  \n",
       "30                  hangar, voodoo, alien  \n",
       "31            unsteady, pendulum, divorce  \n",
       "32             beth, inhaler, myxomatosis  \n",
       "33                     rock, metal, music  \n",
       "34                   jail, dalton, ripper  \n",
       "35               legit, survivor, builder  \n",
       "36                   san, barcelona, city  \n",
       "37               mayday, elect, demagogue  \n",
       "38      dreamworld, immigration, gigantic  \n",
       "39                     clash, knob, radio  \n",
       "40                      booty, pussy, sex  \n",
       "41                        bret, mau, dodo  \n",
       "42                        lord, holy, god  \n",
       "43               hollandaise, dop, dorado  \n",
       "44                  curie, bicker, rewear  \n",
       "45               adieu, orchid, wristband  \n",
       "46          highway, wanderlust, wayfarer  \n",
       "47          inconsistent, allergic, toxic  \n",
       "48              utmost, invisible, sender  \n",
       "49                    march, soldier, war  \n",
       "50                  degree, guilty, cagey  \n",
       "51       redeye, entertainer, interviewer  \n",
       "52                tuberose, identical, om  \n",
       "53            president, empire, violator  \n",
       "54               glycerine, juniper, lady  \n",
       "55  magnolia, confidentially, transformer  "
      ]
     },
     "execution_count": 18,
     "metadata": {},
     "output_type": "execute_result"
    }
   ],
   "source": [
    "# Finding the three most correlated terms with each of the product categories\n",
    "N = 3\n",
    "topic_col = []\n",
    "unigrams_col = []\n",
    "topic_unigrams_df = pd.DataFrame()\n",
    "for topic, topic_id in sorted(topic_to_id.items()):\n",
    "  features_chi2 = chi2(denselist, train.topic_id == topic_id)\n",
    "  indices = np.argsort(features_chi2[0])\n",
    "  feature_names = np.array(vectorizer.get_feature_names_out())[indices]\n",
    "  unigrams = [v for v in feature_names if len(v.split(' ')) == 1]\n",
    "  topic_col.append(topic)\n",
    "  unigrams_col.append(', '.join(unigrams[-N:]))\n",
    "#   bigrams = [v for v in feature_names if len(v.split(' ')) == 2]\n",
    "#   print(\"\\n==> %s:\" %(topic))\n",
    "#   print(\"  * Most Correlated Unigrams are: %s\" %(', '.join(unigrams[-N:])))\n",
    "#   print(\"  * Most Correlated Bigrams are: %s\" %(', '.join(bigrams[-N:])))\n",
    "\n",
    "topic_unigrams_df['topic'] = topic_col\n",
    "topic_unigrams_df['unigrams'] = unigrams_col\n",
    "topic_unigrams_df"
   ]
  },
  {
   "cell_type": "code",
   "execution_count": 18,
   "metadata": {},
   "outputs": [],
   "source": [
    "from sklearn.naive_bayes import GaussianNB\n",
    "from sklearn.linear_model import LogisticRegression\n",
    "from sklearn.ensemble import RandomForestClassifier\n",
    "from xgboost import XGBClassifier\n",
    "\n",
    "seed=42\n",
    "nb_modeldefault = GaussianNB()\n",
    "lr_modeldefault = LogisticRegression(random_state=seed, penalty='l2', C=1.0, max_iter=1000) \n",
    "rf_modeldefault = RandomForestClassifier(random_state=seed, n_estimators=100, criterion='gini', max_depth=10, min_samples_split=5, min_samples_leaf=5)\n",
    "xgb_modeldefault = XGBClassifier(random_state=seed, learning_rate=0.1, n_estimators=100, max_depth=10, subsample=0.8, colsample_bytree=0.8)"
   ]
  },
  {
   "cell_type": "markdown",
   "metadata": {},
   "source": [
    "Naive Bayes"
   ]
  },
  {
   "cell_type": "code",
   "execution_count": 59,
   "metadata": {},
   "outputs": [
    {
     "name": "stdout",
     "output_type": "stream",
     "text": [
      "Macro F1 Train =  0.6065324207442299\n",
      "Macro F1 Test =  0.046319284605556996\n"
     ]
    }
   ],
   "source": [
    "model = nb_modeldefault\n",
    "scoring = 'f1_macro'\n",
    "results = []\n",
    "kfold = KFold(n_splits=5, shuffle=True, random_state=seed)\n",
    "cv_results = cross_validate(model, X_train, y_train, cv=kfold, scoring=scoring, return_train_score=True)\n",
    "clf = model.fit(X_train, y_train)\n",
    "y_pred = clf.predict(X_test)\n",
    "print(\"Macro F1 Train = \", cv_results['train_score'].mean()) \n",
    "print(\"Macro F1 Test = \", cv_results['test_score'].mean()) "
   ]
  },
  {
   "cell_type": "markdown",
   "metadata": {},
   "source": [
    "Logistic Regression"
   ]
  },
  {
   "cell_type": "code",
   "execution_count": 60,
   "metadata": {},
   "outputs": [
    {
     "name": "stdout",
     "output_type": "stream",
     "text": [
      "Macro F1 Train =  0.29509913916849995\n",
      "Macro F1 Test =  0.12202225118870698\n"
     ]
    }
   ],
   "source": [
    "model = lr_modeldefault\n",
    "scoring = 'f1_macro'\n",
    "results = []\n",
    "kfold = KFold(n_splits=5, shuffle=True, random_state=seed)\n",
    "cv_results = cross_validate(model, X_train, y_train, cv=kfold, scoring=scoring, return_train_score=True)\n",
    "clf = model.fit(X_train, y_train)\n",
    "y_pred = clf.predict(X_test)\n",
    "print(\"Macro F1 Train = \", cv_results['train_score'].mean()) \n",
    "print(\"Macro F1 Test = \", cv_results['test_score'].mean()) "
   ]
  },
  {
   "cell_type": "code",
   "execution_count": 21,
   "metadata": {},
   "outputs": [
    {
     "name": "stdout",
     "output_type": "stream",
     "text": [
      "Fitting 3 folds for each of 100 candidates, totalling 300 fits\n",
      "[CV 1/3; 1/100] START C=0.01438449888287663, l1_ratio=0.5, max_iter=1000, penalty=elasticnet, solver=saga\n",
      "[CV 1/3; 1/100] END C=0.01438449888287663, l1_ratio=0.5, max_iter=1000, penalty=elasticnet, solver=saga;, score=(train=0.002, test=0.002) total time=  17.4s\n",
      "[CV 2/3; 1/100] START C=0.01438449888287663, l1_ratio=0.5, max_iter=1000, penalty=elasticnet, solver=saga\n",
      "[CV 2/3; 1/100] END C=0.01438449888287663, l1_ratio=0.5, max_iter=1000, penalty=elasticnet, solver=saga;, score=(train=0.002, test=0.002) total time=  13.1s\n",
      "[CV 3/3; 1/100] START C=0.01438449888287663, l1_ratio=0.5, max_iter=1000, penalty=elasticnet, solver=saga\n",
      "[CV 3/3; 1/100] END C=0.01438449888287663, l1_ratio=0.5, max_iter=1000, penalty=elasticnet, solver=saga;, score=(train=0.002, test=0.002) total time=  17.4s\n",
      "[CV 1/3; 2/100] START C=0.0206913808111479, l1_ratio=0.5, max_iter=1000, penalty=elasticnet, solver=saga\n",
      "[CV 1/3; 2/100] END C=0.0206913808111479, l1_ratio=0.5, max_iter=1000, penalty=elasticnet, solver=saga;, score=(train=0.002, test=0.002) total time=  15.2s\n",
      "[CV 2/3; 2/100] START C=0.0206913808111479, l1_ratio=0.5, max_iter=1000, penalty=elasticnet, solver=saga\n",
      "[CV 2/3; 2/100] END C=0.0206913808111479, l1_ratio=0.5, max_iter=1000, penalty=elasticnet, solver=saga;, score=(train=0.002, test=0.002) total time=  19.7s\n",
      "[CV 3/3; 2/100] START C=0.0206913808111479, l1_ratio=0.5, max_iter=1000, penalty=elasticnet, solver=saga\n",
      "[CV 3/3; 2/100] END C=0.0206913808111479, l1_ratio=0.5, max_iter=1000, penalty=elasticnet, solver=saga;, score=(train=0.002, test=0.002) total time=  17.3s\n",
      "[CV 1/3; 3/100] START C=0.0206913808111479, max_iter=1000, penalty=l1, solver=saga\n",
      "[CV 1/3; 3/100] END C=0.0206913808111479, max_iter=1000, penalty=l1, solver=saga;, score=(train=0.002, test=0.002) total time=  13.0s\n",
      "[CV 2/3; 3/100] START C=0.0206913808111479, max_iter=1000, penalty=l1, solver=saga\n",
      "[CV 2/3; 3/100] END C=0.0206913808111479, max_iter=1000, penalty=l1, solver=saga;, score=(train=0.002, test=0.002) total time=  15.1s\n",
      "[CV 3/3; 3/100] START C=0.0206913808111479, max_iter=1000, penalty=l1, solver=saga\n",
      "[CV 3/3; 3/100] END C=0.0206913808111479, max_iter=1000, penalty=l1, solver=saga;, score=(train=0.002, test=0.002) total time=  21.7s\n",
      "[CV 1/3; 4/100] START C=0.06158482110660264, l1_ratio=0.1, max_iter=1000, penalty=elasticnet, solver=saga\n",
      "[CV 1/3; 4/100] END C=0.06158482110660264, l1_ratio=0.1, max_iter=1000, penalty=elasticnet, solver=saga;, score=(train=0.003, test=0.003) total time=  42.0s\n",
      "[CV 2/3; 4/100] START C=0.06158482110660264, l1_ratio=0.1, max_iter=1000, penalty=elasticnet, solver=saga\n",
      "[CV 2/3; 4/100] END C=0.06158482110660264, l1_ratio=0.1, max_iter=1000, penalty=elasticnet, solver=saga;, score=(train=0.004, test=0.003) total time=  35.5s\n",
      "[CV 3/3; 4/100] START C=0.06158482110660264, l1_ratio=0.1, max_iter=1000, penalty=elasticnet, solver=saga\n",
      "[CV 3/3; 4/100] END C=0.06158482110660264, l1_ratio=0.1, max_iter=1000, penalty=elasticnet, solver=saga;, score=(train=0.004, test=0.002) total time=  37.7s\n",
      "[CV 1/3; 5/100] START C=1.1288378916846884, max_iter=1000, penalty=l1, solver=saga\n",
      "[CV 1/3; 5/100] END C=1.1288378916846884, max_iter=1000, penalty=l1, solver=saga;, score=(train=0.216, test=0.127) total time= 6.8min\n",
      "[CV 2/3; 5/100] START C=1.1288378916846884, max_iter=1000, penalty=l1, solver=saga\n",
      "[CV 2/3; 5/100] END C=1.1288378916846884, max_iter=1000, penalty=l1, solver=saga;, score=(train=0.222, test=0.131) total time= 5.1min\n",
      "[CV 3/3; 5/100] START C=1.1288378916846884, max_iter=1000, penalty=l1, solver=saga\n",
      "[CV 3/3; 5/100] END C=1.1288378916846884, max_iter=1000, penalty=l1, solver=saga;, score=(train=0.223, test=0.128) total time= 6.6min\n",
      "[CV 1/3; 6/100] START C=0.18329807108324356, l1_ratio=0.1, max_iter=1000, penalty=elasticnet, solver=saga\n",
      "[CV 1/3; 6/100] END C=0.18329807108324356, l1_ratio=0.1, max_iter=1000, penalty=elasticnet, solver=saga;, score=(train=0.043, test=0.029) total time=  44.5s\n",
      "[CV 2/3; 6/100] START C=0.18329807108324356, l1_ratio=0.1, max_iter=1000, penalty=elasticnet, solver=saga\n",
      "[CV 2/3; 6/100] END C=0.18329807108324356, l1_ratio=0.1, max_iter=1000, penalty=elasticnet, solver=saga;, score=(train=0.038, test=0.035) total time=  49.1s\n",
      "[CV 3/3; 6/100] START C=0.18329807108324356, l1_ratio=0.1, max_iter=1000, penalty=elasticnet, solver=saga\n",
      "[CV 3/3; 6/100] END C=0.18329807108324356, l1_ratio=0.1, max_iter=1000, penalty=elasticnet, solver=saga;, score=(train=0.041, test=0.034) total time=  48.6s\n",
      "[CV 1/3; 7/100] START C=0.5455594781168517, l1_ratio=0.1, max_iter=1000, penalty=elasticnet, solver=saga\n",
      "[CV 1/3; 7/100] END C=0.5455594781168517, l1_ratio=0.1, max_iter=1000, penalty=elasticnet, solver=saga;, score=(train=0.149, test=0.088) total time= 1.2min\n",
      "[CV 2/3; 7/100] START C=0.5455594781168517, l1_ratio=0.1, max_iter=1000, penalty=elasticnet, solver=saga\n",
      "[CV 2/3; 7/100] END C=0.5455594781168517, l1_ratio=0.1, max_iter=1000, penalty=elasticnet, solver=saga;, score=(train=0.151, test=0.083) total time= 1.3min\n",
      "[CV 3/3; 7/100] START C=0.5455594781168517, l1_ratio=0.1, max_iter=1000, penalty=elasticnet, solver=saga\n",
      "[CV 3/3; 7/100] END C=0.5455594781168517, l1_ratio=0.1, max_iter=1000, penalty=elasticnet, solver=saga;, score=(train=0.146, test=0.082) total time= 1.3min\n",
      "[CV 1/3; 8/100] START C=0.06158482110660264, max_iter=1000, penalty=l1, solver=saga\n",
      "[CV 1/3; 8/100] END C=0.06158482110660264, max_iter=1000, penalty=l1, solver=saga;, score=(train=0.002, test=0.002) total time=  26.6s\n",
      "[CV 2/3; 8/100] START C=0.06158482110660264, max_iter=1000, penalty=l1, solver=saga\n",
      "[CV 2/3; 8/100] END C=0.06158482110660264, max_iter=1000, penalty=l1, solver=saga;, score=(train=0.002, test=0.002) total time=  29.2s\n",
      "[CV 3/3; 8/100] START C=0.06158482110660264, max_iter=1000, penalty=l1, solver=saga\n",
      "[CV 3/3; 8/100] END C=0.06158482110660264, max_iter=1000, penalty=l1, solver=saga;, score=(train=0.002, test=0.002) total time=  19.9s\n",
      "[CV 1/3; 9/100] START C=0.01, l1_ratio=0.1, max_iter=1000, penalty=elasticnet, solver=saga\n",
      "[CV 1/3; 9/100] END C=0.01, l1_ratio=0.1, max_iter=1000, penalty=elasticnet, solver=saga;, score=(train=0.002, test=0.002) total time=  37.5s\n",
      "[CV 2/3; 9/100] START C=0.01, l1_ratio=0.1, max_iter=1000, penalty=elasticnet, solver=saga\n",
      "[CV 2/3; 9/100] END C=0.01, l1_ratio=0.1, max_iter=1000, penalty=elasticnet, solver=saga;, score=(train=0.002, test=0.002) total time=  33.1s\n",
      "[CV 3/3; 9/100] START C=0.01, l1_ratio=0.1, max_iter=1000, penalty=elasticnet, solver=saga\n",
      "[CV 3/3; 9/100] END C=0.01, l1_ratio=0.1, max_iter=1000, penalty=elasticnet, solver=saga;, score=(train=0.002, test=0.002) total time=  37.4s\n",
      "[CV 1/3; 10/100] START C=0.12742749857031335, max_iter=1000, penalty=l2, solver=lbfgs\n",
      "[CV 1/3; 10/100] END C=0.12742749857031335, max_iter=1000, penalty=l2, solver=lbfgs;, score=(train=0.033, test=0.021) total time=   8.6s\n",
      "[CV 2/3; 10/100] START C=0.12742749857031335, max_iter=1000, penalty=l2, solver=lbfgs\n",
      "[CV 2/3; 10/100] END C=0.12742749857031335, max_iter=1000, penalty=l2, solver=lbfgs;, score=(train=0.030, test=0.020) total time=   8.5s\n",
      "[CV 3/3; 10/100] START C=0.12742749857031335, max_iter=1000, penalty=l2, solver=lbfgs\n",
      "[CV 3/3; 10/100] END C=0.12742749857031335, max_iter=1000, penalty=l2, solver=lbfgs;, score=(train=0.030, test=0.022) total time=   8.7s\n",
      "[CV 1/3; 11/100] START C=0.26366508987303583, max_iter=1000, penalty=l1, solver=saga\n",
      "[CV 1/3; 11/100] END C=0.26366508987303583, max_iter=1000, penalty=l1, solver=saga;, score=(train=0.076, test=0.067) total time= 2.1min\n",
      "[CV 2/3; 11/100] START C=0.26366508987303583, max_iter=1000, penalty=l1, solver=saga\n",
      "[CV 2/3; 11/100] END C=0.26366508987303583, max_iter=1000, penalty=l1, solver=saga;, score=(train=0.077, test=0.071) total time= 1.4min\n",
      "[CV 3/3; 11/100] START C=0.26366508987303583, max_iter=1000, penalty=l1, solver=saga\n",
      "[CV 3/3; 11/100] END C=0.26366508987303583, max_iter=1000, penalty=l1, solver=saga;, score=(train=0.079, test=0.064) total time= 2.3min\n",
      "[CV 1/3; 12/100] START C=0.12742749857031335, l1_ratio=0.5, max_iter=1000, penalty=elasticnet, solver=saga\n",
      "[CV 1/3; 12/100] END C=0.12742749857031335, l1_ratio=0.5, max_iter=1000, penalty=elasticnet, solver=saga;, score=(train=0.014, test=0.011) total time=  33.1s\n",
      "[CV 2/3; 12/100] START C=0.12742749857031335, l1_ratio=0.5, max_iter=1000, penalty=elasticnet, solver=saga\n",
      "[CV 2/3; 12/100] END C=0.12742749857031335, l1_ratio=0.5, max_iter=1000, penalty=elasticnet, solver=saga;, score=(train=0.013, test=0.011) total time=  33.1s\n",
      "[CV 3/3; 12/100] START C=0.12742749857031335, l1_ratio=0.5, max_iter=1000, penalty=elasticnet, solver=saga\n",
      "[CV 3/3; 12/100] END C=0.12742749857031335, l1_ratio=0.5, max_iter=1000, penalty=elasticnet, solver=saga;, score=(train=0.015, test=0.012) total time=  35.4s\n",
      "[CV 1/3; 13/100] START C=0.06158482110660264, max_iter=1000, penalty=l2, solver=saga\n",
      "[CV 1/3; 13/100] END C=0.06158482110660264, max_iter=1000, penalty=l2, solver=saga;, score=(train=0.009, test=0.010) total time=  38.3s\n",
      "[CV 2/3; 13/100] START C=0.06158482110660264, max_iter=1000, penalty=l2, solver=saga\n",
      "[CV 2/3; 13/100] END C=0.06158482110660264, max_iter=1000, penalty=l2, solver=saga;, score=(train=0.010, test=0.007) total time=  36.5s\n",
      "[CV 3/3; 13/100] START C=0.06158482110660264, max_iter=1000, penalty=l2, solver=saga\n",
      "[CV 3/3; 13/100] END C=0.06158482110660264, max_iter=1000, penalty=l2, solver=saga;, score=(train=0.011, test=0.006) total time=  31.0s\n",
      "[CV 1/3; 14/100] START C=6.951927961775605, max_iter=1000, penalty=l1, solver=saga\n",
      "[CV 1/3; 14/100] END C=6.951927961775605, max_iter=1000, penalty=l1, solver=saga;, score=(train=0.814, test=0.113) total time=36.1min\n",
      "[CV 2/3; 14/100] START C=6.951927961775605, max_iter=1000, penalty=l1, solver=saga\n",
      "[CV 2/3; 14/100] END C=6.951927961775605, max_iter=1000, penalty=l1, solver=saga;, score=(train=0.805, test=0.121) total time=38.5min\n",
      "[CV 3/3; 14/100] START C=6.951927961775605, max_iter=1000, penalty=l1, solver=saga\n",
      "[CV 3/3; 14/100] END C=6.951927961775605, max_iter=1000, penalty=l1, solver=saga;, score=(train=0.809, test=0.121) total time=47.1min\n",
      "[CV 1/3; 15/100] START C=3.359818286283781, l1_ratio=0.5, max_iter=1000, penalty=elasticnet, solver=saga\n",
      "[CV 1/3; 15/100] END C=3.359818286283781, l1_ratio=0.5, max_iter=1000, penalty=elasticnet, solver=saga;, score=(train=0.508, test=0.141) total time= 3.6min\n",
      "[CV 2/3; 15/100] START C=3.359818286283781, l1_ratio=0.5, max_iter=1000, penalty=elasticnet, solver=saga\n",
      "[CV 2/3; 15/100] END C=3.359818286283781, l1_ratio=0.5, max_iter=1000, penalty=elasticnet, solver=saga;, score=(train=0.504, test=0.137) total time= 3.5min\n",
      "[CV 3/3; 15/100] START C=3.359818286283781, l1_ratio=0.5, max_iter=1000, penalty=elasticnet, solver=saga\n",
      "[CV 3/3; 15/100] END C=3.359818286283781, l1_ratio=0.5, max_iter=1000, penalty=elasticnet, solver=saga;, score=(train=0.504, test=0.137) total time= 3.9min\n",
      "[CV 1/3; 16/100] START C=4.832930238571752, l1_ratio=0.1, max_iter=1000, penalty=elasticnet, solver=saga\n",
      "[CV 1/3; 16/100] END C=4.832930238571752, l1_ratio=0.1, max_iter=1000, penalty=elasticnet, solver=saga;, score=(train=0.657, test=0.138) total time= 2.6min\n",
      "[CV 2/3; 16/100] START C=4.832930238571752, l1_ratio=0.1, max_iter=1000, penalty=elasticnet, solver=saga\n",
      "[CV 2/3; 16/100] END C=4.832930238571752, l1_ratio=0.1, max_iter=1000, penalty=elasticnet, solver=saga;, score=(train=0.655, test=0.140) total time= 2.7min\n",
      "[CV 3/3; 16/100] START C=4.832930238571752, l1_ratio=0.1, max_iter=1000, penalty=elasticnet, solver=saga\n",
      "[CV 3/3; 16/100] END C=4.832930238571752, l1_ratio=0.1, max_iter=1000, penalty=elasticnet, solver=saga;, score=(train=0.656, test=0.133) total time= 2.8min\n",
      "[CV 1/3; 17/100] START C=0.26366508987303583, max_iter=1000, penalty=l2, solver=lbfgs\n",
      "[CV 1/3; 17/100] END C=0.26366508987303583, max_iter=1000, penalty=l2, solver=lbfgs;, score=(train=0.086, test=0.051) total time=  11.3s\n",
      "[CV 2/3; 17/100] START C=0.26366508987303583, max_iter=1000, penalty=l2, solver=lbfgs\n",
      "[CV 2/3; 17/100] END C=0.26366508987303583, max_iter=1000, penalty=l2, solver=lbfgs;, score=(train=0.090, test=0.057) total time=  11.9s\n",
      "[CV 3/3; 17/100] START C=0.26366508987303583, max_iter=1000, penalty=l2, solver=lbfgs\n",
      "[CV 3/3; 17/100] END C=0.26366508987303583, max_iter=1000, penalty=l2, solver=lbfgs;, score=(train=0.086, test=0.051) total time=  11.4s\n",
      "[CV 1/3; 18/100] START C=0.01, max_iter=1000, penalty=l1, solver=saga...........\n",
      "[CV 1/3; 18/100] END C=0.01, max_iter=1000, penalty=l1, solver=saga;, score=(train=0.002, test=0.002) total time=  15.3s\n",
      "[CV 2/3; 18/100] START C=0.01, max_iter=1000, penalty=l1, solver=saga...........\n",
      "[CV 2/3; 18/100] END C=0.01, max_iter=1000, penalty=l1, solver=saga;, score=(train=0.002, test=0.002) total time=  17.8s\n",
      "[CV 3/3; 18/100] START C=0.01, max_iter=1000, penalty=l1, solver=saga...........\n",
      "[CV 3/3; 18/100] END C=0.01, max_iter=1000, penalty=l1, solver=saga;, score=(train=0.002, test=0.002) total time=  14.8s\n",
      "[CV 1/3; 19/100] START C=3.359818286283781, l1_ratio=0.1, max_iter=1000, penalty=elasticnet, solver=saga\n",
      "[CV 1/3; 19/100] END C=3.359818286283781, l1_ratio=0.1, max_iter=1000, penalty=elasticnet, solver=saga;, score=(train=0.571, test=0.136) total time= 2.3min\n",
      "[CV 2/3; 19/100] START C=3.359818286283781, l1_ratio=0.1, max_iter=1000, penalty=elasticnet, solver=saga\n",
      "[CV 2/3; 19/100] END C=3.359818286283781, l1_ratio=0.1, max_iter=1000, penalty=elasticnet, solver=saga;, score=(train=0.567, test=0.138) total time= 2.3min\n",
      "[CV 3/3; 19/100] START C=3.359818286283781, l1_ratio=0.1, max_iter=1000, penalty=elasticnet, solver=saga\n",
      "[CV 3/3; 19/100] END C=3.359818286283781, l1_ratio=0.1, max_iter=1000, penalty=elasticnet, solver=saga;, score=(train=0.566, test=0.132) total time= 2.3min\n",
      "[CV 1/3; 20/100] START C=0.04281332398719394, max_iter=1000, penalty=l2, solver=lbfgs\n",
      "[CV 1/3; 20/100] END C=0.04281332398719394, max_iter=1000, penalty=l2, solver=lbfgs;, score=(train=0.003, test=0.004) total time=   7.9s\n",
      "[CV 2/3; 20/100] START C=0.04281332398719394, max_iter=1000, penalty=l2, solver=lbfgs\n",
      "[CV 2/3; 20/100] END C=0.04281332398719394, max_iter=1000, penalty=l2, solver=lbfgs;, score=(train=0.004, test=0.003) total time=   3.4s\n",
      "[CV 3/3; 20/100] START C=0.04281332398719394, max_iter=1000, penalty=l2, solver=lbfgs\n",
      "[CV 3/3; 20/100] END C=0.04281332398719394, max_iter=1000, penalty=l2, solver=lbfgs;, score=(train=0.005, test=0.002) total time=   7.9s\n",
      "[CV 1/3; 21/100] START C=0.18329807108324356, l1_ratio=0.5, max_iter=1000, penalty=elasticnet, solver=saga\n",
      "[CV 1/3; 21/100] END C=0.18329807108324356, l1_ratio=0.5, max_iter=1000, penalty=elasticnet, solver=saga;, score=(train=0.035, test=0.031) total time=  43.4s\n",
      "[CV 2/3; 21/100] START C=0.18329807108324356, l1_ratio=0.5, max_iter=1000, penalty=elasticnet, solver=saga\n",
      "[CV 2/3; 21/100] END C=0.18329807108324356, l1_ratio=0.5, max_iter=1000, penalty=elasticnet, solver=saga;, score=(train=0.033, test=0.034) total time=  37.4s\n",
      "[CV 3/3; 21/100] START C=0.18329807108324356, l1_ratio=0.5, max_iter=1000, penalty=elasticnet, solver=saga\n",
      "[CV 3/3; 21/100] END C=0.18329807108324356, l1_ratio=0.5, max_iter=1000, penalty=elasticnet, solver=saga;, score=(train=0.037, test=0.028) total time=  36.9s\n",
      "[CV 1/3; 22/100] START C=0.01438449888287663, l1_ratio=0.8, max_iter=1000, penalty=elasticnet, solver=saga\n",
      "[CV 1/3; 22/100] END C=0.01438449888287663, l1_ratio=0.8, max_iter=1000, penalty=elasticnet, solver=saga;, score=(train=0.002, test=0.002) total time=  11.7s\n",
      "[CV 2/3; 22/100] START C=0.01438449888287663, l1_ratio=0.8, max_iter=1000, penalty=elasticnet, solver=saga\n",
      "[CV 2/3; 22/100] END C=0.01438449888287663, l1_ratio=0.8, max_iter=1000, penalty=elasticnet, solver=saga;, score=(train=0.002, test=0.002) total time=  16.1s\n",
      "[CV 3/3; 22/100] START C=0.01438449888287663, l1_ratio=0.8, max_iter=1000, penalty=elasticnet, solver=saga\n",
      "[CV 3/3; 22/100] END C=0.01438449888287663, l1_ratio=0.8, max_iter=1000, penalty=elasticnet, solver=saga;, score=(train=0.002, test=0.002) total time=  13.9s\n",
      "[CV 1/3; 23/100] START C=2.3357214690901213, max_iter=1000, penalty=l2, solver=saga\n",
      "[CV 1/3; 23/100] END C=2.3357214690901213, max_iter=1000, penalty=l2, solver=saga;, score=(train=0.499, test=0.137) total time=  47.4s\n",
      "[CV 2/3; 23/100] START C=2.3357214690901213, max_iter=1000, penalty=l2, solver=saga\n",
      "[CV 2/3; 23/100] END C=2.3357214690901213, max_iter=1000, penalty=l2, solver=saga;, score=(train=0.499, test=0.134) total time=  49.9s\n",
      "[CV 3/3; 23/100] START C=2.3357214690901213, max_iter=1000, penalty=l2, solver=saga\n",
      "[CV 3/3; 23/100] END C=2.3357214690901213, max_iter=1000, penalty=l2, solver=saga;, score=(train=0.505, test=0.132) total time=  50.1s\n",
      "[CV 1/3; 24/100] START C=0.37926901907322497, l1_ratio=0.1, max_iter=1000, penalty=elasticnet, solver=saga\n",
      "[CV 1/3; 24/100] END C=0.37926901907322497, l1_ratio=0.1, max_iter=1000, penalty=elasticnet, solver=saga;, score=(train=0.103, test=0.068) total time= 1.1min\n",
      "[CV 2/3; 24/100] START C=0.37926901907322497, l1_ratio=0.1, max_iter=1000, penalty=elasticnet, solver=saga\n",
      "[CV 2/3; 24/100] END C=0.37926901907322497, l1_ratio=0.1, max_iter=1000, penalty=elasticnet, solver=saga;, score=(train=0.106, test=0.070) total time= 1.1min\n",
      "[CV 3/3; 24/100] START C=0.37926901907322497, l1_ratio=0.1, max_iter=1000, penalty=elasticnet, solver=saga\n",
      "[CV 3/3; 24/100] END C=0.37926901907322497, l1_ratio=0.1, max_iter=1000, penalty=elasticnet, solver=saga;, score=(train=0.102, test=0.065) total time= 1.1min\n",
      "[CV 1/3; 25/100] START C=0.01, l1_ratio=0.8, max_iter=1000, penalty=elasticnet, solver=saga\n",
      "[CV 1/3; 25/100] END C=0.01, l1_ratio=0.8, max_iter=1000, penalty=elasticnet, solver=saga;, score=(train=0.002, test=0.002) total time=  14.5s\n",
      "[CV 2/3; 25/100] START C=0.01, l1_ratio=0.8, max_iter=1000, penalty=elasticnet, solver=saga\n",
      "[CV 2/3; 25/100] END C=0.01, l1_ratio=0.8, max_iter=1000, penalty=elasticnet, solver=saga;, score=(train=0.002, test=0.002) total time=  14.2s\n",
      "[CV 3/3; 25/100] START C=0.01, l1_ratio=0.8, max_iter=1000, penalty=elasticnet, solver=saga\n",
      "[CV 3/3; 25/100] END C=0.01, l1_ratio=0.8, max_iter=1000, penalty=elasticnet, solver=saga;, score=(train=0.002, test=0.002) total time=  14.0s\n",
      "[CV 1/3; 26/100] START C=0.08858667904100823, max_iter=1000, penalty=l1, solver=saga\n",
      "[CV 1/3; 26/100] END C=0.08858667904100823, max_iter=1000, penalty=l1, solver=saga;, score=(train=0.013, test=0.011) total time= 1.6min\n",
      "[CV 2/3; 26/100] START C=0.08858667904100823, max_iter=1000, penalty=l1, solver=saga\n",
      "[CV 2/3; 26/100] END C=0.08858667904100823, max_iter=1000, penalty=l1, solver=saga;, score=(train=0.013, test=0.010) total time=  41.4s\n",
      "[CV 3/3; 26/100] START C=0.08858667904100823, max_iter=1000, penalty=l1, solver=saga\n",
      "[CV 3/3; 26/100] END C=0.08858667904100823, max_iter=1000, penalty=l1, solver=saga;, score=(train=0.013, test=0.008) total time= 1.3min\n",
      "[CV 1/3; 27/100] START C=0.12742749857031335, max_iter=1000, penalty=l2, solver=saga\n",
      "[CV 1/3; 27/100] END C=0.12742749857031335, max_iter=1000, penalty=l2, solver=saga;, score=(train=0.033, test=0.021) total time=  34.3s\n",
      "[CV 2/3; 27/100] START C=0.12742749857031335, max_iter=1000, penalty=l2, solver=saga\n",
      "[CV 2/3; 27/100] END C=0.12742749857031335, max_iter=1000, penalty=l2, solver=saga;, score=(train=0.030, test=0.020) total time=  36.4s\n",
      "[CV 3/3; 27/100] START C=0.12742749857031335, max_iter=1000, penalty=l2, solver=saga\n",
      "[CV 3/3; 27/100] END C=0.12742749857031335, max_iter=1000, penalty=l2, solver=saga;, score=(train=0.030, test=0.022) total time=  34.6s\n",
      "[CV 1/3; 28/100] START C=1.623776739188721, max_iter=1000, penalty=l2, solver=lbfgs\n",
      "[CV 1/3; 28/100] END C=1.623776739188721, max_iter=1000, penalty=l2, solver=lbfgs;, score=(train=0.409, test=0.120) total time=  19.7s\n",
      "[CV 2/3; 28/100] START C=1.623776739188721, max_iter=1000, penalty=l2, solver=lbfgs\n",
      "[CV 2/3; 28/100] END C=1.623776739188721, max_iter=1000, penalty=l2, solver=lbfgs;, score=(train=0.413, test=0.122) total time=  20.5s\n",
      "[CV 3/3; 28/100] START C=1.623776739188721, max_iter=1000, penalty=l2, solver=lbfgs\n",
      "[CV 3/3; 28/100] END C=1.623776739188721, max_iter=1000, penalty=l2, solver=lbfgs;, score=(train=0.421, test=0.127) total time=  24.1s\n",
      "[CV 1/3; 29/100] START C=0.7847599703514611, l1_ratio=0.1, max_iter=1000, penalty=elasticnet, solver=saga\n",
      "[CV 1/3; 29/100] END C=0.7847599703514611, l1_ratio=0.1, max_iter=1000, penalty=elasticnet, solver=saga;, score=(train=0.203, test=0.103) total time= 1.4min\n",
      "[CV 2/3; 29/100] START C=0.7847599703514611, l1_ratio=0.1, max_iter=1000, penalty=elasticnet, solver=saga\n",
      "[CV 2/3; 29/100] END C=0.7847599703514611, l1_ratio=0.1, max_iter=1000, penalty=elasticnet, solver=saga;, score=(train=0.207, test=0.102) total time= 1.5min\n",
      "[CV 3/3; 29/100] START C=0.7847599703514611, l1_ratio=0.1, max_iter=1000, penalty=elasticnet, solver=saga\n",
      "[CV 3/3; 29/100] END C=0.7847599703514611, l1_ratio=0.1, max_iter=1000, penalty=elasticnet, solver=saga;, score=(train=0.201, test=0.097) total time= 1.4min\n",
      "[CV 1/3; 30/100] START C=10.0, l1_ratio=0.1, max_iter=1000, penalty=elasticnet, solver=saga\n",
      "[CV 1/3; 30/100] END C=10.0, l1_ratio=0.1, max_iter=1000, penalty=elasticnet, solver=saga;, score=(train=0.806, test=0.131) total time= 3.4min\n",
      "[CV 2/3; 30/100] START C=10.0, l1_ratio=0.1, max_iter=1000, penalty=elasticnet, solver=saga\n",
      "[CV 2/3; 30/100] END C=10.0, l1_ratio=0.1, max_iter=1000, penalty=elasticnet, solver=saga;, score=(train=0.805, test=0.135) total time= 3.5min\n",
      "[CV 3/3; 30/100] START C=10.0, l1_ratio=0.1, max_iter=1000, penalty=elasticnet, solver=saga\n",
      "[CV 3/3; 30/100] END C=10.0, l1_ratio=0.1, max_iter=1000, penalty=elasticnet, solver=saga;, score=(train=0.811, test=0.133) total time= 3.5min\n",
      "[CV 1/3; 31/100] START C=0.7847599703514611, max_iter=1000, penalty=l1, solver=saga\n",
      "[CV 1/3; 31/100] END C=0.7847599703514611, max_iter=1000, penalty=l1, solver=saga;, score=(train=0.164, test=0.116) total time= 4.1min\n",
      "[CV 2/3; 31/100] START C=0.7847599703514611, max_iter=1000, penalty=l1, solver=saga\n",
      "[CV 2/3; 31/100] END C=0.7847599703514611, max_iter=1000, penalty=l1, solver=saga;, score=(train=0.165, test=0.125) total time= 3.5min\n",
      "[CV 3/3; 31/100] START C=0.7847599703514611, max_iter=1000, penalty=l1, solver=saga\n",
      "[CV 3/3; 31/100] END C=0.7847599703514611, max_iter=1000, penalty=l1, solver=saga;, score=(train=0.163, test=0.112) total time= 5.1min\n",
      "[CV 1/3; 32/100] START C=0.7847599703514611, l1_ratio=0.8, max_iter=1000, penalty=elasticnet, solver=saga\n",
      "[CV 1/3; 32/100] END C=0.7847599703514611, l1_ratio=0.8, max_iter=1000, penalty=elasticnet, solver=saga;, score=(train=0.153, test=0.112) total time= 1.3min\n",
      "[CV 2/3; 32/100] START C=0.7847599703514611, l1_ratio=0.8, max_iter=1000, penalty=elasticnet, solver=saga\n",
      "[CV 2/3; 32/100] END C=0.7847599703514611, l1_ratio=0.8, max_iter=1000, penalty=elasticnet, solver=saga;, score=(train=0.156, test=0.116) total time= 1.3min\n",
      "[CV 3/3; 32/100] START C=0.7847599703514611, l1_ratio=0.8, max_iter=1000, penalty=elasticnet, solver=saga\n",
      "[CV 3/3; 32/100] END C=0.7847599703514611, l1_ratio=0.8, max_iter=1000, penalty=elasticnet, solver=saga;, score=(train=0.154, test=0.107) total time= 1.2min\n",
      "[CV 1/3; 33/100] START C=0.5455594781168517, max_iter=1000, penalty=l1, solver=saga\n",
      "[CV 1/3; 33/100] END C=0.5455594781168517, max_iter=1000, penalty=l1, solver=saga;, score=(train=0.130, test=0.107) total time= 3.6min\n",
      "[CV 2/3; 33/100] START C=0.5455594781168517, max_iter=1000, penalty=l1, solver=saga\n",
      "[CV 2/3; 33/100] END C=0.5455594781168517, max_iter=1000, penalty=l1, solver=saga;, score=(train=0.133, test=0.110) total time= 3.0min\n",
      "[CV 3/3; 33/100] START C=0.5455594781168517, max_iter=1000, penalty=l1, solver=saga\n",
      "[CV 3/3; 33/100] END C=0.5455594781168517, max_iter=1000, penalty=l1, solver=saga;, score=(train=0.127, test=0.104) total time= 2.5min\n",
      "[CV 1/3; 34/100] START C=6.951927961775605, l1_ratio=0.8, max_iter=1000, penalty=elasticnet, solver=saga\n",
      "[CV 1/3; 34/100] END C=6.951927961775605, l1_ratio=0.8, max_iter=1000, penalty=elasticnet, solver=saga;, score=(train=0.747, test=0.126) total time=11.3min\n",
      "[CV 2/3; 34/100] START C=6.951927961775605, l1_ratio=0.8, max_iter=1000, penalty=elasticnet, solver=saga\n",
      "[CV 2/3; 34/100] END C=6.951927961775605, l1_ratio=0.8, max_iter=1000, penalty=elasticnet, solver=saga;, score=(train=0.748, test=0.132) total time=10.6min\n",
      "[CV 3/3; 34/100] START C=6.951927961775605, l1_ratio=0.8, max_iter=1000, penalty=elasticnet, solver=saga\n",
      "[CV 3/3; 34/100] END C=6.951927961775605, l1_ratio=0.8, max_iter=1000, penalty=elasticnet, solver=saga;, score=(train=0.751, test=0.128) total time=10.5min\n",
      "[CV 1/3; 35/100] START C=0.06158482110660264, l1_ratio=0.5, max_iter=1000, penalty=elasticnet, solver=saga\n",
      "[CV 1/3; 35/100] END C=0.06158482110660264, l1_ratio=0.5, max_iter=1000, penalty=elasticnet, solver=saga;, score=(train=0.002, test=0.002) total time=  38.0s\n",
      "[CV 2/3; 35/100] START C=0.06158482110660264, l1_ratio=0.5, max_iter=1000, penalty=elasticnet, solver=saga\n",
      "[CV 2/3; 35/100] END C=0.06158482110660264, l1_ratio=0.5, max_iter=1000, penalty=elasticnet, solver=saga;, score=(train=0.002, test=0.002) total time=  44.1s\n",
      "[CV 3/3; 35/100] START C=0.06158482110660264, l1_ratio=0.5, max_iter=1000, penalty=elasticnet, solver=saga\n",
      "[CV 3/3; 35/100] END C=0.06158482110660264, l1_ratio=0.5, max_iter=1000, penalty=elasticnet, solver=saga;, score=(train=0.002, test=0.002) total time=  36.6s\n",
      "[CV 1/3; 36/100] START C=0.37926901907322497, max_iter=1000, penalty=l2, solver=lbfgs\n",
      "[CV 1/3; 36/100] END C=0.37926901907322497, max_iter=1000, penalty=l2, solver=lbfgs;, score=(train=0.126, test=0.072) total time=  11.4s\n",
      "[CV 2/3; 36/100] START C=0.37926901907322497, max_iter=1000, penalty=l2, solver=lbfgs\n",
      "[CV 2/3; 36/100] END C=0.37926901907322497, max_iter=1000, penalty=l2, solver=lbfgs;, score=(train=0.135, test=0.070) total time=  11.1s\n",
      "[CV 3/3; 36/100] START C=0.37926901907322497, max_iter=1000, penalty=l2, solver=lbfgs\n",
      "[CV 3/3; 36/100] END C=0.37926901907322497, max_iter=1000, penalty=l2, solver=lbfgs;, score=(train=0.128, test=0.068) total time=  12.5s\n",
      "[CV 1/3; 37/100] START C=2.3357214690901213, max_iter=1000, penalty=l1, solver=saga\n",
      "[CV 1/3; 37/100] END C=2.3357214690901213, max_iter=1000, penalty=l1, solver=saga;, score=(train=0.404, test=0.140) total time=15.7min\n",
      "[CV 2/3; 37/100] START C=2.3357214690901213, max_iter=1000, penalty=l1, solver=saga\n",
      "[CV 2/3; 37/100] END C=2.3357214690901213, max_iter=1000, penalty=l1, solver=saga;, score=(train=0.403, test=0.138) total time=17.4min\n",
      "[CV 3/3; 37/100] START C=2.3357214690901213, max_iter=1000, penalty=l1, solver=saga\n",
      "[CV 3/3; 37/100] END C=2.3357214690901213, max_iter=1000, penalty=l1, solver=saga;, score=(train=0.401, test=0.138) total time=11.0min\n",
      "[CV 1/3; 38/100] START C=0.04281332398719394, l1_ratio=0.5, max_iter=1000, penalty=elasticnet, solver=saga\n",
      "[CV 1/3; 38/100] END C=0.04281332398719394, l1_ratio=0.5, max_iter=1000, penalty=elasticnet, solver=saga;, score=(train=0.002, test=0.002) total time=  36.8s\n",
      "[CV 2/3; 38/100] START C=0.04281332398719394, l1_ratio=0.5, max_iter=1000, penalty=elasticnet, solver=saga\n",
      "[CV 2/3; 38/100] END C=0.04281332398719394, l1_ratio=0.5, max_iter=1000, penalty=elasticnet, solver=saga;, score=(train=0.002, test=0.002) total time=  35.8s\n",
      "[CV 3/3; 38/100] START C=0.04281332398719394, l1_ratio=0.5, max_iter=1000, penalty=elasticnet, solver=saga\n",
      "[CV 3/3; 38/100] END C=0.04281332398719394, l1_ratio=0.5, max_iter=1000, penalty=elasticnet, solver=saga;, score=(train=0.002, test=0.002) total time=  38.1s\n",
      "[CV 1/3; 39/100] START C=6.951927961775605, max_iter=1000, penalty=l2, solver=lbfgs\n",
      "[CV 1/3; 39/100] END C=6.951927961775605, max_iter=1000, penalty=l2, solver=lbfgs;, score=(train=0.733, test=0.138) total time=  26.6s\n",
      "[CV 2/3; 39/100] START C=6.951927961775605, max_iter=1000, penalty=l2, solver=lbfgs\n",
      "[CV 2/3; 39/100] END C=6.951927961775605, max_iter=1000, penalty=l2, solver=lbfgs;, score=(train=0.731, test=0.141) total time=  28.3s\n",
      "[CV 3/3; 39/100] START C=6.951927961775605, max_iter=1000, penalty=l2, solver=lbfgs\n",
      "[CV 3/3; 39/100] END C=6.951927961775605, max_iter=1000, penalty=l2, solver=lbfgs;, score=(train=0.733, test=0.135) total time=  29.4s\n",
      "[CV 1/3; 40/100] START C=0.04281332398719394, max_iter=1000, penalty=l2, solver=saga\n",
      "[CV 1/3; 40/100] END C=0.04281332398719394, max_iter=1000, penalty=l2, solver=saga;, score=(train=0.003, test=0.004) total time=  37.4s\n",
      "[CV 2/3; 40/100] START C=0.04281332398719394, max_iter=1000, penalty=l2, solver=saga\n",
      "[CV 2/3; 40/100] END C=0.04281332398719394, max_iter=1000, penalty=l2, solver=saga;, score=(train=0.004, test=0.003) total time=  34.7s\n",
      "[CV 3/3; 40/100] START C=0.04281332398719394, max_iter=1000, penalty=l2, solver=saga\n",
      "[CV 3/3; 40/100] END C=0.04281332398719394, max_iter=1000, penalty=l2, solver=saga;, score=(train=0.005, test=0.002) total time=  34.6s\n",
      "[CV 1/3; 41/100] START C=3.359818286283781, max_iter=1000, penalty=l2, solver=saga\n",
      "[CV 1/3; 41/100] END C=3.359818286283781, max_iter=1000, penalty=l2, solver=saga;, score=(train=0.589, test=0.133) total time=  59.7s\n",
      "[CV 2/3; 41/100] START C=3.359818286283781, max_iter=1000, penalty=l2, solver=saga\n",
      "[CV 2/3; 41/100] END C=3.359818286283781, max_iter=1000, penalty=l2, solver=saga;, score=(train=0.586, test=0.138) total time= 1.0min\n",
      "[CV 3/3; 41/100] START C=3.359818286283781, max_iter=1000, penalty=l2, solver=saga\n",
      "[CV 3/3; 41/100] END C=3.359818286283781, max_iter=1000, penalty=l2, solver=saga;, score=(train=0.586, test=0.133) total time=  58.2s\n",
      "[CV 1/3; 42/100] START C=0.7847599703514611, max_iter=1000, penalty=l2, solver=saga\n",
      "[CV 1/3; 42/100] END C=0.7847599703514611, max_iter=1000, penalty=l2, solver=saga;, score=(train=0.244, test=0.106) total time=  29.1s\n",
      "[CV 2/3; 42/100] START C=0.7847599703514611, max_iter=1000, penalty=l2, solver=saga\n",
      "[CV 2/3; 42/100] END C=0.7847599703514611, max_iter=1000, penalty=l2, solver=saga;, score=(train=0.244, test=0.102) total time=  31.0s\n",
      "[CV 3/3; 42/100] START C=0.7847599703514611, max_iter=1000, penalty=l2, solver=saga\n",
      "[CV 3/3; 42/100] END C=0.7847599703514611, max_iter=1000, penalty=l2, solver=saga;, score=(train=0.246, test=0.100) total time=  29.3s\n",
      "[CV 1/3; 43/100] START C=0.26366508987303583, l1_ratio=0.8, max_iter=1000, penalty=elasticnet, solver=saga\n",
      "[CV 1/3; 43/100] END C=0.26366508987303583, l1_ratio=0.8, max_iter=1000, penalty=elasticnet, solver=saga;, score=(train=0.063, test=0.059) total time=  37.6s\n",
      "[CV 2/3; 43/100] START C=0.26366508987303583, l1_ratio=0.8, max_iter=1000, penalty=elasticnet, solver=saga\n",
      "[CV 2/3; 43/100] END C=0.26366508987303583, l1_ratio=0.8, max_iter=1000, penalty=elasticnet, solver=saga;, score=(train=0.065, test=0.059) total time=  39.7s\n",
      "[CV 3/3; 43/100] START C=0.26366508987303583, l1_ratio=0.8, max_iter=1000, penalty=elasticnet, solver=saga\n",
      "[CV 3/3; 43/100] END C=0.26366508987303583, l1_ratio=0.8, max_iter=1000, penalty=elasticnet, solver=saga;, score=(train=0.067, test=0.060) total time=  39.9s\n",
      "[CV 1/3; 44/100] START C=1.623776739188721, max_iter=1000, penalty=l1, solver=saga\n",
      "[CV 1/3; 44/100] END C=1.623776739188721, max_iter=1000, penalty=l1, solver=saga;, score=(train=0.308, test=0.136) total time= 5.8min\n",
      "[CV 2/3; 44/100] START C=1.623776739188721, max_iter=1000, penalty=l1, solver=saga\n",
      "[CV 2/3; 44/100] END C=1.623776739188721, max_iter=1000, penalty=l1, solver=saga;, score=(train=0.298, test=0.135) total time= 6.2min\n",
      "[CV 3/3; 44/100] START C=1.623776739188721, max_iter=1000, penalty=l1, solver=saga\n",
      "[CV 3/3; 44/100] END C=1.623776739188721, max_iter=1000, penalty=l1, solver=saga;, score=(train=0.306, test=0.135) total time= 7.7min\n",
      "[CV 1/3; 45/100] START C=10.0, l1_ratio=0.5, max_iter=1000, penalty=elasticnet, solver=saga\n",
      "[CV 1/3; 45/100] END C=10.0, l1_ratio=0.5, max_iter=1000, penalty=elasticnet, solver=saga;, score=(train=0.816, test=0.128) total time= 8.3min\n",
      "[CV 2/3; 45/100] START C=10.0, l1_ratio=0.5, max_iter=1000, penalty=elasticnet, solver=saga\n",
      "[CV 2/3; 45/100] END C=10.0, l1_ratio=0.5, max_iter=1000, penalty=elasticnet, solver=saga;, score=(train=0.814, test=0.133) total time= 8.1min\n",
      "[CV 3/3; 45/100] START C=10.0, l1_ratio=0.5, max_iter=1000, penalty=elasticnet, solver=saga\n",
      "[CV 3/3; 45/100] END C=10.0, l1_ratio=0.5, max_iter=1000, penalty=elasticnet, solver=saga;, score=(train=0.823, test=0.128) total time= 8.3min\n",
      "[CV 1/3; 46/100] START C=2.3357214690901213, l1_ratio=0.1, max_iter=1000, penalty=elasticnet, solver=saga\n",
      "[CV 1/3; 46/100] END C=2.3357214690901213, l1_ratio=0.1, max_iter=1000, penalty=elasticnet, solver=saga;, score=(train=0.473, test=0.135) total time= 1.8min\n",
      "[CV 2/3; 46/100] START C=2.3357214690901213, l1_ratio=0.1, max_iter=1000, penalty=elasticnet, solver=saga\n",
      "[CV 2/3; 46/100] END C=2.3357214690901213, l1_ratio=0.1, max_iter=1000, penalty=elasticnet, solver=saga;, score=(train=0.475, test=0.134) total time= 1.9min\n",
      "[CV 3/3; 46/100] START C=2.3357214690901213, l1_ratio=0.1, max_iter=1000, penalty=elasticnet, solver=saga\n",
      "[CV 3/3; 46/100] END C=2.3357214690901213, l1_ratio=0.1, max_iter=1000, penalty=elasticnet, solver=saga;, score=(train=0.478, test=0.132) total time= 1.9min\n",
      "[CV 1/3; 47/100] START C=0.0206913808111479, max_iter=1000, penalty=l2, solver=saga\n",
      "[CV 1/3; 47/100] END C=0.0206913808111479, max_iter=1000, penalty=l2, solver=saga;, score=(train=0.002, test=0.002) total time=  36.5s\n",
      "[CV 2/3; 47/100] START C=0.0206913808111479, max_iter=1000, penalty=l2, solver=saga\n",
      "[CV 2/3; 47/100] END C=0.0206913808111479, max_iter=1000, penalty=l2, solver=saga;, score=(train=0.002, test=0.002) total time=  36.4s\n",
      "[CV 3/3; 47/100] START C=0.0206913808111479, max_iter=1000, penalty=l2, solver=saga\n",
      "[CV 3/3; 47/100] END C=0.0206913808111479, max_iter=1000, penalty=l2, solver=saga;, score=(train=0.002, test=0.002) total time=  34.6s\n",
      "[CV 1/3; 48/100] START C=3.359818286283781, l1_ratio=0.8, max_iter=1000, penalty=elasticnet, solver=saga\n",
      "[CV 1/3; 48/100] END C=3.359818286283781, l1_ratio=0.8, max_iter=1000, penalty=elasticnet, solver=saga;, score=(train=0.497, test=0.134) total time= 4.8min\n",
      "[CV 2/3; 48/100] START C=3.359818286283781, l1_ratio=0.8, max_iter=1000, penalty=elasticnet, solver=saga\n",
      "[CV 2/3; 48/100] END C=3.359818286283781, l1_ratio=0.8, max_iter=1000, penalty=elasticnet, solver=saga;, score=(train=0.505, test=0.136) total time= 4.8min\n",
      "[CV 3/3; 48/100] START C=3.359818286283781, l1_ratio=0.8, max_iter=1000, penalty=elasticnet, solver=saga\n",
      "[CV 3/3; 48/100] END C=3.359818286283781, l1_ratio=0.8, max_iter=1000, penalty=elasticnet, solver=saga;, score=(train=0.493, test=0.139) total time= 4.5min\n",
      "[CV 1/3; 49/100] START C=0.26366508987303583, l1_ratio=0.5, max_iter=1000, penalty=elasticnet, solver=saga\n",
      "[CV 1/3; 49/100] END C=0.26366508987303583, l1_ratio=0.5, max_iter=1000, penalty=elasticnet, solver=saga;, score=(train=0.058, test=0.052) total time=  35.4s\n",
      "[CV 2/3; 49/100] START C=0.26366508987303583, l1_ratio=0.5, max_iter=1000, penalty=elasticnet, solver=saga\n",
      "[CV 2/3; 49/100] END C=0.26366508987303583, l1_ratio=0.5, max_iter=1000, penalty=elasticnet, solver=saga;, score=(train=0.058, test=0.052) total time=  39.4s\n",
      "[CV 3/3; 49/100] START C=0.26366508987303583, l1_ratio=0.5, max_iter=1000, penalty=elasticnet, solver=saga\n",
      "[CV 3/3; 49/100] END C=0.26366508987303583, l1_ratio=0.5, max_iter=1000, penalty=elasticnet, solver=saga;, score=(train=0.060, test=0.051) total time=  37.4s\n",
      "[CV 1/3; 50/100] START C=10.0, max_iter=1000, penalty=l2, solver=saga...........\n",
      "[CV 1/3; 50/100] END C=10.0, max_iter=1000, penalty=l2, solver=saga;, score=(train=0.804, test=0.132) total time= 1.8min\n",
      "[CV 2/3; 50/100] START C=10.0, max_iter=1000, penalty=l2, solver=saga...........\n",
      "[CV 2/3; 50/100] END C=10.0, max_iter=1000, penalty=l2, solver=saga;, score=(train=0.803, test=0.136) total time= 1.9min\n",
      "[CV 3/3; 50/100] START C=10.0, max_iter=1000, penalty=l2, solver=saga...........\n",
      "[CV 3/3; 50/100] END C=10.0, max_iter=1000, penalty=l2, solver=saga;, score=(train=0.810, test=0.133) total time= 2.0min\n",
      "[CV 1/3; 51/100] START C=0.029763514416313176, l1_ratio=0.1, max_iter=1000, penalty=elasticnet, solver=saga\n",
      "[CV 1/3; 51/100] END C=0.029763514416313176, l1_ratio=0.1, max_iter=1000, penalty=elasticnet, solver=saga;, score=(train=0.002, test=0.002) total time=  38.4s\n",
      "[CV 2/3; 51/100] START C=0.029763514416313176, l1_ratio=0.1, max_iter=1000, penalty=elasticnet, solver=saga\n",
      "[CV 2/3; 51/100] END C=0.029763514416313176, l1_ratio=0.1, max_iter=1000, penalty=elasticnet, solver=saga;, score=(train=0.002, test=0.002) total time=  37.9s\n",
      "[CV 3/3; 51/100] START C=0.029763514416313176, l1_ratio=0.1, max_iter=1000, penalty=elasticnet, solver=saga\n",
      "[CV 3/3; 51/100] END C=0.029763514416313176, l1_ratio=0.1, max_iter=1000, penalty=elasticnet, solver=saga;, score=(train=0.002, test=0.002) total time=  38.0s\n",
      "[CV 1/3; 52/100] START C=4.832930238571752, max_iter=1000, penalty=l2, solver=saga\n",
      "[CV 1/3; 52/100] END C=4.832930238571752, max_iter=1000, penalty=l2, solver=saga;, score=(train=0.667, test=0.138) total time= 1.3min\n",
      "[CV 2/3; 52/100] START C=4.832930238571752, max_iter=1000, penalty=l2, solver=saga\n",
      "[CV 2/3; 52/100] END C=4.832930238571752, max_iter=1000, penalty=l2, solver=saga;, score=(train=0.663, test=0.140) total time= 1.2min\n",
      "[CV 3/3; 52/100] START C=4.832930238571752, max_iter=1000, penalty=l2, solver=saga\n",
      "[CV 3/3; 52/100] END C=4.832930238571752, max_iter=1000, penalty=l2, solver=saga;, score=(train=0.666, test=0.133) total time= 1.2min\n",
      "[CV 1/3; 53/100] START C=0.18329807108324356, max_iter=1000, penalty=l1, solver=saga\n",
      "[CV 1/3; 53/100] END C=0.18329807108324356, max_iter=1000, penalty=l1, solver=saga;, score=(train=0.055, test=0.051) total time= 1.6min\n",
      "[CV 2/3; 53/100] START C=0.18329807108324356, max_iter=1000, penalty=l1, solver=saga\n",
      "[CV 2/3; 53/100] END C=0.18329807108324356, max_iter=1000, penalty=l1, solver=saga;, score=(train=0.053, test=0.050) total time= 1.8min\n",
      "[CV 3/3; 53/100] START C=0.18329807108324356, max_iter=1000, penalty=l1, solver=saga\n",
      "[CV 3/3; 53/100] END C=0.18329807108324356, max_iter=1000, penalty=l1, solver=saga;, score=(train=0.055, test=0.052) total time= 1.3min\n",
      "[CV 1/3; 54/100] START C=0.18329807108324356, l1_ratio=0.8, max_iter=1000, penalty=elasticnet, solver=saga\n",
      "[CV 1/3; 54/100] END C=0.18329807108324356, l1_ratio=0.8, max_iter=1000, penalty=elasticnet, solver=saga;, score=(train=0.044, test=0.039) total time=  35.2s\n",
      "[CV 2/3; 54/100] START C=0.18329807108324356, l1_ratio=0.8, max_iter=1000, penalty=elasticnet, solver=saga\n",
      "[CV 2/3; 54/100] END C=0.18329807108324356, l1_ratio=0.8, max_iter=1000, penalty=elasticnet, solver=saga;, score=(train=0.041, test=0.038) total time=  35.4s\n",
      "[CV 3/3; 54/100] START C=0.18329807108324356, l1_ratio=0.8, max_iter=1000, penalty=elasticnet, solver=saga\n",
      "[CV 3/3; 54/100] END C=0.18329807108324356, l1_ratio=0.8, max_iter=1000, penalty=elasticnet, solver=saga;, score=(train=0.043, test=0.038) total time=  35.3s\n",
      "[CV 1/3; 55/100] START C=4.832930238571752, max_iter=1000, penalty=l1, solver=saga\n",
      "[CV 1/3; 55/100] END C=4.832930238571752, max_iter=1000, penalty=l1, solver=saga;, score=(train=0.673, test=0.122) total time=38.6min\n",
      "[CV 2/3; 55/100] START C=4.832930238571752, max_iter=1000, penalty=l1, solver=saga\n",
      "[CV 2/3; 55/100] END C=4.832930238571752, max_iter=1000, penalty=l1, solver=saga;, score=(train=0.666, test=0.128) total time=36.7min\n",
      "[CV 3/3; 55/100] START C=4.832930238571752, max_iter=1000, penalty=l1, solver=saga\n",
      "[CV 3/3; 55/100] END C=4.832930238571752, max_iter=1000, penalty=l1, solver=saga;, score=(train=0.672, test=0.125) total time=28.9min\n",
      "[CV 1/3; 56/100] START C=1.1288378916846884, max_iter=1000, penalty=l2, solver=lbfgs\n",
      "[CV 1/3; 56/100] END C=1.1288378916846884, max_iter=1000, penalty=l2, solver=lbfgs;, score=(train=0.315, test=0.113) total time=  18.3s\n",
      "[CV 2/3; 56/100] START C=1.1288378916846884, max_iter=1000, penalty=l2, solver=lbfgs\n",
      "[CV 2/3; 56/100] END C=1.1288378916846884, max_iter=1000, penalty=l2, solver=lbfgs;, score=(train=0.327, test=0.118) total time=  19.3s\n",
      "[CV 3/3; 56/100] START C=1.1288378916846884, max_iter=1000, penalty=l2, solver=lbfgs\n",
      "[CV 3/3; 56/100] END C=1.1288378916846884, max_iter=1000, penalty=l2, solver=lbfgs;, score=(train=0.324, test=0.115) total time=  20.0s\n",
      "[CV 1/3; 57/100] START C=0.029763514416313176, max_iter=1000, penalty=l2, solver=saga\n",
      "[CV 1/3; 57/100] END C=0.029763514416313176, max_iter=1000, penalty=l2, solver=saga;, score=(train=0.002, test=0.002) total time=  40.3s\n",
      "[CV 2/3; 57/100] START C=0.029763514416313176, max_iter=1000, penalty=l2, solver=saga\n",
      "[CV 2/3; 57/100] END C=0.029763514416313176, max_iter=1000, penalty=l2, solver=saga;, score=(train=0.002, test=0.002) total time=  40.9s\n",
      "[CV 3/3; 57/100] START C=0.029763514416313176, max_iter=1000, penalty=l2, solver=saga\n",
      "[CV 3/3; 57/100] END C=0.029763514416313176, max_iter=1000, penalty=l2, solver=saga;, score=(train=0.002, test=0.002) total time=  35.9s\n",
      "[CV 1/3; 58/100] START C=0.01438449888287663, l1_ratio=0.1, max_iter=1000, penalty=elasticnet, solver=saga\n",
      "[CV 1/3; 58/100] END C=0.01438449888287663, l1_ratio=0.1, max_iter=1000, penalty=elasticnet, solver=saga;, score=(train=0.002, test=0.002) total time=  36.2s\n",
      "[CV 2/3; 58/100] START C=0.01438449888287663, l1_ratio=0.1, max_iter=1000, penalty=elasticnet, solver=saga\n",
      "[CV 2/3; 58/100] END C=0.01438449888287663, l1_ratio=0.1, max_iter=1000, penalty=elasticnet, solver=saga;, score=(train=0.002, test=0.002) total time=  38.7s\n",
      "[CV 3/3; 58/100] START C=0.01438449888287663, l1_ratio=0.1, max_iter=1000, penalty=elasticnet, solver=saga\n",
      "[CV 3/3; 58/100] END C=0.01438449888287663, l1_ratio=0.1, max_iter=1000, penalty=elasticnet, solver=saga;, score=(train=0.002, test=0.002) total time=  35.8s\n",
      "[CV 1/3; 59/100] START C=0.37926901907322497, l1_ratio=0.8, max_iter=1000, penalty=elasticnet, solver=saga\n",
      "[CV 1/3; 59/100] END C=0.37926901907322497, l1_ratio=0.8, max_iter=1000, penalty=elasticnet, solver=saga;, score=(train=0.092, test=0.075) total time=  48.0s\n",
      "[CV 2/3; 59/100] START C=0.37926901907322497, l1_ratio=0.8, max_iter=1000, penalty=elasticnet, solver=saga\n",
      "[CV 2/3; 59/100] END C=0.37926901907322497, l1_ratio=0.8, max_iter=1000, penalty=elasticnet, solver=saga;, score=(train=0.091, test=0.078) total time=  48.7s\n",
      "[CV 3/3; 59/100] START C=0.37926901907322497, l1_ratio=0.8, max_iter=1000, penalty=elasticnet, solver=saga\n",
      "[CV 3/3; 59/100] END C=0.37926901907322497, l1_ratio=0.8, max_iter=1000, penalty=elasticnet, solver=saga;, score=(train=0.091, test=0.073) total time=  52.5s\n",
      "[CV 1/3; 60/100] START C=0.26366508987303583, l1_ratio=0.1, max_iter=1000, penalty=elasticnet, solver=saga\n",
      "[CV 1/3; 60/100] END C=0.26366508987303583, l1_ratio=0.1, max_iter=1000, penalty=elasticnet, solver=saga;, score=(train=0.065, test=0.050) total time=  56.8s\n",
      "[CV 2/3; 60/100] START C=0.26366508987303583, l1_ratio=0.1, max_iter=1000, penalty=elasticnet, solver=saga\n",
      "[CV 2/3; 60/100] END C=0.26366508987303583, l1_ratio=0.1, max_iter=1000, penalty=elasticnet, solver=saga;, score=(train=0.068, test=0.053) total time=  56.4s\n",
      "[CV 3/3; 60/100] START C=0.26366508987303583, l1_ratio=0.1, max_iter=1000, penalty=elasticnet, solver=saga\n",
      "[CV 3/3; 60/100] END C=0.26366508987303583, l1_ratio=0.1, max_iter=1000, penalty=elasticnet, solver=saga;, score=(train=0.067, test=0.049) total time=  50.9s\n",
      "[CV 1/3; 61/100] START C=1.623776739188721, l1_ratio=0.5, max_iter=1000, penalty=elasticnet, solver=saga\n",
      "[CV 1/3; 61/100] END C=1.623776739188721, l1_ratio=0.5, max_iter=1000, penalty=elasticnet, solver=saga;, score=(train=0.291, test=0.129) total time= 1.7min\n",
      "[CV 2/3; 61/100] START C=1.623776739188721, l1_ratio=0.5, max_iter=1000, penalty=elasticnet, solver=saga\n",
      "[CV 2/3; 61/100] END C=1.623776739188721, l1_ratio=0.5, max_iter=1000, penalty=elasticnet, solver=saga;, score=(train=0.303, test=0.130) total time= 1.6min\n",
      "[CV 3/3; 61/100] START C=1.623776739188721, l1_ratio=0.5, max_iter=1000, penalty=elasticnet, solver=saga\n",
      "[CV 3/3; 61/100] END C=1.623776739188721, l1_ratio=0.5, max_iter=1000, penalty=elasticnet, solver=saga;, score=(train=0.297, test=0.130) total time= 1.7min\n",
      "[CV 1/3; 62/100] START C=1.1288378916846884, max_iter=1000, penalty=l2, solver=saga\n",
      "[CV 1/3; 62/100] END C=1.1288378916846884, max_iter=1000, penalty=l2, solver=saga;, score=(train=0.316, test=0.113) total time=  34.6s\n",
      "[CV 2/3; 62/100] START C=1.1288378916846884, max_iter=1000, penalty=l2, solver=saga\n",
      "[CV 2/3; 62/100] END C=1.1288378916846884, max_iter=1000, penalty=l2, solver=saga;, score=(train=0.327, test=0.118) total time=  40.0s\n",
      "[CV 3/3; 62/100] START C=1.1288378916846884, max_iter=1000, penalty=l2, solver=saga\n",
      "[CV 3/3; 62/100] END C=1.1288378916846884, max_iter=1000, penalty=l2, solver=saga;, score=(train=0.324, test=0.115) total time=  36.5s\n",
      "[CV 1/3; 63/100] START C=0.26366508987303583, max_iter=1000, penalty=l2, solver=saga\n",
      "[CV 1/3; 63/100] END C=0.26366508987303583, max_iter=1000, penalty=l2, solver=saga;, score=(train=0.086, test=0.051) total time=  32.8s\n",
      "[CV 2/3; 63/100] START C=0.26366508987303583, max_iter=1000, penalty=l2, solver=saga\n",
      "[CV 2/3; 63/100] END C=0.26366508987303583, max_iter=1000, penalty=l2, solver=saga;, score=(train=0.090, test=0.057) total time=  34.1s\n",
      "[CV 3/3; 63/100] START C=0.26366508987303583, max_iter=1000, penalty=l2, solver=saga\n",
      "[CV 3/3; 63/100] END C=0.26366508987303583, max_iter=1000, penalty=l2, solver=saga;, score=(train=0.086, test=0.051) total time=  32.0s\n",
      "[CV 1/3; 64/100] START C=6.951927961775605, l1_ratio=0.5, max_iter=1000, penalty=elasticnet, solver=saga\n",
      "[CV 1/3; 64/100] END C=6.951927961775605, l1_ratio=0.5, max_iter=1000, penalty=elasticnet, solver=saga;, score=(train=0.732, test=0.133) total time= 6.1min\n",
      "[CV 2/3; 64/100] START C=6.951927961775605, l1_ratio=0.5, max_iter=1000, penalty=elasticnet, solver=saga\n",
      "[CV 2/3; 64/100] END C=6.951927961775605, l1_ratio=0.5, max_iter=1000, penalty=elasticnet, solver=saga;, score=(train=0.732, test=0.137) total time= 6.4min\n",
      "[CV 3/3; 64/100] START C=6.951927961775605, l1_ratio=0.5, max_iter=1000, penalty=elasticnet, solver=saga\n",
      "[CV 3/3; 64/100] END C=6.951927961775605, l1_ratio=0.5, max_iter=1000, penalty=elasticnet, solver=saga;, score=(train=0.734, test=0.133) total time= 6.3min\n",
      "[CV 1/3; 65/100] START C=0.01, max_iter=1000, penalty=l2, solver=lbfgs..........\n",
      "[CV 1/3; 65/100] END C=0.01, max_iter=1000, penalty=l2, solver=lbfgs;, score=(train=0.002, test=0.002) total time=   7.4s\n",
      "[CV 2/3; 65/100] START C=0.01, max_iter=1000, penalty=l2, solver=lbfgs..........\n",
      "[CV 2/3; 65/100] END C=0.01, max_iter=1000, penalty=l2, solver=lbfgs;, score=(train=0.002, test=0.002) total time=   7.5s\n",
      "[CV 3/3; 65/100] START C=0.01, max_iter=1000, penalty=l2, solver=lbfgs..........\n",
      "[CV 3/3; 65/100] END C=0.01, max_iter=1000, penalty=l2, solver=lbfgs;, score=(train=0.002, test=0.002) total time=   7.1s\n",
      "[CV 1/3; 66/100] START C=0.04281332398719394, max_iter=1000, penalty=l1, solver=saga\n",
      "[CV 1/3; 66/100] END C=0.04281332398719394, max_iter=1000, penalty=l1, solver=saga;, score=(train=0.002, test=0.002) total time=  24.2s\n",
      "[CV 2/3; 66/100] START C=0.04281332398719394, max_iter=1000, penalty=l1, solver=saga\n",
      "[CV 2/3; 66/100] END C=0.04281332398719394, max_iter=1000, penalty=l1, solver=saga;, score=(train=0.002, test=0.002) total time=  19.0s\n",
      "[CV 3/3; 66/100] START C=0.04281332398719394, max_iter=1000, penalty=l1, solver=saga\n",
      "[CV 3/3; 66/100] END C=0.04281332398719394, max_iter=1000, penalty=l1, solver=saga;, score=(train=0.002, test=0.002) total time=  23.2s\n",
      "[CV 1/3; 67/100] START C=0.08858667904100823, max_iter=1000, penalty=l2, solver=saga\n",
      "[CV 1/3; 67/100] END C=0.08858667904100823, max_iter=1000, penalty=l2, solver=saga;, score=(train=0.019, test=0.014) total time=  33.4s\n",
      "[CV 2/3; 67/100] START C=0.08858667904100823, max_iter=1000, penalty=l2, solver=saga\n",
      "[CV 2/3; 67/100] END C=0.08858667904100823, max_iter=1000, penalty=l2, solver=saga;, score=(train=0.017, test=0.013) total time=  34.0s\n",
      "[CV 3/3; 67/100] START C=0.08858667904100823, max_iter=1000, penalty=l2, solver=saga\n",
      "[CV 3/3; 67/100] END C=0.08858667904100823, max_iter=1000, penalty=l2, solver=saga;, score=(train=0.017, test=0.014) total time=  34.1s\n",
      "[CV 1/3; 68/100] START C=1.623776739188721, l1_ratio=0.8, max_iter=1000, penalty=elasticnet, solver=saga\n",
      "[CV 1/3; 68/100] END C=1.623776739188721, l1_ratio=0.8, max_iter=1000, penalty=elasticnet, solver=saga;, score=(train=0.282, test=0.133) total time= 2.5min\n",
      "[CV 2/3; 68/100] START C=1.623776739188721, l1_ratio=0.8, max_iter=1000, penalty=elasticnet, solver=saga\n",
      "[CV 2/3; 68/100] END C=1.623776739188721, l1_ratio=0.8, max_iter=1000, penalty=elasticnet, solver=saga;, score=(train=0.291, test=0.134) total time= 2.2min\n",
      "[CV 3/3; 68/100] START C=1.623776739188721, l1_ratio=0.8, max_iter=1000, penalty=elasticnet, solver=saga\n",
      "[CV 3/3; 68/100] END C=1.623776739188721, l1_ratio=0.8, max_iter=1000, penalty=elasticnet, solver=saga;, score=(train=0.286, test=0.133) total time= 2.4min\n",
      "[CV 1/3; 69/100] START C=0.01438449888287663, max_iter=1000, penalty=l2, solver=saga\n",
      "[CV 1/3; 69/100] END C=0.01438449888287663, max_iter=1000, penalty=l2, solver=saga;, score=(train=0.002, test=0.002) total time=  33.7s\n",
      "[CV 2/3; 69/100] START C=0.01438449888287663, max_iter=1000, penalty=l2, solver=saga\n",
      "[CV 2/3; 69/100] END C=0.01438449888287663, max_iter=1000, penalty=l2, solver=saga;, score=(train=0.002, test=0.002) total time=  33.7s\n",
      "[CV 3/3; 69/100] START C=0.01438449888287663, max_iter=1000, penalty=l2, solver=saga\n",
      "[CV 3/3; 69/100] END C=0.01438449888287663, max_iter=1000, penalty=l2, solver=saga;, score=(train=0.002, test=0.002) total time=  32.2s\n",
      "[CV 1/3; 70/100] START C=0.18329807108324356, max_iter=1000, penalty=l2, solver=saga\n",
      "[CV 1/3; 70/100] END C=0.18329807108324356, max_iter=1000, penalty=l2, solver=saga;, score=(train=0.053, test=0.035) total time=  32.0s\n",
      "[CV 2/3; 70/100] START C=0.18329807108324356, max_iter=1000, penalty=l2, solver=saga\n",
      "[CV 2/3; 70/100] END C=0.18329807108324356, max_iter=1000, penalty=l2, solver=saga;, score=(train=0.055, test=0.038) total time=  32.3s\n",
      "[CV 3/3; 70/100] START C=0.18329807108324356, max_iter=1000, penalty=l2, solver=saga\n",
      "[CV 3/3; 70/100] END C=0.18329807108324356, max_iter=1000, penalty=l2, solver=saga;, score=(train=0.053, test=0.037) total time=  33.6s\n",
      "[CV 1/3; 71/100] START C=10.0, max_iter=1000, penalty=l1, solver=saga...........\n",
      "[CV 1/3; 71/100] END C=10.0, max_iter=1000, penalty=l1, solver=saga;, score=(train=0.900, test=0.110) total time=53.8min\n",
      "[CV 2/3; 71/100] START C=10.0, max_iter=1000, penalty=l1, solver=saga...........\n",
      "[CV 2/3; 71/100] END C=10.0, max_iter=1000, penalty=l1, solver=saga;, score=(train=0.897, test=0.117) total time=51.0min\n",
      "[CV 3/3; 71/100] START C=10.0, max_iter=1000, penalty=l1, solver=saga...........\n"
     ]
    },
    {
     "name": "stderr",
     "output_type": "stream",
     "text": [
      "/Users/julianadaikawa/Documents/MBA/TCC/mba/lib/python3.10/site-packages/sklearn/linear_model/_sag.py:350: ConvergenceWarning: The max_iter was reached which means the coef_ did not converge\n"
     ]
    },
    {
     "name": "stdout",
     "output_type": "stream",
     "text": [
      "[CV 3/3; 71/100] END C=10.0, max_iter=1000, penalty=l1, solver=saga;, score=(train=0.898, test=0.114) total time=54.2min\n",
      "[CV 1/3; 72/100] START C=4.832930238571752, max_iter=1000, penalty=l2, solver=lbfgs\n",
      "[CV 1/3; 72/100] END C=4.832930238571752, max_iter=1000, penalty=l2, solver=lbfgs;, score=(train=0.667, test=0.138) total time=  17.8s\n",
      "[CV 2/3; 72/100] START C=4.832930238571752, max_iter=1000, penalty=l2, solver=lbfgs\n",
      "[CV 2/3; 72/100] END C=4.832930238571752, max_iter=1000, penalty=l2, solver=lbfgs;, score=(train=0.663, test=0.140) total time=  23.0s\n",
      "[CV 3/3; 72/100] START C=4.832930238571752, max_iter=1000, penalty=l2, solver=lbfgs\n",
      "[CV 3/3; 72/100] END C=4.832930238571752, max_iter=1000, penalty=l2, solver=lbfgs;, score=(train=0.666, test=0.133) total time=  21.8s\n",
      "[CV 1/3; 73/100] START C=0.029763514416313176, max_iter=1000, penalty=l1, solver=saga\n",
      "[CV 1/3; 73/100] END C=0.029763514416313176, max_iter=1000, penalty=l1, solver=saga;, score=(train=0.002, test=0.002) total time=  13.4s\n",
      "[CV 2/3; 73/100] START C=0.029763514416313176, max_iter=1000, penalty=l1, solver=saga\n",
      "[CV 2/3; 73/100] END C=0.029763514416313176, max_iter=1000, penalty=l1, solver=saga;, score=(train=0.002, test=0.002) total time=  15.4s\n",
      "[CV 3/3; 73/100] START C=0.029763514416313176, max_iter=1000, penalty=l1, solver=saga\n",
      "[CV 3/3; 73/100] END C=0.029763514416313176, max_iter=1000, penalty=l1, solver=saga;, score=(train=0.002, test=0.002) total time=  17.7s\n",
      "[CV 1/3; 74/100] START C=0.7847599703514611, l1_ratio=0.5, max_iter=1000, penalty=elasticnet, solver=saga\n",
      "[CV 1/3; 74/100] END C=0.7847599703514611, l1_ratio=0.5, max_iter=1000, penalty=elasticnet, solver=saga;, score=(train=0.154, test=0.103) total time=  48.4s\n",
      "[CV 2/3; 74/100] START C=0.7847599703514611, l1_ratio=0.5, max_iter=1000, penalty=elasticnet, solver=saga\n",
      "[CV 2/3; 74/100] END C=0.7847599703514611, l1_ratio=0.5, max_iter=1000, penalty=elasticnet, solver=saga;, score=(train=0.158, test=0.103) total time=  46.0s\n",
      "[CV 3/3; 74/100] START C=0.7847599703514611, l1_ratio=0.5, max_iter=1000, penalty=elasticnet, solver=saga\n",
      "[CV 3/3; 74/100] END C=0.7847599703514611, l1_ratio=0.5, max_iter=1000, penalty=elasticnet, solver=saga;, score=(train=0.150, test=0.100) total time=  50.9s\n",
      "[CV 1/3; 75/100] START C=0.5455594781168517, max_iter=1000, penalty=l2, solver=lbfgs\n",
      "[CV 1/3; 75/100] END C=0.5455594781168517, max_iter=1000, penalty=l2, solver=lbfgs;, score=(train=0.180, test=0.089) total time=  11.9s\n",
      "[CV 2/3; 75/100] START C=0.5455594781168517, max_iter=1000, penalty=l2, solver=lbfgs\n",
      "[CV 2/3; 75/100] END C=0.5455594781168517, max_iter=1000, penalty=l2, solver=lbfgs;, score=(train=0.184, test=0.085) total time=  12.8s\n",
      "[CV 3/3; 75/100] START C=0.5455594781168517, max_iter=1000, penalty=l2, solver=lbfgs\n",
      "[CV 3/3; 75/100] END C=0.5455594781168517, max_iter=1000, penalty=l2, solver=lbfgs;, score=(train=0.177, test=0.084) total time=  12.2s\n",
      "[CV 1/3; 76/100] START C=6.951927961775605, l1_ratio=0.1, max_iter=1000, penalty=elasticnet, solver=saga\n",
      "[CV 1/3; 76/100] END C=6.951927961775605, l1_ratio=0.1, max_iter=1000, penalty=elasticnet, solver=saga;, score=(train=0.729, test=0.139) total time= 2.9min\n",
      "[CV 2/3; 76/100] START C=6.951927961775605, l1_ratio=0.1, max_iter=1000, penalty=elasticnet, solver=saga\n",
      "[CV 2/3; 76/100] END C=6.951927961775605, l1_ratio=0.1, max_iter=1000, penalty=elasticnet, solver=saga;, score=(train=0.729, test=0.139) total time= 2.9min\n",
      "[CV 3/3; 76/100] START C=6.951927961775605, l1_ratio=0.1, max_iter=1000, penalty=elasticnet, solver=saga\n",
      "[CV 3/3; 76/100] END C=6.951927961775605, l1_ratio=0.1, max_iter=1000, penalty=elasticnet, solver=saga;, score=(train=0.730, test=0.134) total time= 2.9min\n",
      "[CV 1/3; 77/100] START C=0.04281332398719394, l1_ratio=0.8, max_iter=1000, penalty=elasticnet, solver=saga\n",
      "[CV 1/3; 77/100] END C=0.04281332398719394, l1_ratio=0.8, max_iter=1000, penalty=elasticnet, solver=saga;, score=(train=0.002, test=0.002) total time=  22.1s\n",
      "[CV 2/3; 77/100] START C=0.04281332398719394, l1_ratio=0.8, max_iter=1000, penalty=elasticnet, solver=saga\n",
      "[CV 2/3; 77/100] END C=0.04281332398719394, l1_ratio=0.8, max_iter=1000, penalty=elasticnet, solver=saga;, score=(train=0.002, test=0.002) total time=  19.8s\n",
      "[CV 3/3; 77/100] START C=0.04281332398719394, l1_ratio=0.8, max_iter=1000, penalty=elasticnet, solver=saga\n",
      "[CV 3/3; 77/100] END C=0.04281332398719394, l1_ratio=0.8, max_iter=1000, penalty=elasticnet, solver=saga;, score=(train=0.002, test=0.002) total time=  24.2s\n",
      "[CV 1/3; 78/100] START C=0.029763514416313176, l1_ratio=0.5, max_iter=1000, penalty=elasticnet, solver=saga\n",
      "[CV 1/3; 78/100] END C=0.029763514416313176, l1_ratio=0.5, max_iter=1000, penalty=elasticnet, solver=saga;, score=(train=0.002, test=0.002) total time=  24.5s\n",
      "[CV 2/3; 78/100] START C=0.029763514416313176, l1_ratio=0.5, max_iter=1000, penalty=elasticnet, solver=saga\n",
      "[CV 2/3; 78/100] END C=0.029763514416313176, l1_ratio=0.5, max_iter=1000, penalty=elasticnet, solver=saga;, score=(train=0.002, test=0.002) total time=  24.3s\n",
      "[CV 3/3; 78/100] START C=0.029763514416313176, l1_ratio=0.5, max_iter=1000, penalty=elasticnet, solver=saga\n",
      "[CV 3/3; 78/100] END C=0.029763514416313176, l1_ratio=0.5, max_iter=1000, penalty=elasticnet, solver=saga;, score=(train=0.002, test=0.002) total time=  22.0s\n",
      "[CV 1/3; 79/100] START C=1.1288378916846884, l1_ratio=0.5, max_iter=1000, penalty=elasticnet, solver=saga\n",
      "[CV 1/3; 79/100] END C=1.1288378916846884, l1_ratio=0.5, max_iter=1000, penalty=elasticnet, solver=saga;, score=(train=0.210, test=0.113) total time= 1.2min\n",
      "[CV 2/3; 79/100] START C=1.1288378916846884, l1_ratio=0.5, max_iter=1000, penalty=elasticnet, solver=saga\n",
      "[CV 2/3; 79/100] END C=1.1288378916846884, l1_ratio=0.5, max_iter=1000, penalty=elasticnet, solver=saga;, score=(train=0.223, test=0.116) total time= 1.1min\n",
      "[CV 3/3; 79/100] START C=1.1288378916846884, l1_ratio=0.5, max_iter=1000, penalty=elasticnet, solver=saga\n",
      "[CV 3/3; 79/100] END C=1.1288378916846884, l1_ratio=0.5, max_iter=1000, penalty=elasticnet, solver=saga;, score=(train=0.217, test=0.119) total time= 1.1min\n",
      "[CV 1/3; 80/100] START C=0.0206913808111479, l1_ratio=0.1, max_iter=1000, penalty=elasticnet, solver=saga\n",
      "[CV 1/3; 80/100] END C=0.0206913808111479, l1_ratio=0.1, max_iter=1000, penalty=elasticnet, solver=saga;, score=(train=0.002, test=0.002) total time=  33.1s\n",
      "[CV 2/3; 80/100] START C=0.0206913808111479, l1_ratio=0.1, max_iter=1000, penalty=elasticnet, solver=saga\n",
      "[CV 2/3; 80/100] END C=0.0206913808111479, l1_ratio=0.1, max_iter=1000, penalty=elasticnet, solver=saga;, score=(train=0.002, test=0.002) total time=  39.7s\n",
      "[CV 3/3; 80/100] START C=0.0206913808111479, l1_ratio=0.1, max_iter=1000, penalty=elasticnet, solver=saga\n",
      "[CV 3/3; 80/100] END C=0.0206913808111479, l1_ratio=0.1, max_iter=1000, penalty=elasticnet, solver=saga;, score=(train=0.002, test=0.002) total time=  39.7s\n",
      "[CV 1/3; 81/100] START C=1.1288378916846884, l1_ratio=0.8, max_iter=1000, penalty=elasticnet, solver=saga\n",
      "[CV 1/3; 81/100] END C=1.1288378916846884, l1_ratio=0.8, max_iter=1000, penalty=elasticnet, solver=saga;, score=(train=0.206, test=0.122) total time= 1.7min\n",
      "[CV 2/3; 81/100] START C=1.1288378916846884, l1_ratio=0.8, max_iter=1000, penalty=elasticnet, solver=saga\n",
      "[CV 2/3; 81/100] END C=1.1288378916846884, l1_ratio=0.8, max_iter=1000, penalty=elasticnet, solver=saga;, score=(train=0.212, test=0.124) total time= 1.6min\n",
      "[CV 3/3; 81/100] START C=1.1288378916846884, l1_ratio=0.8, max_iter=1000, penalty=elasticnet, solver=saga\n",
      "[CV 3/3; 81/100] END C=1.1288378916846884, l1_ratio=0.8, max_iter=1000, penalty=elasticnet, solver=saga;, score=(train=0.213, test=0.121) total time= 1.7min\n",
      "[CV 1/3; 82/100] START C=0.12742749857031335, l1_ratio=0.1, max_iter=1000, penalty=elasticnet, solver=saga\n",
      "[CV 1/3; 82/100] END C=0.12742749857031335, l1_ratio=0.1, max_iter=1000, penalty=elasticnet, solver=saga;, score=(train=0.023, test=0.017) total time=  39.7s\n",
      "[CV 2/3; 82/100] START C=0.12742749857031335, l1_ratio=0.1, max_iter=1000, penalty=elasticnet, solver=saga\n",
      "[CV 2/3; 82/100] END C=0.12742749857031335, l1_ratio=0.1, max_iter=1000, penalty=elasticnet, solver=saga;, score=(train=0.019, test=0.014) total time=  41.9s\n",
      "[CV 3/3; 82/100] START C=0.12742749857031335, l1_ratio=0.1, max_iter=1000, penalty=elasticnet, solver=saga\n",
      "[CV 3/3; 82/100] END C=0.12742749857031335, l1_ratio=0.1, max_iter=1000, penalty=elasticnet, solver=saga;, score=(train=0.020, test=0.019) total time=  42.1s\n",
      "[CV 1/3; 83/100] START C=3.359818286283781, max_iter=1000, penalty=l2, solver=lbfgs\n",
      "[CV 1/3; 83/100] END C=3.359818286283781, max_iter=1000, penalty=l2, solver=lbfgs;, score=(train=0.589, test=0.133) total time=  20.7s\n",
      "[CV 2/3; 83/100] START C=3.359818286283781, max_iter=1000, penalty=l2, solver=lbfgs\n",
      "[CV 2/3; 83/100] END C=3.359818286283781, max_iter=1000, penalty=l2, solver=lbfgs;, score=(train=0.586, test=0.138) total time=  20.6s\n",
      "[CV 3/3; 83/100] START C=3.359818286283781, max_iter=1000, penalty=l2, solver=lbfgs\n",
      "[CV 3/3; 83/100] END C=3.359818286283781, max_iter=1000, penalty=l2, solver=lbfgs;, score=(train=0.586, test=0.133) total time=  16.2s\n",
      "[CV 1/3; 84/100] START C=1.1288378916846884, l1_ratio=0.1, max_iter=1000, penalty=elasticnet, solver=saga\n",
      "[CV 1/3; 84/100] END C=1.1288378916846884, l1_ratio=0.1, max_iter=1000, penalty=elasticnet, solver=saga;, score=(train=0.276, test=0.113) total time= 1.7min\n",
      "[CV 2/3; 84/100] START C=1.1288378916846884, l1_ratio=0.1, max_iter=1000, penalty=elasticnet, solver=saga\n",
      "[CV 2/3; 84/100] END C=1.1288378916846884, l1_ratio=0.1, max_iter=1000, penalty=elasticnet, solver=saga;, score=(train=0.289, test=0.115) total time= 1.7min\n",
      "[CV 3/3; 84/100] START C=1.1288378916846884, l1_ratio=0.1, max_iter=1000, penalty=elasticnet, solver=saga\n",
      "[CV 3/3; 84/100] END C=1.1288378916846884, l1_ratio=0.1, max_iter=1000, penalty=elasticnet, solver=saga;, score=(train=0.284, test=0.116) total time= 1.6min\n",
      "[CV 1/3; 85/100] START C=4.832930238571752, l1_ratio=0.8, max_iter=1000, penalty=elasticnet, solver=saga\n",
      "[CV 1/3; 85/100] END C=4.832930238571752, l1_ratio=0.8, max_iter=1000, penalty=elasticnet, solver=saga;, score=(train=0.632, test=0.133) total time= 7.3min\n",
      "[CV 2/3; 85/100] START C=4.832930238571752, l1_ratio=0.8, max_iter=1000, penalty=elasticnet, solver=saga\n",
      "[CV 2/3; 85/100] END C=4.832930238571752, l1_ratio=0.8, max_iter=1000, penalty=elasticnet, solver=saga;, score=(train=0.624, test=0.134) total time= 7.2min\n",
      "[CV 3/3; 85/100] START C=4.832930238571752, l1_ratio=0.8, max_iter=1000, penalty=elasticnet, solver=saga\n",
      "[CV 3/3; 85/100] END C=4.832930238571752, l1_ratio=0.8, max_iter=1000, penalty=elasticnet, solver=saga;, score=(train=0.633, test=0.132) total time= 6.9min\n",
      "[CV 1/3; 86/100] START C=0.01, l1_ratio=0.5, max_iter=1000, penalty=elasticnet, solver=saga\n",
      "[CV 1/3; 86/100] END C=0.01, l1_ratio=0.5, max_iter=1000, penalty=elasticnet, solver=saga;, score=(train=0.002, test=0.002) total time=  15.5s\n",
      "[CV 2/3; 86/100] START C=0.01, l1_ratio=0.5, max_iter=1000, penalty=elasticnet, solver=saga\n",
      "[CV 2/3; 86/100] END C=0.01, l1_ratio=0.5, max_iter=1000, penalty=elasticnet, solver=saga;, score=(train=0.002, test=0.002) total time=  13.3s\n",
      "[CV 3/3; 86/100] START C=0.01, l1_ratio=0.5, max_iter=1000, penalty=elasticnet, solver=saga\n",
      "[CV 3/3; 86/100] END C=0.01, l1_ratio=0.5, max_iter=1000, penalty=elasticnet, solver=saga;, score=(train=0.002, test=0.002) total time=  15.5s\n",
      "[CV 1/3; 87/100] START C=0.08858667904100823, l1_ratio=0.1, max_iter=1000, penalty=elasticnet, solver=saga\n",
      "[CV 1/3; 87/100] END C=0.08858667904100823, l1_ratio=0.1, max_iter=1000, penalty=elasticnet, solver=saga;, score=(train=0.007, test=0.008) total time=  37.2s\n",
      "[CV 2/3; 87/100] START C=0.08858667904100823, l1_ratio=0.1, max_iter=1000, penalty=elasticnet, solver=saga\n",
      "[CV 2/3; 87/100] END C=0.08858667904100823, l1_ratio=0.1, max_iter=1000, penalty=elasticnet, solver=saga;, score=(train=0.008, test=0.007) total time=  37.0s\n",
      "[CV 3/3; 87/100] START C=0.08858667904100823, l1_ratio=0.1, max_iter=1000, penalty=elasticnet, solver=saga\n",
      "[CV 3/3; 87/100] END C=0.08858667904100823, l1_ratio=0.1, max_iter=1000, penalty=elasticnet, solver=saga;, score=(train=0.009, test=0.006) total time=  37.1s\n",
      "[CV 1/3; 88/100] START C=0.0206913808111479, l1_ratio=0.8, max_iter=1000, penalty=elasticnet, solver=saga\n",
      "[CV 1/3; 88/100] END C=0.0206913808111479, l1_ratio=0.8, max_iter=1000, penalty=elasticnet, solver=saga;, score=(train=0.002, test=0.002) total time=  19.8s\n",
      "[CV 2/3; 88/100] START C=0.0206913808111479, l1_ratio=0.8, max_iter=1000, penalty=elasticnet, solver=saga\n",
      "[CV 2/3; 88/100] END C=0.0206913808111479, l1_ratio=0.8, max_iter=1000, penalty=elasticnet, solver=saga;, score=(train=0.002, test=0.002) total time=  15.5s\n",
      "[CV 3/3; 88/100] START C=0.0206913808111479, l1_ratio=0.8, max_iter=1000, penalty=elasticnet, solver=saga\n",
      "[CV 3/3; 88/100] END C=0.0206913808111479, l1_ratio=0.8, max_iter=1000, penalty=elasticnet, solver=saga;, score=(train=0.002, test=0.002) total time=  22.0s\n",
      "[CV 1/3; 89/100] START C=0.01438449888287663, max_iter=1000, penalty=l2, solver=lbfgs\n",
      "[CV 1/3; 89/100] END C=0.01438449888287663, max_iter=1000, penalty=l2, solver=lbfgs;, score=(train=0.002, test=0.002) total time=   6.6s\n",
      "[CV 2/3; 89/100] START C=0.01438449888287663, max_iter=1000, penalty=l2, solver=lbfgs\n",
      "[CV 2/3; 89/100] END C=0.01438449888287663, max_iter=1000, penalty=l2, solver=lbfgs;, score=(train=0.002, test=0.002) total time=   6.8s\n",
      "[CV 3/3; 89/100] START C=0.01438449888287663, max_iter=1000, penalty=l2, solver=lbfgs\n",
      "[CV 3/3; 89/100] END C=0.01438449888287663, max_iter=1000, penalty=l2, solver=lbfgs;, score=(train=0.002, test=0.002) total time=   6.9s\n",
      "[CV 1/3; 90/100] START C=0.06158482110660264, l1_ratio=0.8, max_iter=1000, penalty=elasticnet, solver=saga\n",
      "[CV 1/3; 90/100] END C=0.06158482110660264, l1_ratio=0.8, max_iter=1000, penalty=elasticnet, solver=saga;, score=(train=0.002, test=0.002) total time=  37.5s\n",
      "[CV 2/3; 90/100] START C=0.06158482110660264, l1_ratio=0.8, max_iter=1000, penalty=elasticnet, solver=saga\n",
      "[CV 2/3; 90/100] END C=0.06158482110660264, l1_ratio=0.8, max_iter=1000, penalty=elasticnet, solver=saga;, score=(train=0.002, test=0.002) total time=  37.4s\n",
      "[CV 3/3; 90/100] START C=0.06158482110660264, l1_ratio=0.8, max_iter=1000, penalty=elasticnet, solver=saga\n",
      "[CV 3/3; 90/100] END C=0.06158482110660264, l1_ratio=0.8, max_iter=1000, penalty=elasticnet, solver=saga;, score=(train=0.002, test=0.002) total time=  37.4s\n",
      "[CV 1/3; 91/100] START C=0.5455594781168517, l1_ratio=0.8, max_iter=1000, penalty=elasticnet, solver=saga\n",
      "[CV 1/3; 91/100] END C=0.5455594781168517, l1_ratio=0.8, max_iter=1000, penalty=elasticnet, solver=saga;, score=(train=0.116, test=0.095) total time= 1.0min\n",
      "[CV 2/3; 91/100] START C=0.5455594781168517, l1_ratio=0.8, max_iter=1000, penalty=elasticnet, solver=saga\n",
      "[CV 2/3; 91/100] END C=0.5455594781168517, l1_ratio=0.8, max_iter=1000, penalty=elasticnet, solver=saga;, score=(train=0.118, test=0.093) total time=  58.9s\n",
      "[CV 3/3; 91/100] START C=0.5455594781168517, l1_ratio=0.8, max_iter=1000, penalty=elasticnet, solver=saga\n",
      "[CV 3/3; 91/100] END C=0.5455594781168517, l1_ratio=0.8, max_iter=1000, penalty=elasticnet, solver=saga;, score=(train=0.116, test=0.089) total time= 1.0min\n",
      "[CV 1/3; 92/100] START C=3.359818286283781, max_iter=1000, penalty=l1, solver=saga\n",
      "[CV 1/3; 92/100] END C=3.359818286283781, max_iter=1000, penalty=l1, solver=saga;, score=(train=0.528, test=0.132) total time=20.1min\n",
      "[CV 2/3; 92/100] START C=3.359818286283781, max_iter=1000, penalty=l1, solver=saga\n",
      "[CV 2/3; 92/100] END C=3.359818286283781, max_iter=1000, penalty=l1, solver=saga;, score=(train=0.529, test=0.135) total time=26.0min\n",
      "[CV 3/3; 92/100] START C=3.359818286283781, max_iter=1000, penalty=l1, solver=saga\n",
      "[CV 3/3; 92/100] END C=3.359818286283781, max_iter=1000, penalty=l1, solver=saga;, score=(train=0.534, test=0.135) total time=19.4min\n",
      "[CV 1/3; 93/100] START C=0.7847599703514611, max_iter=1000, penalty=l2, solver=lbfgs\n",
      "[CV 1/3; 93/100] END C=0.7847599703514611, max_iter=1000, penalty=l2, solver=lbfgs;, score=(train=0.244, test=0.106) total time=  13.4s\n",
      "[CV 2/3; 93/100] START C=0.7847599703514611, max_iter=1000, penalty=l2, solver=lbfgs\n",
      "[CV 2/3; 93/100] END C=0.7847599703514611, max_iter=1000, penalty=l2, solver=lbfgs;, score=(train=0.244, test=0.102) total time=  13.1s\n",
      "[CV 3/3; 93/100] START C=0.7847599703514611, max_iter=1000, penalty=l2, solver=lbfgs\n",
      "[CV 3/3; 93/100] END C=0.7847599703514611, max_iter=1000, penalty=l2, solver=lbfgs;, score=(train=0.246, test=0.100) total time=   8.9s\n",
      "[CV 1/3; 94/100] START C=0.08858667904100823, l1_ratio=0.5, max_iter=1000, penalty=elasticnet, solver=saga\n",
      "[CV 1/3; 94/100] END C=0.08858667904100823, l1_ratio=0.5, max_iter=1000, penalty=elasticnet, solver=saga;, score=(train=0.004, test=0.004) total time=  37.5s\n",
      "[CV 2/3; 94/100] START C=0.08858667904100823, l1_ratio=0.5, max_iter=1000, penalty=elasticnet, solver=saga\n",
      "[CV 2/3; 94/100] END C=0.08858667904100823, l1_ratio=0.5, max_iter=1000, penalty=elasticnet, solver=saga;, score=(train=0.004, test=0.004) total time=  35.3s\n",
      "[CV 3/3; 94/100] START C=0.08858667904100823, l1_ratio=0.5, max_iter=1000, penalty=elasticnet, solver=saga\n",
      "[CV 3/3; 94/100] END C=0.08858667904100823, l1_ratio=0.5, max_iter=1000, penalty=elasticnet, solver=saga;, score=(train=0.004, test=0.003) total time=  35.3s\n",
      "[CV 1/3; 95/100] START C=0.12742749857031335, l1_ratio=0.8, max_iter=1000, penalty=elasticnet, solver=saga\n",
      "[CV 1/3; 95/100] END C=0.12742749857031335, l1_ratio=0.8, max_iter=1000, penalty=elasticnet, solver=saga;, score=(train=0.022, test=0.020) total time=  35.3s\n",
      "[CV 2/3; 95/100] START C=0.12742749857031335, l1_ratio=0.8, max_iter=1000, penalty=elasticnet, solver=saga\n",
      "[CV 2/3; 95/100] END C=0.12742749857031335, l1_ratio=0.8, max_iter=1000, penalty=elasticnet, solver=saga;, score=(train=0.023, test=0.021) total time=  39.7s\n",
      "[CV 3/3; 95/100] START C=0.12742749857031335, l1_ratio=0.8, max_iter=1000, penalty=elasticnet, solver=saga\n",
      "[CV 3/3; 95/100] END C=0.12742749857031335, l1_ratio=0.8, max_iter=1000, penalty=elasticnet, solver=saga;, score=(train=0.021, test=0.017) total time=  37.4s\n",
      "[CV 1/3; 96/100] START C=0.06158482110660264, max_iter=1000, penalty=l2, solver=lbfgs\n",
      "[CV 1/3; 96/100] END C=0.06158482110660264, max_iter=1000, penalty=l2, solver=lbfgs;, score=(train=0.009, test=0.010) total time=   7.9s\n",
      "[CV 2/3; 96/100] START C=0.06158482110660264, max_iter=1000, penalty=l2, solver=lbfgs\n",
      "[CV 2/3; 96/100] END C=0.06158482110660264, max_iter=1000, penalty=l2, solver=lbfgs;, score=(train=0.010, test=0.007) total time=   7.6s\n",
      "[CV 3/3; 96/100] START C=0.06158482110660264, max_iter=1000, penalty=l2, solver=lbfgs\n",
      "[CV 3/3; 96/100] END C=0.06158482110660264, max_iter=1000, penalty=l2, solver=lbfgs;, score=(train=0.011, test=0.006) total time=   7.5s\n",
      "[CV 1/3; 97/100] START C=6.951927961775605, max_iter=1000, penalty=l2, solver=saga\n",
      "[CV 1/3; 97/100] END C=6.951927961775605, max_iter=1000, penalty=l2, solver=saga;, score=(train=0.732, test=0.138) total time= 1.5min\n",
      "[CV 2/3; 97/100] START C=6.951927961775605, max_iter=1000, penalty=l2, solver=saga\n",
      "[CV 2/3; 97/100] END C=6.951927961775605, max_iter=1000, penalty=l2, solver=saga;, score=(train=0.731, test=0.140) total time= 1.5min\n",
      "[CV 3/3; 97/100] START C=6.951927961775605, max_iter=1000, penalty=l2, solver=saga\n",
      "[CV 3/3; 97/100] END C=6.951927961775605, max_iter=1000, penalty=l2, solver=saga;, score=(train=0.733, test=0.135) total time= 1.5min\n",
      "[CV 1/3; 98/100] START C=1.623776739188721, max_iter=1000, penalty=l2, solver=saga\n",
      "[CV 1/3; 98/100] END C=1.623776739188721, max_iter=1000, penalty=l2, solver=saga;, score=(train=0.410, test=0.120) total time=  38.3s\n",
      "[CV 2/3; 98/100] START C=1.623776739188721, max_iter=1000, penalty=l2, solver=saga\n",
      "[CV 2/3; 98/100] END C=1.623776739188721, max_iter=1000, penalty=l2, solver=saga;, score=(train=0.413, test=0.122) total time=  40.5s\n",
      "[CV 3/3; 98/100] START C=1.623776739188721, max_iter=1000, penalty=l2, solver=saga\n",
      "[CV 3/3; 98/100] END C=1.623776739188721, max_iter=1000, penalty=l2, solver=saga;, score=(train=0.421, test=0.127) total time=  43.6s\n",
      "[CV 1/3; 99/100] START C=2.3357214690901213, max_iter=1000, penalty=l2, solver=lbfgs\n",
      "[CV 1/3; 99/100] END C=2.3357214690901213, max_iter=1000, penalty=l2, solver=lbfgs;, score=(train=0.499, test=0.137) total time=  18.6s\n",
      "[CV 2/3; 99/100] START C=2.3357214690901213, max_iter=1000, penalty=l2, solver=lbfgs\n",
      "[CV 2/3; 99/100] END C=2.3357214690901213, max_iter=1000, penalty=l2, solver=lbfgs;, score=(train=0.499, test=0.134) total time=  18.4s\n",
      "[CV 3/3; 99/100] START C=2.3357214690901213, max_iter=1000, penalty=l2, solver=lbfgs\n",
      "[CV 3/3; 99/100] END C=2.3357214690901213, max_iter=1000, penalty=l2, solver=lbfgs;, score=(train=0.505, test=0.132) total time=  18.9s\n",
      "[CV 1/3; 100/100] START C=0.01, max_iter=1000, penalty=l2, solver=saga..........\n",
      "[CV 1/3; 100/100] END C=0.01, max_iter=1000, penalty=l2, solver=saga;, score=(train=0.002, test=0.002) total time=  32.9s\n",
      "[CV 2/3; 100/100] START C=0.01, max_iter=1000, penalty=l2, solver=saga..........\n",
      "[CV 2/3; 100/100] END C=0.01, max_iter=1000, penalty=l2, solver=saga;, score=(train=0.002, test=0.002) total time=  32.7s\n",
      "[CV 3/3; 100/100] START C=0.01, max_iter=1000, penalty=l2, solver=saga..........\n",
      "[CV 3/3; 100/100] END C=0.01, max_iter=1000, penalty=l2, solver=saga;, score=(train=0.002, test=0.002) total time=  36.3s\n"
     ]
    },
    {
     "ename": "TypeError",
     "evalue": "RandomForestClassifier.__init__() got an unexpected keyword argument 'solver'",
     "output_type": "error",
     "traceback": [
      "\u001b[0;31m---------------------------------------------------------------------------\u001b[0m",
      "\u001b[0;31mTypeError\u001b[0m                                 Traceback (most recent call last)",
      "Cell \u001b[0;32mIn[21], line 25\u001b[0m\n\u001b[1;32m     23\u001b[0m clf\u001b[39m.\u001b[39mfit(X_train,y_train)\n\u001b[1;32m     24\u001b[0m clf\u001b[39m.\u001b[39mbest_params_\n\u001b[0;32m---> 25\u001b[0m clf_final \u001b[39m=\u001b[39m RandomForestClassifier(\u001b[39m*\u001b[39;49m\u001b[39m*\u001b[39;49mclf\u001b[39m.\u001b[39;49mbest_params_)\u001b[39m.\u001b[39mfit(X_train,y_train)\n",
      "\u001b[0;31mTypeError\u001b[0m: RandomForestClassifier.__init__() got an unexpected keyword argument 'solver'"
     ]
    }
   ],
   "source": [
    "random_grid = [\n",
    "    {\n",
    "        'solver': ['saga'],\n",
    "        'C': np.logspace(-2, 1, 20),\n",
    "        'penalty': ['l1', 'l2'],\n",
    "        'max_iter': [1000]\n",
    "    },\n",
    "    {\n",
    "        'solver': ['saga'],\n",
    "        'C': np.logspace(-2, 1, 20),\n",
    "        'penalty': ['elasticnet'],\n",
    "        'max_iter': [1000],\n",
    "        'l1_ratio': [0.1,0.5,0.8]\n",
    "    },\n",
    "    {\n",
    "        'solver': ['lbfgs'],\n",
    "        'C': np.logspace(-2, 1, 20),\n",
    "        'penalty': ['l2'],\n",
    "        'max_iter': [1000]\n",
    "    }\n",
    "    ]\n",
    "clf = RandomizedSearchCV(LogisticRegression(), random_grid, random_state=seed, n_iter=100, cv=3, verbose=10, return_train_score=True, scoring='f1_macro')\n",
    "clf.fit(X_train,y_train)\n",
    "clf.best_params_\n",
    "clf_final = LogisticRegression(**clf.best_params_).fit(X_train,y_train)"
   ]
  },
  {
   "cell_type": "code",
   "execution_count": 22,
   "metadata": {},
   "outputs": [],
   "source": [
    "clf_final = LogisticRegression(**clf.best_params_).fit(X_train,y_train)"
   ]
  },
  {
   "cell_type": "code",
   "execution_count": 23,
   "metadata": {},
   "outputs": [
    {
     "data": {
      "text/plain": [
       "{'solver': 'saga', 'penalty': 'l1', 'max_iter': 1000, 'C': 2.3357214690901213}"
      ]
     },
     "execution_count": 23,
     "metadata": {},
     "output_type": "execute_result"
    }
   ],
   "source": [
    "clf.best_params_"
   ]
  },
  {
   "cell_type": "code",
   "execution_count": 27,
   "metadata": {},
   "outputs": [],
   "source": [
    "coefficients = clf_final.coef_[0]"
   ]
  },
  {
   "cell_type": "code",
   "execution_count": 42,
   "metadata": {},
   "outputs": [
    {
     "data": {
      "text/plain": [
       "<Axes: title={'center': 'Feature Importance of the Regression Model'}, ylabel='Feature'>"
      ]
     },
     "execution_count": 42,
     "metadata": {},
     "output_type": "execute_result"
    },
    {
     "data": {
      "image/png": "[encoded data removed]",
      "text/plain": [
       "<Figure size 1000x600 with 1 Axes>"
      ]
     },
     "metadata": {},
     "output_type": "display_data"
    }
   ],
   "source": [
    "feature_importance = pd.DataFrame({'Feature': X_train.columns, 'Importance': np.abs(coefficients)})\n",
    "feature_importance = feature_importance.sort_values('Importance', ascending=False)\n",
    "feature_importance.head(15).sort_values('Importance', ascending=True).plot(x='Feature', y='Importance', kind='barh', figsize=(10, 6), title=\"Feature Importance of the Regression Model\")"
   ]
  },
  {
   "cell_type": "code",
   "execution_count": 24,
   "metadata": {},
   "outputs": [],
   "source": [
    "pred_train_lr = clf_final.predict(X_train)\n",
    "pred_test_lr = clf_final.predict(X_test)"
   ]
  },
  {
   "cell_type": "code",
   "execution_count": 25,
   "metadata": {},
   "outputs": [
    {
     "data": {
      "text/html": [
       "<div>\n",
       "<style scoped>\n",
       "    .dataframe tbody tr th:only-of-type {\n",
       "        vertical-align: middle;\n",
       "    }\n",
       "\n",
       "    .dataframe tbody tr th {\n",
       "        vertical-align: top;\n",
       "    }\n",
       "\n",
       "    .dataframe thead th {\n",
       "        text-align: right;\n",
       "    }\n",
       "</style>\n",
       "<table border=\"1\" class=\"dataframe\">\n",
       "  <thead>\n",
       "    <tr style=\"text-align: right;\">\n",
       "      <th></th>\n",
       "      <th>precision</th>\n",
       "      <th>recall</th>\n",
       "      <th>f1-score</th>\n",
       "      <th>support</th>\n",
       "    </tr>\n",
       "  </thead>\n",
       "  <tbody>\n",
       "    <tr>\n",
       "      <th>Songs about war</th>\n",
       "      <td>0.393939</td>\n",
       "      <td>0.464286</td>\n",
       "      <td>0.426230</td>\n",
       "      <td>28.000000</td>\n",
       "    </tr>\n",
       "    <tr>\n",
       "      <th>Songs about radio stations</th>\n",
       "      <td>1.000000</td>\n",
       "      <td>0.250000</td>\n",
       "      <td>0.400000</td>\n",
       "      <td>4.000000</td>\n",
       "    </tr>\n",
       "    <tr>\n",
       "      <th>Songs about people who committed crimes</th>\n",
       "      <td>0.300000</td>\n",
       "      <td>0.333333</td>\n",
       "      <td>0.315789</td>\n",
       "      <td>18.000000</td>\n",
       "    </tr>\n",
       "    <tr>\n",
       "      <th>Songs about a mother or father</th>\n",
       "      <td>0.275000</td>\n",
       "      <td>0.366667</td>\n",
       "      <td>0.314286</td>\n",
       "      <td>30.000000</td>\n",
       "    </tr>\n",
       "    <tr>\n",
       "      <th>Songs about sex</th>\n",
       "      <td>0.250000</td>\n",
       "      <td>0.386364</td>\n",
       "      <td>0.303571</td>\n",
       "      <td>44.000000</td>\n",
       "    </tr>\n",
       "    <tr>\n",
       "      <th>Songs about the environment</th>\n",
       "      <td>0.375000</td>\n",
       "      <td>0.250000</td>\n",
       "      <td>0.300000</td>\n",
       "      <td>12.000000</td>\n",
       "    </tr>\n",
       "    <tr>\n",
       "      <th>Songs about loneliness or isolation</th>\n",
       "      <td>0.314286</td>\n",
       "      <td>0.268293</td>\n",
       "      <td>0.289474</td>\n",
       "      <td>41.000000</td>\n",
       "    </tr>\n",
       "    <tr>\n",
       "      <th>Songs about computers or technology</th>\n",
       "      <td>0.333333</td>\n",
       "      <td>0.250000</td>\n",
       "      <td>0.285714</td>\n",
       "      <td>12.000000</td>\n",
       "    </tr>\n",
       "    <tr>\n",
       "      <th>Songs about being free</th>\n",
       "      <td>0.277778</td>\n",
       "      <td>0.294118</td>\n",
       "      <td>0.285714</td>\n",
       "      <td>17.000000</td>\n",
       "    </tr>\n",
       "    <tr>\n",
       "      <th>Songs about traveling</th>\n",
       "      <td>0.333333</td>\n",
       "      <td>0.250000</td>\n",
       "      <td>0.285714</td>\n",
       "      <td>24.000000</td>\n",
       "    </tr>\n",
       "    <tr>\n",
       "      <th>Songs about places</th>\n",
       "      <td>0.250000</td>\n",
       "      <td>0.300000</td>\n",
       "      <td>0.272727</td>\n",
       "      <td>30.000000</td>\n",
       "    </tr>\n",
       "    <tr>\n",
       "      <th>Songs about clubbing or a night out</th>\n",
       "      <td>0.227273</td>\n",
       "      <td>0.312500</td>\n",
       "      <td>0.263158</td>\n",
       "      <td>16.000000</td>\n",
       "    </tr>\n",
       "    <tr>\n",
       "      <th>Songs about political figures</th>\n",
       "      <td>0.357143</td>\n",
       "      <td>0.200000</td>\n",
       "      <td>0.256410</td>\n",
       "      <td>25.000000</td>\n",
       "    </tr>\n",
       "    <tr>\n",
       "      <th>Songs about heartache</th>\n",
       "      <td>0.188406</td>\n",
       "      <td>0.325000</td>\n",
       "      <td>0.238532</td>\n",
       "      <td>80.000000</td>\n",
       "    </tr>\n",
       "    <tr>\n",
       "      <th>Songs about spirituality or religion</th>\n",
       "      <td>0.188406</td>\n",
       "      <td>0.309524</td>\n",
       "      <td>0.234234</td>\n",
       "      <td>42.000000</td>\n",
       "    </tr>\n",
       "    <tr>\n",
       "      <th>Songs about music</th>\n",
       "      <td>0.192308</td>\n",
       "      <td>0.277778</td>\n",
       "      <td>0.227273</td>\n",
       "      <td>18.000000</td>\n",
       "    </tr>\n",
       "    <tr>\n",
       "      <th>Songs about desire or longing</th>\n",
       "      <td>0.357143</td>\n",
       "      <td>0.166667</td>\n",
       "      <td>0.227273</td>\n",
       "      <td>30.000000</td>\n",
       "    </tr>\n",
       "    <tr>\n",
       "      <th>Songs about drugs</th>\n",
       "      <td>0.200000</td>\n",
       "      <td>0.258065</td>\n",
       "      <td>0.225352</td>\n",
       "      <td>31.000000</td>\n",
       "    </tr>\n",
       "    <tr>\n",
       "      <th>Songs about alcohol</th>\n",
       "      <td>0.210526</td>\n",
       "      <td>0.235294</td>\n",
       "      <td>0.222222</td>\n",
       "      <td>17.000000</td>\n",
       "    </tr>\n",
       "    <tr>\n",
       "      <th>Songs about friendship</th>\n",
       "      <td>0.214286</td>\n",
       "      <td>0.166667</td>\n",
       "      <td>0.187500</td>\n",
       "      <td>18.000000</td>\n",
       "    </tr>\n",
       "    <tr>\n",
       "      <th>Songs about cheating</th>\n",
       "      <td>0.217391</td>\n",
       "      <td>0.161290</td>\n",
       "      <td>0.185185</td>\n",
       "      <td>31.000000</td>\n",
       "    </tr>\n",
       "    <tr>\n",
       "      <th>Songs with political statements</th>\n",
       "      <td>0.155556</td>\n",
       "      <td>0.194444</td>\n",
       "      <td>0.172840</td>\n",
       "      <td>36.000000</td>\n",
       "    </tr>\n",
       "    <tr>\n",
       "      <th>Songs about being away from loved ones</th>\n",
       "      <td>0.148148</td>\n",
       "      <td>0.200000</td>\n",
       "      <td>0.170213</td>\n",
       "      <td>20.000000</td>\n",
       "    </tr>\n",
       "    <tr>\n",
       "      <th>accuracy</th>\n",
       "      <td>0.169649</td>\n",
       "      <td>0.169649</td>\n",
       "      <td>0.169649</td>\n",
       "      <td>0.169649</td>\n",
       "    </tr>\n",
       "    <tr>\n",
       "      <th>Songs about dealing with fame</th>\n",
       "      <td>0.272727</td>\n",
       "      <td>0.120000</td>\n",
       "      <td>0.166667</td>\n",
       "      <td>25.000000</td>\n",
       "    </tr>\n",
       "    <tr>\n",
       "      <th>weighted avg</th>\n",
       "      <td>0.172433</td>\n",
       "      <td>0.169649</td>\n",
       "      <td>0.163078</td>\n",
       "      <td>1397.000000</td>\n",
       "    </tr>\n",
       "    <tr>\n",
       "      <th>Songs about events in the news</th>\n",
       "      <td>0.172414</td>\n",
       "      <td>0.151515</td>\n",
       "      <td>0.161290</td>\n",
       "      <td>33.000000</td>\n",
       "    </tr>\n",
       "    <tr>\n",
       "      <th>macro avg</th>\n",
       "      <td>0.184386</td>\n",
       "      <td>0.156433</td>\n",
       "      <td>0.158844</td>\n",
       "      <td>1397.000000</td>\n",
       "    </tr>\n",
       "    <tr>\n",
       "      <th>Songs about being young and confused</th>\n",
       "      <td>0.333333</td>\n",
       "      <td>0.100000</td>\n",
       "      <td>0.153846</td>\n",
       "      <td>10.000000</td>\n",
       "    </tr>\n",
       "    <tr>\n",
       "      <th>Songs about getting away</th>\n",
       "      <td>0.153846</td>\n",
       "      <td>0.125000</td>\n",
       "      <td>0.137931</td>\n",
       "      <td>16.000000</td>\n",
       "    </tr>\n",
       "    <tr>\n",
       "      <th>Songs about being there for someone</th>\n",
       "      <td>0.105263</td>\n",
       "      <td>0.153846</td>\n",
       "      <td>0.125000</td>\n",
       "      <td>13.000000</td>\n",
       "    </tr>\n",
       "    <tr>\n",
       "      <th>Songs about finding love</th>\n",
       "      <td>0.120000</td>\n",
       "      <td>0.125000</td>\n",
       "      <td>0.122449</td>\n",
       "      <td>24.000000</td>\n",
       "    </tr>\n",
       "    <tr>\n",
       "      <th>Songs about perseverance</th>\n",
       "      <td>0.120000</td>\n",
       "      <td>0.125000</td>\n",
       "      <td>0.122449</td>\n",
       "      <td>24.000000</td>\n",
       "    </tr>\n",
       "    <tr>\n",
       "      <th>Songs about the dangers of materialism</th>\n",
       "      <td>0.333333</td>\n",
       "      <td>0.071429</td>\n",
       "      <td>0.117647</td>\n",
       "      <td>14.000000</td>\n",
       "    </tr>\n",
       "    <tr>\n",
       "      <th>Songs about dependency or addiction</th>\n",
       "      <td>0.125000</td>\n",
       "      <td>0.111111</td>\n",
       "      <td>0.117647</td>\n",
       "      <td>18.000000</td>\n",
       "    </tr>\n",
       "    <tr>\n",
       "      <th>Songs about death</th>\n",
       "      <td>0.105263</td>\n",
       "      <td>0.129032</td>\n",
       "      <td>0.115942</td>\n",
       "      <td>31.000000</td>\n",
       "    </tr>\n",
       "    <tr>\n",
       "      <th>Songs about confidence or courage</th>\n",
       "      <td>0.166667</td>\n",
       "      <td>0.085714</td>\n",
       "      <td>0.113208</td>\n",
       "      <td>35.000000</td>\n",
       "    </tr>\n",
       "    <tr>\n",
       "      <th>Songs about marital problems or divorce</th>\n",
       "      <td>0.125000</td>\n",
       "      <td>0.100000</td>\n",
       "      <td>0.111111</td>\n",
       "      <td>20.000000</td>\n",
       "    </tr>\n",
       "    <tr>\n",
       "      <th>Songs about change</th>\n",
       "      <td>0.142857</td>\n",
       "      <td>0.090909</td>\n",
       "      <td>0.111111</td>\n",
       "      <td>22.000000</td>\n",
       "    </tr>\n",
       "    <tr>\n",
       "      <th>Songs about specific musicians</th>\n",
       "      <td>0.166667</td>\n",
       "      <td>0.083333</td>\n",
       "      <td>0.111111</td>\n",
       "      <td>24.000000</td>\n",
       "    </tr>\n",
       "    <tr>\n",
       "      <th>Songs written for a son or daughter</th>\n",
       "      <td>0.125000</td>\n",
       "      <td>0.095238</td>\n",
       "      <td>0.108108</td>\n",
       "      <td>21.000000</td>\n",
       "    </tr>\n",
       "    <tr>\n",
       "      <th>Songs about an ex-girlfriend or ex-boyfriend</th>\n",
       "      <td>0.100000</td>\n",
       "      <td>0.113208</td>\n",
       "      <td>0.106195</td>\n",
       "      <td>53.000000</td>\n",
       "    </tr>\n",
       "    <tr>\n",
       "      <th>Songs about historical events</th>\n",
       "      <td>0.100000</td>\n",
       "      <td>0.105263</td>\n",
       "      <td>0.102564</td>\n",
       "      <td>19.000000</td>\n",
       "    </tr>\n",
       "    <tr>\n",
       "      <th>Songs about magic, witchcraft, UFOs or the occult</th>\n",
       "      <td>0.125000</td>\n",
       "      <td>0.083333</td>\n",
       "      <td>0.100000</td>\n",
       "      <td>12.000000</td>\n",
       "    </tr>\n",
       "    <tr>\n",
       "      <th>Songs about depression</th>\n",
       "      <td>0.095238</td>\n",
       "      <td>0.086957</td>\n",
       "      <td>0.090909</td>\n",
       "      <td>23.000000</td>\n",
       "    </tr>\n",
       "    <tr>\n",
       "      <th>Songs about the music industry</th>\n",
       "      <td>0.125000</td>\n",
       "      <td>0.066667</td>\n",
       "      <td>0.086957</td>\n",
       "      <td>15.000000</td>\n",
       "    </tr>\n",
       "    <tr>\n",
       "      <th>Songs that are tributes to friends who died</th>\n",
       "      <td>0.071429</td>\n",
       "      <td>0.078947</td>\n",
       "      <td>0.075000</td>\n",
       "      <td>38.000000</td>\n",
       "    </tr>\n",
       "    <tr>\n",
       "      <th>Songs about a breakup</th>\n",
       "      <td>0.103448</td>\n",
       "      <td>0.057692</td>\n",
       "      <td>0.074074</td>\n",
       "      <td>52.000000</td>\n",
       "    </tr>\n",
       "    <tr>\n",
       "      <th>Songs about racism or discrimination</th>\n",
       "      <td>0.083333</td>\n",
       "      <td>0.062500</td>\n",
       "      <td>0.071429</td>\n",
       "      <td>16.000000</td>\n",
       "    </tr>\n",
       "    <tr>\n",
       "      <th>Songs about unhealthy relationships</th>\n",
       "      <td>0.055556</td>\n",
       "      <td>0.052632</td>\n",
       "      <td>0.054054</td>\n",
       "      <td>19.000000</td>\n",
       "    </tr>\n",
       "    <tr>\n",
       "      <th>Songs about joy and happiness</th>\n",
       "      <td>0.045455</td>\n",
       "      <td>0.062500</td>\n",
       "      <td>0.052632</td>\n",
       "      <td>16.000000</td>\n",
       "    </tr>\n",
       "    <tr>\n",
       "      <th>Songs about individuality</th>\n",
       "      <td>0.055556</td>\n",
       "      <td>0.045455</td>\n",
       "      <td>0.050000</td>\n",
       "      <td>22.000000</td>\n",
       "    </tr>\n",
       "    <tr>\n",
       "      <th>Songs written for a girl</th>\n",
       "      <td>0.038961</td>\n",
       "      <td>0.057692</td>\n",
       "      <td>0.046512</td>\n",
       "      <td>52.000000</td>\n",
       "    </tr>\n",
       "    <tr>\n",
       "      <th>Songs about childhood</th>\n",
       "      <td>0.000000</td>\n",
       "      <td>0.000000</td>\n",
       "      <td>0.000000</td>\n",
       "      <td>13.000000</td>\n",
       "    </tr>\n",
       "    <tr>\n",
       "      <th>Songs about unrequited love</th>\n",
       "      <td>0.000000</td>\n",
       "      <td>0.000000</td>\n",
       "      <td>0.000000</td>\n",
       "      <td>17.000000</td>\n",
       "    </tr>\n",
       "    <tr>\n",
       "      <th>Songs of or about the Northern Soul movement</th>\n",
       "      <td>0.000000</td>\n",
       "      <td>0.000000</td>\n",
       "      <td>0.000000</td>\n",
       "      <td>2.000000</td>\n",
       "    </tr>\n",
       "    <tr>\n",
       "      <th>Songs that are autobiographical</th>\n",
       "      <td>0.000000</td>\n",
       "      <td>0.000000</td>\n",
       "      <td>0.000000</td>\n",
       "      <td>30.000000</td>\n",
       "    </tr>\n",
       "    <tr>\n",
       "      <th>Songs about medical conditions</th>\n",
       "      <td>0.000000</td>\n",
       "      <td>0.000000</td>\n",
       "      <td>0.000000</td>\n",
       "      <td>20.000000</td>\n",
       "    </tr>\n",
       "    <tr>\n",
       "      <th>Songs about getting older</th>\n",
       "      <td>0.000000</td>\n",
       "      <td>0.000000</td>\n",
       "      <td>0.000000</td>\n",
       "      <td>24.000000</td>\n",
       "    </tr>\n",
       "  </tbody>\n",
       "</table>\n",
       "</div>"
      ],
      "text/plain": [
       "                                                   precision    recall  \\\n",
       "Songs about war                                     0.393939  0.464286   \n",
       "Songs about radio stations                          1.000000  0.250000   \n",
       "Songs about people who committed crimes             0.300000  0.333333   \n",
       "Songs about a mother or father                      0.275000  0.366667   \n",
       "Songs about sex                                     0.250000  0.386364   \n",
       "Songs about the environment                         0.375000  0.250000   \n",
       "Songs about loneliness or isolation                 0.314286  0.268293   \n",
       "Songs about computers or technology                 0.333333  0.250000   \n",
       "Songs about being free                              0.277778  0.294118   \n",
       "Songs about traveling                               0.333333  0.250000   \n",
       "Songs about places                                  0.250000  0.300000   \n",
       "Songs about clubbing or a night out                 0.227273  0.312500   \n",
       "Songs about political figures                       0.357143  0.200000   \n",
       "Songs about heartache                               0.188406  0.325000   \n",
       "Songs about spirituality or religion                0.188406  0.309524   \n",
       "Songs about music                                   0.192308  0.277778   \n",
       "Songs about desire or longing                       0.357143  0.166667   \n",
       "Songs about drugs                                   0.200000  0.258065   \n",
       "Songs about alcohol                                 0.210526  0.235294   \n",
       "Songs about friendship                              0.214286  0.166667   \n",
       "Songs about cheating                                0.217391  0.161290   \n",
       "Songs with political statements                     0.155556  0.194444   \n",
       "Songs about being away from loved ones              0.148148  0.200000   \n",
       "accuracy                                            0.169649  0.169649   \n",
       "Songs about dealing with fame                       0.272727  0.120000   \n",
       "weighted avg                                        0.172433  0.169649   \n",
       "Songs about events in the news                      0.172414  0.151515   \n",
       "macro avg                                           0.184386  0.156433   \n",
       "Songs about being young and confused                0.333333  0.100000   \n",
       "Songs about getting away                            0.153846  0.125000   \n",
       "Songs about being there for someone                 0.105263  0.153846   \n",
       "Songs about finding love                            0.120000  0.125000   \n",
       "Songs about perseverance                            0.120000  0.125000   \n",
       "Songs about the dangers of materialism              0.333333  0.071429   \n",
       "Songs about dependency or addiction                 0.125000  0.111111   \n",
       "Songs about death                                   0.105263  0.129032   \n",
       "Songs about confidence or courage                   0.166667  0.085714   \n",
       "Songs about marital problems or divorce             0.125000  0.100000   \n",
       "Songs about change                                  0.142857  0.090909   \n",
       "Songs about specific musicians                      0.166667  0.083333   \n",
       "Songs written for a son or daughter                 0.125000  0.095238   \n",
       "Songs about an ex-girlfriend or ex-boyfriend        0.100000  0.113208   \n",
       "Songs about historical events                       0.100000  0.105263   \n",
       "Songs about magic, witchcraft, UFOs or the occult   0.125000  0.083333   \n",
       "Songs about depression                              0.095238  0.086957   \n",
       "Songs about the music industry                      0.125000  0.066667   \n",
       "Songs that are tributes to friends who died         0.071429  0.078947   \n",
       "Songs about a breakup                               0.103448  0.057692   \n",
       "Songs about racism or discrimination                0.083333  0.062500   \n",
       "Songs about unhealthy relationships                 0.055556  0.052632   \n",
       "Songs about joy and happiness                       0.045455  0.062500   \n",
       "Songs about individuality                           0.055556  0.045455   \n",
       "Songs written for a girl                            0.038961  0.057692   \n",
       "Songs about childhood                               0.000000  0.000000   \n",
       "Songs about unrequited love                         0.000000  0.000000   \n",
       "Songs of or about the Northern Soul movement        0.000000  0.000000   \n",
       "Songs that are autobiographical                     0.000000  0.000000   \n",
       "Songs about medical conditions                      0.000000  0.000000   \n",
       "Songs about getting older                           0.000000  0.000000   \n",
       "\n",
       "                                                   f1-score      support  \n",
       "Songs about war                                    0.426230    28.000000  \n",
       "Songs about radio stations                         0.400000     4.000000  \n",
       "Songs about people who committed crimes            0.315789    18.000000  \n",
       "Songs about a mother or father                     0.314286    30.000000  \n",
       "Songs about sex                                    0.303571    44.000000  \n",
       "Songs about the environment                        0.300000    12.000000  \n",
       "Songs about loneliness or isolation                0.289474    41.000000  \n",
       "Songs about computers or technology                0.285714    12.000000  \n",
       "Songs about being free                             0.285714    17.000000  \n",
       "Songs about traveling                              0.285714    24.000000  \n",
       "Songs about places                                 0.272727    30.000000  \n",
       "Songs about clubbing or a night out                0.263158    16.000000  \n",
       "Songs about political figures                      0.256410    25.000000  \n",
       "Songs about heartache                              0.238532    80.000000  \n",
       "Songs about spirituality or religion               0.234234    42.000000  \n",
       "Songs about music                                  0.227273    18.000000  \n",
       "Songs about desire or longing                      0.227273    30.000000  \n",
       "Songs about drugs                                  0.225352    31.000000  \n",
       "Songs about alcohol                                0.222222    17.000000  \n",
       "Songs about friendship                             0.187500    18.000000  \n",
       "Songs about cheating                               0.185185    31.000000  \n",
       "Songs with political statements                    0.172840    36.000000  \n",
       "Songs about being away from loved ones             0.170213    20.000000  \n",
       "accuracy                                           0.169649     0.169649  \n",
       "Songs about dealing with fame                      0.166667    25.000000  \n",
       "weighted avg                                       0.163078  1397.000000  \n",
       "Songs about events in the news                     0.161290    33.000000  \n",
       "macro avg                                          0.158844  1397.000000  \n",
       "Songs about being young and confused               0.153846    10.000000  \n",
       "Songs about getting away                           0.137931    16.000000  \n",
       "Songs about being there for someone                0.125000    13.000000  \n",
       "Songs about finding love                           0.122449    24.000000  \n",
       "Songs about perseverance                           0.122449    24.000000  \n",
       "Songs about the dangers of materialism             0.117647    14.000000  \n",
       "Songs about dependency or addiction                0.117647    18.000000  \n",
       "Songs about death                                  0.115942    31.000000  \n",
       "Songs about confidence or courage                  0.113208    35.000000  \n",
       "Songs about marital problems or divorce            0.111111    20.000000  \n",
       "Songs about change                                 0.111111    22.000000  \n",
       "Songs about specific musicians                     0.111111    24.000000  \n",
       "Songs written for a son or daughter                0.108108    21.000000  \n",
       "Songs about an ex-girlfriend or ex-boyfriend       0.106195    53.000000  \n",
       "Songs about historical events                      0.102564    19.000000  \n",
       "Songs about magic, witchcraft, UFOs or the occult  0.100000    12.000000  \n",
       "Songs about depression                             0.090909    23.000000  \n",
       "Songs about the music industry                     0.086957    15.000000  \n",
       "Songs that are tributes to friends who died        0.075000    38.000000  \n",
       "Songs about a breakup                              0.074074    52.000000  \n",
       "Songs about racism or discrimination               0.071429    16.000000  \n",
       "Songs about unhealthy relationships                0.054054    19.000000  \n",
       "Songs about joy and happiness                      0.052632    16.000000  \n",
       "Songs about individuality                          0.050000    22.000000  \n",
       "Songs written for a girl                           0.046512    52.000000  \n",
       "Songs about childhood                              0.000000    13.000000  \n",
       "Songs about unrequited love                        0.000000    17.000000  \n",
       "Songs of or about the Northern Soul movement       0.000000     2.000000  \n",
       "Songs that are autobiographical                    0.000000    30.000000  \n",
       "Songs about medical conditions                     0.000000    20.000000  \n",
       "Songs about getting older                          0.000000    24.000000  "
      ]
     },
     "execution_count": 25,
     "metadata": {},
     "output_type": "execute_result"
    }
   ],
   "source": [
    "classification_report_df_LR = pd.DataFrame(classification_report([id_to_topic[i] for i in y_test], \n",
    "                                                              [id_to_topic[i] for i in pred_test_lr], \n",
    "                                                              output_dict=True)).transpose()\n",
    "classification_report_df_LR.sort_values('f1-score', ascending=False)"
   ]
  },
  {
   "cell_type": "code",
   "execution_count": 26,
   "metadata": {},
   "outputs": [
    {
     "data": {
      "text/html": [
       "<div>\n",
       "<style scoped>\n",
       "    .dataframe tbody tr th:only-of-type {\n",
       "        vertical-align: middle;\n",
       "    }\n",
       "\n",
       "    .dataframe tbody tr th {\n",
       "        vertical-align: top;\n",
       "    }\n",
       "\n",
       "    .dataframe thead th {\n",
       "        text-align: right;\n",
       "    }\n",
       "</style>\n",
       "<table border=\"1\" class=\"dataframe\">\n",
       "  <thead>\n",
       "    <tr style=\"text-align: right;\">\n",
       "      <th></th>\n",
       "      <th>precision</th>\n",
       "      <th>recall</th>\n",
       "      <th>f1-score</th>\n",
       "      <th>support</th>\n",
       "    </tr>\n",
       "  </thead>\n",
       "  <tbody>\n",
       "    <tr>\n",
       "      <th>Songs about war</th>\n",
       "      <td>0.526814</td>\n",
       "      <td>0.625468</td>\n",
       "      <td>0.571918</td>\n",
       "      <td>267.000000</td>\n",
       "    </tr>\n",
       "    <tr>\n",
       "      <th>Songs about sex</th>\n",
       "      <td>0.409669</td>\n",
       "      <td>0.723596</td>\n",
       "      <td>0.523152</td>\n",
       "      <td>445.000000</td>\n",
       "    </tr>\n",
       "    <tr>\n",
       "      <th>Songs about alcohol</th>\n",
       "      <td>0.504425</td>\n",
       "      <td>0.518182</td>\n",
       "      <td>0.511211</td>\n",
       "      <td>220.000000</td>\n",
       "    </tr>\n",
       "    <tr>\n",
       "      <th>Songs about clubbing or a night out</th>\n",
       "      <td>0.470149</td>\n",
       "      <td>0.555066</td>\n",
       "      <td>0.509091</td>\n",
       "      <td>227.000000</td>\n",
       "    </tr>\n",
       "    <tr>\n",
       "      <th>Songs about radio stations</th>\n",
       "      <td>0.619048</td>\n",
       "      <td>0.419355</td>\n",
       "      <td>0.500000</td>\n",
       "      <td>31.000000</td>\n",
       "    </tr>\n",
       "    <tr>\n",
       "      <th>Songs of or about the Northern Soul movement</th>\n",
       "      <td>1.000000</td>\n",
       "      <td>0.333333</td>\n",
       "      <td>0.500000</td>\n",
       "      <td>3.000000</td>\n",
       "    </tr>\n",
       "    <tr>\n",
       "      <th>Songs about music</th>\n",
       "      <td>0.484305</td>\n",
       "      <td>0.507042</td>\n",
       "      <td>0.495413</td>\n",
       "      <td>213.000000</td>\n",
       "    </tr>\n",
       "    <tr>\n",
       "      <th>Songs about spirituality or religion</th>\n",
       "      <td>0.394970</td>\n",
       "      <td>0.615207</td>\n",
       "      <td>0.481081</td>\n",
       "      <td>434.000000</td>\n",
       "    </tr>\n",
       "    <tr>\n",
       "      <th>Songs about cheating</th>\n",
       "      <td>0.493392</td>\n",
       "      <td>0.457143</td>\n",
       "      <td>0.474576</td>\n",
       "      <td>245.000000</td>\n",
       "    </tr>\n",
       "    <tr>\n",
       "      <th>Songs about joy and happiness</th>\n",
       "      <td>0.462766</td>\n",
       "      <td>0.478022</td>\n",
       "      <td>0.470270</td>\n",
       "      <td>182.000000</td>\n",
       "    </tr>\n",
       "    <tr>\n",
       "      <th>Songs about loneliness or isolation</th>\n",
       "      <td>0.448276</td>\n",
       "      <td>0.448276</td>\n",
       "      <td>0.448276</td>\n",
       "      <td>261.000000</td>\n",
       "    </tr>\n",
       "    <tr>\n",
       "      <th>Songs about heartache</th>\n",
       "      <td>0.351082</td>\n",
       "      <td>0.612482</td>\n",
       "      <td>0.446325</td>\n",
       "      <td>689.000000</td>\n",
       "    </tr>\n",
       "    <tr>\n",
       "      <th>Songs about people who committed crimes</th>\n",
       "      <td>0.492754</td>\n",
       "      <td>0.407186</td>\n",
       "      <td>0.445902</td>\n",
       "      <td>167.000000</td>\n",
       "    </tr>\n",
       "    <tr>\n",
       "      <th>Songs about drugs</th>\n",
       "      <td>0.409207</td>\n",
       "      <td>0.484848</td>\n",
       "      <td>0.443828</td>\n",
       "      <td>330.000000</td>\n",
       "    </tr>\n",
       "    <tr>\n",
       "      <th>Songs about being free</th>\n",
       "      <td>0.495575</td>\n",
       "      <td>0.388889</td>\n",
       "      <td>0.435798</td>\n",
       "      <td>144.000000</td>\n",
       "    </tr>\n",
       "    <tr>\n",
       "      <th>Songs about perseverance</th>\n",
       "      <td>0.483660</td>\n",
       "      <td>0.373737</td>\n",
       "      <td>0.421652</td>\n",
       "      <td>198.000000</td>\n",
       "    </tr>\n",
       "    <tr>\n",
       "      <th>Songs about dealing with fame</th>\n",
       "      <td>0.462366</td>\n",
       "      <td>0.383929</td>\n",
       "      <td>0.419512</td>\n",
       "      <td>224.000000</td>\n",
       "    </tr>\n",
       "    <tr>\n",
       "      <th>Songs about places</th>\n",
       "      <td>0.376147</td>\n",
       "      <td>0.452206</td>\n",
       "      <td>0.410684</td>\n",
       "      <td>272.000000</td>\n",
       "    </tr>\n",
       "    <tr>\n",
       "      <th>Songs about change</th>\n",
       "      <td>0.477941</td>\n",
       "      <td>0.359116</td>\n",
       "      <td>0.410095</td>\n",
       "      <td>181.000000</td>\n",
       "    </tr>\n",
       "    <tr>\n",
       "      <th>Songs about an ex-girlfriend or ex-boyfriend</th>\n",
       "      <td>0.366224</td>\n",
       "      <td>0.459524</td>\n",
       "      <td>0.407603</td>\n",
       "      <td>420.000000</td>\n",
       "    </tr>\n",
       "    <tr>\n",
       "      <th>Songs with political statements</th>\n",
       "      <td>0.365439</td>\n",
       "      <td>0.457447</td>\n",
       "      <td>0.406299</td>\n",
       "      <td>282.000000</td>\n",
       "    </tr>\n",
       "    <tr>\n",
       "      <th>accuracy</th>\n",
       "      <td>0.404965</td>\n",
       "      <td>0.404965</td>\n",
       "      <td>0.404965</td>\n",
       "      <td>0.404965</td>\n",
       "    </tr>\n",
       "    <tr>\n",
       "      <th>Songs written for a son or daughter</th>\n",
       "      <td>0.472603</td>\n",
       "      <td>0.353846</td>\n",
       "      <td>0.404692</td>\n",
       "      <td>195.000000</td>\n",
       "    </tr>\n",
       "    <tr>\n",
       "      <th>Songs about friendship</th>\n",
       "      <td>0.504202</td>\n",
       "      <td>0.327869</td>\n",
       "      <td>0.397351</td>\n",
       "      <td>183.000000</td>\n",
       "    </tr>\n",
       "    <tr>\n",
       "      <th>weighted avg</th>\n",
       "      <td>0.414439</td>\n",
       "      <td>0.404965</td>\n",
       "      <td>0.396552</td>\n",
       "      <td>12569.000000</td>\n",
       "    </tr>\n",
       "    <tr>\n",
       "      <th>Songs about being away from loved ones</th>\n",
       "      <td>0.391667</td>\n",
       "      <td>0.398305</td>\n",
       "      <td>0.394958</td>\n",
       "      <td>236.000000</td>\n",
       "    </tr>\n",
       "    <tr>\n",
       "      <th>Songs about traveling</th>\n",
       "      <td>0.405594</td>\n",
       "      <td>0.381579</td>\n",
       "      <td>0.393220</td>\n",
       "      <td>152.000000</td>\n",
       "    </tr>\n",
       "    <tr>\n",
       "      <th>Songs about racism or discrimination</th>\n",
       "      <td>0.468085</td>\n",
       "      <td>0.338462</td>\n",
       "      <td>0.392857</td>\n",
       "      <td>130.000000</td>\n",
       "    </tr>\n",
       "    <tr>\n",
       "      <th>Songs about finding love</th>\n",
       "      <td>0.428571</td>\n",
       "      <td>0.357447</td>\n",
       "      <td>0.389791</td>\n",
       "      <td>235.000000</td>\n",
       "    </tr>\n",
       "    <tr>\n",
       "      <th>Songs about historical events</th>\n",
       "      <td>0.398844</td>\n",
       "      <td>0.379121</td>\n",
       "      <td>0.388732</td>\n",
       "      <td>182.000000</td>\n",
       "    </tr>\n",
       "    <tr>\n",
       "      <th>macro avg</th>\n",
       "      <td>0.441425</td>\n",
       "      <td>0.369676</td>\n",
       "      <td>0.388406</td>\n",
       "      <td>12569.000000</td>\n",
       "    </tr>\n",
       "    <tr>\n",
       "      <th>Songs about a mother or father</th>\n",
       "      <td>0.363868</td>\n",
       "      <td>0.402817</td>\n",
       "      <td>0.382353</td>\n",
       "      <td>355.000000</td>\n",
       "    </tr>\n",
       "    <tr>\n",
       "      <th>Songs about confidence or courage</th>\n",
       "      <td>0.431953</td>\n",
       "      <td>0.341121</td>\n",
       "      <td>0.381201</td>\n",
       "      <td>214.000000</td>\n",
       "    </tr>\n",
       "    <tr>\n",
       "      <th>Songs that are tributes to friends who died</th>\n",
       "      <td>0.364431</td>\n",
       "      <td>0.396825</td>\n",
       "      <td>0.379939</td>\n",
       "      <td>315.000000</td>\n",
       "    </tr>\n",
       "    <tr>\n",
       "      <th>Songs about getting older</th>\n",
       "      <td>0.416149</td>\n",
       "      <td>0.348958</td>\n",
       "      <td>0.379603</td>\n",
       "      <td>192.000000</td>\n",
       "    </tr>\n",
       "    <tr>\n",
       "      <th>Songs about death</th>\n",
       "      <td>0.340483</td>\n",
       "      <td>0.423333</td>\n",
       "      <td>0.377415</td>\n",
       "      <td>300.000000</td>\n",
       "    </tr>\n",
       "    <tr>\n",
       "      <th>Songs written for a girl</th>\n",
       "      <td>0.324675</td>\n",
       "      <td>0.434783</td>\n",
       "      <td>0.371747</td>\n",
       "      <td>460.000000</td>\n",
       "    </tr>\n",
       "    <tr>\n",
       "      <th>Songs about childhood</th>\n",
       "      <td>0.532468</td>\n",
       "      <td>0.280822</td>\n",
       "      <td>0.367713</td>\n",
       "      <td>146.000000</td>\n",
       "    </tr>\n",
       "    <tr>\n",
       "      <th>Songs about computers or technology</th>\n",
       "      <td>0.442105</td>\n",
       "      <td>0.311111</td>\n",
       "      <td>0.365217</td>\n",
       "      <td>135.000000</td>\n",
       "    </tr>\n",
       "    <tr>\n",
       "      <th>Songs about being there for someone</th>\n",
       "      <td>0.373684</td>\n",
       "      <td>0.342995</td>\n",
       "      <td>0.357683</td>\n",
       "      <td>207.000000</td>\n",
       "    </tr>\n",
       "    <tr>\n",
       "      <th>Songs about getting away</th>\n",
       "      <td>0.371795</td>\n",
       "      <td>0.343195</td>\n",
       "      <td>0.356923</td>\n",
       "      <td>169.000000</td>\n",
       "    </tr>\n",
       "    <tr>\n",
       "      <th>Songs about unhealthy relationships</th>\n",
       "      <td>0.401408</td>\n",
       "      <td>0.313187</td>\n",
       "      <td>0.351852</td>\n",
       "      <td>182.000000</td>\n",
       "    </tr>\n",
       "    <tr>\n",
       "      <th>Songs about depression</th>\n",
       "      <td>0.385787</td>\n",
       "      <td>0.323404</td>\n",
       "      <td>0.351852</td>\n",
       "      <td>235.000000</td>\n",
       "    </tr>\n",
       "    <tr>\n",
       "      <th>Songs about specific musicians</th>\n",
       "      <td>0.485437</td>\n",
       "      <td>0.271739</td>\n",
       "      <td>0.348432</td>\n",
       "      <td>184.000000</td>\n",
       "    </tr>\n",
       "    <tr>\n",
       "      <th>Songs about desire or longing</th>\n",
       "      <td>0.435115</td>\n",
       "      <td>0.268868</td>\n",
       "      <td>0.332362</td>\n",
       "      <td>212.000000</td>\n",
       "    </tr>\n",
       "    <tr>\n",
       "      <th>Songs about dependency or addiction</th>\n",
       "      <td>0.421569</td>\n",
       "      <td>0.270440</td>\n",
       "      <td>0.329502</td>\n",
       "      <td>159.000000</td>\n",
       "    </tr>\n",
       "    <tr>\n",
       "      <th>Songs about events in the news</th>\n",
       "      <td>0.343096</td>\n",
       "      <td>0.308271</td>\n",
       "      <td>0.324752</td>\n",
       "      <td>266.000000</td>\n",
       "    </tr>\n",
       "    <tr>\n",
       "      <th>Songs about marital problems or divorce</th>\n",
       "      <td>0.446154</td>\n",
       "      <td>0.254386</td>\n",
       "      <td>0.324022</td>\n",
       "      <td>228.000000</td>\n",
       "    </tr>\n",
       "    <tr>\n",
       "      <th>Songs about magic, witchcraft, UFOs or the occult</th>\n",
       "      <td>0.560976</td>\n",
       "      <td>0.227723</td>\n",
       "      <td>0.323944</td>\n",
       "      <td>101.000000</td>\n",
       "    </tr>\n",
       "    <tr>\n",
       "      <th>Songs about the environment</th>\n",
       "      <td>0.395349</td>\n",
       "      <td>0.269841</td>\n",
       "      <td>0.320755</td>\n",
       "      <td>126.000000</td>\n",
       "    </tr>\n",
       "    <tr>\n",
       "      <th>Songs about a breakup</th>\n",
       "      <td>0.336601</td>\n",
       "      <td>0.299419</td>\n",
       "      <td>0.316923</td>\n",
       "      <td>344.000000</td>\n",
       "    </tr>\n",
       "    <tr>\n",
       "      <th>Songs about the music industry</th>\n",
       "      <td>0.491228</td>\n",
       "      <td>0.227642</td>\n",
       "      <td>0.311111</td>\n",
       "      <td>123.000000</td>\n",
       "    </tr>\n",
       "    <tr>\n",
       "      <th>Songs about the dangers of materialism</th>\n",
       "      <td>0.407407</td>\n",
       "      <td>0.234043</td>\n",
       "      <td>0.297297</td>\n",
       "      <td>94.000000</td>\n",
       "    </tr>\n",
       "    <tr>\n",
       "      <th>Songs about individuality</th>\n",
       "      <td>0.425287</td>\n",
       "      <td>0.220238</td>\n",
       "      <td>0.290196</td>\n",
       "      <td>168.000000</td>\n",
       "    </tr>\n",
       "    <tr>\n",
       "      <th>Songs about political figures</th>\n",
       "      <td>0.449275</td>\n",
       "      <td>0.203947</td>\n",
       "      <td>0.280543</td>\n",
       "      <td>152.000000</td>\n",
       "    </tr>\n",
       "    <tr>\n",
       "      <th>Songs about unrequited love</th>\n",
       "      <td>0.428571</td>\n",
       "      <td>0.208092</td>\n",
       "      <td>0.280156</td>\n",
       "      <td>173.000000</td>\n",
       "    </tr>\n",
       "    <tr>\n",
       "      <th>Songs about medical conditions</th>\n",
       "      <td>0.387755</td>\n",
       "      <td>0.203209</td>\n",
       "      <td>0.266667</td>\n",
       "      <td>187.000000</td>\n",
       "    </tr>\n",
       "    <tr>\n",
       "      <th>Songs that are autobiographical</th>\n",
       "      <td>0.306931</td>\n",
       "      <td>0.229630</td>\n",
       "      <td>0.262712</td>\n",
       "      <td>270.000000</td>\n",
       "    </tr>\n",
       "    <tr>\n",
       "      <th>Songs about being young and confused</th>\n",
       "      <td>0.486486</td>\n",
       "      <td>0.145161</td>\n",
       "      <td>0.223602</td>\n",
       "      <td>124.000000</td>\n",
       "    </tr>\n",
       "  </tbody>\n",
       "</table>\n",
       "</div>"
      ],
      "text/plain": [
       "                                                   precision    recall  \\\n",
       "Songs about war                                     0.526814  0.625468   \n",
       "Songs about sex                                     0.409669  0.723596   \n",
       "Songs about alcohol                                 0.504425  0.518182   \n",
       "Songs about clubbing or a night out                 0.470149  0.555066   \n",
       "Songs about radio stations                          0.619048  0.419355   \n",
       "Songs of or about the Northern Soul movement        1.000000  0.333333   \n",
       "Songs about music                                   0.484305  0.507042   \n",
       "Songs about spirituality or religion                0.394970  0.615207   \n",
       "Songs about cheating                                0.493392  0.457143   \n",
       "Songs about joy and happiness                       0.462766  0.478022   \n",
       "Songs about loneliness or isolation                 0.448276  0.448276   \n",
       "Songs about heartache                               0.351082  0.612482   \n",
       "Songs about people who committed crimes             0.492754  0.407186   \n",
       "Songs about drugs                                   0.409207  0.484848   \n",
       "Songs about being free                              0.495575  0.388889   \n",
       "Songs about perseverance                            0.483660  0.373737   \n",
       "Songs about dealing with fame                       0.462366  0.383929   \n",
       "Songs about places                                  0.376147  0.452206   \n",
       "Songs about change                                  0.477941  0.359116   \n",
       "Songs about an ex-girlfriend or ex-boyfriend        0.366224  0.459524   \n",
       "Songs with political statements                     0.365439  0.457447   \n",
       "accuracy                                            0.404965  0.404965   \n",
       "Songs written for a son or daughter                 0.472603  0.353846   \n",
       "Songs about friendship                              0.504202  0.327869   \n",
       "weighted avg                                        0.414439  0.404965   \n",
       "Songs about being away from loved ones              0.391667  0.398305   \n",
       "Songs about traveling                               0.405594  0.381579   \n",
       "Songs about racism or discrimination                0.468085  0.338462   \n",
       "Songs about finding love                            0.428571  0.357447   \n",
       "Songs about historical events                       0.398844  0.379121   \n",
       "macro avg                                           0.441425  0.369676   \n",
       "Songs about a mother or father                      0.363868  0.402817   \n",
       "Songs about confidence or courage                   0.431953  0.341121   \n",
       "Songs that are tributes to friends who died         0.364431  0.396825   \n",
       "Songs about getting older                           0.416149  0.348958   \n",
       "Songs about death                                   0.340483  0.423333   \n",
       "Songs written for a girl                            0.324675  0.434783   \n",
       "Songs about childhood                               0.532468  0.280822   \n",
       "Songs about computers or technology                 0.442105  0.311111   \n",
       "Songs about being there for someone                 0.373684  0.342995   \n",
       "Songs about getting away                            0.371795  0.343195   \n",
       "Songs about unhealthy relationships                 0.401408  0.313187   \n",
       "Songs about depression                              0.385787  0.323404   \n",
       "Songs about specific musicians                      0.485437  0.271739   \n",
       "Songs about desire or longing                       0.435115  0.268868   \n",
       "Songs about dependency or addiction                 0.421569  0.270440   \n",
       "Songs about events in the news                      0.343096  0.308271   \n",
       "Songs about marital problems or divorce             0.446154  0.254386   \n",
       "Songs about magic, witchcraft, UFOs or the occult   0.560976  0.227723   \n",
       "Songs about the environment                         0.395349  0.269841   \n",
       "Songs about a breakup                               0.336601  0.299419   \n",
       "Songs about the music industry                      0.491228  0.227642   \n",
       "Songs about the dangers of materialism              0.407407  0.234043   \n",
       "Songs about individuality                           0.425287  0.220238   \n",
       "Songs about political figures                       0.449275  0.203947   \n",
       "Songs about unrequited love                         0.428571  0.208092   \n",
       "Songs about medical conditions                      0.387755  0.203209   \n",
       "Songs that are autobiographical                     0.306931  0.229630   \n",
       "Songs about being young and confused                0.486486  0.145161   \n",
       "\n",
       "                                                   f1-score       support  \n",
       "Songs about war                                    0.571918    267.000000  \n",
       "Songs about sex                                    0.523152    445.000000  \n",
       "Songs about alcohol                                0.511211    220.000000  \n",
       "Songs about clubbing or a night out                0.509091    227.000000  \n",
       "Songs about radio stations                         0.500000     31.000000  \n",
       "Songs of or about the Northern Soul movement       0.500000      3.000000  \n",
       "Songs about music                                  0.495413    213.000000  \n",
       "Songs about spirituality or religion               0.481081    434.000000  \n",
       "Songs about cheating                               0.474576    245.000000  \n",
       "Songs about joy and happiness                      0.470270    182.000000  \n",
       "Songs about loneliness or isolation                0.448276    261.000000  \n",
       "Songs about heartache                              0.446325    689.000000  \n",
       "Songs about people who committed crimes            0.445902    167.000000  \n",
       "Songs about drugs                                  0.443828    330.000000  \n",
       "Songs about being free                             0.435798    144.000000  \n",
       "Songs about perseverance                           0.421652    198.000000  \n",
       "Songs about dealing with fame                      0.419512    224.000000  \n",
       "Songs about places                                 0.410684    272.000000  \n",
       "Songs about change                                 0.410095    181.000000  \n",
       "Songs about an ex-girlfriend or ex-boyfriend       0.407603    420.000000  \n",
       "Songs with political statements                    0.406299    282.000000  \n",
       "accuracy                                           0.404965      0.404965  \n",
       "Songs written for a son or daughter                0.404692    195.000000  \n",
       "Songs about friendship                             0.397351    183.000000  \n",
       "weighted avg                                       0.396552  12569.000000  \n",
       "Songs about being away from loved ones             0.394958    236.000000  \n",
       "Songs about traveling                              0.393220    152.000000  \n",
       "Songs about racism or discrimination               0.392857    130.000000  \n",
       "Songs about finding love                           0.389791    235.000000  \n",
       "Songs about historical events                      0.388732    182.000000  \n",
       "macro avg                                          0.388406  12569.000000  \n",
       "Songs about a mother or father                     0.382353    355.000000  \n",
       "Songs about confidence or courage                  0.381201    214.000000  \n",
       "Songs that are tributes to friends who died        0.379939    315.000000  \n",
       "Songs about getting older                          0.379603    192.000000  \n",
       "Songs about death                                  0.377415    300.000000  \n",
       "Songs written for a girl                           0.371747    460.000000  \n",
       "Songs about childhood                              0.367713    146.000000  \n",
       "Songs about computers or technology                0.365217    135.000000  \n",
       "Songs about being there for someone                0.357683    207.000000  \n",
       "Songs about getting away                           0.356923    169.000000  \n",
       "Songs about unhealthy relationships                0.351852    182.000000  \n",
       "Songs about depression                             0.351852    235.000000  \n",
       "Songs about specific musicians                     0.348432    184.000000  \n",
       "Songs about desire or longing                      0.332362    212.000000  \n",
       "Songs about dependency or addiction                0.329502    159.000000  \n",
       "Songs about events in the news                     0.324752    266.000000  \n",
       "Songs about marital problems or divorce            0.324022    228.000000  \n",
       "Songs about magic, witchcraft, UFOs or the occult  0.323944    101.000000  \n",
       "Songs about the environment                        0.320755    126.000000  \n",
       "Songs about a breakup                              0.316923    344.000000  \n",
       "Songs about the music industry                     0.311111    123.000000  \n",
       "Songs about the dangers of materialism             0.297297     94.000000  \n",
       "Songs about individuality                          0.290196    168.000000  \n",
       "Songs about political figures                      0.280543    152.000000  \n",
       "Songs about unrequited love                        0.280156    173.000000  \n",
       "Songs about medical conditions                     0.266667    187.000000  \n",
       "Songs that are autobiographical                    0.262712    270.000000  \n",
       "Songs about being young and confused               0.223602    124.000000  "
      ]
     },
     "execution_count": 26,
     "metadata": {},
     "output_type": "execute_result"
    }
   ],
   "source": [
    "classification_report_df_LR_train = pd.DataFrame(classification_report([id_to_topic[i] for i in y_train], \n",
    "                                                              [id_to_topic[i] for i in pred_train_lr], \n",
    "                                                              output_dict=True)).transpose()\n",
    "classification_report_df_LR_train.sort_values('f1-score', ascending=False)"
   ]
  },
  {
   "attachments": {},
   "cell_type": "markdown",
   "metadata": {},
   "source": [
    "Random Forest"
   ]
  },
  {
   "cell_type": "code",
   "execution_count": 61,
   "metadata": {},
   "outputs": [
    {
     "name": "stdout",
     "output_type": "stream",
     "text": [
      "Macro F1 Train =  0.114313711135448\n",
      "Macro F1 Test =  0.04615604918986825\n"
     ]
    }
   ],
   "source": [
    "model = rf_modeldefault\n",
    "scoring = 'f1_macro'\n",
    "results = []\n",
    "kfold = KFold(n_splits=5, shuffle=True, random_state=seed)\n",
    "cv_results = cross_validate(model, X_train, y_train, cv=kfold, scoring=scoring, return_train_score=True)\n",
    "clf = model.fit(X_train, y_train)\n",
    "y_pred = clf.predict(X_test)\n",
    "print(\"Macro F1 Train = \", cv_results['train_score'].mean()) \n",
    "print(\"Macro F1 Test = \", cv_results['test_score'].mean()) "
   ]
  },
  {
   "cell_type": "code",
   "execution_count": 39,
   "metadata": {},
   "outputs": [
    {
     "name": "stdout",
     "output_type": "stream",
     "text": [
      "Fitting 5 folds for each of 100 candidates, totalling 500 fits\n",
      "[CV 1/5; 1/100] START max_depth=90, max_features=auto, min_samples_leaf=4, min_samples_split=10, n_estimators=600\n"
     ]
    },
    {
     "name": "stderr",
     "output_type": "stream",
     "text": [
      "/Users/julianadaikawa/Documents/MBA/TCC/mba/lib/python3.10/site-packages/sklearn/model_selection/_split.py:700: UserWarning: The least populated class in y has only 3 members, which is less than n_splits=5.\n",
      "/Users/julianadaikawa/Documents/MBA/TCC/mba/lib/python3.10/site-packages/sklearn/ensemble/_forest.py:424: FutureWarning: `max_features='auto'` has been deprecated in 1.1 and will be removed in 1.3. To keep the past behaviour, explicitly set `max_features='sqrt'` or remove this parameter as it is also the default value for RandomForestClassifiers and ExtraTreesClassifiers.\n"
     ]
    },
    {
     "name": "stdout",
     "output_type": "stream",
     "text": [
      "[CV 1/5; 1/100] END max_depth=90, max_features=auto, min_samples_leaf=4, min_samples_split=10, n_estimators=600;, score=(train=0.892, test=0.080) total time=  51.8s\n",
      "[CV 2/5; 1/100] START max_depth=90, max_features=auto, min_samples_leaf=4, min_samples_split=10, n_estimators=600\n"
     ]
    },
    {
     "name": "stderr",
     "output_type": "stream",
     "text": [
      "/Users/julianadaikawa/Documents/MBA/TCC/mba/lib/python3.10/site-packages/sklearn/ensemble/_forest.py:424: FutureWarning: `max_features='auto'` has been deprecated in 1.1 and will be removed in 1.3. To keep the past behaviour, explicitly set `max_features='sqrt'` or remove this parameter as it is also the default value for RandomForestClassifiers and ExtraTreesClassifiers.\n"
     ]
    },
    {
     "name": "stdout",
     "output_type": "stream",
     "text": [
      "[CV 2/5; 1/100] END max_depth=90, max_features=auto, min_samples_leaf=4, min_samples_split=10, n_estimators=600;, score=(train=0.891, test=0.087) total time=  51.9s\n",
      "[CV 3/5; 1/100] START max_depth=90, max_features=auto, min_samples_leaf=4, min_samples_split=10, n_estimators=600\n"
     ]
    },
    {
     "name": "stderr",
     "output_type": "stream",
     "text": [
      "/Users/julianadaikawa/Documents/MBA/TCC/mba/lib/python3.10/site-packages/sklearn/ensemble/_forest.py:424: FutureWarning: `max_features='auto'` has been deprecated in 1.1 and will be removed in 1.3. To keep the past behaviour, explicitly set `max_features='sqrt'` or remove this parameter as it is also the default value for RandomForestClassifiers and ExtraTreesClassifiers.\n"
     ]
    },
    {
     "name": "stdout",
     "output_type": "stream",
     "text": [
      "[CV 3/5; 1/100] END max_depth=90, max_features=auto, min_samples_leaf=4, min_samples_split=10, n_estimators=600;, score=(train=0.892, test=0.082) total time=  51.1s\n",
      "[CV 4/5; 1/100] START max_depth=90, max_features=auto, min_samples_leaf=4, min_samples_split=10, n_estimators=600\n"
     ]
    },
    {
     "name": "stderr",
     "output_type": "stream",
     "text": [
      "/Users/julianadaikawa/Documents/MBA/TCC/mba/lib/python3.10/site-packages/sklearn/ensemble/_forest.py:424: FutureWarning: `max_features='auto'` has been deprecated in 1.1 and will be removed in 1.3. To keep the past behaviour, explicitly set `max_features='sqrt'` or remove this parameter as it is also the default value for RandomForestClassifiers and ExtraTreesClassifiers.\n"
     ]
    },
    {
     "name": "stdout",
     "output_type": "stream",
     "text": [
      "[CV 4/5; 1/100] END max_depth=90, max_features=auto, min_samples_leaf=4, min_samples_split=10, n_estimators=600;, score=(train=0.890, test=0.083) total time=  52.5s\n",
      "[CV 5/5; 1/100] START max_depth=90, max_features=auto, min_samples_leaf=4, min_samples_split=10, n_estimators=600\n"
     ]
    },
    {
     "name": "stderr",
     "output_type": "stream",
     "text": [
      "/Users/julianadaikawa/Documents/MBA/TCC/mba/lib/python3.10/site-packages/sklearn/ensemble/_forest.py:424: FutureWarning: `max_features='auto'` has been deprecated in 1.1 and will be removed in 1.3. To keep the past behaviour, explicitly set `max_features='sqrt'` or remove this parameter as it is also the default value for RandomForestClassifiers and ExtraTreesClassifiers.\n"
     ]
    },
    {
     "name": "stdout",
     "output_type": "stream",
     "text": [
      "[CV 5/5; 1/100] END max_depth=90, max_features=auto, min_samples_leaf=4, min_samples_split=10, n_estimators=600;, score=(train=0.900, test=0.084) total time=  52.2s\n",
      "[CV 1/5; 2/100] START max_depth=10, max_features=auto, min_samples_leaf=2, min_samples_split=2, n_estimators=300\n"
     ]
    },
    {
     "name": "stderr",
     "output_type": "stream",
     "text": [
      "/Users/julianadaikawa/Documents/MBA/TCC/mba/lib/python3.10/site-packages/sklearn/ensemble/_forest.py:424: FutureWarning: `max_features='auto'` has been deprecated in 1.1 and will be removed in 1.3. To keep the past behaviour, explicitly set `max_features='sqrt'` or remove this parameter as it is also the default value for RandomForestClassifiers and ExtraTreesClassifiers.\n"
     ]
    },
    {
     "name": "stdout",
     "output_type": "stream",
     "text": [
      "[CV 1/5; 2/100] END max_depth=10, max_features=auto, min_samples_leaf=2, min_samples_split=2, n_estimators=300;, score=(train=0.117, test=0.036) total time=   5.8s\n",
      "[CV 2/5; 2/100] START max_depth=10, max_features=auto, min_samples_leaf=2, min_samples_split=2, n_estimators=300\n"
     ]
    },
    {
     "name": "stderr",
     "output_type": "stream",
     "text": [
      "/Users/julianadaikawa/Documents/MBA/TCC/mba/lib/python3.10/site-packages/sklearn/ensemble/_forest.py:424: FutureWarning: `max_features='auto'` has been deprecated in 1.1 and will be removed in 1.3. To keep the past behaviour, explicitly set `max_features='sqrt'` or remove this parameter as it is also the default value for RandomForestClassifiers and ExtraTreesClassifiers.\n"
     ]
    },
    {
     "name": "stdout",
     "output_type": "stream",
     "text": [
      "[CV 2/5; 2/100] END max_depth=10, max_features=auto, min_samples_leaf=2, min_samples_split=2, n_estimators=300;, score=(train=0.114, test=0.037) total time=   5.6s\n",
      "[CV 3/5; 2/100] START max_depth=10, max_features=auto, min_samples_leaf=2, min_samples_split=2, n_estimators=300\n"
     ]
    },
    {
     "name": "stderr",
     "output_type": "stream",
     "text": [
      "/Users/julianadaikawa/Documents/MBA/TCC/mba/lib/python3.10/site-packages/sklearn/ensemble/_forest.py:424: FutureWarning: `max_features='auto'` has been deprecated in 1.1 and will be removed in 1.3. To keep the past behaviour, explicitly set `max_features='sqrt'` or remove this parameter as it is also the default value for RandomForestClassifiers and ExtraTreesClassifiers.\n"
     ]
    },
    {
     "name": "stdout",
     "output_type": "stream",
     "text": [
      "[CV 3/5; 2/100] END max_depth=10, max_features=auto, min_samples_leaf=2, min_samples_split=2, n_estimators=300;, score=(train=0.112, test=0.040) total time=   5.5s\n",
      "[CV 4/5; 2/100] START max_depth=10, max_features=auto, min_samples_leaf=2, min_samples_split=2, n_estimators=300\n"
     ]
    },
    {
     "name": "stderr",
     "output_type": "stream",
     "text": [
      "/Users/julianadaikawa/Documents/MBA/TCC/mba/lib/python3.10/site-packages/sklearn/ensemble/_forest.py:424: FutureWarning: `max_features='auto'` has been deprecated in 1.1 and will be removed in 1.3. To keep the past behaviour, explicitly set `max_features='sqrt'` or remove this parameter as it is also the default value for RandomForestClassifiers and ExtraTreesClassifiers.\n"
     ]
    },
    {
     "name": "stdout",
     "output_type": "stream",
     "text": [
      "[CV 4/5; 2/100] END max_depth=10, max_features=auto, min_samples_leaf=2, min_samples_split=2, n_estimators=300;, score=(train=0.113, test=0.032) total time=   5.7s\n",
      "[CV 5/5; 2/100] START max_depth=10, max_features=auto, min_samples_leaf=2, min_samples_split=2, n_estimators=300\n"
     ]
    },
    {
     "name": "stderr",
     "output_type": "stream",
     "text": [
      "/Users/julianadaikawa/Documents/MBA/TCC/mba/lib/python3.10/site-packages/sklearn/ensemble/_forest.py:424: FutureWarning: `max_features='auto'` has been deprecated in 1.1 and will be removed in 1.3. To keep the past behaviour, explicitly set `max_features='sqrt'` or remove this parameter as it is also the default value for RandomForestClassifiers and ExtraTreesClassifiers.\n"
     ]
    },
    {
     "name": "stdout",
     "output_type": "stream",
     "text": [
      "[CV 5/5; 2/100] END max_depth=10, max_features=auto, min_samples_leaf=2, min_samples_split=2, n_estimators=300;, score=(train=0.114, test=0.034) total time=   5.7s\n",
      "[CV 1/5; 3/100] START max_depth=50, max_features=auto, min_samples_leaf=1, min_samples_split=2, n_estimators=300\n"
     ]
    },
    {
     "name": "stderr",
     "output_type": "stream",
     "text": [
      "/Users/julianadaikawa/Documents/MBA/TCC/mba/lib/python3.10/site-packages/sklearn/ensemble/_forest.py:424: FutureWarning: `max_features='auto'` has been deprecated in 1.1 and will be removed in 1.3. To keep the past behaviour, explicitly set `max_features='sqrt'` or remove this parameter as it is also the default value for RandomForestClassifiers and ExtraTreesClassifiers.\n"
     ]
    },
    {
     "name": "stdout",
     "output_type": "stream",
     "text": [
      "[CV 1/5; 3/100] END max_depth=50, max_features=auto, min_samples_leaf=1, min_samples_split=2, n_estimators=300;, score=(train=0.939, test=0.075) total time=  33.9s\n",
      "[CV 2/5; 3/100] START max_depth=50, max_features=auto, min_samples_leaf=1, min_samples_split=2, n_estimators=300\n"
     ]
    },
    {
     "name": "stderr",
     "output_type": "stream",
     "text": [
      "/Users/julianadaikawa/Documents/MBA/TCC/mba/lib/python3.10/site-packages/sklearn/ensemble/_forest.py:424: FutureWarning: `max_features='auto'` has been deprecated in 1.1 and will be removed in 1.3. To keep the past behaviour, explicitly set `max_features='sqrt'` or remove this parameter as it is also the default value for RandomForestClassifiers and ExtraTreesClassifiers.\n"
     ]
    },
    {
     "name": "stdout",
     "output_type": "stream",
     "text": [
      "[CV 2/5; 3/100] END max_depth=50, max_features=auto, min_samples_leaf=1, min_samples_split=2, n_estimators=300;, score=(train=0.935, test=0.083) total time=  34.2s\n",
      "[CV 3/5; 3/100] START max_depth=50, max_features=auto, min_samples_leaf=1, min_samples_split=2, n_estimators=300\n"
     ]
    },
    {
     "name": "stderr",
     "output_type": "stream",
     "text": [
      "/Users/julianadaikawa/Documents/MBA/TCC/mba/lib/python3.10/site-packages/sklearn/ensemble/_forest.py:424: FutureWarning: `max_features='auto'` has been deprecated in 1.1 and will be removed in 1.3. To keep the past behaviour, explicitly set `max_features='sqrt'` or remove this parameter as it is also the default value for RandomForestClassifiers and ExtraTreesClassifiers.\n"
     ]
    },
    {
     "name": "stdout",
     "output_type": "stream",
     "text": [
      "[CV 3/5; 3/100] END max_depth=50, max_features=auto, min_samples_leaf=1, min_samples_split=2, n_estimators=300;, score=(train=0.934, test=0.080) total time=  33.8s\n",
      "[CV 4/5; 3/100] START max_depth=50, max_features=auto, min_samples_leaf=1, min_samples_split=2, n_estimators=300\n"
     ]
    },
    {
     "name": "stderr",
     "output_type": "stream",
     "text": [
      "/Users/julianadaikawa/Documents/MBA/TCC/mba/lib/python3.10/site-packages/sklearn/ensemble/_forest.py:424: FutureWarning: `max_features='auto'` has been deprecated in 1.1 and will be removed in 1.3. To keep the past behaviour, explicitly set `max_features='sqrt'` or remove this parameter as it is also the default value for RandomForestClassifiers and ExtraTreesClassifiers.\n"
     ]
    },
    {
     "name": "stdout",
     "output_type": "stream",
     "text": [
      "[CV 4/5; 3/100] END max_depth=50, max_features=auto, min_samples_leaf=1, min_samples_split=2, n_estimators=300;, score=(train=0.935, test=0.077) total time=  34.5s\n",
      "[CV 5/5; 3/100] START max_depth=50, max_features=auto, min_samples_leaf=1, min_samples_split=2, n_estimators=300\n"
     ]
    },
    {
     "name": "stderr",
     "output_type": "stream",
     "text": [
      "/Users/julianadaikawa/Documents/MBA/TCC/mba/lib/python3.10/site-packages/sklearn/ensemble/_forest.py:424: FutureWarning: `max_features='auto'` has been deprecated in 1.1 and will be removed in 1.3. To keep the past behaviour, explicitly set `max_features='sqrt'` or remove this parameter as it is also the default value for RandomForestClassifiers and ExtraTreesClassifiers.\n"
     ]
    },
    {
     "name": "stdout",
     "output_type": "stream",
     "text": [
      "[CV 5/5; 3/100] END max_depth=50, max_features=auto, min_samples_leaf=1, min_samples_split=2, n_estimators=300;, score=(train=0.941, test=0.085) total time=  34.2s\n",
      "[CV 1/5; 4/100] START max_depth=70, max_features=auto, min_samples_leaf=1, min_samples_split=10, n_estimators=200\n"
     ]
    },
    {
     "name": "stderr",
     "output_type": "stream",
     "text": [
      "/Users/julianadaikawa/Documents/MBA/TCC/mba/lib/python3.10/site-packages/sklearn/ensemble/_forest.py:424: FutureWarning: `max_features='auto'` has been deprecated in 1.1 and will be removed in 1.3. To keep the past behaviour, explicitly set `max_features='sqrt'` or remove this parameter as it is also the default value for RandomForestClassifiers and ExtraTreesClassifiers.\n"
     ]
    },
    {
     "name": "stdout",
     "output_type": "stream",
     "text": [
      "[CV 1/5; 4/100] END max_depth=70, max_features=auto, min_samples_leaf=1, min_samples_split=10, n_estimators=200;, score=(train=0.938, test=0.079) total time=  22.7s\n",
      "[CV 2/5; 4/100] START max_depth=70, max_features=auto, min_samples_leaf=1, min_samples_split=10, n_estimators=200\n"
     ]
    },
    {
     "name": "stderr",
     "output_type": "stream",
     "text": [
      "/Users/julianadaikawa/Documents/MBA/TCC/mba/lib/python3.10/site-packages/sklearn/ensemble/_forest.py:424: FutureWarning: `max_features='auto'` has been deprecated in 1.1 and will be removed in 1.3. To keep the past behaviour, explicitly set `max_features='sqrt'` or remove this parameter as it is also the default value for RandomForestClassifiers and ExtraTreesClassifiers.\n"
     ]
    },
    {
     "name": "stdout",
     "output_type": "stream",
     "text": [
      "[CV 2/5; 4/100] END max_depth=70, max_features=auto, min_samples_leaf=1, min_samples_split=10, n_estimators=200;, score=(train=0.932, test=0.088) total time=  22.3s\n",
      "[CV 3/5; 4/100] START max_depth=70, max_features=auto, min_samples_leaf=1, min_samples_split=10, n_estimators=200\n"
     ]
    },
    {
     "name": "stderr",
     "output_type": "stream",
     "text": [
      "/Users/julianadaikawa/Documents/MBA/TCC/mba/lib/python3.10/site-packages/sklearn/ensemble/_forest.py:424: FutureWarning: `max_features='auto'` has been deprecated in 1.1 and will be removed in 1.3. To keep the past behaviour, explicitly set `max_features='sqrt'` or remove this parameter as it is also the default value for RandomForestClassifiers and ExtraTreesClassifiers.\n"
     ]
    },
    {
     "name": "stdout",
     "output_type": "stream",
     "text": [
      "[CV 3/5; 4/100] END max_depth=70, max_features=auto, min_samples_leaf=1, min_samples_split=10, n_estimators=200;, score=(train=0.934, test=0.091) total time=  22.2s\n",
      "[CV 4/5; 4/100] START max_depth=70, max_features=auto, min_samples_leaf=1, min_samples_split=10, n_estimators=200\n"
     ]
    },
    {
     "name": "stderr",
     "output_type": "stream",
     "text": [
      "/Users/julianadaikawa/Documents/MBA/TCC/mba/lib/python3.10/site-packages/sklearn/ensemble/_forest.py:424: FutureWarning: `max_features='auto'` has been deprecated in 1.1 and will be removed in 1.3. To keep the past behaviour, explicitly set `max_features='sqrt'` or remove this parameter as it is also the default value for RandomForestClassifiers and ExtraTreesClassifiers.\n"
     ]
    },
    {
     "name": "stdout",
     "output_type": "stream",
     "text": [
      "[CV 4/5; 4/100] END max_depth=70, max_features=auto, min_samples_leaf=1, min_samples_split=10, n_estimators=200;, score=(train=0.934, test=0.080) total time=  22.3s\n",
      "[CV 5/5; 4/100] START max_depth=70, max_features=auto, min_samples_leaf=1, min_samples_split=10, n_estimators=200\n"
     ]
    },
    {
     "name": "stderr",
     "output_type": "stream",
     "text": [
      "/Users/julianadaikawa/Documents/MBA/TCC/mba/lib/python3.10/site-packages/sklearn/ensemble/_forest.py:424: FutureWarning: `max_features='auto'` has been deprecated in 1.1 and will be removed in 1.3. To keep the past behaviour, explicitly set `max_features='sqrt'` or remove this parameter as it is also the default value for RandomForestClassifiers and ExtraTreesClassifiers.\n"
     ]
    },
    {
     "name": "stdout",
     "output_type": "stream",
     "text": [
      "[CV 5/5; 4/100] END max_depth=70, max_features=auto, min_samples_leaf=1, min_samples_split=10, n_estimators=200;, score=(train=0.941, test=0.085) total time=  22.0s\n",
      "[CV 1/5; 5/100] START max_depth=20, max_features=sqrt, min_samples_leaf=10, min_samples_split=10, n_estimators=900\n",
      "[CV 1/5; 5/100] END max_depth=20, max_features=sqrt, min_samples_leaf=10, min_samples_split=10, n_estimators=900;, score=(train=0.168, test=0.051) total time=  29.0s\n",
      "[CV 2/5; 5/100] START max_depth=20, max_features=sqrt, min_samples_leaf=10, min_samples_split=10, n_estimators=900\n",
      "[CV 2/5; 5/100] END max_depth=20, max_features=sqrt, min_samples_leaf=10, min_samples_split=10, n_estimators=900;, score=(train=0.170, test=0.055) total time=  28.9s\n",
      "[CV 3/5; 5/100] START max_depth=20, max_features=sqrt, min_samples_leaf=10, min_samples_split=10, n_estimators=900\n",
      "[CV 3/5; 5/100] END max_depth=20, max_features=sqrt, min_samples_leaf=10, min_samples_split=10, n_estimators=900;, score=(train=0.171, test=0.055) total time=  29.0s\n",
      "[CV 4/5; 5/100] START max_depth=20, max_features=sqrt, min_samples_leaf=10, min_samples_split=10, n_estimators=900\n",
      "[CV 4/5; 5/100] END max_depth=20, max_features=sqrt, min_samples_leaf=10, min_samples_split=10, n_estimators=900;, score=(train=0.168, test=0.050) total time=  28.5s\n",
      "[CV 5/5; 5/100] START max_depth=20, max_features=sqrt, min_samples_leaf=10, min_samples_split=10, n_estimators=900\n",
      "[CV 5/5; 5/100] END max_depth=20, max_features=sqrt, min_samples_leaf=10, min_samples_split=10, n_estimators=900;, score=(train=0.159, test=0.048) total time=  28.3s\n",
      "[CV 1/5; 6/100] START max_depth=60, max_features=auto, min_samples_leaf=4, min_samples_split=5, n_estimators=300\n"
     ]
    },
    {
     "name": "stderr",
     "output_type": "stream",
     "text": [
      "/Users/julianadaikawa/Documents/MBA/TCC/mba/lib/python3.10/site-packages/sklearn/ensemble/_forest.py:424: FutureWarning: `max_features='auto'` has been deprecated in 1.1 and will be removed in 1.3. To keep the past behaviour, explicitly set `max_features='sqrt'` or remove this parameter as it is also the default value for RandomForestClassifiers and ExtraTreesClassifiers.\n"
     ]
    },
    {
     "name": "stdout",
     "output_type": "stream",
     "text": [
      "[CV 1/5; 6/100] END max_depth=60, max_features=auto, min_samples_leaf=4, min_samples_split=5, n_estimators=300;, score=(train=0.859, test=0.073) total time=  22.9s\n",
      "[CV 2/5; 6/100] START max_depth=60, max_features=auto, min_samples_leaf=4, min_samples_split=5, n_estimators=300\n"
     ]
    },
    {
     "name": "stderr",
     "output_type": "stream",
     "text": [
      "/Users/julianadaikawa/Documents/MBA/TCC/mba/lib/python3.10/site-packages/sklearn/ensemble/_forest.py:424: FutureWarning: `max_features='auto'` has been deprecated in 1.1 and will be removed in 1.3. To keep the past behaviour, explicitly set `max_features='sqrt'` or remove this parameter as it is also the default value for RandomForestClassifiers and ExtraTreesClassifiers.\n"
     ]
    },
    {
     "name": "stdout",
     "output_type": "stream",
     "text": [
      "[CV 2/5; 6/100] END max_depth=60, max_features=auto, min_samples_leaf=4, min_samples_split=5, n_estimators=300;, score=(train=0.852, test=0.085) total time=  23.0s\n",
      "[CV 3/5; 6/100] START max_depth=60, max_features=auto, min_samples_leaf=4, min_samples_split=5, n_estimators=300\n"
     ]
    },
    {
     "name": "stderr",
     "output_type": "stream",
     "text": [
      "/Users/julianadaikawa/Documents/MBA/TCC/mba/lib/python3.10/site-packages/sklearn/ensemble/_forest.py:424: FutureWarning: `max_features='auto'` has been deprecated in 1.1 and will be removed in 1.3. To keep the past behaviour, explicitly set `max_features='sqrt'` or remove this parameter as it is also the default value for RandomForestClassifiers and ExtraTreesClassifiers.\n"
     ]
    },
    {
     "name": "stdout",
     "output_type": "stream",
     "text": [
      "[CV 3/5; 6/100] END max_depth=60, max_features=auto, min_samples_leaf=4, min_samples_split=5, n_estimators=300;, score=(train=0.861, test=0.075) total time=  23.0s\n",
      "[CV 4/5; 6/100] START max_depth=60, max_features=auto, min_samples_leaf=4, min_samples_split=5, n_estimators=300\n"
     ]
    },
    {
     "name": "stderr",
     "output_type": "stream",
     "text": [
      "/Users/julianadaikawa/Documents/MBA/TCC/mba/lib/python3.10/site-packages/sklearn/ensemble/_forest.py:424: FutureWarning: `max_features='auto'` has been deprecated in 1.1 and will be removed in 1.3. To keep the past behaviour, explicitly set `max_features='sqrt'` or remove this parameter as it is also the default value for RandomForestClassifiers and ExtraTreesClassifiers.\n"
     ]
    },
    {
     "name": "stdout",
     "output_type": "stream",
     "text": [
      "[CV 4/5; 6/100] END max_depth=60, max_features=auto, min_samples_leaf=4, min_samples_split=5, n_estimators=300;, score=(train=0.853, test=0.079) total time=  23.5s\n",
      "[CV 5/5; 6/100] START max_depth=60, max_features=auto, min_samples_leaf=4, min_samples_split=5, n_estimators=300\n"
     ]
    },
    {
     "name": "stderr",
     "output_type": "stream",
     "text": [
      "/Users/julianadaikawa/Documents/MBA/TCC/mba/lib/python3.10/site-packages/sklearn/ensemble/_forest.py:424: FutureWarning: `max_features='auto'` has been deprecated in 1.1 and will be removed in 1.3. To keep the past behaviour, explicitly set `max_features='sqrt'` or remove this parameter as it is also the default value for RandomForestClassifiers and ExtraTreesClassifiers.\n"
     ]
    },
    {
     "name": "stdout",
     "output_type": "stream",
     "text": [
      "[CV 5/5; 6/100] END max_depth=60, max_features=auto, min_samples_leaf=4, min_samples_split=5, n_estimators=300;, score=(train=0.861, test=0.082) total time=  23.1s\n",
      "[CV 1/5; 7/100] START max_depth=10, max_features=sqrt, min_samples_leaf=10, min_samples_split=2, n_estimators=200\n",
      "[CV 1/5; 7/100] END max_depth=10, max_features=sqrt, min_samples_leaf=10, min_samples_split=2, n_estimators=200;, score=(train=0.070, test=0.032) total time=   3.7s\n",
      "[CV 2/5; 7/100] START max_depth=10, max_features=sqrt, min_samples_leaf=10, min_samples_split=2, n_estimators=200\n",
      "[CV 2/5; 7/100] END max_depth=10, max_features=sqrt, min_samples_leaf=10, min_samples_split=2, n_estimators=200;, score=(train=0.069, test=0.041) total time=   3.7s\n",
      "[CV 3/5; 7/100] START max_depth=10, max_features=sqrt, min_samples_leaf=10, min_samples_split=2, n_estimators=200\n",
      "[CV 3/5; 7/100] END max_depth=10, max_features=sqrt, min_samples_leaf=10, min_samples_split=2, n_estimators=200;, score=(train=0.070, test=0.035) total time=   3.7s\n",
      "[CV 4/5; 7/100] START max_depth=10, max_features=sqrt, min_samples_leaf=10, min_samples_split=2, n_estimators=200\n",
      "[CV 4/5; 7/100] END max_depth=10, max_features=sqrt, min_samples_leaf=10, min_samples_split=2, n_estimators=200;, score=(train=0.061, test=0.027) total time=   3.7s\n",
      "[CV 5/5; 7/100] START max_depth=10, max_features=sqrt, min_samples_leaf=10, min_samples_split=2, n_estimators=200\n",
      "[CV 5/5; 7/100] END max_depth=10, max_features=sqrt, min_samples_leaf=10, min_samples_split=2, n_estimators=200;, score=(train=0.059, test=0.026) total time=   3.7s\n",
      "[CV 1/5; 8/100] START max_depth=60, max_features=auto, min_samples_leaf=10, min_samples_split=5, n_estimators=1000\n"
     ]
    },
    {
     "name": "stderr",
     "output_type": "stream",
     "text": [
      "/Users/julianadaikawa/Documents/MBA/TCC/mba/lib/python3.10/site-packages/sklearn/ensemble/_forest.py:424: FutureWarning: `max_features='auto'` has been deprecated in 1.1 and will be removed in 1.3. To keep the past behaviour, explicitly set `max_features='sqrt'` or remove this parameter as it is also the default value for RandomForestClassifiers and ExtraTreesClassifiers.\n"
     ]
    },
    {
     "name": "stdout",
     "output_type": "stream",
     "text": [
      "[CV 1/5; 8/100] END max_depth=60, max_features=auto, min_samples_leaf=10, min_samples_split=5, n_estimators=1000;, score=(train=0.466, test=0.066) total time=  58.9s\n",
      "[CV 2/5; 8/100] START max_depth=60, max_features=auto, min_samples_leaf=10, min_samples_split=5, n_estimators=1000\n"
     ]
    },
    {
     "name": "stderr",
     "output_type": "stream",
     "text": [
      "/Users/julianadaikawa/Documents/MBA/TCC/mba/lib/python3.10/site-packages/sklearn/ensemble/_forest.py:424: FutureWarning: `max_features='auto'` has been deprecated in 1.1 and will be removed in 1.3. To keep the past behaviour, explicitly set `max_features='sqrt'` or remove this parameter as it is also the default value for RandomForestClassifiers and ExtraTreesClassifiers.\n"
     ]
    },
    {
     "name": "stdout",
     "output_type": "stream",
     "text": [
      "[CV 2/5; 8/100] END max_depth=60, max_features=auto, min_samples_leaf=10, min_samples_split=5, n_estimators=1000;, score=(train=0.492, test=0.072) total time=  58.2s\n",
      "[CV 3/5; 8/100] START max_depth=60, max_features=auto, min_samples_leaf=10, min_samples_split=5, n_estimators=1000\n"
     ]
    },
    {
     "name": "stderr",
     "output_type": "stream",
     "text": [
      "/Users/julianadaikawa/Documents/MBA/TCC/mba/lib/python3.10/site-packages/sklearn/ensemble/_forest.py:424: FutureWarning: `max_features='auto'` has been deprecated in 1.1 and will be removed in 1.3. To keep the past behaviour, explicitly set `max_features='sqrt'` or remove this parameter as it is also the default value for RandomForestClassifiers and ExtraTreesClassifiers.\n"
     ]
    },
    {
     "name": "stdout",
     "output_type": "stream",
     "text": [
      "[CV 3/5; 8/100] END max_depth=60, max_features=auto, min_samples_leaf=10, min_samples_split=5, n_estimators=1000;, score=(train=0.478, test=0.069) total time=  54.7s\n",
      "[CV 4/5; 8/100] START max_depth=60, max_features=auto, min_samples_leaf=10, min_samples_split=5, n_estimators=1000\n"
     ]
    },
    {
     "name": "stderr",
     "output_type": "stream",
     "text": [
      "/Users/julianadaikawa/Documents/MBA/TCC/mba/lib/python3.10/site-packages/sklearn/ensemble/_forest.py:424: FutureWarning: `max_features='auto'` has been deprecated in 1.1 and will be removed in 1.3. To keep the past behaviour, explicitly set `max_features='sqrt'` or remove this parameter as it is also the default value for RandomForestClassifiers and ExtraTreesClassifiers.\n"
     ]
    },
    {
     "name": "stdout",
     "output_type": "stream",
     "text": [
      "[CV 4/5; 8/100] END max_depth=60, max_features=auto, min_samples_leaf=10, min_samples_split=5, n_estimators=1000;, score=(train=0.489, test=0.063) total time=  55.1s\n",
      "[CV 5/5; 8/100] START max_depth=60, max_features=auto, min_samples_leaf=10, min_samples_split=5, n_estimators=1000\n"
     ]
    },
    {
     "name": "stderr",
     "output_type": "stream",
     "text": [
      "/Users/julianadaikawa/Documents/MBA/TCC/mba/lib/python3.10/site-packages/sklearn/ensemble/_forest.py:424: FutureWarning: `max_features='auto'` has been deprecated in 1.1 and will be removed in 1.3. To keep the past behaviour, explicitly set `max_features='sqrt'` or remove this parameter as it is also the default value for RandomForestClassifiers and ExtraTreesClassifiers.\n"
     ]
    },
    {
     "name": "stdout",
     "output_type": "stream",
     "text": [
      "[CV 5/5; 8/100] END max_depth=60, max_features=auto, min_samples_leaf=10, min_samples_split=5, n_estimators=1000;, score=(train=0.473, test=0.073) total time=  55.4s\n",
      "[CV 1/5; 9/100] START max_depth=80, max_features=auto, min_samples_leaf=4, min_samples_split=2, n_estimators=600\n"
     ]
    },
    {
     "name": "stderr",
     "output_type": "stream",
     "text": [
      "/Users/julianadaikawa/Documents/MBA/TCC/mba/lib/python3.10/site-packages/sklearn/ensemble/_forest.py:424: FutureWarning: `max_features='auto'` has been deprecated in 1.1 and will be removed in 1.3. To keep the past behaviour, explicitly set `max_features='sqrt'` or remove this parameter as it is also the default value for RandomForestClassifiers and ExtraTreesClassifiers.\n"
     ]
    },
    {
     "name": "stdout",
     "output_type": "stream",
     "text": [
      "[CV 1/5; 9/100] END max_depth=80, max_features=auto, min_samples_leaf=4, min_samples_split=2, n_estimators=600;, score=(train=0.891, test=0.080) total time=  51.5s\n",
      "[CV 2/5; 9/100] START max_depth=80, max_features=auto, min_samples_leaf=4, min_samples_split=2, n_estimators=600\n"
     ]
    },
    {
     "name": "stderr",
     "output_type": "stream",
     "text": [
      "/Users/julianadaikawa/Documents/MBA/TCC/mba/lib/python3.10/site-packages/sklearn/ensemble/_forest.py:424: FutureWarning: `max_features='auto'` has been deprecated in 1.1 and will be removed in 1.3. To keep the past behaviour, explicitly set `max_features='sqrt'` or remove this parameter as it is also the default value for RandomForestClassifiers and ExtraTreesClassifiers.\n"
     ]
    },
    {
     "name": "stdout",
     "output_type": "stream",
     "text": [
      "[CV 2/5; 9/100] END max_depth=80, max_features=auto, min_samples_leaf=4, min_samples_split=2, n_estimators=600;, score=(train=0.888, test=0.089) total time=  51.4s\n",
      "[CV 3/5; 9/100] START max_depth=80, max_features=auto, min_samples_leaf=4, min_samples_split=2, n_estimators=600\n"
     ]
    },
    {
     "name": "stderr",
     "output_type": "stream",
     "text": [
      "/Users/julianadaikawa/Documents/MBA/TCC/mba/lib/python3.10/site-packages/sklearn/ensemble/_forest.py:424: FutureWarning: `max_features='auto'` has been deprecated in 1.1 and will be removed in 1.3. To keep the past behaviour, explicitly set `max_features='sqrt'` or remove this parameter as it is also the default value for RandomForestClassifiers and ExtraTreesClassifiers.\n"
     ]
    },
    {
     "name": "stdout",
     "output_type": "stream",
     "text": [
      "[CV 3/5; 9/100] END max_depth=80, max_features=auto, min_samples_leaf=4, min_samples_split=2, n_estimators=600;, score=(train=0.887, test=0.079) total time=  51.0s\n",
      "[CV 4/5; 9/100] START max_depth=80, max_features=auto, min_samples_leaf=4, min_samples_split=2, n_estimators=600\n"
     ]
    },
    {
     "name": "stderr",
     "output_type": "stream",
     "text": [
      "/Users/julianadaikawa/Documents/MBA/TCC/mba/lib/python3.10/site-packages/sklearn/ensemble/_forest.py:424: FutureWarning: `max_features='auto'` has been deprecated in 1.1 and will be removed in 1.3. To keep the past behaviour, explicitly set `max_features='sqrt'` or remove this parameter as it is also the default value for RandomForestClassifiers and ExtraTreesClassifiers.\n"
     ]
    },
    {
     "name": "stdout",
     "output_type": "stream",
     "text": [
      "[CV 4/5; 9/100] END max_depth=80, max_features=auto, min_samples_leaf=4, min_samples_split=2, n_estimators=600;, score=(train=0.886, test=0.084) total time=  59.1s\n",
      "[CV 5/5; 9/100] START max_depth=80, max_features=auto, min_samples_leaf=4, min_samples_split=2, n_estimators=600\n"
     ]
    },
    {
     "name": "stderr",
     "output_type": "stream",
     "text": [
      "/Users/julianadaikawa/Documents/MBA/TCC/mba/lib/python3.10/site-packages/sklearn/ensemble/_forest.py:424: FutureWarning: `max_features='auto'` has been deprecated in 1.1 and will be removed in 1.3. To keep the past behaviour, explicitly set `max_features='sqrt'` or remove this parameter as it is also the default value for RandomForestClassifiers and ExtraTreesClassifiers.\n"
     ]
    },
    {
     "name": "stdout",
     "output_type": "stream",
     "text": [
      "[CV 5/5; 9/100] END max_depth=80, max_features=auto, min_samples_leaf=4, min_samples_split=2, n_estimators=600;, score=(train=0.890, test=0.082) total time=  54.5s\n",
      "[CV 1/5; 10/100] START max_depth=70, max_features=auto, min_samples_leaf=2, min_samples_split=10, n_estimators=900\n"
     ]
    },
    {
     "name": "stderr",
     "output_type": "stream",
     "text": [
      "/Users/julianadaikawa/Documents/MBA/TCC/mba/lib/python3.10/site-packages/sklearn/ensemble/_forest.py:424: FutureWarning: `max_features='auto'` has been deprecated in 1.1 and will be removed in 1.3. To keep the past behaviour, explicitly set `max_features='sqrt'` or remove this parameter as it is also the default value for RandomForestClassifiers and ExtraTreesClassifiers.\n"
     ]
    },
    {
     "name": "stdout",
     "output_type": "stream",
     "text": [
      "[CV 1/5; 10/100] END max_depth=70, max_features=auto, min_samples_leaf=2, min_samples_split=10, n_estimators=900;, score=(train=0.927, test=0.078) total time= 1.6min\n",
      "[CV 2/5; 10/100] START max_depth=70, max_features=auto, min_samples_leaf=2, min_samples_split=10, n_estimators=900\n"
     ]
    },
    {
     "name": "stderr",
     "output_type": "stream",
     "text": [
      "/Users/julianadaikawa/Documents/MBA/TCC/mba/lib/python3.10/site-packages/sklearn/ensemble/_forest.py:424: FutureWarning: `max_features='auto'` has been deprecated in 1.1 and will be removed in 1.3. To keep the past behaviour, explicitly set `max_features='sqrt'` or remove this parameter as it is also the default value for RandomForestClassifiers and ExtraTreesClassifiers.\n"
     ]
    },
    {
     "name": "stdout",
     "output_type": "stream",
     "text": [
      "[CV 2/5; 10/100] END max_depth=70, max_features=auto, min_samples_leaf=2, min_samples_split=10, n_estimators=900;, score=(train=0.928, test=0.094) total time= 1.7min\n",
      "[CV 3/5; 10/100] START max_depth=70, max_features=auto, min_samples_leaf=2, min_samples_split=10, n_estimators=900\n"
     ]
    },
    {
     "name": "stderr",
     "output_type": "stream",
     "text": [
      "/Users/julianadaikawa/Documents/MBA/TCC/mba/lib/python3.10/site-packages/sklearn/ensemble/_forest.py:424: FutureWarning: `max_features='auto'` has been deprecated in 1.1 and will be removed in 1.3. To keep the past behaviour, explicitly set `max_features='sqrt'` or remove this parameter as it is also the default value for RandomForestClassifiers and ExtraTreesClassifiers.\n"
     ]
    },
    {
     "name": "stdout",
     "output_type": "stream",
     "text": [
      "[CV 3/5; 10/100] END max_depth=70, max_features=auto, min_samples_leaf=2, min_samples_split=10, n_estimators=900;, score=(train=0.935, test=0.088) total time= 1.6min\n",
      "[CV 4/5; 10/100] START max_depth=70, max_features=auto, min_samples_leaf=2, min_samples_split=10, n_estimators=900\n"
     ]
    },
    {
     "name": "stderr",
     "output_type": "stream",
     "text": [
      "/Users/julianadaikawa/Documents/MBA/TCC/mba/lib/python3.10/site-packages/sklearn/ensemble/_forest.py:424: FutureWarning: `max_features='auto'` has been deprecated in 1.1 and will be removed in 1.3. To keep the past behaviour, explicitly set `max_features='sqrt'` or remove this parameter as it is also the default value for RandomForestClassifiers and ExtraTreesClassifiers.\n"
     ]
    },
    {
     "name": "stdout",
     "output_type": "stream",
     "text": [
      "[CV 4/5; 10/100] END max_depth=70, max_features=auto, min_samples_leaf=2, min_samples_split=10, n_estimators=900;, score=(train=0.916, test=0.081) total time= 1.5min\n",
      "[CV 5/5; 10/100] START max_depth=70, max_features=auto, min_samples_leaf=2, min_samples_split=10, n_estimators=900\n"
     ]
    },
    {
     "name": "stderr",
     "output_type": "stream",
     "text": [
      "/Users/julianadaikawa/Documents/MBA/TCC/mba/lib/python3.10/site-packages/sklearn/ensemble/_forest.py:424: FutureWarning: `max_features='auto'` has been deprecated in 1.1 and will be removed in 1.3. To keep the past behaviour, explicitly set `max_features='sqrt'` or remove this parameter as it is also the default value for RandomForestClassifiers and ExtraTreesClassifiers.\n"
     ]
    },
    {
     "name": "stdout",
     "output_type": "stream",
     "text": [
      "[CV 5/5; 10/100] END max_depth=70, max_features=auto, min_samples_leaf=2, min_samples_split=10, n_estimators=900;, score=(train=0.927, test=0.092) total time= 1.4min\n",
      "[CV 1/5; 11/100] START max_depth=60, max_features=sqrt, min_samples_leaf=10, min_samples_split=2, n_estimators=200\n",
      "[CV 1/5; 11/100] END max_depth=60, max_features=sqrt, min_samples_leaf=10, min_samples_split=2, n_estimators=200;, score=(train=0.467, test=0.063) total time=  10.9s\n",
      "[CV 2/5; 11/100] START max_depth=60, max_features=sqrt, min_samples_leaf=10, min_samples_split=2, n_estimators=200\n",
      "[CV 2/5; 11/100] END max_depth=60, max_features=sqrt, min_samples_leaf=10, min_samples_split=2, n_estimators=200;, score=(train=0.486, test=0.071) total time=  10.7s\n",
      "[CV 3/5; 11/100] START max_depth=60, max_features=sqrt, min_samples_leaf=10, min_samples_split=2, n_estimators=200\n",
      "[CV 3/5; 11/100] END max_depth=60, max_features=sqrt, min_samples_leaf=10, min_samples_split=2, n_estimators=200;, score=(train=0.478, test=0.066) total time=  10.8s\n",
      "[CV 4/5; 11/100] START max_depth=60, max_features=sqrt, min_samples_leaf=10, min_samples_split=2, n_estimators=200\n",
      "[CV 4/5; 11/100] END max_depth=60, max_features=sqrt, min_samples_leaf=10, min_samples_split=2, n_estimators=200;, score=(train=0.478, test=0.064) total time=  10.9s\n",
      "[CV 5/5; 11/100] START max_depth=60, max_features=sqrt, min_samples_leaf=10, min_samples_split=2, n_estimators=200\n",
      "[CV 5/5; 11/100] END max_depth=60, max_features=sqrt, min_samples_leaf=10, min_samples_split=2, n_estimators=200;, score=(train=0.490, test=0.066) total time=  10.8s\n",
      "[CV 1/5; 12/100] START max_depth=110, max_features=auto, min_samples_leaf=10, min_samples_split=2, n_estimators=500\n"
     ]
    },
    {
     "name": "stderr",
     "output_type": "stream",
     "text": [
      "/Users/julianadaikawa/Documents/MBA/TCC/mba/lib/python3.10/site-packages/sklearn/ensemble/_forest.py:424: FutureWarning: `max_features='auto'` has been deprecated in 1.1 and will be removed in 1.3. To keep the past behaviour, explicitly set `max_features='sqrt'` or remove this parameter as it is also the default value for RandomForestClassifiers and ExtraTreesClassifiers.\n"
     ]
    },
    {
     "name": "stdout",
     "output_type": "stream",
     "text": [
      "[CV 1/5; 12/100] END max_depth=110, max_features=auto, min_samples_leaf=10, min_samples_split=2, n_estimators=500;, score=(train=0.526, test=0.061) total time=  27.5s\n",
      "[CV 2/5; 12/100] START max_depth=110, max_features=auto, min_samples_leaf=10, min_samples_split=2, n_estimators=500\n"
     ]
    },
    {
     "name": "stderr",
     "output_type": "stream",
     "text": [
      "/Users/julianadaikawa/Documents/MBA/TCC/mba/lib/python3.10/site-packages/sklearn/ensemble/_forest.py:424: FutureWarning: `max_features='auto'` has been deprecated in 1.1 and will be removed in 1.3. To keep the past behaviour, explicitly set `max_features='sqrt'` or remove this parameter as it is also the default value for RandomForestClassifiers and ExtraTreesClassifiers.\n"
     ]
    },
    {
     "name": "stdout",
     "output_type": "stream",
     "text": [
      "[CV 2/5; 12/100] END max_depth=110, max_features=auto, min_samples_leaf=10, min_samples_split=2, n_estimators=500;, score=(train=0.537, test=0.073) total time=  27.9s\n",
      "[CV 3/5; 12/100] START max_depth=110, max_features=auto, min_samples_leaf=10, min_samples_split=2, n_estimators=500\n"
     ]
    },
    {
     "name": "stderr",
     "output_type": "stream",
     "text": [
      "/Users/julianadaikawa/Documents/MBA/TCC/mba/lib/python3.10/site-packages/sklearn/ensemble/_forest.py:424: FutureWarning: `max_features='auto'` has been deprecated in 1.1 and will be removed in 1.3. To keep the past behaviour, explicitly set `max_features='sqrt'` or remove this parameter as it is also the default value for RandomForestClassifiers and ExtraTreesClassifiers.\n"
     ]
    },
    {
     "name": "stdout",
     "output_type": "stream",
     "text": [
      "[CV 3/5; 12/100] END max_depth=110, max_features=auto, min_samples_leaf=10, min_samples_split=2, n_estimators=500;, score=(train=0.511, test=0.068) total time=  27.6s\n",
      "[CV 4/5; 12/100] START max_depth=110, max_features=auto, min_samples_leaf=10, min_samples_split=2, n_estimators=500\n"
     ]
    },
    {
     "name": "stderr",
     "output_type": "stream",
     "text": [
      "/Users/julianadaikawa/Documents/MBA/TCC/mba/lib/python3.10/site-packages/sklearn/ensemble/_forest.py:424: FutureWarning: `max_features='auto'` has been deprecated in 1.1 and will be removed in 1.3. To keep the past behaviour, explicitly set `max_features='sqrt'` or remove this parameter as it is also the default value for RandomForestClassifiers and ExtraTreesClassifiers.\n"
     ]
    },
    {
     "name": "stdout",
     "output_type": "stream",
     "text": [
      "[CV 4/5; 12/100] END max_depth=110, max_features=auto, min_samples_leaf=10, min_samples_split=2, n_estimators=500;, score=(train=0.532, test=0.064) total time=  31.5s\n",
      "[CV 5/5; 12/100] START max_depth=110, max_features=auto, min_samples_leaf=10, min_samples_split=2, n_estimators=500\n"
     ]
    },
    {
     "name": "stderr",
     "output_type": "stream",
     "text": [
      "/Users/julianadaikawa/Documents/MBA/TCC/mba/lib/python3.10/site-packages/sklearn/ensemble/_forest.py:424: FutureWarning: `max_features='auto'` has been deprecated in 1.1 and will be removed in 1.3. To keep the past behaviour, explicitly set `max_features='sqrt'` or remove this parameter as it is also the default value for RandomForestClassifiers and ExtraTreesClassifiers.\n"
     ]
    },
    {
     "name": "stdout",
     "output_type": "stream",
     "text": [
      "[CV 5/5; 12/100] END max_depth=110, max_features=auto, min_samples_leaf=10, min_samples_split=2, n_estimators=500;, score=(train=0.527, test=0.069) total time=  30.2s\n",
      "[CV 1/5; 13/100] START max_depth=60, max_features=sqrt, min_samples_leaf=4, min_samples_split=5, n_estimators=600\n",
      "[CV 1/5; 13/100] END max_depth=60, max_features=sqrt, min_samples_leaf=4, min_samples_split=5, n_estimators=600;, score=(train=0.861, test=0.074) total time=  46.6s\n",
      "[CV 2/5; 13/100] START max_depth=60, max_features=sqrt, min_samples_leaf=4, min_samples_split=5, n_estimators=600\n",
      "[CV 2/5; 13/100] END max_depth=60, max_features=sqrt, min_samples_leaf=4, min_samples_split=5, n_estimators=600;, score=(train=0.863, test=0.086) total time=  45.6s\n",
      "[CV 3/5; 13/100] START max_depth=60, max_features=sqrt, min_samples_leaf=4, min_samples_split=5, n_estimators=600\n",
      "[CV 3/5; 13/100] END max_depth=60, max_features=sqrt, min_samples_leaf=4, min_samples_split=5, n_estimators=600;, score=(train=0.863, test=0.074) total time=  46.6s\n",
      "[CV 4/5; 13/100] START max_depth=60, max_features=sqrt, min_samples_leaf=4, min_samples_split=5, n_estimators=600\n",
      "[CV 4/5; 13/100] END max_depth=60, max_features=sqrt, min_samples_leaf=4, min_samples_split=5, n_estimators=600;, score=(train=0.855, test=0.079) total time=  46.9s\n",
      "[CV 5/5; 13/100] START max_depth=60, max_features=sqrt, min_samples_leaf=4, min_samples_split=5, n_estimators=600\n",
      "[CV 5/5; 13/100] END max_depth=60, max_features=sqrt, min_samples_leaf=4, min_samples_split=5, n_estimators=600;, score=(train=0.859, test=0.083) total time=  48.1s\n",
      "[CV 1/5; 14/100] START max_depth=60, max_features=sqrt, min_samples_leaf=10, min_samples_split=2, n_estimators=100\n",
      "[CV 1/5; 14/100] END max_depth=60, max_features=sqrt, min_samples_leaf=10, min_samples_split=2, n_estimators=100;, score=(train=0.459, test=0.065) total time=   5.7s\n",
      "[CV 2/5; 14/100] START max_depth=60, max_features=sqrt, min_samples_leaf=10, min_samples_split=2, n_estimators=100\n",
      "[CV 2/5; 14/100] END max_depth=60, max_features=sqrt, min_samples_leaf=10, min_samples_split=2, n_estimators=100;, score=(train=0.471, test=0.068) total time=   5.7s\n",
      "[CV 3/5; 14/100] START max_depth=60, max_features=sqrt, min_samples_leaf=10, min_samples_split=2, n_estimators=100\n",
      "[CV 3/5; 14/100] END max_depth=60, max_features=sqrt, min_samples_leaf=10, min_samples_split=2, n_estimators=100;, score=(train=0.453, test=0.071) total time=   6.0s\n",
      "[CV 4/5; 14/100] START max_depth=60, max_features=sqrt, min_samples_leaf=10, min_samples_split=2, n_estimators=100\n",
      "[CV 4/5; 14/100] END max_depth=60, max_features=sqrt, min_samples_leaf=10, min_samples_split=2, n_estimators=100;, score=(train=0.473, test=0.067) total time=   5.8s\n",
      "[CV 5/5; 14/100] START max_depth=60, max_features=sqrt, min_samples_leaf=10, min_samples_split=2, n_estimators=100\n",
      "[CV 5/5; 14/100] END max_depth=60, max_features=sqrt, min_samples_leaf=10, min_samples_split=2, n_estimators=100;, score=(train=0.463, test=0.079) total time=   5.8s\n",
      "[CV 1/5; 15/100] START max_depth=60, max_features=auto, min_samples_leaf=4, min_samples_split=2, n_estimators=500\n"
     ]
    },
    {
     "name": "stderr",
     "output_type": "stream",
     "text": [
      "/Users/julianadaikawa/Documents/MBA/TCC/mba/lib/python3.10/site-packages/sklearn/ensemble/_forest.py:424: FutureWarning: `max_features='auto'` has been deprecated in 1.1 and will be removed in 1.3. To keep the past behaviour, explicitly set `max_features='sqrt'` or remove this parameter as it is also the default value for RandomForestClassifiers and ExtraTreesClassifiers.\n"
     ]
    },
    {
     "name": "stdout",
     "output_type": "stream",
     "text": [
      "[CV 1/5; 15/100] END max_depth=60, max_features=auto, min_samples_leaf=4, min_samples_split=2, n_estimators=500;, score=(train=0.862, test=0.080) total time=  39.7s\n",
      "[CV 2/5; 15/100] START max_depth=60, max_features=auto, min_samples_leaf=4, min_samples_split=2, n_estimators=500\n"
     ]
    },
    {
     "name": "stderr",
     "output_type": "stream",
     "text": [
      "/Users/julianadaikawa/Documents/MBA/TCC/mba/lib/python3.10/site-packages/sklearn/ensemble/_forest.py:424: FutureWarning: `max_features='auto'` has been deprecated in 1.1 and will be removed in 1.3. To keep the past behaviour, explicitly set `max_features='sqrt'` or remove this parameter as it is also the default value for RandomForestClassifiers and ExtraTreesClassifiers.\n"
     ]
    },
    {
     "name": "stdout",
     "output_type": "stream",
     "text": [
      "[CV 2/5; 15/100] END max_depth=60, max_features=auto, min_samples_leaf=4, min_samples_split=2, n_estimators=500;, score=(train=0.859, test=0.085) total time=  39.2s\n",
      "[CV 3/5; 15/100] START max_depth=60, max_features=auto, min_samples_leaf=4, min_samples_split=2, n_estimators=500\n"
     ]
    },
    {
     "name": "stderr",
     "output_type": "stream",
     "text": [
      "/Users/julianadaikawa/Documents/MBA/TCC/mba/lib/python3.10/site-packages/sklearn/ensemble/_forest.py:424: FutureWarning: `max_features='auto'` has been deprecated in 1.1 and will be removed in 1.3. To keep the past behaviour, explicitly set `max_features='sqrt'` or remove this parameter as it is also the default value for RandomForestClassifiers and ExtraTreesClassifiers.\n"
     ]
    },
    {
     "name": "stdout",
     "output_type": "stream",
     "text": [
      "[CV 3/5; 15/100] END max_depth=60, max_features=auto, min_samples_leaf=4, min_samples_split=2, n_estimators=500;, score=(train=0.864, test=0.073) total time=  37.8s\n",
      "[CV 4/5; 15/100] START max_depth=60, max_features=auto, min_samples_leaf=4, min_samples_split=2, n_estimators=500\n"
     ]
    },
    {
     "name": "stderr",
     "output_type": "stream",
     "text": [
      "/Users/julianadaikawa/Documents/MBA/TCC/mba/lib/python3.10/site-packages/sklearn/ensemble/_forest.py:424: FutureWarning: `max_features='auto'` has been deprecated in 1.1 and will be removed in 1.3. To keep the past behaviour, explicitly set `max_features='sqrt'` or remove this parameter as it is also the default value for RandomForestClassifiers and ExtraTreesClassifiers.\n"
     ]
    },
    {
     "name": "stdout",
     "output_type": "stream",
     "text": [
      "[CV 4/5; 15/100] END max_depth=60, max_features=auto, min_samples_leaf=4, min_samples_split=2, n_estimators=500;, score=(train=0.859, test=0.081) total time=  45.0s\n",
      "[CV 5/5; 15/100] START max_depth=60, max_features=auto, min_samples_leaf=4, min_samples_split=2, n_estimators=500\n"
     ]
    },
    {
     "name": "stderr",
     "output_type": "stream",
     "text": [
      "/Users/julianadaikawa/Documents/MBA/TCC/mba/lib/python3.10/site-packages/sklearn/ensemble/_forest.py:424: FutureWarning: `max_features='auto'` has been deprecated in 1.1 and will be removed in 1.3. To keep the past behaviour, explicitly set `max_features='sqrt'` or remove this parameter as it is also the default value for RandomForestClassifiers and ExtraTreesClassifiers.\n"
     ]
    },
    {
     "name": "stdout",
     "output_type": "stream",
     "text": [
      "[CV 5/5; 15/100] END max_depth=60, max_features=auto, min_samples_leaf=4, min_samples_split=2, n_estimators=500;, score=(train=0.863, test=0.080) total time=  43.9s\n",
      "[CV 1/5; 16/100] START max_depth=110, max_features=auto, min_samples_leaf=2, min_samples_split=5, n_estimators=500\n"
     ]
    },
    {
     "name": "stderr",
     "output_type": "stream",
     "text": [
      "/Users/julianadaikawa/Documents/MBA/TCC/mba/lib/python3.10/site-packages/sklearn/ensemble/_forest.py:424: FutureWarning: `max_features='auto'` has been deprecated in 1.1 and will be removed in 1.3. To keep the past behaviour, explicitly set `max_features='sqrt'` or remove this parameter as it is also the default value for RandomForestClassifiers and ExtraTreesClassifiers.\n"
     ]
    },
    {
     "name": "stdout",
     "output_type": "stream",
     "text": [
      "[CV 1/5; 16/100] END max_depth=110, max_features=auto, min_samples_leaf=2, min_samples_split=5, n_estimators=500;, score=(train=0.944, test=0.086) total time= 1.1min\n",
      "[CV 2/5; 16/100] START max_depth=110, max_features=auto, min_samples_leaf=2, min_samples_split=5, n_estimators=500\n"
     ]
    },
    {
     "name": "stderr",
     "output_type": "stream",
     "text": [
      "/Users/julianadaikawa/Documents/MBA/TCC/mba/lib/python3.10/site-packages/sklearn/ensemble/_forest.py:424: FutureWarning: `max_features='auto'` has been deprecated in 1.1 and will be removed in 1.3. To keep the past behaviour, explicitly set `max_features='sqrt'` or remove this parameter as it is also the default value for RandomForestClassifiers and ExtraTreesClassifiers.\n"
     ]
    },
    {
     "name": "stdout",
     "output_type": "stream",
     "text": [
      "[CV 2/5; 16/100] END max_depth=110, max_features=auto, min_samples_leaf=2, min_samples_split=5, n_estimators=500;, score=(train=0.942, test=0.095) total time= 1.1min\n",
      "[CV 3/5; 16/100] START max_depth=110, max_features=auto, min_samples_leaf=2, min_samples_split=5, n_estimators=500\n"
     ]
    },
    {
     "name": "stderr",
     "output_type": "stream",
     "text": [
      "/Users/julianadaikawa/Documents/MBA/TCC/mba/lib/python3.10/site-packages/sklearn/ensemble/_forest.py:424: FutureWarning: `max_features='auto'` has been deprecated in 1.1 and will be removed in 1.3. To keep the past behaviour, explicitly set `max_features='sqrt'` or remove this parameter as it is also the default value for RandomForestClassifiers and ExtraTreesClassifiers.\n"
     ]
    },
    {
     "name": "stdout",
     "output_type": "stream",
     "text": [
      "[CV 3/5; 16/100] END max_depth=110, max_features=auto, min_samples_leaf=2, min_samples_split=5, n_estimators=500;, score=(train=0.942, test=0.094) total time=  59.5s\n",
      "[CV 4/5; 16/100] START max_depth=110, max_features=auto, min_samples_leaf=2, min_samples_split=5, n_estimators=500\n"
     ]
    },
    {
     "name": "stderr",
     "output_type": "stream",
     "text": [
      "/Users/julianadaikawa/Documents/MBA/TCC/mba/lib/python3.10/site-packages/sklearn/ensemble/_forest.py:424: FutureWarning: `max_features='auto'` has been deprecated in 1.1 and will be removed in 1.3. To keep the past behaviour, explicitly set `max_features='sqrt'` or remove this parameter as it is also the default value for RandomForestClassifiers and ExtraTreesClassifiers.\n"
     ]
    },
    {
     "name": "stdout",
     "output_type": "stream",
     "text": [
      "[CV 4/5; 16/100] END max_depth=110, max_features=auto, min_samples_leaf=2, min_samples_split=5, n_estimators=500;, score=(train=0.943, test=0.086) total time=  59.6s\n",
      "[CV 5/5; 16/100] START max_depth=110, max_features=auto, min_samples_leaf=2, min_samples_split=5, n_estimators=500\n"
     ]
    },
    {
     "name": "stderr",
     "output_type": "stream",
     "text": [
      "/Users/julianadaikawa/Documents/MBA/TCC/mba/lib/python3.10/site-packages/sklearn/ensemble/_forest.py:424: FutureWarning: `max_features='auto'` has been deprecated in 1.1 and will be removed in 1.3. To keep the past behaviour, explicitly set `max_features='sqrt'` or remove this parameter as it is also the default value for RandomForestClassifiers and ExtraTreesClassifiers.\n"
     ]
    },
    {
     "name": "stdout",
     "output_type": "stream",
     "text": [
      "[CV 5/5; 16/100] END max_depth=110, max_features=auto, min_samples_leaf=2, min_samples_split=5, n_estimators=500;, score=(train=0.943, test=0.092) total time= 1.0min\n",
      "[CV 1/5; 17/100] START max_depth=90, max_features=sqrt, min_samples_leaf=4, min_samples_split=10, n_estimators=600\n",
      "[CV 1/5; 17/100] END max_depth=90, max_features=sqrt, min_samples_leaf=4, min_samples_split=10, n_estimators=600;, score=(train=0.894, test=0.079) total time=  53.1s\n",
      "[CV 2/5; 17/100] START max_depth=90, max_features=sqrt, min_samples_leaf=4, min_samples_split=10, n_estimators=600\n",
      "[CV 2/5; 17/100] END max_depth=90, max_features=sqrt, min_samples_leaf=4, min_samples_split=10, n_estimators=600;, score=(train=0.892, test=0.088) total time=  51.6s\n",
      "[CV 3/5; 17/100] START max_depth=90, max_features=sqrt, min_samples_leaf=4, min_samples_split=10, n_estimators=600\n",
      "[CV 3/5; 17/100] END max_depth=90, max_features=sqrt, min_samples_leaf=4, min_samples_split=10, n_estimators=600;, score=(train=0.893, test=0.080) total time= 1.0min\n",
      "[CV 4/5; 17/100] START max_depth=90, max_features=sqrt, min_samples_leaf=4, min_samples_split=10, n_estimators=600\n",
      "[CV 4/5; 17/100] END max_depth=90, max_features=sqrt, min_samples_leaf=4, min_samples_split=10, n_estimators=600;, score=(train=0.890, test=0.080) total time=  53.8s\n",
      "[CV 5/5; 17/100] START max_depth=90, max_features=sqrt, min_samples_leaf=4, min_samples_split=10, n_estimators=600\n",
      "[CV 5/5; 17/100] END max_depth=90, max_features=sqrt, min_samples_leaf=4, min_samples_split=10, n_estimators=600;, score=(train=0.891, test=0.085) total time=  53.6s\n",
      "[CV 1/5; 18/100] START max_depth=60, max_features=sqrt, min_samples_leaf=1, min_samples_split=2, n_estimators=600\n",
      "[CV 1/5; 18/100] END max_depth=60, max_features=sqrt, min_samples_leaf=1, min_samples_split=2, n_estimators=600;, score=(train=0.946, test=0.079) total time= 1.4min\n",
      "[CV 2/5; 18/100] START max_depth=60, max_features=sqrt, min_samples_leaf=1, min_samples_split=2, n_estimators=600\n",
      "[CV 2/5; 18/100] END max_depth=60, max_features=sqrt, min_samples_leaf=1, min_samples_split=2, n_estimators=600;, score=(train=0.944, test=0.087) total time= 1.4min\n",
      "[CV 3/5; 18/100] START max_depth=60, max_features=sqrt, min_samples_leaf=1, min_samples_split=2, n_estimators=600\n",
      "[CV 3/5; 18/100] END max_depth=60, max_features=sqrt, min_samples_leaf=1, min_samples_split=2, n_estimators=600;, score=(train=0.945, test=0.085) total time= 1.4min\n",
      "[CV 4/5; 18/100] START max_depth=60, max_features=sqrt, min_samples_leaf=1, min_samples_split=2, n_estimators=600\n",
      "[CV 4/5; 18/100] END max_depth=60, max_features=sqrt, min_samples_leaf=1, min_samples_split=2, n_estimators=600;, score=(train=0.939, test=0.079) total time= 1.3min\n",
      "[CV 5/5; 18/100] START max_depth=60, max_features=sqrt, min_samples_leaf=1, min_samples_split=2, n_estimators=600\n",
      "[CV 5/5; 18/100] END max_depth=60, max_features=sqrt, min_samples_leaf=1, min_samples_split=2, n_estimators=600;, score=(train=0.944, test=0.081) total time= 1.4min\n",
      "[CV 1/5; 19/100] START max_depth=30, max_features=auto, min_samples_leaf=1, min_samples_split=2, n_estimators=600\n"
     ]
    },
    {
     "name": "stderr",
     "output_type": "stream",
     "text": [
      "/Users/julianadaikawa/Documents/MBA/TCC/mba/lib/python3.10/site-packages/sklearn/ensemble/_forest.py:424: FutureWarning: `max_features='auto'` has been deprecated in 1.1 and will be removed in 1.3. To keep the past behaviour, explicitly set `max_features='sqrt'` or remove this parameter as it is also the default value for RandomForestClassifiers and ExtraTreesClassifiers.\n"
     ]
    },
    {
     "name": "stdout",
     "output_type": "stream",
     "text": [
      "[CV 1/5; 19/100] END max_depth=30, max_features=auto, min_samples_leaf=1, min_samples_split=2, n_estimators=600;, score=(train=0.869, test=0.067) total time=  50.7s\n",
      "[CV 2/5; 19/100] START max_depth=30, max_features=auto, min_samples_leaf=1, min_samples_split=2, n_estimators=600\n"
     ]
    },
    {
     "name": "stderr",
     "output_type": "stream",
     "text": [
      "/Users/julianadaikawa/Documents/MBA/TCC/mba/lib/python3.10/site-packages/sklearn/ensemble/_forest.py:424: FutureWarning: `max_features='auto'` has been deprecated in 1.1 and will be removed in 1.3. To keep the past behaviour, explicitly set `max_features='sqrt'` or remove this parameter as it is also the default value for RandomForestClassifiers and ExtraTreesClassifiers.\n"
     ]
    },
    {
     "name": "stdout",
     "output_type": "stream",
     "text": [
      "[CV 2/5; 19/100] END max_depth=30, max_features=auto, min_samples_leaf=1, min_samples_split=2, n_estimators=600;, score=(train=0.872, test=0.071) total time=  56.7s\n",
      "[CV 3/5; 19/100] START max_depth=30, max_features=auto, min_samples_leaf=1, min_samples_split=2, n_estimators=600\n"
     ]
    },
    {
     "name": "stderr",
     "output_type": "stream",
     "text": [
      "/Users/julianadaikawa/Documents/MBA/TCC/mba/lib/python3.10/site-packages/sklearn/ensemble/_forest.py:424: FutureWarning: `max_features='auto'` has been deprecated in 1.1 and will be removed in 1.3. To keep the past behaviour, explicitly set `max_features='sqrt'` or remove this parameter as it is also the default value for RandomForestClassifiers and ExtraTreesClassifiers.\n"
     ]
    },
    {
     "name": "stdout",
     "output_type": "stream",
     "text": [
      "[CV 3/5; 19/100] END max_depth=30, max_features=auto, min_samples_leaf=1, min_samples_split=2, n_estimators=600;, score=(train=0.874, test=0.068) total time= 1.2min\n",
      "[CV 4/5; 19/100] START max_depth=30, max_features=auto, min_samples_leaf=1, min_samples_split=2, n_estimators=600\n"
     ]
    },
    {
     "name": "stderr",
     "output_type": "stream",
     "text": [
      "/Users/julianadaikawa/Documents/MBA/TCC/mba/lib/python3.10/site-packages/sklearn/ensemble/_forest.py:424: FutureWarning: `max_features='auto'` has been deprecated in 1.1 and will be removed in 1.3. To keep the past behaviour, explicitly set `max_features='sqrt'` or remove this parameter as it is also the default value for RandomForestClassifiers and ExtraTreesClassifiers.\n"
     ]
    },
    {
     "name": "stdout",
     "output_type": "stream",
     "text": [
      "[CV 4/5; 19/100] END max_depth=30, max_features=auto, min_samples_leaf=1, min_samples_split=2, n_estimators=600;, score=(train=0.857, test=0.073) total time=  51.9s\n",
      "[CV 5/5; 19/100] START max_depth=30, max_features=auto, min_samples_leaf=1, min_samples_split=2, n_estimators=600\n"
     ]
    },
    {
     "name": "stderr",
     "output_type": "stream",
     "text": [
      "/Users/julianadaikawa/Documents/MBA/TCC/mba/lib/python3.10/site-packages/sklearn/ensemble/_forest.py:424: FutureWarning: `max_features='auto'` has been deprecated in 1.1 and will be removed in 1.3. To keep the past behaviour, explicitly set `max_features='sqrt'` or remove this parameter as it is also the default value for RandomForestClassifiers and ExtraTreesClassifiers.\n"
     ]
    },
    {
     "name": "stdout",
     "output_type": "stream",
     "text": [
      "[CV 5/5; 19/100] END max_depth=30, max_features=auto, min_samples_leaf=1, min_samples_split=2, n_estimators=600;, score=(train=0.860, test=0.071) total time=  41.6s\n",
      "[CV 1/5; 20/100] START max_depth=70, max_features=auto, min_samples_leaf=1, min_samples_split=5, n_estimators=200\n"
     ]
    },
    {
     "name": "stderr",
     "output_type": "stream",
     "text": [
      "/Users/julianadaikawa/Documents/MBA/TCC/mba/lib/python3.10/site-packages/sklearn/ensemble/_forest.py:424: FutureWarning: `max_features='auto'` has been deprecated in 1.1 and will be removed in 1.3. To keep the past behaviour, explicitly set `max_features='sqrt'` or remove this parameter as it is also the default value for RandomForestClassifiers and ExtraTreesClassifiers.\n"
     ]
    },
    {
     "name": "stdout",
     "output_type": "stream",
     "text": [
      "[CV 1/5; 20/100] END max_depth=70, max_features=auto, min_samples_leaf=1, min_samples_split=5, n_estimators=200;, score=(train=0.945, test=0.080) total time=  23.1s\n",
      "[CV 2/5; 20/100] START max_depth=70, max_features=auto, min_samples_leaf=1, min_samples_split=5, n_estimators=200\n"
     ]
    },
    {
     "name": "stderr",
     "output_type": "stream",
     "text": [
      "/Users/julianadaikawa/Documents/MBA/TCC/mba/lib/python3.10/site-packages/sklearn/ensemble/_forest.py:424: FutureWarning: `max_features='auto'` has been deprecated in 1.1 and will be removed in 1.3. To keep the past behaviour, explicitly set `max_features='sqrt'` or remove this parameter as it is also the default value for RandomForestClassifiers and ExtraTreesClassifiers.\n"
     ]
    },
    {
     "name": "stdout",
     "output_type": "stream",
     "text": [
      "[CV 2/5; 20/100] END max_depth=70, max_features=auto, min_samples_leaf=1, min_samples_split=5, n_estimators=200;, score=(train=0.942, test=0.089) total time=  25.8s\n",
      "[CV 3/5; 20/100] START max_depth=70, max_features=auto, min_samples_leaf=1, min_samples_split=5, n_estimators=200\n"
     ]
    },
    {
     "name": "stderr",
     "output_type": "stream",
     "text": [
      "/Users/julianadaikawa/Documents/MBA/TCC/mba/lib/python3.10/site-packages/sklearn/ensemble/_forest.py:424: FutureWarning: `max_features='auto'` has been deprecated in 1.1 and will be removed in 1.3. To keep the past behaviour, explicitly set `max_features='sqrt'` or remove this parameter as it is also the default value for RandomForestClassifiers and ExtraTreesClassifiers.\n"
     ]
    },
    {
     "name": "stdout",
     "output_type": "stream",
     "text": [
      "[CV 3/5; 20/100] END max_depth=70, max_features=auto, min_samples_leaf=1, min_samples_split=5, n_estimators=200;, score=(train=0.943, test=0.088) total time=  31.5s\n",
      "[CV 4/5; 20/100] START max_depth=70, max_features=auto, min_samples_leaf=1, min_samples_split=5, n_estimators=200\n"
     ]
    },
    {
     "name": "stderr",
     "output_type": "stream",
     "text": [
      "/Users/julianadaikawa/Documents/MBA/TCC/mba/lib/python3.10/site-packages/sklearn/ensemble/_forest.py:424: FutureWarning: `max_features='auto'` has been deprecated in 1.1 and will be removed in 1.3. To keep the past behaviour, explicitly set `max_features='sqrt'` or remove this parameter as it is also the default value for RandomForestClassifiers and ExtraTreesClassifiers.\n"
     ]
    },
    {
     "name": "stdout",
     "output_type": "stream",
     "text": [
      "[CV 4/5; 20/100] END max_depth=70, max_features=auto, min_samples_leaf=1, min_samples_split=5, n_estimators=200;, score=(train=0.938, test=0.082) total time=  25.6s\n",
      "[CV 5/5; 20/100] START max_depth=70, max_features=auto, min_samples_leaf=1, min_samples_split=5, n_estimators=200\n"
     ]
    },
    {
     "name": "stderr",
     "output_type": "stream",
     "text": [
      "/Users/julianadaikawa/Documents/MBA/TCC/mba/lib/python3.10/site-packages/sklearn/ensemble/_forest.py:424: FutureWarning: `max_features='auto'` has been deprecated in 1.1 and will be removed in 1.3. To keep the past behaviour, explicitly set `max_features='sqrt'` or remove this parameter as it is also the default value for RandomForestClassifiers and ExtraTreesClassifiers.\n"
     ]
    },
    {
     "name": "stdout",
     "output_type": "stream",
     "text": [
      "[CV 5/5; 20/100] END max_depth=70, max_features=auto, min_samples_leaf=1, min_samples_split=5, n_estimators=200;, score=(train=0.939, test=0.084) total time=  24.9s\n",
      "[CV 1/5; 21/100] START max_depth=50, max_features=auto, min_samples_leaf=10, min_samples_split=2, n_estimators=700\n"
     ]
    },
    {
     "name": "stderr",
     "output_type": "stream",
     "text": [
      "/Users/julianadaikawa/Documents/MBA/TCC/mba/lib/python3.10/site-packages/sklearn/ensemble/_forest.py:424: FutureWarning: `max_features='auto'` has been deprecated in 1.1 and will be removed in 1.3. To keep the past behaviour, explicitly set `max_features='sqrt'` or remove this parameter as it is also the default value for RandomForestClassifiers and ExtraTreesClassifiers.\n"
     ]
    },
    {
     "name": "stdout",
     "output_type": "stream",
     "text": [
      "[CV 1/5; 21/100] END max_depth=50, max_features=auto, min_samples_leaf=10, min_samples_split=2, n_estimators=700;, score=(train=0.433, test=0.063) total time=  44.1s\n",
      "[CV 2/5; 21/100] START max_depth=50, max_features=auto, min_samples_leaf=10, min_samples_split=2, n_estimators=700\n"
     ]
    },
    {
     "name": "stderr",
     "output_type": "stream",
     "text": [
      "/Users/julianadaikawa/Documents/MBA/TCC/mba/lib/python3.10/site-packages/sklearn/ensemble/_forest.py:424: FutureWarning: `max_features='auto'` has been deprecated in 1.1 and will be removed in 1.3. To keep the past behaviour, explicitly set `max_features='sqrt'` or remove this parameter as it is also the default value for RandomForestClassifiers and ExtraTreesClassifiers.\n"
     ]
    },
    {
     "name": "stdout",
     "output_type": "stream",
     "text": [
      "[CV 2/5; 21/100] END max_depth=50, max_features=auto, min_samples_leaf=10, min_samples_split=2, n_estimators=700;, score=(train=0.448, test=0.070) total time=  36.7s\n",
      "[CV 3/5; 21/100] START max_depth=50, max_features=auto, min_samples_leaf=10, min_samples_split=2, n_estimators=700\n"
     ]
    },
    {
     "name": "stderr",
     "output_type": "stream",
     "text": [
      "/Users/julianadaikawa/Documents/MBA/TCC/mba/lib/python3.10/site-packages/sklearn/ensemble/_forest.py:424: FutureWarning: `max_features='auto'` has been deprecated in 1.1 and will be removed in 1.3. To keep the past behaviour, explicitly set `max_features='sqrt'` or remove this parameter as it is also the default value for RandomForestClassifiers and ExtraTreesClassifiers.\n"
     ]
    },
    {
     "name": "stdout",
     "output_type": "stream",
     "text": [
      "[CV 3/5; 21/100] END max_depth=50, max_features=auto, min_samples_leaf=10, min_samples_split=2, n_estimators=700;, score=(train=0.441, test=0.065) total time=  48.6s\n",
      "[CV 4/5; 21/100] START max_depth=50, max_features=auto, min_samples_leaf=10, min_samples_split=2, n_estimators=700\n"
     ]
    },
    {
     "name": "stderr",
     "output_type": "stream",
     "text": [
      "/Users/julianadaikawa/Documents/MBA/TCC/mba/lib/python3.10/site-packages/sklearn/ensemble/_forest.py:424: FutureWarning: `max_features='auto'` has been deprecated in 1.1 and will be removed in 1.3. To keep the past behaviour, explicitly set `max_features='sqrt'` or remove this parameter as it is also the default value for RandomForestClassifiers and ExtraTreesClassifiers.\n"
     ]
    },
    {
     "name": "stdout",
     "output_type": "stream",
     "text": [
      "[CV 4/5; 21/100] END max_depth=50, max_features=auto, min_samples_leaf=10, min_samples_split=2, n_estimators=700;, score=(train=0.441, test=0.060) total time=  40.1s\n",
      "[CV 5/5; 21/100] START max_depth=50, max_features=auto, min_samples_leaf=10, min_samples_split=2, n_estimators=700\n"
     ]
    },
    {
     "name": "stderr",
     "output_type": "stream",
     "text": [
      "/Users/julianadaikawa/Documents/MBA/TCC/mba/lib/python3.10/site-packages/sklearn/ensemble/_forest.py:424: FutureWarning: `max_features='auto'` has been deprecated in 1.1 and will be removed in 1.3. To keep the past behaviour, explicitly set `max_features='sqrt'` or remove this parameter as it is also the default value for RandomForestClassifiers and ExtraTreesClassifiers.\n"
     ]
    },
    {
     "name": "stdout",
     "output_type": "stream",
     "text": [
      "[CV 5/5; 21/100] END max_depth=50, max_features=auto, min_samples_leaf=10, min_samples_split=2, n_estimators=700;, score=(train=0.440, test=0.068) total time=  36.4s\n",
      "[CV 1/5; 22/100] START max_depth=20, max_features=sqrt, min_samples_leaf=2, min_samples_split=10, n_estimators=100\n",
      "[CV 1/5; 22/100] END max_depth=20, max_features=sqrt, min_samples_leaf=2, min_samples_split=10, n_estimators=100;, score=(train=0.367, test=0.054) total time=   4.1s\n",
      "[CV 2/5; 22/100] START max_depth=20, max_features=sqrt, min_samples_leaf=2, min_samples_split=10, n_estimators=100\n",
      "[CV 2/5; 22/100] END max_depth=20, max_features=sqrt, min_samples_leaf=2, min_samples_split=10, n_estimators=100;, score=(train=0.374, test=0.060) total time=   3.9s\n",
      "[CV 3/5; 22/100] START max_depth=20, max_features=sqrt, min_samples_leaf=2, min_samples_split=10, n_estimators=100\n",
      "[CV 3/5; 22/100] END max_depth=20, max_features=sqrt, min_samples_leaf=2, min_samples_split=10, n_estimators=100;, score=(train=0.380, test=0.056) total time=   4.3s\n",
      "[CV 4/5; 22/100] START max_depth=20, max_features=sqrt, min_samples_leaf=2, min_samples_split=10, n_estimators=100\n",
      "[CV 4/5; 22/100] END max_depth=20, max_features=sqrt, min_samples_leaf=2, min_samples_split=10, n_estimators=100;, score=(train=0.374, test=0.054) total time=   4.0s\n",
      "[CV 5/5; 22/100] START max_depth=20, max_features=sqrt, min_samples_leaf=2, min_samples_split=10, n_estimators=100\n",
      "[CV 5/5; 22/100] END max_depth=20, max_features=sqrt, min_samples_leaf=2, min_samples_split=10, n_estimators=100;, score=(train=0.378, test=0.056) total time=   3.9s\n",
      "[CV 1/5; 23/100] START max_depth=60, max_features=auto, min_samples_leaf=1, min_samples_split=5, n_estimators=400\n"
     ]
    },
    {
     "name": "stderr",
     "output_type": "stream",
     "text": [
      "/Users/julianadaikawa/Documents/MBA/TCC/mba/lib/python3.10/site-packages/sklearn/ensemble/_forest.py:424: FutureWarning: `max_features='auto'` has been deprecated in 1.1 and will be removed in 1.3. To keep the past behaviour, explicitly set `max_features='sqrt'` or remove this parameter as it is also the default value for RandomForestClassifiers and ExtraTreesClassifiers.\n"
     ]
    },
    {
     "name": "stdout",
     "output_type": "stream",
     "text": [
      "[CV 1/5; 23/100] END max_depth=60, max_features=auto, min_samples_leaf=1, min_samples_split=5, n_estimators=400;, score=(train=0.934, test=0.079) total time=  43.3s\n",
      "[CV 2/5; 23/100] START max_depth=60, max_features=auto, min_samples_leaf=1, min_samples_split=5, n_estimators=400\n"
     ]
    },
    {
     "name": "stderr",
     "output_type": "stream",
     "text": [
      "/Users/julianadaikawa/Documents/MBA/TCC/mba/lib/python3.10/site-packages/sklearn/ensemble/_forest.py:424: FutureWarning: `max_features='auto'` has been deprecated in 1.1 and will be removed in 1.3. To keep the past behaviour, explicitly set `max_features='sqrt'` or remove this parameter as it is also the default value for RandomForestClassifiers and ExtraTreesClassifiers.\n"
     ]
    },
    {
     "name": "stdout",
     "output_type": "stream",
     "text": [
      "[CV 2/5; 23/100] END max_depth=60, max_features=auto, min_samples_leaf=1, min_samples_split=5, n_estimators=400;, score=(train=0.935, test=0.090) total time=  50.7s\n",
      "[CV 3/5; 23/100] START max_depth=60, max_features=auto, min_samples_leaf=1, min_samples_split=5, n_estimators=400\n"
     ]
    },
    {
     "name": "stderr",
     "output_type": "stream",
     "text": [
      "/Users/julianadaikawa/Documents/MBA/TCC/mba/lib/python3.10/site-packages/sklearn/ensemble/_forest.py:424: FutureWarning: `max_features='auto'` has been deprecated in 1.1 and will be removed in 1.3. To keep the past behaviour, explicitly set `max_features='sqrt'` or remove this parameter as it is also the default value for RandomForestClassifiers and ExtraTreesClassifiers.\n"
     ]
    },
    {
     "name": "stdout",
     "output_type": "stream",
     "text": [
      "[CV 3/5; 23/100] END max_depth=60, max_features=auto, min_samples_leaf=1, min_samples_split=5, n_estimators=400;, score=(train=0.942, test=0.087) total time=  53.3s\n",
      "[CV 4/5; 23/100] START max_depth=60, max_features=auto, min_samples_leaf=1, min_samples_split=5, n_estimators=400\n"
     ]
    },
    {
     "name": "stderr",
     "output_type": "stream",
     "text": [
      "/Users/julianadaikawa/Documents/MBA/TCC/mba/lib/python3.10/site-packages/sklearn/ensemble/_forest.py:424: FutureWarning: `max_features='auto'` has been deprecated in 1.1 and will be removed in 1.3. To keep the past behaviour, explicitly set `max_features='sqrt'` or remove this parameter as it is also the default value for RandomForestClassifiers and ExtraTreesClassifiers.\n"
     ]
    },
    {
     "name": "stdout",
     "output_type": "stream",
     "text": [
      "[CV 4/5; 23/100] END max_depth=60, max_features=auto, min_samples_leaf=1, min_samples_split=5, n_estimators=400;, score=(train=0.936, test=0.084) total time=  42.9s\n",
      "[CV 5/5; 23/100] START max_depth=60, max_features=auto, min_samples_leaf=1, min_samples_split=5, n_estimators=400\n"
     ]
    },
    {
     "name": "stderr",
     "output_type": "stream",
     "text": [
      "/Users/julianadaikawa/Documents/MBA/TCC/mba/lib/python3.10/site-packages/sklearn/ensemble/_forest.py:424: FutureWarning: `max_features='auto'` has been deprecated in 1.1 and will be removed in 1.3. To keep the past behaviour, explicitly set `max_features='sqrt'` or remove this parameter as it is also the default value for RandomForestClassifiers and ExtraTreesClassifiers.\n"
     ]
    },
    {
     "name": "stdout",
     "output_type": "stream",
     "text": [
      "[CV 5/5; 23/100] END max_depth=60, max_features=auto, min_samples_leaf=1, min_samples_split=5, n_estimators=400;, score=(train=0.937, test=0.085) total time=  50.2s\n",
      "[CV 1/5; 24/100] START max_depth=110, max_features=sqrt, min_samples_leaf=2, min_samples_split=5, n_estimators=100\n",
      "[CV 1/5; 24/100] END max_depth=110, max_features=sqrt, min_samples_leaf=2, min_samples_split=5, n_estimators=100;, score=(train=0.942, test=0.090) total time=  12.5s\n",
      "[CV 2/5; 24/100] START max_depth=110, max_features=sqrt, min_samples_leaf=2, min_samples_split=5, n_estimators=100\n",
      "[CV 2/5; 24/100] END max_depth=110, max_features=sqrt, min_samples_leaf=2, min_samples_split=5, n_estimators=100;, score=(train=0.941, test=0.095) total time=  12.3s\n",
      "[CV 3/5; 24/100] START max_depth=110, max_features=sqrt, min_samples_leaf=2, min_samples_split=5, n_estimators=100\n",
      "[CV 3/5; 24/100] END max_depth=110, max_features=sqrt, min_samples_leaf=2, min_samples_split=5, n_estimators=100;, score=(train=0.942, test=0.096) total time=  12.2s\n",
      "[CV 4/5; 24/100] START max_depth=110, max_features=sqrt, min_samples_leaf=2, min_samples_split=5, n_estimators=100\n",
      "[CV 4/5; 24/100] END max_depth=110, max_features=sqrt, min_samples_leaf=2, min_samples_split=5, n_estimators=100;, score=(train=0.942, test=0.086) total time=  12.1s\n",
      "[CV 5/5; 24/100] START max_depth=110, max_features=sqrt, min_samples_leaf=2, min_samples_split=5, n_estimators=100\n",
      "[CV 5/5; 24/100] END max_depth=110, max_features=sqrt, min_samples_leaf=2, min_samples_split=5, n_estimators=100;, score=(train=0.942, test=0.090) total time=  12.4s\n",
      "[CV 1/5; 25/100] START max_depth=80, max_features=auto, min_samples_leaf=4, min_samples_split=2, n_estimators=100\n"
     ]
    },
    {
     "name": "stderr",
     "output_type": "stream",
     "text": [
      "/Users/julianadaikawa/Documents/MBA/TCC/mba/lib/python3.10/site-packages/sklearn/ensemble/_forest.py:424: FutureWarning: `max_features='auto'` has been deprecated in 1.1 and will be removed in 1.3. To keep the past behaviour, explicitly set `max_features='sqrt'` or remove this parameter as it is also the default value for RandomForestClassifiers and ExtraTreesClassifiers.\n"
     ]
    },
    {
     "name": "stdout",
     "output_type": "stream",
     "text": [
      "[CV 1/5; 25/100] END max_depth=80, max_features=auto, min_samples_leaf=4, min_samples_split=2, n_estimators=100;, score=(train=0.872, test=0.078) total time=   8.6s\n",
      "[CV 2/5; 25/100] START max_depth=80, max_features=auto, min_samples_leaf=4, min_samples_split=2, n_estimators=100\n"
     ]
    },
    {
     "name": "stderr",
     "output_type": "stream",
     "text": [
      "/Users/julianadaikawa/Documents/MBA/TCC/mba/lib/python3.10/site-packages/sklearn/ensemble/_forest.py:424: FutureWarning: `max_features='auto'` has been deprecated in 1.1 and will be removed in 1.3. To keep the past behaviour, explicitly set `max_features='sqrt'` or remove this parameter as it is also the default value for RandomForestClassifiers and ExtraTreesClassifiers.\n"
     ]
    },
    {
     "name": "stdout",
     "output_type": "stream",
     "text": [
      "[CV 2/5; 25/100] END max_depth=80, max_features=auto, min_samples_leaf=4, min_samples_split=2, n_estimators=100;, score=(train=0.872, test=0.085) total time=   8.5s\n",
      "[CV 3/5; 25/100] START max_depth=80, max_features=auto, min_samples_leaf=4, min_samples_split=2, n_estimators=100\n"
     ]
    },
    {
     "name": "stderr",
     "output_type": "stream",
     "text": [
      "/Users/julianadaikawa/Documents/MBA/TCC/mba/lib/python3.10/site-packages/sklearn/ensemble/_forest.py:424: FutureWarning: `max_features='auto'` has been deprecated in 1.1 and will be removed in 1.3. To keep the past behaviour, explicitly set `max_features='sqrt'` or remove this parameter as it is also the default value for RandomForestClassifiers and ExtraTreesClassifiers.\n"
     ]
    },
    {
     "name": "stdout",
     "output_type": "stream",
     "text": [
      "[CV 3/5; 25/100] END max_depth=80, max_features=auto, min_samples_leaf=4, min_samples_split=2, n_estimators=100;, score=(train=0.872, test=0.078) total time=   8.7s\n",
      "[CV 4/5; 25/100] START max_depth=80, max_features=auto, min_samples_leaf=4, min_samples_split=2, n_estimators=100\n"
     ]
    },
    {
     "name": "stderr",
     "output_type": "stream",
     "text": [
      "/Users/julianadaikawa/Documents/MBA/TCC/mba/lib/python3.10/site-packages/sklearn/ensemble/_forest.py:424: FutureWarning: `max_features='auto'` has been deprecated in 1.1 and will be removed in 1.3. To keep the past behaviour, explicitly set `max_features='sqrt'` or remove this parameter as it is also the default value for RandomForestClassifiers and ExtraTreesClassifiers.\n"
     ]
    },
    {
     "name": "stdout",
     "output_type": "stream",
     "text": [
      "[CV 4/5; 25/100] END max_depth=80, max_features=auto, min_samples_leaf=4, min_samples_split=2, n_estimators=100;, score=(train=0.882, test=0.073) total time=   8.6s\n",
      "[CV 5/5; 25/100] START max_depth=80, max_features=auto, min_samples_leaf=4, min_samples_split=2, n_estimators=100\n"
     ]
    },
    {
     "name": "stderr",
     "output_type": "stream",
     "text": [
      "/Users/julianadaikawa/Documents/MBA/TCC/mba/lib/python3.10/site-packages/sklearn/ensemble/_forest.py:424: FutureWarning: `max_features='auto'` has been deprecated in 1.1 and will be removed in 1.3. To keep the past behaviour, explicitly set `max_features='sqrt'` or remove this parameter as it is also the default value for RandomForestClassifiers and ExtraTreesClassifiers.\n"
     ]
    },
    {
     "name": "stdout",
     "output_type": "stream",
     "text": [
      "[CV 5/5; 25/100] END max_depth=80, max_features=auto, min_samples_leaf=4, min_samples_split=2, n_estimators=100;, score=(train=0.874, test=0.090) total time=   9.2s\n",
      "[CV 1/5; 26/100] START max_depth=110, max_features=auto, min_samples_leaf=2, min_samples_split=10, n_estimators=1000\n"
     ]
    },
    {
     "name": "stderr",
     "output_type": "stream",
     "text": [
      "/Users/julianadaikawa/Documents/MBA/TCC/mba/lib/python3.10/site-packages/sklearn/ensemble/_forest.py:424: FutureWarning: `max_features='auto'` has been deprecated in 1.1 and will be removed in 1.3. To keep the past behaviour, explicitly set `max_features='sqrt'` or remove this parameter as it is also the default value for RandomForestClassifiers and ExtraTreesClassifiers.\n"
     ]
    },
    {
     "name": "stdout",
     "output_type": "stream",
     "text": [
      "[CV 1/5; 26/100] END max_depth=110, max_features=auto, min_samples_leaf=2, min_samples_split=10, n_estimators=1000;, score=(train=0.942, test=0.084) total time= 2.4min\n",
      "[CV 2/5; 26/100] START max_depth=110, max_features=auto, min_samples_leaf=2, min_samples_split=10, n_estimators=1000\n"
     ]
    },
    {
     "name": "stderr",
     "output_type": "stream",
     "text": [
      "/Users/julianadaikawa/Documents/MBA/TCC/mba/lib/python3.10/site-packages/sklearn/ensemble/_forest.py:424: FutureWarning: `max_features='auto'` has been deprecated in 1.1 and will be removed in 1.3. To keep the past behaviour, explicitly set `max_features='sqrt'` or remove this parameter as it is also the default value for RandomForestClassifiers and ExtraTreesClassifiers.\n"
     ]
    },
    {
     "name": "stdout",
     "output_type": "stream",
     "text": [
      "[CV 2/5; 26/100] END max_depth=110, max_features=auto, min_samples_leaf=2, min_samples_split=10, n_estimators=1000;, score=(train=0.942, test=0.093) total time= 2.0min\n",
      "[CV 3/5; 26/100] START max_depth=110, max_features=auto, min_samples_leaf=2, min_samples_split=10, n_estimators=1000\n"
     ]
    },
    {
     "name": "stderr",
     "output_type": "stream",
     "text": [
      "/Users/julianadaikawa/Documents/MBA/TCC/mba/lib/python3.10/site-packages/sklearn/ensemble/_forest.py:424: FutureWarning: `max_features='auto'` has been deprecated in 1.1 and will be removed in 1.3. To keep the past behaviour, explicitly set `max_features='sqrt'` or remove this parameter as it is also the default value for RandomForestClassifiers and ExtraTreesClassifiers.\n"
     ]
    },
    {
     "name": "stdout",
     "output_type": "stream",
     "text": [
      "[CV 3/5; 26/100] END max_depth=110, max_features=auto, min_samples_leaf=2, min_samples_split=10, n_estimators=1000;, score=(train=0.941, test=0.097) total time= 2.0min\n",
      "[CV 4/5; 26/100] START max_depth=110, max_features=auto, min_samples_leaf=2, min_samples_split=10, n_estimators=1000\n"
     ]
    },
    {
     "name": "stderr",
     "output_type": "stream",
     "text": [
      "/Users/julianadaikawa/Documents/MBA/TCC/mba/lib/python3.10/site-packages/sklearn/ensemble/_forest.py:424: FutureWarning: `max_features='auto'` has been deprecated in 1.1 and will be removed in 1.3. To keep the past behaviour, explicitly set `max_features='sqrt'` or remove this parameter as it is also the default value for RandomForestClassifiers and ExtraTreesClassifiers.\n"
     ]
    },
    {
     "name": "stdout",
     "output_type": "stream",
     "text": [
      "[CV 4/5; 26/100] END max_depth=110, max_features=auto, min_samples_leaf=2, min_samples_split=10, n_estimators=1000;, score=(train=0.941, test=0.088) total time= 2.0min\n",
      "[CV 5/5; 26/100] START max_depth=110, max_features=auto, min_samples_leaf=2, min_samples_split=10, n_estimators=1000\n"
     ]
    },
    {
     "name": "stderr",
     "output_type": "stream",
     "text": [
      "/Users/julianadaikawa/Documents/MBA/TCC/mba/lib/python3.10/site-packages/sklearn/ensemble/_forest.py:424: FutureWarning: `max_features='auto'` has been deprecated in 1.1 and will be removed in 1.3. To keep the past behaviour, explicitly set `max_features='sqrt'` or remove this parameter as it is also the default value for RandomForestClassifiers and ExtraTreesClassifiers.\n"
     ]
    },
    {
     "name": "stdout",
     "output_type": "stream",
     "text": [
      "[CV 5/5; 26/100] END max_depth=110, max_features=auto, min_samples_leaf=2, min_samples_split=10, n_estimators=1000;, score=(train=0.942, test=0.098) total time= 2.0min\n",
      "[CV 1/5; 27/100] START max_depth=20, max_features=sqrt, min_samples_leaf=10, min_samples_split=5, n_estimators=500\n",
      "[CV 1/5; 27/100] END max_depth=20, max_features=sqrt, min_samples_leaf=10, min_samples_split=5, n_estimators=500;, score=(train=0.167, test=0.056) total time=  19.3s\n",
      "[CV 2/5; 27/100] START max_depth=20, max_features=sqrt, min_samples_leaf=10, min_samples_split=5, n_estimators=500\n",
      "[CV 2/5; 27/100] END max_depth=20, max_features=sqrt, min_samples_leaf=10, min_samples_split=5, n_estimators=500;, score=(train=0.174, test=0.057) total time=  16.5s\n",
      "[CV 3/5; 27/100] START max_depth=20, max_features=sqrt, min_samples_leaf=10, min_samples_split=5, n_estimators=500\n",
      "[CV 3/5; 27/100] END max_depth=20, max_features=sqrt, min_samples_leaf=10, min_samples_split=5, n_estimators=500;, score=(train=0.170, test=0.054) total time=  16.4s\n",
      "[CV 4/5; 27/100] START max_depth=20, max_features=sqrt, min_samples_leaf=10, min_samples_split=5, n_estimators=500\n",
      "[CV 4/5; 27/100] END max_depth=20, max_features=sqrt, min_samples_leaf=10, min_samples_split=5, n_estimators=500;, score=(train=0.172, test=0.055) total time=  16.2s\n",
      "[CV 5/5; 27/100] START max_depth=20, max_features=sqrt, min_samples_leaf=10, min_samples_split=5, n_estimators=500\n",
      "[CV 5/5; 27/100] END max_depth=20, max_features=sqrt, min_samples_leaf=10, min_samples_split=5, n_estimators=500;, score=(train=0.162, test=0.049) total time=  15.8s\n",
      "[CV 1/5; 28/100] START max_depth=80, max_features=auto, min_samples_leaf=4, min_samples_split=10, n_estimators=700\n"
     ]
    },
    {
     "name": "stderr",
     "output_type": "stream",
     "text": [
      "/Users/julianadaikawa/Documents/MBA/TCC/mba/lib/python3.10/site-packages/sklearn/ensemble/_forest.py:424: FutureWarning: `max_features='auto'` has been deprecated in 1.1 and will be removed in 1.3. To keep the past behaviour, explicitly set `max_features='sqrt'` or remove this parameter as it is also the default value for RandomForestClassifiers and ExtraTreesClassifiers.\n"
     ]
    },
    {
     "name": "stdout",
     "output_type": "stream",
     "text": [
      "[CV 1/5; 28/100] END max_depth=80, max_features=auto, min_samples_leaf=4, min_samples_split=10, n_estimators=700;, score=(train=0.889, test=0.077) total time= 1.1min\n",
      "[CV 2/5; 28/100] START max_depth=80, max_features=auto, min_samples_leaf=4, min_samples_split=10, n_estimators=700\n"
     ]
    },
    {
     "name": "stderr",
     "output_type": "stream",
     "text": [
      "/Users/julianadaikawa/Documents/MBA/TCC/mba/lib/python3.10/site-packages/sklearn/ensemble/_forest.py:424: FutureWarning: `max_features='auto'` has been deprecated in 1.1 and will be removed in 1.3. To keep the past behaviour, explicitly set `max_features='sqrt'` or remove this parameter as it is also the default value for RandomForestClassifiers and ExtraTreesClassifiers.\n"
     ]
    },
    {
     "name": "stdout",
     "output_type": "stream",
     "text": [
      "[CV 2/5; 28/100] END max_depth=80, max_features=auto, min_samples_leaf=4, min_samples_split=10, n_estimators=700;, score=(train=0.887, test=0.085) total time= 1.2min\n",
      "[CV 3/5; 28/100] START max_depth=80, max_features=auto, min_samples_leaf=4, min_samples_split=10, n_estimators=700\n"
     ]
    },
    {
     "name": "stderr",
     "output_type": "stream",
     "text": [
      "/Users/julianadaikawa/Documents/MBA/TCC/mba/lib/python3.10/site-packages/sklearn/ensemble/_forest.py:424: FutureWarning: `max_features='auto'` has been deprecated in 1.1 and will be removed in 1.3. To keep the past behaviour, explicitly set `max_features='sqrt'` or remove this parameter as it is also the default value for RandomForestClassifiers and ExtraTreesClassifiers.\n"
     ]
    },
    {
     "name": "stdout",
     "output_type": "stream",
     "text": [
      "[CV 3/5; 28/100] END max_depth=80, max_features=auto, min_samples_leaf=4, min_samples_split=10, n_estimators=700;, score=(train=0.887, test=0.075) total time= 1.2min\n",
      "[CV 4/5; 28/100] START max_depth=80, max_features=auto, min_samples_leaf=4, min_samples_split=10, n_estimators=700\n"
     ]
    },
    {
     "name": "stderr",
     "output_type": "stream",
     "text": [
      "/Users/julianadaikawa/Documents/MBA/TCC/mba/lib/python3.10/site-packages/sklearn/ensemble/_forest.py:424: FutureWarning: `max_features='auto'` has been deprecated in 1.1 and will be removed in 1.3. To keep the past behaviour, explicitly set `max_features='sqrt'` or remove this parameter as it is also the default value for RandomForestClassifiers and ExtraTreesClassifiers.\n"
     ]
    },
    {
     "name": "stdout",
     "output_type": "stream",
     "text": [
      "[CV 4/5; 28/100] END max_depth=80, max_features=auto, min_samples_leaf=4, min_samples_split=10, n_estimators=700;, score=(train=0.883, test=0.082) total time= 1.1min\n",
      "[CV 5/5; 28/100] START max_depth=80, max_features=auto, min_samples_leaf=4, min_samples_split=10, n_estimators=700\n"
     ]
    },
    {
     "name": "stderr",
     "output_type": "stream",
     "text": [
      "/Users/julianadaikawa/Documents/MBA/TCC/mba/lib/python3.10/site-packages/sklearn/ensemble/_forest.py:424: FutureWarning: `max_features='auto'` has been deprecated in 1.1 and will be removed in 1.3. To keep the past behaviour, explicitly set `max_features='sqrt'` or remove this parameter as it is also the default value for RandomForestClassifiers and ExtraTreesClassifiers.\n"
     ]
    },
    {
     "name": "stdout",
     "output_type": "stream",
     "text": [
      "[CV 5/5; 28/100] END max_depth=80, max_features=auto, min_samples_leaf=4, min_samples_split=10, n_estimators=700;, score=(train=0.888, test=0.084) total time= 1.0min\n",
      "[CV 1/5; 29/100] START max_depth=30, max_features=auto, min_samples_leaf=10, min_samples_split=5, n_estimators=300\n"
     ]
    },
    {
     "name": "stderr",
     "output_type": "stream",
     "text": [
      "/Users/julianadaikawa/Documents/MBA/TCC/mba/lib/python3.10/site-packages/sklearn/ensemble/_forest.py:424: FutureWarning: `max_features='auto'` has been deprecated in 1.1 and will be removed in 1.3. To keep the past behaviour, explicitly set `max_features='sqrt'` or remove this parameter as it is also the default value for RandomForestClassifiers and ExtraTreesClassifiers.\n"
     ]
    },
    {
     "name": "stdout",
     "output_type": "stream",
     "text": [
      "[CV 1/5; 29/100] END max_depth=30, max_features=auto, min_samples_leaf=10, min_samples_split=5, n_estimators=300;, score=(train=0.266, test=0.058) total time=  13.5s\n",
      "[CV 2/5; 29/100] START max_depth=30, max_features=auto, min_samples_leaf=10, min_samples_split=5, n_estimators=300\n"
     ]
    },
    {
     "name": "stderr",
     "output_type": "stream",
     "text": [
      "/Users/julianadaikawa/Documents/MBA/TCC/mba/lib/python3.10/site-packages/sklearn/ensemble/_forest.py:424: FutureWarning: `max_features='auto'` has been deprecated in 1.1 and will be removed in 1.3. To keep the past behaviour, explicitly set `max_features='sqrt'` or remove this parameter as it is also the default value for RandomForestClassifiers and ExtraTreesClassifiers.\n"
     ]
    },
    {
     "name": "stdout",
     "output_type": "stream",
     "text": [
      "[CV 2/5; 29/100] END max_depth=30, max_features=auto, min_samples_leaf=10, min_samples_split=5, n_estimators=300;, score=(train=0.273, test=0.069) total time=  13.2s\n",
      "[CV 3/5; 29/100] START max_depth=30, max_features=auto, min_samples_leaf=10, min_samples_split=5, n_estimators=300\n"
     ]
    },
    {
     "name": "stderr",
     "output_type": "stream",
     "text": [
      "/Users/julianadaikawa/Documents/MBA/TCC/mba/lib/python3.10/site-packages/sklearn/ensemble/_forest.py:424: FutureWarning: `max_features='auto'` has been deprecated in 1.1 and will be removed in 1.3. To keep the past behaviour, explicitly set `max_features='sqrt'` or remove this parameter as it is also the default value for RandomForestClassifiers and ExtraTreesClassifiers.\n"
     ]
    },
    {
     "name": "stdout",
     "output_type": "stream",
     "text": [
      "[CV 3/5; 29/100] END max_depth=30, max_features=auto, min_samples_leaf=10, min_samples_split=5, n_estimators=300;, score=(train=0.281, test=0.066) total time=  14.1s\n",
      "[CV 4/5; 29/100] START max_depth=30, max_features=auto, min_samples_leaf=10, min_samples_split=5, n_estimators=300\n"
     ]
    },
    {
     "name": "stderr",
     "output_type": "stream",
     "text": [
      "/Users/julianadaikawa/Documents/MBA/TCC/mba/lib/python3.10/site-packages/sklearn/ensemble/_forest.py:424: FutureWarning: `max_features='auto'` has been deprecated in 1.1 and will be removed in 1.3. To keep the past behaviour, explicitly set `max_features='sqrt'` or remove this parameter as it is also the default value for RandomForestClassifiers and ExtraTreesClassifiers.\n"
     ]
    },
    {
     "name": "stdout",
     "output_type": "stream",
     "text": [
      "[CV 4/5; 29/100] END max_depth=30, max_features=auto, min_samples_leaf=10, min_samples_split=5, n_estimators=300;, score=(train=0.270, test=0.065) total time=  13.9s\n",
      "[CV 5/5; 29/100] START max_depth=30, max_features=auto, min_samples_leaf=10, min_samples_split=5, n_estimators=300\n"
     ]
    },
    {
     "name": "stderr",
     "output_type": "stream",
     "text": [
      "/Users/julianadaikawa/Documents/MBA/TCC/mba/lib/python3.10/site-packages/sklearn/ensemble/_forest.py:424: FutureWarning: `max_features='auto'` has been deprecated in 1.1 and will be removed in 1.3. To keep the past behaviour, explicitly set `max_features='sqrt'` or remove this parameter as it is also the default value for RandomForestClassifiers and ExtraTreesClassifiers.\n"
     ]
    },
    {
     "name": "stdout",
     "output_type": "stream",
     "text": [
      "[CV 5/5; 29/100] END max_depth=30, max_features=auto, min_samples_leaf=10, min_samples_split=5, n_estimators=300;, score=(train=0.256, test=0.059) total time=  13.4s\n",
      "[CV 1/5; 30/100] START max_depth=90, max_features=sqrt, min_samples_leaf=4, min_samples_split=10, n_estimators=100\n",
      "[CV 1/5; 30/100] END max_depth=90, max_features=sqrt, min_samples_leaf=4, min_samples_split=10, n_estimators=100;, score=(train=0.889, test=0.079) total time=   8.8s\n",
      "[CV 2/5; 30/100] START max_depth=90, max_features=sqrt, min_samples_leaf=4, min_samples_split=10, n_estimators=100\n",
      "[CV 2/5; 30/100] END max_depth=90, max_features=sqrt, min_samples_leaf=4, min_samples_split=10, n_estimators=100;, score=(train=0.877, test=0.088) total time=   8.9s\n",
      "[CV 3/5; 30/100] START max_depth=90, max_features=sqrt, min_samples_leaf=4, min_samples_split=10, n_estimators=100\n",
      "[CV 3/5; 30/100] END max_depth=90, max_features=sqrt, min_samples_leaf=4, min_samples_split=10, n_estimators=100;, score=(train=0.885, test=0.081) total time=   8.8s\n",
      "[CV 4/5; 30/100] START max_depth=90, max_features=sqrt, min_samples_leaf=4, min_samples_split=10, n_estimators=100\n",
      "[CV 4/5; 30/100] END max_depth=90, max_features=sqrt, min_samples_leaf=4, min_samples_split=10, n_estimators=100;, score=(train=0.888, test=0.081) total time=   9.1s\n",
      "[CV 5/5; 30/100] START max_depth=90, max_features=sqrt, min_samples_leaf=4, min_samples_split=10, n_estimators=100\n",
      "[CV 5/5; 30/100] END max_depth=90, max_features=sqrt, min_samples_leaf=4, min_samples_split=10, n_estimators=100;, score=(train=0.881, test=0.085) total time=   9.2s\n",
      "[CV 1/5; 31/100] START max_depth=20, max_features=sqrt, min_samples_leaf=4, min_samples_split=5, n_estimators=100\n",
      "[CV 1/5; 31/100] END max_depth=20, max_features=sqrt, min_samples_leaf=4, min_samples_split=5, n_estimators=100;, score=(train=0.310, test=0.056) total time=   3.8s\n",
      "[CV 2/5; 31/100] START max_depth=20, max_features=sqrt, min_samples_leaf=4, min_samples_split=5, n_estimators=100\n",
      "[CV 2/5; 31/100] END max_depth=20, max_features=sqrt, min_samples_leaf=4, min_samples_split=5, n_estimators=100;, score=(train=0.314, test=0.062) total time=   3.8s\n",
      "[CV 3/5; 31/100] START max_depth=20, max_features=sqrt, min_samples_leaf=4, min_samples_split=5, n_estimators=100\n",
      "[CV 3/5; 31/100] END max_depth=20, max_features=sqrt, min_samples_leaf=4, min_samples_split=5, n_estimators=100;, score=(train=0.326, test=0.058) total time=   3.8s\n",
      "[CV 4/5; 31/100] START max_depth=20, max_features=sqrt, min_samples_leaf=4, min_samples_split=5, n_estimators=100\n",
      "[CV 4/5; 31/100] END max_depth=20, max_features=sqrt, min_samples_leaf=4, min_samples_split=5, n_estimators=100;, score=(train=0.305, test=0.060) total time=   3.8s\n",
      "[CV 5/5; 31/100] START max_depth=20, max_features=sqrt, min_samples_leaf=4, min_samples_split=5, n_estimators=100\n",
      "[CV 5/5; 31/100] END max_depth=20, max_features=sqrt, min_samples_leaf=4, min_samples_split=5, n_estimators=100;, score=(train=0.305, test=0.052) total time=   3.8s\n",
      "[CV 1/5; 32/100] START max_depth=100, max_features=auto, min_samples_leaf=1, min_samples_split=5, n_estimators=800\n"
     ]
    },
    {
     "name": "stderr",
     "output_type": "stream",
     "text": [
      "/Users/julianadaikawa/Documents/MBA/TCC/mba/lib/python3.10/site-packages/sklearn/ensemble/_forest.py:424: FutureWarning: `max_features='auto'` has been deprecated in 1.1 and will be removed in 1.3. To keep the past behaviour, explicitly set `max_features='sqrt'` or remove this parameter as it is also the default value for RandomForestClassifiers and ExtraTreesClassifiers.\n"
     ]
    },
    {
     "name": "stdout",
     "output_type": "stream",
     "text": [
      "[CV 1/5; 32/100] END max_depth=100, max_features=auto, min_samples_leaf=1, min_samples_split=5, n_estimators=800;, score=(train=0.947, test=0.083) total time= 1.9min\n",
      "[CV 2/5; 32/100] START max_depth=100, max_features=auto, min_samples_leaf=1, min_samples_split=5, n_estimators=800\n"
     ]
    },
    {
     "name": "stderr",
     "output_type": "stream",
     "text": [
      "/Users/julianadaikawa/Documents/MBA/TCC/mba/lib/python3.10/site-packages/sklearn/ensemble/_forest.py:424: FutureWarning: `max_features='auto'` has been deprecated in 1.1 and will be removed in 1.3. To keep the past behaviour, explicitly set `max_features='sqrt'` or remove this parameter as it is also the default value for RandomForestClassifiers and ExtraTreesClassifiers.\n"
     ]
    },
    {
     "name": "stdout",
     "output_type": "stream",
     "text": [
      "[CV 2/5; 32/100] END max_depth=100, max_features=auto, min_samples_leaf=1, min_samples_split=5, n_estimators=800;, score=(train=0.945, test=0.090) total time= 1.9min\n",
      "[CV 3/5; 32/100] START max_depth=100, max_features=auto, min_samples_leaf=1, min_samples_split=5, n_estimators=800\n"
     ]
    },
    {
     "name": "stderr",
     "output_type": "stream",
     "text": [
      "/Users/julianadaikawa/Documents/MBA/TCC/mba/lib/python3.10/site-packages/sklearn/ensemble/_forest.py:424: FutureWarning: `max_features='auto'` has been deprecated in 1.1 and will be removed in 1.3. To keep the past behaviour, explicitly set `max_features='sqrt'` or remove this parameter as it is also the default value for RandomForestClassifiers and ExtraTreesClassifiers.\n"
     ]
    },
    {
     "name": "stdout",
     "output_type": "stream",
     "text": [
      "[CV 3/5; 32/100] END max_depth=100, max_features=auto, min_samples_leaf=1, min_samples_split=5, n_estimators=800;, score=(train=0.945, test=0.097) total time= 1.9min\n",
      "[CV 4/5; 32/100] START max_depth=100, max_features=auto, min_samples_leaf=1, min_samples_split=5, n_estimators=800\n"
     ]
    },
    {
     "name": "stderr",
     "output_type": "stream",
     "text": [
      "/Users/julianadaikawa/Documents/MBA/TCC/mba/lib/python3.10/site-packages/sklearn/ensemble/_forest.py:424: FutureWarning: `max_features='auto'` has been deprecated in 1.1 and will be removed in 1.3. To keep the past behaviour, explicitly set `max_features='sqrt'` or remove this parameter as it is also the default value for RandomForestClassifiers and ExtraTreesClassifiers.\n"
     ]
    },
    {
     "name": "stdout",
     "output_type": "stream",
     "text": [
      "[CV 4/5; 32/100] END max_depth=100, max_features=auto, min_samples_leaf=1, min_samples_split=5, n_estimators=800;, score=(train=0.946, test=0.083) total time= 1.9min\n",
      "[CV 5/5; 32/100] START max_depth=100, max_features=auto, min_samples_leaf=1, min_samples_split=5, n_estimators=800\n"
     ]
    },
    {
     "name": "stderr",
     "output_type": "stream",
     "text": [
      "/Users/julianadaikawa/Documents/MBA/TCC/mba/lib/python3.10/site-packages/sklearn/ensemble/_forest.py:424: FutureWarning: `max_features='auto'` has been deprecated in 1.1 and will be removed in 1.3. To keep the past behaviour, explicitly set `max_features='sqrt'` or remove this parameter as it is also the default value for RandomForestClassifiers and ExtraTreesClassifiers.\n"
     ]
    },
    {
     "name": "stdout",
     "output_type": "stream",
     "text": [
      "[CV 5/5; 32/100] END max_depth=100, max_features=auto, min_samples_leaf=1, min_samples_split=5, n_estimators=800;, score=(train=0.946, test=0.090) total time= 1.9min\n",
      "[CV 1/5; 33/100] START max_depth=60, max_features=sqrt, min_samples_leaf=2, min_samples_split=10, n_estimators=600\n",
      "[CV 1/5; 33/100] END max_depth=60, max_features=sqrt, min_samples_leaf=2, min_samples_split=10, n_estimators=600;, score=(train=0.918, test=0.079) total time=  56.2s\n",
      "[CV 2/5; 33/100] START max_depth=60, max_features=sqrt, min_samples_leaf=2, min_samples_split=10, n_estimators=600\n",
      "[CV 2/5; 33/100] END max_depth=60, max_features=sqrt, min_samples_leaf=2, min_samples_split=10, n_estimators=600;, score=(train=0.919, test=0.089) total time=  56.9s\n",
      "[CV 3/5; 33/100] START max_depth=60, max_features=sqrt, min_samples_leaf=2, min_samples_split=10, n_estimators=600\n",
      "[CV 3/5; 33/100] END max_depth=60, max_features=sqrt, min_samples_leaf=2, min_samples_split=10, n_estimators=600;, score=(train=0.922, test=0.083) total time=  57.0s\n",
      "[CV 4/5; 33/100] START max_depth=60, max_features=sqrt, min_samples_leaf=2, min_samples_split=10, n_estimators=600\n",
      "[CV 4/5; 33/100] END max_depth=60, max_features=sqrt, min_samples_leaf=2, min_samples_split=10, n_estimators=600;, score=(train=0.906, test=0.081) total time=  53.5s\n",
      "[CV 5/5; 33/100] START max_depth=60, max_features=sqrt, min_samples_leaf=2, min_samples_split=10, n_estimators=600\n",
      "[CV 5/5; 33/100] END max_depth=60, max_features=sqrt, min_samples_leaf=2, min_samples_split=10, n_estimators=600;, score=(train=0.918, test=0.088) total time=  58.7s\n",
      "[CV 1/5; 34/100] START max_depth=90, max_features=auto, min_samples_leaf=10, min_samples_split=2, n_estimators=1000\n"
     ]
    },
    {
     "name": "stderr",
     "output_type": "stream",
     "text": [
      "/Users/julianadaikawa/Documents/MBA/TCC/mba/lib/python3.10/site-packages/sklearn/ensemble/_forest.py:424: FutureWarning: `max_features='auto'` has been deprecated in 1.1 and will be removed in 1.3. To keep the past behaviour, explicitly set `max_features='sqrt'` or remove this parameter as it is also the default value for RandomForestClassifiers and ExtraTreesClassifiers.\n"
     ]
    },
    {
     "name": "stdout",
     "output_type": "stream",
     "text": [
      "[CV 1/5; 34/100] END max_depth=90, max_features=auto, min_samples_leaf=10, min_samples_split=2, n_estimators=1000;, score=(train=0.519, test=0.063) total time=  58.0s\n",
      "[CV 2/5; 34/100] START max_depth=90, max_features=auto, min_samples_leaf=10, min_samples_split=2, n_estimators=1000\n"
     ]
    },
    {
     "name": "stderr",
     "output_type": "stream",
     "text": [
      "/Users/julianadaikawa/Documents/MBA/TCC/mba/lib/python3.10/site-packages/sklearn/ensemble/_forest.py:424: FutureWarning: `max_features='auto'` has been deprecated in 1.1 and will be removed in 1.3. To keep the past behaviour, explicitly set `max_features='sqrt'` or remove this parameter as it is also the default value for RandomForestClassifiers and ExtraTreesClassifiers.\n"
     ]
    },
    {
     "name": "stdout",
     "output_type": "stream",
     "text": [
      "[CV 2/5; 34/100] END max_depth=90, max_features=auto, min_samples_leaf=10, min_samples_split=2, n_estimators=1000;, score=(train=0.535, test=0.067) total time= 1.1min\n",
      "[CV 3/5; 34/100] START max_depth=90, max_features=auto, min_samples_leaf=10, min_samples_split=2, n_estimators=1000\n"
     ]
    },
    {
     "name": "stderr",
     "output_type": "stream",
     "text": [
      "/Users/julianadaikawa/Documents/MBA/TCC/mba/lib/python3.10/site-packages/sklearn/ensemble/_forest.py:424: FutureWarning: `max_features='auto'` has been deprecated in 1.1 and will be removed in 1.3. To keep the past behaviour, explicitly set `max_features='sqrt'` or remove this parameter as it is also the default value for RandomForestClassifiers and ExtraTreesClassifiers.\n"
     ]
    },
    {
     "name": "stdout",
     "output_type": "stream",
     "text": [
      "[CV 3/5; 34/100] END max_depth=90, max_features=auto, min_samples_leaf=10, min_samples_split=2, n_estimators=1000;, score=(train=0.516, test=0.069) total time= 1.1min\n",
      "[CV 4/5; 34/100] START max_depth=90, max_features=auto, min_samples_leaf=10, min_samples_split=2, n_estimators=1000\n"
     ]
    },
    {
     "name": "stderr",
     "output_type": "stream",
     "text": [
      "/Users/julianadaikawa/Documents/MBA/TCC/mba/lib/python3.10/site-packages/sklearn/ensemble/_forest.py:424: FutureWarning: `max_features='auto'` has been deprecated in 1.1 and will be removed in 1.3. To keep the past behaviour, explicitly set `max_features='sqrt'` or remove this parameter as it is also the default value for RandomForestClassifiers and ExtraTreesClassifiers.\n"
     ]
    },
    {
     "name": "stdout",
     "output_type": "stream",
     "text": [
      "[CV 4/5; 34/100] END max_depth=90, max_features=auto, min_samples_leaf=10, min_samples_split=2, n_estimators=1000;, score=(train=0.534, test=0.064) total time= 1.0min\n",
      "[CV 5/5; 34/100] START max_depth=90, max_features=auto, min_samples_leaf=10, min_samples_split=2, n_estimators=1000\n"
     ]
    },
    {
     "name": "stderr",
     "output_type": "stream",
     "text": [
      "/Users/julianadaikawa/Documents/MBA/TCC/mba/lib/python3.10/site-packages/sklearn/ensemble/_forest.py:424: FutureWarning: `max_features='auto'` has been deprecated in 1.1 and will be removed in 1.3. To keep the past behaviour, explicitly set `max_features='sqrt'` or remove this parameter as it is also the default value for RandomForestClassifiers and ExtraTreesClassifiers.\n"
     ]
    },
    {
     "name": "stdout",
     "output_type": "stream",
     "text": [
      "[CV 5/5; 34/100] END max_depth=90, max_features=auto, min_samples_leaf=10, min_samples_split=2, n_estimators=1000;, score=(train=0.527, test=0.071) total time= 1.1min\n",
      "[CV 1/5; 35/100] START max_depth=100, max_features=auto, min_samples_leaf=1, min_samples_split=2, n_estimators=200\n"
     ]
    },
    {
     "name": "stderr",
     "output_type": "stream",
     "text": [
      "/Users/julianadaikawa/Documents/MBA/TCC/mba/lib/python3.10/site-packages/sklearn/ensemble/_forest.py:424: FutureWarning: `max_features='auto'` has been deprecated in 1.1 and will be removed in 1.3. To keep the past behaviour, explicitly set `max_features='sqrt'` or remove this parameter as it is also the default value for RandomForestClassifiers and ExtraTreesClassifiers.\n"
     ]
    },
    {
     "name": "stdout",
     "output_type": "stream",
     "text": [
      "[CV 1/5; 35/100] END max_depth=100, max_features=auto, min_samples_leaf=1, min_samples_split=2, n_estimators=200;, score=(train=0.948, test=0.090) total time=  39.3s\n",
      "[CV 2/5; 35/100] START max_depth=100, max_features=auto, min_samples_leaf=1, min_samples_split=2, n_estimators=200\n"
     ]
    },
    {
     "name": "stderr",
     "output_type": "stream",
     "text": [
      "/Users/julianadaikawa/Documents/MBA/TCC/mba/lib/python3.10/site-packages/sklearn/ensemble/_forest.py:424: FutureWarning: `max_features='auto'` has been deprecated in 1.1 and will be removed in 1.3. To keep the past behaviour, explicitly set `max_features='sqrt'` or remove this parameter as it is also the default value for RandomForestClassifiers and ExtraTreesClassifiers.\n"
     ]
    },
    {
     "name": "stdout",
     "output_type": "stream",
     "text": [
      "[CV 2/5; 35/100] END max_depth=100, max_features=auto, min_samples_leaf=1, min_samples_split=2, n_estimators=200;, score=(train=0.945, test=0.097) total time=  38.5s\n",
      "[CV 3/5; 35/100] START max_depth=100, max_features=auto, min_samples_leaf=1, min_samples_split=2, n_estimators=200\n"
     ]
    },
    {
     "name": "stderr",
     "output_type": "stream",
     "text": [
      "/Users/julianadaikawa/Documents/MBA/TCC/mba/lib/python3.10/site-packages/sklearn/ensemble/_forest.py:424: FutureWarning: `max_features='auto'` has been deprecated in 1.1 and will be removed in 1.3. To keep the past behaviour, explicitly set `max_features='sqrt'` or remove this parameter as it is also the default value for RandomForestClassifiers and ExtraTreesClassifiers.\n"
     ]
    },
    {
     "name": "stdout",
     "output_type": "stream",
     "text": [
      "[CV 3/5; 35/100] END max_depth=100, max_features=auto, min_samples_leaf=1, min_samples_split=2, n_estimators=200;, score=(train=0.946, test=0.087) total time=  38.3s\n",
      "[CV 4/5; 35/100] START max_depth=100, max_features=auto, min_samples_leaf=1, min_samples_split=2, n_estimators=200\n"
     ]
    },
    {
     "name": "stderr",
     "output_type": "stream",
     "text": [
      "/Users/julianadaikawa/Documents/MBA/TCC/mba/lib/python3.10/site-packages/sklearn/ensemble/_forest.py:424: FutureWarning: `max_features='auto'` has been deprecated in 1.1 and will be removed in 1.3. To keep the past behaviour, explicitly set `max_features='sqrt'` or remove this parameter as it is also the default value for RandomForestClassifiers and ExtraTreesClassifiers.\n"
     ]
    },
    {
     "name": "stdout",
     "output_type": "stream",
     "text": [
      "[CV 4/5; 35/100] END max_depth=100, max_features=auto, min_samples_leaf=1, min_samples_split=2, n_estimators=200;, score=(train=0.946, test=0.087) total time=  40.5s\n",
      "[CV 5/5; 35/100] START max_depth=100, max_features=auto, min_samples_leaf=1, min_samples_split=2, n_estimators=200\n"
     ]
    },
    {
     "name": "stderr",
     "output_type": "stream",
     "text": [
      "/Users/julianadaikawa/Documents/MBA/TCC/mba/lib/python3.10/site-packages/sklearn/ensemble/_forest.py:424: FutureWarning: `max_features='auto'` has been deprecated in 1.1 and will be removed in 1.3. To keep the past behaviour, explicitly set `max_features='sqrt'` or remove this parameter as it is also the default value for RandomForestClassifiers and ExtraTreesClassifiers.\n"
     ]
    },
    {
     "name": "stdout",
     "output_type": "stream",
     "text": [
      "[CV 5/5; 35/100] END max_depth=100, max_features=auto, min_samples_leaf=1, min_samples_split=2, n_estimators=200;, score=(train=0.946, test=0.090) total time=  39.4s\n",
      "[CV 1/5; 36/100] START max_depth=10, max_features=auto, min_samples_leaf=2, min_samples_split=10, n_estimators=700\n"
     ]
    },
    {
     "name": "stderr",
     "output_type": "stream",
     "text": [
      "/Users/julianadaikawa/Documents/MBA/TCC/mba/lib/python3.10/site-packages/sklearn/ensemble/_forest.py:424: FutureWarning: `max_features='auto'` has been deprecated in 1.1 and will be removed in 1.3. To keep the past behaviour, explicitly set `max_features='sqrt'` or remove this parameter as it is also the default value for RandomForestClassifiers and ExtraTreesClassifiers.\n"
     ]
    },
    {
     "name": "stdout",
     "output_type": "stream",
     "text": [
      "[CV 1/5; 36/100] END max_depth=10, max_features=auto, min_samples_leaf=2, min_samples_split=10, n_estimators=700;, score=(train=0.106, test=0.034) total time=  13.5s\n",
      "[CV 2/5; 36/100] START max_depth=10, max_features=auto, min_samples_leaf=2, min_samples_split=10, n_estimators=700\n"
     ]
    },
    {
     "name": "stderr",
     "output_type": "stream",
     "text": [
      "/Users/julianadaikawa/Documents/MBA/TCC/mba/lib/python3.10/site-packages/sklearn/ensemble/_forest.py:424: FutureWarning: `max_features='auto'` has been deprecated in 1.1 and will be removed in 1.3. To keep the past behaviour, explicitly set `max_features='sqrt'` or remove this parameter as it is also the default value for RandomForestClassifiers and ExtraTreesClassifiers.\n"
     ]
    },
    {
     "name": "stdout",
     "output_type": "stream",
     "text": [
      "[CV 2/5; 36/100] END max_depth=10, max_features=auto, min_samples_leaf=2, min_samples_split=10, n_estimators=700;, score=(train=0.099, test=0.034) total time=  14.0s\n",
      "[CV 3/5; 36/100] START max_depth=10, max_features=auto, min_samples_leaf=2, min_samples_split=10, n_estimators=700\n"
     ]
    },
    {
     "name": "stderr",
     "output_type": "stream",
     "text": [
      "/Users/julianadaikawa/Documents/MBA/TCC/mba/lib/python3.10/site-packages/sklearn/ensemble/_forest.py:424: FutureWarning: `max_features='auto'` has been deprecated in 1.1 and will be removed in 1.3. To keep the past behaviour, explicitly set `max_features='sqrt'` or remove this parameter as it is also the default value for RandomForestClassifiers and ExtraTreesClassifiers.\n"
     ]
    },
    {
     "name": "stdout",
     "output_type": "stream",
     "text": [
      "[CV 3/5; 36/100] END max_depth=10, max_features=auto, min_samples_leaf=2, min_samples_split=10, n_estimators=700;, score=(train=0.104, test=0.038) total time=  15.5s\n",
      "[CV 4/5; 36/100] START max_depth=10, max_features=auto, min_samples_leaf=2, min_samples_split=10, n_estimators=700\n"
     ]
    },
    {
     "name": "stderr",
     "output_type": "stream",
     "text": [
      "/Users/julianadaikawa/Documents/MBA/TCC/mba/lib/python3.10/site-packages/sklearn/ensemble/_forest.py:424: FutureWarning: `max_features='auto'` has been deprecated in 1.1 and will be removed in 1.3. To keep the past behaviour, explicitly set `max_features='sqrt'` or remove this parameter as it is also the default value for RandomForestClassifiers and ExtraTreesClassifiers.\n"
     ]
    },
    {
     "name": "stdout",
     "output_type": "stream",
     "text": [
      "[CV 4/5; 36/100] END max_depth=10, max_features=auto, min_samples_leaf=2, min_samples_split=10, n_estimators=700;, score=(train=0.103, test=0.035) total time=  14.7s\n",
      "[CV 5/5; 36/100] START max_depth=10, max_features=auto, min_samples_leaf=2, min_samples_split=10, n_estimators=700\n"
     ]
    },
    {
     "name": "stderr",
     "output_type": "stream",
     "text": [
      "/Users/julianadaikawa/Documents/MBA/TCC/mba/lib/python3.10/site-packages/sklearn/ensemble/_forest.py:424: FutureWarning: `max_features='auto'` has been deprecated in 1.1 and will be removed in 1.3. To keep the past behaviour, explicitly set `max_features='sqrt'` or remove this parameter as it is also the default value for RandomForestClassifiers and ExtraTreesClassifiers.\n"
     ]
    },
    {
     "name": "stdout",
     "output_type": "stream",
     "text": [
      "[CV 5/5; 36/100] END max_depth=10, max_features=auto, min_samples_leaf=2, min_samples_split=10, n_estimators=700;, score=(train=0.101, test=0.030) total time=  16.2s\n",
      "[CV 1/5; 37/100] START max_depth=90, max_features=auto, min_samples_leaf=2, min_samples_split=5, n_estimators=600\n"
     ]
    },
    {
     "name": "stderr",
     "output_type": "stream",
     "text": [
      "/Users/julianadaikawa/Documents/MBA/TCC/mba/lib/python3.10/site-packages/sklearn/ensemble/_forest.py:424: FutureWarning: `max_features='auto'` has been deprecated in 1.1 and will be removed in 1.3. To keep the past behaviour, explicitly set `max_features='sqrt'` or remove this parameter as it is also the default value for RandomForestClassifiers and ExtraTreesClassifiers.\n"
     ]
    },
    {
     "name": "stdout",
     "output_type": "stream",
     "text": [
      "[CV 1/5; 37/100] END max_depth=90, max_features=auto, min_samples_leaf=2, min_samples_split=5, n_estimators=600;, score=(train=0.939, test=0.089) total time= 1.2min\n",
      "[CV 2/5; 37/100] START max_depth=90, max_features=auto, min_samples_leaf=2, min_samples_split=5, n_estimators=600\n"
     ]
    },
    {
     "name": "stderr",
     "output_type": "stream",
     "text": [
      "/Users/julianadaikawa/Documents/MBA/TCC/mba/lib/python3.10/site-packages/sklearn/ensemble/_forest.py:424: FutureWarning: `max_features='auto'` has been deprecated in 1.1 and will be removed in 1.3. To keep the past behaviour, explicitly set `max_features='sqrt'` or remove this parameter as it is also the default value for RandomForestClassifiers and ExtraTreesClassifiers.\n"
     ]
    },
    {
     "name": "stdout",
     "output_type": "stream",
     "text": [
      "[CV 2/5; 37/100] END max_depth=90, max_features=auto, min_samples_leaf=2, min_samples_split=5, n_estimators=600;, score=(train=0.941, test=0.096) total time= 1.3min\n",
      "[CV 3/5; 37/100] START max_depth=90, max_features=auto, min_samples_leaf=2, min_samples_split=5, n_estimators=600\n"
     ]
    },
    {
     "name": "stderr",
     "output_type": "stream",
     "text": [
      "/Users/julianadaikawa/Documents/MBA/TCC/mba/lib/python3.10/site-packages/sklearn/ensemble/_forest.py:424: FutureWarning: `max_features='auto'` has been deprecated in 1.1 and will be removed in 1.3. To keep the past behaviour, explicitly set `max_features='sqrt'` or remove this parameter as it is also the default value for RandomForestClassifiers and ExtraTreesClassifiers.\n"
     ]
    },
    {
     "name": "stdout",
     "output_type": "stream",
     "text": [
      "[CV 3/5; 37/100] END max_depth=90, max_features=auto, min_samples_leaf=2, min_samples_split=5, n_estimators=600;, score=(train=0.941, test=0.089) total time= 1.3min\n",
      "[CV 4/5; 37/100] START max_depth=90, max_features=auto, min_samples_leaf=2, min_samples_split=5, n_estimators=600\n"
     ]
    },
    {
     "name": "stderr",
     "output_type": "stream",
     "text": [
      "/Users/julianadaikawa/Documents/MBA/TCC/mba/lib/python3.10/site-packages/sklearn/ensemble/_forest.py:424: FutureWarning: `max_features='auto'` has been deprecated in 1.1 and will be removed in 1.3. To keep the past behaviour, explicitly set `max_features='sqrt'` or remove this parameter as it is also the default value for RandomForestClassifiers and ExtraTreesClassifiers.\n"
     ]
    },
    {
     "name": "stdout",
     "output_type": "stream",
     "text": [
      "[CV 4/5; 37/100] END max_depth=90, max_features=auto, min_samples_leaf=2, min_samples_split=5, n_estimators=600;, score=(train=0.935, test=0.089) total time= 1.2min\n",
      "[CV 5/5; 37/100] START max_depth=90, max_features=auto, min_samples_leaf=2, min_samples_split=5, n_estimators=600\n"
     ]
    },
    {
     "name": "stderr",
     "output_type": "stream",
     "text": [
      "/Users/julianadaikawa/Documents/MBA/TCC/mba/lib/python3.10/site-packages/sklearn/ensemble/_forest.py:424: FutureWarning: `max_features='auto'` has been deprecated in 1.1 and will be removed in 1.3. To keep the past behaviour, explicitly set `max_features='sqrt'` or remove this parameter as it is also the default value for RandomForestClassifiers and ExtraTreesClassifiers.\n"
     ]
    },
    {
     "name": "stdout",
     "output_type": "stream",
     "text": [
      "[CV 5/5; 37/100] END max_depth=90, max_features=auto, min_samples_leaf=2, min_samples_split=5, n_estimators=600;, score=(train=0.938, test=0.089) total time= 1.2min\n",
      "[CV 1/5; 38/100] START max_depth=50, max_features=sqrt, min_samples_leaf=2, min_samples_split=2, n_estimators=400\n",
      "[CV 1/5; 38/100] END max_depth=50, max_features=sqrt, min_samples_leaf=2, min_samples_split=2, n_estimators=400;, score=(train=0.911, test=0.072) total time=  34.9s\n",
      "[CV 2/5; 38/100] START max_depth=50, max_features=sqrt, min_samples_leaf=2, min_samples_split=2, n_estimators=400\n",
      "[CV 2/5; 38/100] END max_depth=50, max_features=sqrt, min_samples_leaf=2, min_samples_split=2, n_estimators=400;, score=(train=0.912, test=0.089) total time=  39.5s\n",
      "[CV 3/5; 38/100] START max_depth=50, max_features=sqrt, min_samples_leaf=2, min_samples_split=2, n_estimators=400\n",
      "[CV 3/5; 38/100] END max_depth=50, max_features=sqrt, min_samples_leaf=2, min_samples_split=2, n_estimators=400;, score=(train=0.912, test=0.074) total time=  35.3s\n",
      "[CV 4/5; 38/100] START max_depth=50, max_features=sqrt, min_samples_leaf=2, min_samples_split=2, n_estimators=400\n",
      "[CV 4/5; 38/100] END max_depth=50, max_features=sqrt, min_samples_leaf=2, min_samples_split=2, n_estimators=400;, score=(train=0.898, test=0.076) total time=  34.3s\n",
      "[CV 5/5; 38/100] START max_depth=50, max_features=sqrt, min_samples_leaf=2, min_samples_split=2, n_estimators=400\n",
      "[CV 5/5; 38/100] END max_depth=50, max_features=sqrt, min_samples_leaf=2, min_samples_split=2, n_estimators=400;, score=(train=0.909, test=0.088) total time=  35.6s\n",
      "[CV 1/5; 39/100] START max_depth=30, max_features=sqrt, min_samples_leaf=10, min_samples_split=5, n_estimators=600\n",
      "[CV 1/5; 39/100] END max_depth=30, max_features=sqrt, min_samples_leaf=10, min_samples_split=5, n_estimators=600;, score=(train=0.264, test=0.061) total time=  27.5s\n",
      "[CV 2/5; 39/100] START max_depth=30, max_features=sqrt, min_samples_leaf=10, min_samples_split=5, n_estimators=600\n",
      "[CV 2/5; 39/100] END max_depth=30, max_features=sqrt, min_samples_leaf=10, min_samples_split=5, n_estimators=600;, score=(train=0.269, test=0.065) total time=  26.3s\n",
      "[CV 3/5; 39/100] START max_depth=30, max_features=sqrt, min_samples_leaf=10, min_samples_split=5, n_estimators=600\n",
      "[CV 3/5; 39/100] END max_depth=30, max_features=sqrt, min_samples_leaf=10, min_samples_split=5, n_estimators=600;, score=(train=0.273, test=0.064) total time=  26.4s\n",
      "[CV 4/5; 39/100] START max_depth=30, max_features=sqrt, min_samples_leaf=10, min_samples_split=5, n_estimators=600\n",
      "[CV 4/5; 39/100] END max_depth=30, max_features=sqrt, min_samples_leaf=10, min_samples_split=5, n_estimators=600;, score=(train=0.269, test=0.058) total time=  26.0s\n",
      "[CV 5/5; 39/100] START max_depth=30, max_features=sqrt, min_samples_leaf=10, min_samples_split=5, n_estimators=600\n",
      "[CV 5/5; 39/100] END max_depth=30, max_features=sqrt, min_samples_leaf=10, min_samples_split=5, n_estimators=600;, score=(train=0.270, test=0.062) total time=  26.0s\n",
      "[CV 1/5; 40/100] START max_depth=90, max_features=auto, min_samples_leaf=10, min_samples_split=5, n_estimators=600\n"
     ]
    },
    {
     "name": "stderr",
     "output_type": "stream",
     "text": [
      "/Users/julianadaikawa/Documents/MBA/TCC/mba/lib/python3.10/site-packages/sklearn/ensemble/_forest.py:424: FutureWarning: `max_features='auto'` has been deprecated in 1.1 and will be removed in 1.3. To keep the past behaviour, explicitly set `max_features='sqrt'` or remove this parameter as it is also the default value for RandomForestClassifiers and ExtraTreesClassifiers.\n"
     ]
    },
    {
     "name": "stdout",
     "output_type": "stream",
     "text": [
      "[CV 1/5; 40/100] END max_depth=90, max_features=auto, min_samples_leaf=10, min_samples_split=5, n_estimators=600;, score=(train=0.518, test=0.064) total time=  35.4s\n",
      "[CV 2/5; 40/100] START max_depth=90, max_features=auto, min_samples_leaf=10, min_samples_split=5, n_estimators=600\n"
     ]
    },
    {
     "name": "stderr",
     "output_type": "stream",
     "text": [
      "/Users/julianadaikawa/Documents/MBA/TCC/mba/lib/python3.10/site-packages/sklearn/ensemble/_forest.py:424: FutureWarning: `max_features='auto'` has been deprecated in 1.1 and will be removed in 1.3. To keep the past behaviour, explicitly set `max_features='sqrt'` or remove this parameter as it is also the default value for RandomForestClassifiers and ExtraTreesClassifiers.\n"
     ]
    },
    {
     "name": "stdout",
     "output_type": "stream",
     "text": [
      "[CV 2/5; 40/100] END max_depth=90, max_features=auto, min_samples_leaf=10, min_samples_split=5, n_estimators=600;, score=(train=0.537, test=0.071) total time=  34.7s\n",
      "[CV 3/5; 40/100] START max_depth=90, max_features=auto, min_samples_leaf=10, min_samples_split=5, n_estimators=600\n"
     ]
    },
    {
     "name": "stderr",
     "output_type": "stream",
     "text": [
      "/Users/julianadaikawa/Documents/MBA/TCC/mba/lib/python3.10/site-packages/sklearn/ensemble/_forest.py:424: FutureWarning: `max_features='auto'` has been deprecated in 1.1 and will be removed in 1.3. To keep the past behaviour, explicitly set `max_features='sqrt'` or remove this parameter as it is also the default value for RandomForestClassifiers and ExtraTreesClassifiers.\n"
     ]
    },
    {
     "name": "stdout",
     "output_type": "stream",
     "text": [
      "[CV 3/5; 40/100] END max_depth=90, max_features=auto, min_samples_leaf=10, min_samples_split=5, n_estimators=600;, score=(train=0.518, test=0.066) total time=  34.7s\n",
      "[CV 4/5; 40/100] START max_depth=90, max_features=auto, min_samples_leaf=10, min_samples_split=5, n_estimators=600\n"
     ]
    },
    {
     "name": "stderr",
     "output_type": "stream",
     "text": [
      "/Users/julianadaikawa/Documents/MBA/TCC/mba/lib/python3.10/site-packages/sklearn/ensemble/_forest.py:424: FutureWarning: `max_features='auto'` has been deprecated in 1.1 and will be removed in 1.3. To keep the past behaviour, explicitly set `max_features='sqrt'` or remove this parameter as it is also the default value for RandomForestClassifiers and ExtraTreesClassifiers.\n"
     ]
    },
    {
     "name": "stdout",
     "output_type": "stream",
     "text": [
      "[CV 4/5; 40/100] END max_depth=90, max_features=auto, min_samples_leaf=10, min_samples_split=5, n_estimators=600;, score=(train=0.538, test=0.065) total time=  35.5s\n",
      "[CV 5/5; 40/100] START max_depth=90, max_features=auto, min_samples_leaf=10, min_samples_split=5, n_estimators=600\n"
     ]
    },
    {
     "name": "stderr",
     "output_type": "stream",
     "text": [
      "/Users/julianadaikawa/Documents/MBA/TCC/mba/lib/python3.10/site-packages/sklearn/ensemble/_forest.py:424: FutureWarning: `max_features='auto'` has been deprecated in 1.1 and will be removed in 1.3. To keep the past behaviour, explicitly set `max_features='sqrt'` or remove this parameter as it is also the default value for RandomForestClassifiers and ExtraTreesClassifiers.\n"
     ]
    },
    {
     "name": "stdout",
     "output_type": "stream",
     "text": [
      "[CV 5/5; 40/100] END max_depth=90, max_features=auto, min_samples_leaf=10, min_samples_split=5, n_estimators=600;, score=(train=0.536, test=0.070) total time=  35.4s\n",
      "[CV 1/5; 41/100] START max_depth=80, max_features=sqrt, min_samples_leaf=1, min_samples_split=2, n_estimators=600\n",
      "[CV 1/5; 41/100] END max_depth=80, max_features=sqrt, min_samples_leaf=1, min_samples_split=2, n_estimators=600;, score=(train=0.947, test=0.080) total time= 1.7min\n",
      "[CV 2/5; 41/100] START max_depth=80, max_features=sqrt, min_samples_leaf=1, min_samples_split=2, n_estimators=600\n",
      "[CV 2/5; 41/100] END max_depth=80, max_features=sqrt, min_samples_leaf=1, min_samples_split=2, n_estimators=600;, score=(train=0.945, test=0.090) total time= 1.7min\n",
      "[CV 3/5; 41/100] START max_depth=80, max_features=sqrt, min_samples_leaf=1, min_samples_split=2, n_estimators=600\n",
      "[CV 3/5; 41/100] END max_depth=80, max_features=sqrt, min_samples_leaf=1, min_samples_split=2, n_estimators=600;, score=(train=0.946, test=0.091) total time= 1.6min\n",
      "[CV 4/5; 41/100] START max_depth=80, max_features=sqrt, min_samples_leaf=1, min_samples_split=2, n_estimators=600\n",
      "[CV 4/5; 41/100] END max_depth=80, max_features=sqrt, min_samples_leaf=1, min_samples_split=2, n_estimators=600;, score=(train=0.946, test=0.084) total time= 1.6min\n",
      "[CV 5/5; 41/100] START max_depth=80, max_features=sqrt, min_samples_leaf=1, min_samples_split=2, n_estimators=600\n",
      "[CV 5/5; 41/100] END max_depth=80, max_features=sqrt, min_samples_leaf=1, min_samples_split=2, n_estimators=600;, score=(train=0.946, test=0.089) total time= 1.7min\n",
      "[CV 1/5; 42/100] START max_depth=50, max_features=auto, min_samples_leaf=4, min_samples_split=5, n_estimators=300\n"
     ]
    },
    {
     "name": "stderr",
     "output_type": "stream",
     "text": [
      "/Users/julianadaikawa/Documents/MBA/TCC/mba/lib/python3.10/site-packages/sklearn/ensemble/_forest.py:424: FutureWarning: `max_features='auto'` has been deprecated in 1.1 and will be removed in 1.3. To keep the past behaviour, explicitly set `max_features='sqrt'` or remove this parameter as it is also the default value for RandomForestClassifiers and ExtraTreesClassifiers.\n"
     ]
    },
    {
     "name": "stdout",
     "output_type": "stream",
     "text": [
      "[CV 1/5; 42/100] END max_depth=50, max_features=auto, min_samples_leaf=4, min_samples_split=5, n_estimators=300;, score=(train=0.822, test=0.073) total time=  22.7s\n",
      "[CV 2/5; 42/100] START max_depth=50, max_features=auto, min_samples_leaf=4, min_samples_split=5, n_estimators=300\n"
     ]
    },
    {
     "name": "stderr",
     "output_type": "stream",
     "text": [
      "/Users/julianadaikawa/Documents/MBA/TCC/mba/lib/python3.10/site-packages/sklearn/ensemble/_forest.py:424: FutureWarning: `max_features='auto'` has been deprecated in 1.1 and will be removed in 1.3. To keep the past behaviour, explicitly set `max_features='sqrt'` or remove this parameter as it is also the default value for RandomForestClassifiers and ExtraTreesClassifiers.\n"
     ]
    },
    {
     "name": "stdout",
     "output_type": "stream",
     "text": [
      "[CV 2/5; 42/100] END max_depth=50, max_features=auto, min_samples_leaf=4, min_samples_split=5, n_estimators=300;, score=(train=0.821, test=0.081) total time=  21.7s\n",
      "[CV 3/5; 42/100] START max_depth=50, max_features=auto, min_samples_leaf=4, min_samples_split=5, n_estimators=300\n"
     ]
    },
    {
     "name": "stderr",
     "output_type": "stream",
     "text": [
      "/Users/julianadaikawa/Documents/MBA/TCC/mba/lib/python3.10/site-packages/sklearn/ensemble/_forest.py:424: FutureWarning: `max_features='auto'` has been deprecated in 1.1 and will be removed in 1.3. To keep the past behaviour, explicitly set `max_features='sqrt'` or remove this parameter as it is also the default value for RandomForestClassifiers and ExtraTreesClassifiers.\n"
     ]
    },
    {
     "name": "stdout",
     "output_type": "stream",
     "text": [
      "[CV 3/5; 42/100] END max_depth=50, max_features=auto, min_samples_leaf=4, min_samples_split=5, n_estimators=300;, score=(train=0.824, test=0.078) total time=  20.9s\n",
      "[CV 4/5; 42/100] START max_depth=50, max_features=auto, min_samples_leaf=4, min_samples_split=5, n_estimators=300\n"
     ]
    },
    {
     "name": "stderr",
     "output_type": "stream",
     "text": [
      "/Users/julianadaikawa/Documents/MBA/TCC/mba/lib/python3.10/site-packages/sklearn/ensemble/_forest.py:424: FutureWarning: `max_features='auto'` has been deprecated in 1.1 and will be removed in 1.3. To keep the past behaviour, explicitly set `max_features='sqrt'` or remove this parameter as it is also the default value for RandomForestClassifiers and ExtraTreesClassifiers.\n"
     ]
    },
    {
     "name": "stdout",
     "output_type": "stream",
     "text": [
      "[CV 4/5; 42/100] END max_depth=50, max_features=auto, min_samples_leaf=4, min_samples_split=5, n_estimators=300;, score=(train=0.815, test=0.072) total time=  21.5s\n",
      "[CV 5/5; 42/100] START max_depth=50, max_features=auto, min_samples_leaf=4, min_samples_split=5, n_estimators=300\n"
     ]
    },
    {
     "name": "stderr",
     "output_type": "stream",
     "text": [
      "/Users/julianadaikawa/Documents/MBA/TCC/mba/lib/python3.10/site-packages/sklearn/ensemble/_forest.py:424: FutureWarning: `max_features='auto'` has been deprecated in 1.1 and will be removed in 1.3. To keep the past behaviour, explicitly set `max_features='sqrt'` or remove this parameter as it is also the default value for RandomForestClassifiers and ExtraTreesClassifiers.\n"
     ]
    },
    {
     "name": "stdout",
     "output_type": "stream",
     "text": [
      "[CV 5/5; 42/100] END max_depth=50, max_features=auto, min_samples_leaf=4, min_samples_split=5, n_estimators=300;, score=(train=0.818, test=0.080) total time=  22.8s\n",
      "[CV 1/5; 43/100] START max_depth=90, max_features=auto, min_samples_leaf=1, min_samples_split=2, n_estimators=100\n"
     ]
    },
    {
     "name": "stderr",
     "output_type": "stream",
     "text": [
      "/Users/julianadaikawa/Documents/MBA/TCC/mba/lib/python3.10/site-packages/sklearn/ensemble/_forest.py:424: FutureWarning: `max_features='auto'` has been deprecated in 1.1 and will be removed in 1.3. To keep the past behaviour, explicitly set `max_features='sqrt'` or remove this parameter as it is also the default value for RandomForestClassifiers and ExtraTreesClassifiers.\n"
     ]
    },
    {
     "name": "stdout",
     "output_type": "stream",
     "text": [
      "[CV 1/5; 43/100] END max_depth=90, max_features=auto, min_samples_leaf=1, min_samples_split=2, n_estimators=100;, score=(train=0.948, test=0.089) total time=  18.6s\n",
      "[CV 2/5; 43/100] START max_depth=90, max_features=auto, min_samples_leaf=1, min_samples_split=2, n_estimators=100\n"
     ]
    },
    {
     "name": "stderr",
     "output_type": "stream",
     "text": [
      "/Users/julianadaikawa/Documents/MBA/TCC/mba/lib/python3.10/site-packages/sklearn/ensemble/_forest.py:424: FutureWarning: `max_features='auto'` has been deprecated in 1.1 and will be removed in 1.3. To keep the past behaviour, explicitly set `max_features='sqrt'` or remove this parameter as it is also the default value for RandomForestClassifiers and ExtraTreesClassifiers.\n"
     ]
    },
    {
     "name": "stdout",
     "output_type": "stream",
     "text": [
      "[CV 2/5; 43/100] END max_depth=90, max_features=auto, min_samples_leaf=1, min_samples_split=2, n_estimators=100;, score=(train=0.945, test=0.093) total time=  18.2s\n",
      "[CV 3/5; 43/100] START max_depth=90, max_features=auto, min_samples_leaf=1, min_samples_split=2, n_estimators=100\n"
     ]
    },
    {
     "name": "stderr",
     "output_type": "stream",
     "text": [
      "/Users/julianadaikawa/Documents/MBA/TCC/mba/lib/python3.10/site-packages/sklearn/ensemble/_forest.py:424: FutureWarning: `max_features='auto'` has been deprecated in 1.1 and will be removed in 1.3. To keep the past behaviour, explicitly set `max_features='sqrt'` or remove this parameter as it is also the default value for RandomForestClassifiers and ExtraTreesClassifiers.\n"
     ]
    },
    {
     "name": "stdout",
     "output_type": "stream",
     "text": [
      "[CV 3/5; 43/100] END max_depth=90, max_features=auto, min_samples_leaf=1, min_samples_split=2, n_estimators=100;, score=(train=0.946, test=0.086) total time=  17.8s\n",
      "[CV 4/5; 43/100] START max_depth=90, max_features=auto, min_samples_leaf=1, min_samples_split=2, n_estimators=100\n"
     ]
    },
    {
     "name": "stderr",
     "output_type": "stream",
     "text": [
      "/Users/julianadaikawa/Documents/MBA/TCC/mba/lib/python3.10/site-packages/sklearn/ensemble/_forest.py:424: FutureWarning: `max_features='auto'` has been deprecated in 1.1 and will be removed in 1.3. To keep the past behaviour, explicitly set `max_features='sqrt'` or remove this parameter as it is also the default value for RandomForestClassifiers and ExtraTreesClassifiers.\n"
     ]
    },
    {
     "name": "stdout",
     "output_type": "stream",
     "text": [
      "[CV 4/5; 43/100] END max_depth=90, max_features=auto, min_samples_leaf=1, min_samples_split=2, n_estimators=100;, score=(train=0.946, test=0.080) total time=  18.2s\n",
      "[CV 5/5; 43/100] START max_depth=90, max_features=auto, min_samples_leaf=1, min_samples_split=2, n_estimators=100\n"
     ]
    },
    {
     "name": "stderr",
     "output_type": "stream",
     "text": [
      "/Users/julianadaikawa/Documents/MBA/TCC/mba/lib/python3.10/site-packages/sklearn/ensemble/_forest.py:424: FutureWarning: `max_features='auto'` has been deprecated in 1.1 and will be removed in 1.3. To keep the past behaviour, explicitly set `max_features='sqrt'` or remove this parameter as it is also the default value for RandomForestClassifiers and ExtraTreesClassifiers.\n"
     ]
    },
    {
     "name": "stdout",
     "output_type": "stream",
     "text": [
      "[CV 5/5; 43/100] END max_depth=90, max_features=auto, min_samples_leaf=1, min_samples_split=2, n_estimators=100;, score=(train=0.945, test=0.083) total time=  17.9s\n",
      "[CV 1/5; 44/100] START max_depth=30, max_features=sqrt, min_samples_leaf=2, min_samples_split=2, n_estimators=300\n",
      "[CV 1/5; 44/100] END max_depth=30, max_features=sqrt, min_samples_leaf=2, min_samples_split=2, n_estimators=300;, score=(train=0.730, test=0.070) total time=  16.8s\n",
      "[CV 2/5; 44/100] START max_depth=30, max_features=sqrt, min_samples_leaf=2, min_samples_split=2, n_estimators=300\n",
      "[CV 2/5; 44/100] END max_depth=30, max_features=sqrt, min_samples_leaf=2, min_samples_split=2, n_estimators=300;, score=(train=0.711, test=0.072) total time=  16.5s\n",
      "[CV 3/5; 44/100] START max_depth=30, max_features=sqrt, min_samples_leaf=2, min_samples_split=2, n_estimators=300\n",
      "[CV 3/5; 44/100] END max_depth=30, max_features=sqrt, min_samples_leaf=2, min_samples_split=2, n_estimators=300;, score=(train=0.731, test=0.068) total time=  16.2s\n",
      "[CV 4/5; 44/100] START max_depth=30, max_features=sqrt, min_samples_leaf=2, min_samples_split=2, n_estimators=300\n",
      "[CV 4/5; 44/100] END max_depth=30, max_features=sqrt, min_samples_leaf=2, min_samples_split=2, n_estimators=300;, score=(train=0.716, test=0.073) total time=  16.7s\n",
      "[CV 5/5; 44/100] START max_depth=30, max_features=sqrt, min_samples_leaf=2, min_samples_split=2, n_estimators=300\n",
      "[CV 5/5; 44/100] END max_depth=30, max_features=sqrt, min_samples_leaf=2, min_samples_split=2, n_estimators=300;, score=(train=0.715, test=0.074) total time=  17.6s\n",
      "[CV 1/5; 45/100] START max_depth=110, max_features=auto, min_samples_leaf=1, min_samples_split=2, n_estimators=300\n"
     ]
    },
    {
     "name": "stderr",
     "output_type": "stream",
     "text": [
      "/Users/julianadaikawa/Documents/MBA/TCC/mba/lib/python3.10/site-packages/sklearn/ensemble/_forest.py:424: FutureWarning: `max_features='auto'` has been deprecated in 1.1 and will be removed in 1.3. To keep the past behaviour, explicitly set `max_features='sqrt'` or remove this parameter as it is also the default value for RandomForestClassifiers and ExtraTreesClassifiers.\n"
     ]
    },
    {
     "name": "stdout",
     "output_type": "stream",
     "text": [
      "[CV 1/5; 45/100] END max_depth=110, max_features=auto, min_samples_leaf=1, min_samples_split=2, n_estimators=300;, score=(train=0.948, test=0.082) total time=  57.5s\n",
      "[CV 2/5; 45/100] START max_depth=110, max_features=auto, min_samples_leaf=1, min_samples_split=2, n_estimators=300\n"
     ]
    },
    {
     "name": "stderr",
     "output_type": "stream",
     "text": [
      "/Users/julianadaikawa/Documents/MBA/TCC/mba/lib/python3.10/site-packages/sklearn/ensemble/_forest.py:424: FutureWarning: `max_features='auto'` has been deprecated in 1.1 and will be removed in 1.3. To keep the past behaviour, explicitly set `max_features='sqrt'` or remove this parameter as it is also the default value for RandomForestClassifiers and ExtraTreesClassifiers.\n"
     ]
    },
    {
     "name": "stdout",
     "output_type": "stream",
     "text": [
      "[CV 2/5; 45/100] END max_depth=110, max_features=auto, min_samples_leaf=1, min_samples_split=2, n_estimators=300;, score=(train=0.946, test=0.089) total time= 1.0min\n",
      "[CV 3/5; 45/100] START max_depth=110, max_features=auto, min_samples_leaf=1, min_samples_split=2, n_estimators=300\n"
     ]
    },
    {
     "name": "stderr",
     "output_type": "stream",
     "text": [
      "/Users/julianadaikawa/Documents/MBA/TCC/mba/lib/python3.10/site-packages/sklearn/ensemble/_forest.py:424: FutureWarning: `max_features='auto'` has been deprecated in 1.1 and will be removed in 1.3. To keep the past behaviour, explicitly set `max_features='sqrt'` or remove this parameter as it is also the default value for RandomForestClassifiers and ExtraTreesClassifiers.\n"
     ]
    },
    {
     "name": "stdout",
     "output_type": "stream",
     "text": [
      "[CV 3/5; 45/100] END max_depth=110, max_features=auto, min_samples_leaf=1, min_samples_split=2, n_estimators=300;, score=(train=0.946, test=0.100) total time= 1.0min\n",
      "[CV 4/5; 45/100] START max_depth=110, max_features=auto, min_samples_leaf=1, min_samples_split=2, n_estimators=300\n"
     ]
    },
    {
     "name": "stderr",
     "output_type": "stream",
     "text": [
      "/Users/julianadaikawa/Documents/MBA/TCC/mba/lib/python3.10/site-packages/sklearn/ensemble/_forest.py:424: FutureWarning: `max_features='auto'` has been deprecated in 1.1 and will be removed in 1.3. To keep the past behaviour, explicitly set `max_features='sqrt'` or remove this parameter as it is also the default value for RandomForestClassifiers and ExtraTreesClassifiers.\n"
     ]
    },
    {
     "name": "stdout",
     "output_type": "stream",
     "text": [
      "[CV 4/5; 45/100] END max_depth=110, max_features=auto, min_samples_leaf=1, min_samples_split=2, n_estimators=300;, score=(train=0.947, test=0.086) total time= 1.0min\n",
      "[CV 5/5; 45/100] START max_depth=110, max_features=auto, min_samples_leaf=1, min_samples_split=2, n_estimators=300\n"
     ]
    },
    {
     "name": "stderr",
     "output_type": "stream",
     "text": [
      "/Users/julianadaikawa/Documents/MBA/TCC/mba/lib/python3.10/site-packages/sklearn/ensemble/_forest.py:424: FutureWarning: `max_features='auto'` has been deprecated in 1.1 and will be removed in 1.3. To keep the past behaviour, explicitly set `max_features='sqrt'` or remove this parameter as it is also the default value for RandomForestClassifiers and ExtraTreesClassifiers.\n"
     ]
    },
    {
     "name": "stdout",
     "output_type": "stream",
     "text": [
      "[CV 5/5; 45/100] END max_depth=110, max_features=auto, min_samples_leaf=1, min_samples_split=2, n_estimators=300;, score=(train=0.946, test=0.086) total time=  59.2s\n",
      "[CV 1/5; 46/100] START max_depth=40, max_features=sqrt, min_samples_leaf=10, min_samples_split=5, n_estimators=500\n",
      "[CV 1/5; 46/100] END max_depth=40, max_features=sqrt, min_samples_leaf=10, min_samples_split=5, n_estimators=500;, score=(train=0.350, test=0.061) total time=  26.6s\n",
      "[CV 2/5; 46/100] START max_depth=40, max_features=sqrt, min_samples_leaf=10, min_samples_split=5, n_estimators=500\n",
      "[CV 2/5; 46/100] END max_depth=40, max_features=sqrt, min_samples_leaf=10, min_samples_split=5, n_estimators=500;, score=(train=0.362, test=0.070) total time=  26.0s\n",
      "[CV 3/5; 46/100] START max_depth=40, max_features=sqrt, min_samples_leaf=10, min_samples_split=5, n_estimators=500\n",
      "[CV 3/5; 46/100] END max_depth=40, max_features=sqrt, min_samples_leaf=10, min_samples_split=5, n_estimators=500;, score=(train=0.364, test=0.068) total time=  24.9s\n",
      "[CV 4/5; 46/100] START max_depth=40, max_features=sqrt, min_samples_leaf=10, min_samples_split=5, n_estimators=500\n",
      "[CV 4/5; 46/100] END max_depth=40, max_features=sqrt, min_samples_leaf=10, min_samples_split=5, n_estimators=500;, score=(train=0.369, test=0.059) total time=  24.5s\n",
      "[CV 5/5; 46/100] START max_depth=40, max_features=sqrt, min_samples_leaf=10, min_samples_split=5, n_estimators=500\n",
      "[CV 5/5; 46/100] END max_depth=40, max_features=sqrt, min_samples_leaf=10, min_samples_split=5, n_estimators=500;, score=(train=0.358, test=0.065) total time=  24.9s\n",
      "[CV 1/5; 47/100] START max_depth=100, max_features=auto, min_samples_leaf=4, min_samples_split=10, n_estimators=500\n"
     ]
    },
    {
     "name": "stderr",
     "output_type": "stream",
     "text": [
      "/Users/julianadaikawa/Documents/MBA/TCC/mba/lib/python3.10/site-packages/sklearn/ensemble/_forest.py:424: FutureWarning: `max_features='auto'` has been deprecated in 1.1 and will be removed in 1.3. To keep the past behaviour, explicitly set `max_features='sqrt'` or remove this parameter as it is also the default value for RandomForestClassifiers and ExtraTreesClassifiers.\n"
     ]
    },
    {
     "name": "stdout",
     "output_type": "stream",
     "text": [
      "[CV 1/5; 47/100] END max_depth=100, max_features=auto, min_samples_leaf=4, min_samples_split=10, n_estimators=500;, score=(train=0.906, test=0.082) total time=  48.4s\n",
      "[CV 2/5; 47/100] START max_depth=100, max_features=auto, min_samples_leaf=4, min_samples_split=10, n_estimators=500\n"
     ]
    },
    {
     "name": "stderr",
     "output_type": "stream",
     "text": [
      "/Users/julianadaikawa/Documents/MBA/TCC/mba/lib/python3.10/site-packages/sklearn/ensemble/_forest.py:424: FutureWarning: `max_features='auto'` has been deprecated in 1.1 and will be removed in 1.3. To keep the past behaviour, explicitly set `max_features='sqrt'` or remove this parameter as it is also the default value for RandomForestClassifiers and ExtraTreesClassifiers.\n"
     ]
    },
    {
     "name": "stdout",
     "output_type": "stream",
     "text": [
      "[CV 2/5; 47/100] END max_depth=100, max_features=auto, min_samples_leaf=4, min_samples_split=10, n_estimators=500;, score=(train=0.895, test=0.091) total time=  47.7s\n",
      "[CV 3/5; 47/100] START max_depth=100, max_features=auto, min_samples_leaf=4, min_samples_split=10, n_estimators=500\n"
     ]
    },
    {
     "name": "stderr",
     "output_type": "stream",
     "text": [
      "/Users/julianadaikawa/Documents/MBA/TCC/mba/lib/python3.10/site-packages/sklearn/ensemble/_forest.py:424: FutureWarning: `max_features='auto'` has been deprecated in 1.1 and will be removed in 1.3. To keep the past behaviour, explicitly set `max_features='sqrt'` or remove this parameter as it is also the default value for RandomForestClassifiers and ExtraTreesClassifiers.\n"
     ]
    },
    {
     "name": "stdout",
     "output_type": "stream",
     "text": [
      "[CV 3/5; 47/100] END max_depth=100, max_features=auto, min_samples_leaf=4, min_samples_split=10, n_estimators=500;, score=(train=0.895, test=0.084) total time=  46.1s\n",
      "[CV 4/5; 47/100] START max_depth=100, max_features=auto, min_samples_leaf=4, min_samples_split=10, n_estimators=500\n"
     ]
    },
    {
     "name": "stderr",
     "output_type": "stream",
     "text": [
      "/Users/julianadaikawa/Documents/MBA/TCC/mba/lib/python3.10/site-packages/sklearn/ensemble/_forest.py:424: FutureWarning: `max_features='auto'` has been deprecated in 1.1 and will be removed in 1.3. To keep the past behaviour, explicitly set `max_features='sqrt'` or remove this parameter as it is also the default value for RandomForestClassifiers and ExtraTreesClassifiers.\n"
     ]
    },
    {
     "name": "stdout",
     "output_type": "stream",
     "text": [
      "[CV 4/5; 47/100] END max_depth=100, max_features=auto, min_samples_leaf=4, min_samples_split=10, n_estimators=500;, score=(train=0.905, test=0.085) total time=  47.7s\n",
      "[CV 5/5; 47/100] START max_depth=100, max_features=auto, min_samples_leaf=4, min_samples_split=10, n_estimators=500\n"
     ]
    },
    {
     "name": "stderr",
     "output_type": "stream",
     "text": [
      "/Users/julianadaikawa/Documents/MBA/TCC/mba/lib/python3.10/site-packages/sklearn/ensemble/_forest.py:424: FutureWarning: `max_features='auto'` has been deprecated in 1.1 and will be removed in 1.3. To keep the past behaviour, explicitly set `max_features='sqrt'` or remove this parameter as it is also the default value for RandomForestClassifiers and ExtraTreesClassifiers.\n"
     ]
    },
    {
     "name": "stdout",
     "output_type": "stream",
     "text": [
      "[CV 5/5; 47/100] END max_depth=100, max_features=auto, min_samples_leaf=4, min_samples_split=10, n_estimators=500;, score=(train=0.905, test=0.086) total time=  51.4s\n",
      "[CV 1/5; 48/100] START max_depth=70, max_features=auto, min_samples_leaf=2, min_samples_split=2, n_estimators=700\n"
     ]
    },
    {
     "name": "stderr",
     "output_type": "stream",
     "text": [
      "/Users/julianadaikawa/Documents/MBA/TCC/mba/lib/python3.10/site-packages/sklearn/ensemble/_forest.py:424: FutureWarning: `max_features='auto'` has been deprecated in 1.1 and will be removed in 1.3. To keep the past behaviour, explicitly set `max_features='sqrt'` or remove this parameter as it is also the default value for RandomForestClassifiers and ExtraTreesClassifiers.\n"
     ]
    },
    {
     "name": "stdout",
     "output_type": "stream",
     "text": [
      "[CV 1/5; 48/100] END max_depth=70, max_features=auto, min_samples_leaf=2, min_samples_split=2, n_estimators=700;, score=(train=0.935, test=0.082) total time= 1.5min\n",
      "[CV 2/5; 48/100] START max_depth=70, max_features=auto, min_samples_leaf=2, min_samples_split=2, n_estimators=700\n"
     ]
    },
    {
     "name": "stderr",
     "output_type": "stream",
     "text": [
      "/Users/julianadaikawa/Documents/MBA/TCC/mba/lib/python3.10/site-packages/sklearn/ensemble/_forest.py:424: FutureWarning: `max_features='auto'` has been deprecated in 1.1 and will be removed in 1.3. To keep the past behaviour, explicitly set `max_features='sqrt'` or remove this parameter as it is also the default value for RandomForestClassifiers and ExtraTreesClassifiers.\n"
     ]
    },
    {
     "name": "stdout",
     "output_type": "stream",
     "text": [
      "[CV 2/5; 48/100] END max_depth=70, max_features=auto, min_samples_leaf=2, min_samples_split=2, n_estimators=700;, score=(train=0.931, test=0.093) total time= 1.5min\n",
      "[CV 3/5; 48/100] START max_depth=70, max_features=auto, min_samples_leaf=2, min_samples_split=2, n_estimators=700\n"
     ]
    },
    {
     "name": "stderr",
     "output_type": "stream",
     "text": [
      "/Users/julianadaikawa/Documents/MBA/TCC/mba/lib/python3.10/site-packages/sklearn/ensemble/_forest.py:424: FutureWarning: `max_features='auto'` has been deprecated in 1.1 and will be removed in 1.3. To keep the past behaviour, explicitly set `max_features='sqrt'` or remove this parameter as it is also the default value for RandomForestClassifiers and ExtraTreesClassifiers.\n"
     ]
    },
    {
     "name": "stdout",
     "output_type": "stream",
     "text": [
      "[CV 3/5; 48/100] END max_depth=70, max_features=auto, min_samples_leaf=2, min_samples_split=2, n_estimators=700;, score=(train=0.937, test=0.080) total time= 1.3min\n",
      "[CV 4/5; 48/100] START max_depth=70, max_features=auto, min_samples_leaf=2, min_samples_split=2, n_estimators=700\n"
     ]
    },
    {
     "name": "stderr",
     "output_type": "stream",
     "text": [
      "/Users/julianadaikawa/Documents/MBA/TCC/mba/lib/python3.10/site-packages/sklearn/ensemble/_forest.py:424: FutureWarning: `max_features='auto'` has been deprecated in 1.1 and will be removed in 1.3. To keep the past behaviour, explicitly set `max_features='sqrt'` or remove this parameter as it is also the default value for RandomForestClassifiers and ExtraTreesClassifiers.\n"
     ]
    },
    {
     "name": "stdout",
     "output_type": "stream",
     "text": [
      "[CV 4/5; 48/100] END max_depth=70, max_features=auto, min_samples_leaf=2, min_samples_split=2, n_estimators=700;, score=(train=0.919, test=0.086) total time= 1.5min\n",
      "[CV 5/5; 48/100] START max_depth=70, max_features=auto, min_samples_leaf=2, min_samples_split=2, n_estimators=700\n"
     ]
    },
    {
     "name": "stderr",
     "output_type": "stream",
     "text": [
      "/Users/julianadaikawa/Documents/MBA/TCC/mba/lib/python3.10/site-packages/sklearn/ensemble/_forest.py:424: FutureWarning: `max_features='auto'` has been deprecated in 1.1 and will be removed in 1.3. To keep the past behaviour, explicitly set `max_features='sqrt'` or remove this parameter as it is also the default value for RandomForestClassifiers and ExtraTreesClassifiers.\n"
     ]
    },
    {
     "name": "stdout",
     "output_type": "stream",
     "text": [
      "[CV 5/5; 48/100] END max_depth=70, max_features=auto, min_samples_leaf=2, min_samples_split=2, n_estimators=700;, score=(train=0.935, test=0.090) total time= 1.5min\n",
      "[CV 1/5; 49/100] START max_depth=110, max_features=sqrt, min_samples_leaf=2, min_samples_split=5, n_estimators=200\n",
      "[CV 1/5; 49/100] END max_depth=110, max_features=sqrt, min_samples_leaf=2, min_samples_split=5, n_estimators=200;, score=(train=0.943, test=0.089) total time=  27.5s\n",
      "[CV 2/5; 49/100] START max_depth=110, max_features=sqrt, min_samples_leaf=2, min_samples_split=5, n_estimators=200\n",
      "[CV 2/5; 49/100] END max_depth=110, max_features=sqrt, min_samples_leaf=2, min_samples_split=5, n_estimators=200;, score=(train=0.942, test=0.091) total time=  25.9s\n",
      "[CV 3/5; 49/100] START max_depth=110, max_features=sqrt, min_samples_leaf=2, min_samples_split=5, n_estimators=200\n",
      "[CV 3/5; 49/100] END max_depth=110, max_features=sqrt, min_samples_leaf=2, min_samples_split=5, n_estimators=200;, score=(train=0.942, test=0.092) total time=  25.1s\n",
      "[CV 4/5; 49/100] START max_depth=110, max_features=sqrt, min_samples_leaf=2, min_samples_split=5, n_estimators=200\n",
      "[CV 4/5; 49/100] END max_depth=110, max_features=sqrt, min_samples_leaf=2, min_samples_split=5, n_estimators=200;, score=(train=0.942, test=0.081) total time=  25.6s\n",
      "[CV 5/5; 49/100] START max_depth=110, max_features=sqrt, min_samples_leaf=2, min_samples_split=5, n_estimators=200\n",
      "[CV 5/5; 49/100] END max_depth=110, max_features=sqrt, min_samples_leaf=2, min_samples_split=5, n_estimators=200;, score=(train=0.941, test=0.090) total time=  26.2s\n",
      "[CV 1/5; 50/100] START max_depth=110, max_features=sqrt, min_samples_leaf=4, min_samples_split=10, n_estimators=1000\n",
      "[CV 1/5; 50/100] END max_depth=110, max_features=sqrt, min_samples_leaf=4, min_samples_split=10, n_estimators=1000;, score=(train=0.908, test=0.078) total time= 1.6min\n",
      "[CV 2/5; 50/100] START max_depth=110, max_features=sqrt, min_samples_leaf=4, min_samples_split=10, n_estimators=1000\n",
      "[CV 2/5; 50/100] END max_depth=110, max_features=sqrt, min_samples_leaf=4, min_samples_split=10, n_estimators=1000;, score=(train=0.911, test=0.089) total time= 1.6min\n",
      "[CV 3/5; 50/100] START max_depth=110, max_features=sqrt, min_samples_leaf=4, min_samples_split=10, n_estimators=1000\n",
      "[CV 3/5; 50/100] END max_depth=110, max_features=sqrt, min_samples_leaf=4, min_samples_split=10, n_estimators=1000;, score=(train=0.898, test=0.082) total time= 1.5min\n",
      "[CV 4/5; 50/100] START max_depth=110, max_features=sqrt, min_samples_leaf=4, min_samples_split=10, n_estimators=1000\n",
      "[CV 4/5; 50/100] END max_depth=110, max_features=sqrt, min_samples_leaf=4, min_samples_split=10, n_estimators=1000;, score=(train=0.909, test=0.081) total time= 1.6min\n",
      "[CV 5/5; 50/100] START max_depth=110, max_features=sqrt, min_samples_leaf=4, min_samples_split=10, n_estimators=1000\n",
      "[CV 5/5; 50/100] END max_depth=110, max_features=sqrt, min_samples_leaf=4, min_samples_split=10, n_estimators=1000;, score=(train=0.909, test=0.089) total time= 1.5min\n",
      "[CV 1/5; 51/100] START max_depth=100, max_features=sqrt, min_samples_leaf=2, min_samples_split=10, n_estimators=300\n",
      "[CV 1/5; 51/100] END max_depth=100, max_features=sqrt, min_samples_leaf=2, min_samples_split=10, n_estimators=300;, score=(train=0.937, test=0.091) total time=  35.2s\n",
      "[CV 2/5; 51/100] START max_depth=100, max_features=sqrt, min_samples_leaf=2, min_samples_split=10, n_estimators=300\n",
      "[CV 2/5; 51/100] END max_depth=100, max_features=sqrt, min_samples_leaf=2, min_samples_split=10, n_estimators=300;, score=(train=0.939, test=0.094) total time=  35.5s\n",
      "[CV 3/5; 51/100] START max_depth=100, max_features=sqrt, min_samples_leaf=2, min_samples_split=10, n_estimators=300\n",
      "[CV 3/5; 51/100] END max_depth=100, max_features=sqrt, min_samples_leaf=2, min_samples_split=10, n_estimators=300;, score=(train=0.941, test=0.092) total time=  34.7s\n",
      "[CV 4/5; 51/100] START max_depth=100, max_features=sqrt, min_samples_leaf=2, min_samples_split=10, n_estimators=300\n",
      "[CV 4/5; 51/100] END max_depth=100, max_features=sqrt, min_samples_leaf=2, min_samples_split=10, n_estimators=300;, score=(train=0.940, test=0.086) total time=  35.2s\n",
      "[CV 5/5; 51/100] START max_depth=100, max_features=sqrt, min_samples_leaf=2, min_samples_split=10, n_estimators=300\n",
      "[CV 5/5; 51/100] END max_depth=100, max_features=sqrt, min_samples_leaf=2, min_samples_split=10, n_estimators=300;, score=(train=0.941, test=0.097) total time=  35.7s\n",
      "[CV 1/5; 52/100] START max_depth=20, max_features=sqrt, min_samples_leaf=2, min_samples_split=5, n_estimators=800\n",
      "[CV 1/5; 52/100] END max_depth=20, max_features=sqrt, min_samples_leaf=2, min_samples_split=5, n_estimators=800;, score=(train=0.400, test=0.055) total time=  30.0s\n",
      "[CV 2/5; 52/100] START max_depth=20, max_features=sqrt, min_samples_leaf=2, min_samples_split=5, n_estimators=800\n",
      "[CV 2/5; 52/100] END max_depth=20, max_features=sqrt, min_samples_leaf=2, min_samples_split=5, n_estimators=800;, score=(train=0.401, test=0.060) total time=  30.2s\n",
      "[CV 3/5; 52/100] START max_depth=20, max_features=sqrt, min_samples_leaf=2, min_samples_split=5, n_estimators=800\n",
      "[CV 3/5; 52/100] END max_depth=20, max_features=sqrt, min_samples_leaf=2, min_samples_split=5, n_estimators=800;, score=(train=0.419, test=0.056) total time=  29.9s\n",
      "[CV 4/5; 52/100] START max_depth=20, max_features=sqrt, min_samples_leaf=2, min_samples_split=5, n_estimators=800\n",
      "[CV 4/5; 52/100] END max_depth=20, max_features=sqrt, min_samples_leaf=2, min_samples_split=5, n_estimators=800;, score=(train=0.401, test=0.054) total time=  29.9s\n",
      "[CV 5/5; 52/100] START max_depth=20, max_features=sqrt, min_samples_leaf=2, min_samples_split=5, n_estimators=800\n",
      "[CV 5/5; 52/100] END max_depth=20, max_features=sqrt, min_samples_leaf=2, min_samples_split=5, n_estimators=800;, score=(train=0.395, test=0.055) total time=  29.1s\n",
      "[CV 1/5; 53/100] START max_depth=100, max_features=auto, min_samples_leaf=2, min_samples_split=2, n_estimators=500\n"
     ]
    },
    {
     "name": "stderr",
     "output_type": "stream",
     "text": [
      "/Users/julianadaikawa/Documents/MBA/TCC/mba/lib/python3.10/site-packages/sklearn/ensemble/_forest.py:424: FutureWarning: `max_features='auto'` has been deprecated in 1.1 and will be removed in 1.3. To keep the past behaviour, explicitly set `max_features='sqrt'` or remove this parameter as it is also the default value for RandomForestClassifiers and ExtraTreesClassifiers.\n"
     ]
    },
    {
     "name": "stdout",
     "output_type": "stream",
     "text": [
      "[CV 1/5; 53/100] END max_depth=100, max_features=auto, min_samples_leaf=2, min_samples_split=2, n_estimators=500;, score=(train=0.943, test=0.091) total time=  59.8s\n",
      "[CV 2/5; 53/100] START max_depth=100, max_features=auto, min_samples_leaf=2, min_samples_split=2, n_estimators=500\n"
     ]
    },
    {
     "name": "stderr",
     "output_type": "stream",
     "text": [
      "/Users/julianadaikawa/Documents/MBA/TCC/mba/lib/python3.10/site-packages/sklearn/ensemble/_forest.py:424: FutureWarning: `max_features='auto'` has been deprecated in 1.1 and will be removed in 1.3. To keep the past behaviour, explicitly set `max_features='sqrt'` or remove this parameter as it is also the default value for RandomForestClassifiers and ExtraTreesClassifiers.\n"
     ]
    },
    {
     "name": "stdout",
     "output_type": "stream",
     "text": [
      "[CV 2/5; 53/100] END max_depth=100, max_features=auto, min_samples_leaf=2, min_samples_split=2, n_estimators=500;, score=(train=0.941, test=0.090) total time= 1.0min\n",
      "[CV 3/5; 53/100] START max_depth=100, max_features=auto, min_samples_leaf=2, min_samples_split=2, n_estimators=500\n"
     ]
    },
    {
     "name": "stderr",
     "output_type": "stream",
     "text": [
      "/Users/julianadaikawa/Documents/MBA/TCC/mba/lib/python3.10/site-packages/sklearn/ensemble/_forest.py:424: FutureWarning: `max_features='auto'` has been deprecated in 1.1 and will be removed in 1.3. To keep the past behaviour, explicitly set `max_features='sqrt'` or remove this parameter as it is also the default value for RandomForestClassifiers and ExtraTreesClassifiers.\n"
     ]
    },
    {
     "name": "stdout",
     "output_type": "stream",
     "text": [
      "[CV 3/5; 53/100] END max_depth=100, max_features=auto, min_samples_leaf=2, min_samples_split=2, n_estimators=500;, score=(train=0.942, test=0.092) total time= 1.0min\n",
      "[CV 4/5; 53/100] START max_depth=100, max_features=auto, min_samples_leaf=2, min_samples_split=2, n_estimators=500\n"
     ]
    },
    {
     "name": "stderr",
     "output_type": "stream",
     "text": [
      "/Users/julianadaikawa/Documents/MBA/TCC/mba/lib/python3.10/site-packages/sklearn/ensemble/_forest.py:424: FutureWarning: `max_features='auto'` has been deprecated in 1.1 and will be removed in 1.3. To keep the past behaviour, explicitly set `max_features='sqrt'` or remove this parameter as it is also the default value for RandomForestClassifiers and ExtraTreesClassifiers.\n"
     ]
    },
    {
     "name": "stdout",
     "output_type": "stream",
     "text": [
      "[CV 4/5; 53/100] END max_depth=100, max_features=auto, min_samples_leaf=2, min_samples_split=2, n_estimators=500;, score=(train=0.942, test=0.087) total time=  59.8s\n",
      "[CV 5/5; 53/100] START max_depth=100, max_features=auto, min_samples_leaf=2, min_samples_split=2, n_estimators=500\n"
     ]
    },
    {
     "name": "stderr",
     "output_type": "stream",
     "text": [
      "/Users/julianadaikawa/Documents/MBA/TCC/mba/lib/python3.10/site-packages/sklearn/ensemble/_forest.py:424: FutureWarning: `max_features='auto'` has been deprecated in 1.1 and will be removed in 1.3. To keep the past behaviour, explicitly set `max_features='sqrt'` or remove this parameter as it is also the default value for RandomForestClassifiers and ExtraTreesClassifiers.\n"
     ]
    },
    {
     "name": "stdout",
     "output_type": "stream",
     "text": [
      "[CV 5/5; 53/100] END max_depth=100, max_features=auto, min_samples_leaf=2, min_samples_split=2, n_estimators=500;, score=(train=0.942, test=0.089) total time=  60.0s\n",
      "[CV 1/5; 54/100] START max_depth=10, max_features=auto, min_samples_leaf=2, min_samples_split=5, n_estimators=500\n"
     ]
    },
    {
     "name": "stderr",
     "output_type": "stream",
     "text": [
      "/Users/julianadaikawa/Documents/MBA/TCC/mba/lib/python3.10/site-packages/sklearn/ensemble/_forest.py:424: FutureWarning: `max_features='auto'` has been deprecated in 1.1 and will be removed in 1.3. To keep the past behaviour, explicitly set `max_features='sqrt'` or remove this parameter as it is also the default value for RandomForestClassifiers and ExtraTreesClassifiers.\n"
     ]
    },
    {
     "name": "stdout",
     "output_type": "stream",
     "text": [
      "[CV 1/5; 54/100] END max_depth=10, max_features=auto, min_samples_leaf=2, min_samples_split=5, n_estimators=500;, score=(train=0.107, test=0.034) total time=   9.6s\n",
      "[CV 2/5; 54/100] START max_depth=10, max_features=auto, min_samples_leaf=2, min_samples_split=5, n_estimators=500\n"
     ]
    },
    {
     "name": "stderr",
     "output_type": "stream",
     "text": [
      "/Users/julianadaikawa/Documents/MBA/TCC/mba/lib/python3.10/site-packages/sklearn/ensemble/_forest.py:424: FutureWarning: `max_features='auto'` has been deprecated in 1.1 and will be removed in 1.3. To keep the past behaviour, explicitly set `max_features='sqrt'` or remove this parameter as it is also the default value for RandomForestClassifiers and ExtraTreesClassifiers.\n"
     ]
    },
    {
     "name": "stdout",
     "output_type": "stream",
     "text": [
      "[CV 2/5; 54/100] END max_depth=10, max_features=auto, min_samples_leaf=2, min_samples_split=5, n_estimators=500;, score=(train=0.108, test=0.031) total time=   9.5s\n",
      "[CV 3/5; 54/100] START max_depth=10, max_features=auto, min_samples_leaf=2, min_samples_split=5, n_estimators=500\n"
     ]
    },
    {
     "name": "stderr",
     "output_type": "stream",
     "text": [
      "/Users/julianadaikawa/Documents/MBA/TCC/mba/lib/python3.10/site-packages/sklearn/ensemble/_forest.py:424: FutureWarning: `max_features='auto'` has been deprecated in 1.1 and will be removed in 1.3. To keep the past behaviour, explicitly set `max_features='sqrt'` or remove this parameter as it is also the default value for RandomForestClassifiers and ExtraTreesClassifiers.\n"
     ]
    },
    {
     "name": "stdout",
     "output_type": "stream",
     "text": [
      "[CV 3/5; 54/100] END max_depth=10, max_features=auto, min_samples_leaf=2, min_samples_split=5, n_estimators=500;, score=(train=0.109, test=0.037) total time=   9.3s\n",
      "[CV 4/5; 54/100] START max_depth=10, max_features=auto, min_samples_leaf=2, min_samples_split=5, n_estimators=500\n"
     ]
    },
    {
     "name": "stderr",
     "output_type": "stream",
     "text": [
      "/Users/julianadaikawa/Documents/MBA/TCC/mba/lib/python3.10/site-packages/sklearn/ensemble/_forest.py:424: FutureWarning: `max_features='auto'` has been deprecated in 1.1 and will be removed in 1.3. To keep the past behaviour, explicitly set `max_features='sqrt'` or remove this parameter as it is also the default value for RandomForestClassifiers and ExtraTreesClassifiers.\n"
     ]
    },
    {
     "name": "stdout",
     "output_type": "stream",
     "text": [
      "[CV 4/5; 54/100] END max_depth=10, max_features=auto, min_samples_leaf=2, min_samples_split=5, n_estimators=500;, score=(train=0.116, test=0.038) total time=   9.1s\n",
      "[CV 5/5; 54/100] START max_depth=10, max_features=auto, min_samples_leaf=2, min_samples_split=5, n_estimators=500\n"
     ]
    },
    {
     "name": "stderr",
     "output_type": "stream",
     "text": [
      "/Users/julianadaikawa/Documents/MBA/TCC/mba/lib/python3.10/site-packages/sklearn/ensemble/_forest.py:424: FutureWarning: `max_features='auto'` has been deprecated in 1.1 and will be removed in 1.3. To keep the past behaviour, explicitly set `max_features='sqrt'` or remove this parameter as it is also the default value for RandomForestClassifiers and ExtraTreesClassifiers.\n"
     ]
    },
    {
     "name": "stdout",
     "output_type": "stream",
     "text": [
      "[CV 5/5; 54/100] END max_depth=10, max_features=auto, min_samples_leaf=2, min_samples_split=5, n_estimators=500;, score=(train=0.104, test=0.035) total time=   9.2s\n",
      "[CV 1/5; 55/100] START max_depth=10, max_features=auto, min_samples_leaf=4, min_samples_split=5, n_estimators=400\n"
     ]
    },
    {
     "name": "stderr",
     "output_type": "stream",
     "text": [
      "/Users/julianadaikawa/Documents/MBA/TCC/mba/lib/python3.10/site-packages/sklearn/ensemble/_forest.py:424: FutureWarning: `max_features='auto'` has been deprecated in 1.1 and will be removed in 1.3. To keep the past behaviour, explicitly set `max_features='sqrt'` or remove this parameter as it is also the default value for RandomForestClassifiers and ExtraTreesClassifiers.\n"
     ]
    },
    {
     "name": "stdout",
     "output_type": "stream",
     "text": [
      "[CV 1/5; 55/100] END max_depth=10, max_features=auto, min_samples_leaf=4, min_samples_split=5, n_estimators=400;, score=(train=0.094, test=0.036) total time=   7.4s\n",
      "[CV 2/5; 55/100] START max_depth=10, max_features=auto, min_samples_leaf=4, min_samples_split=5, n_estimators=400\n"
     ]
    },
    {
     "name": "stderr",
     "output_type": "stream",
     "text": [
      "/Users/julianadaikawa/Documents/MBA/TCC/mba/lib/python3.10/site-packages/sklearn/ensemble/_forest.py:424: FutureWarning: `max_features='auto'` has been deprecated in 1.1 and will be removed in 1.3. To keep the past behaviour, explicitly set `max_features='sqrt'` or remove this parameter as it is also the default value for RandomForestClassifiers and ExtraTreesClassifiers.\n"
     ]
    },
    {
     "name": "stdout",
     "output_type": "stream",
     "text": [
      "[CV 2/5; 55/100] END max_depth=10, max_features=auto, min_samples_leaf=4, min_samples_split=5, n_estimators=400;, score=(train=0.089, test=0.033) total time=   7.2s\n",
      "[CV 3/5; 55/100] START max_depth=10, max_features=auto, min_samples_leaf=4, min_samples_split=5, n_estimators=400\n"
     ]
    },
    {
     "name": "stderr",
     "output_type": "stream",
     "text": [
      "/Users/julianadaikawa/Documents/MBA/TCC/mba/lib/python3.10/site-packages/sklearn/ensemble/_forest.py:424: FutureWarning: `max_features='auto'` has been deprecated in 1.1 and will be removed in 1.3. To keep the past behaviour, explicitly set `max_features='sqrt'` or remove this parameter as it is also the default value for RandomForestClassifiers and ExtraTreesClassifiers.\n"
     ]
    },
    {
     "name": "stdout",
     "output_type": "stream",
     "text": [
      "[CV 3/5; 55/100] END max_depth=10, max_features=auto, min_samples_leaf=4, min_samples_split=5, n_estimators=400;, score=(train=0.091, test=0.039) total time=   7.3s\n",
      "[CV 4/5; 55/100] START max_depth=10, max_features=auto, min_samples_leaf=4, min_samples_split=5, n_estimators=400\n"
     ]
    },
    {
     "name": "stderr",
     "output_type": "stream",
     "text": [
      "/Users/julianadaikawa/Documents/MBA/TCC/mba/lib/python3.10/site-packages/sklearn/ensemble/_forest.py:424: FutureWarning: `max_features='auto'` has been deprecated in 1.1 and will be removed in 1.3. To keep the past behaviour, explicitly set `max_features='sqrt'` or remove this parameter as it is also the default value for RandomForestClassifiers and ExtraTreesClassifiers.\n"
     ]
    },
    {
     "name": "stdout",
     "output_type": "stream",
     "text": [
      "[CV 4/5; 55/100] END max_depth=10, max_features=auto, min_samples_leaf=4, min_samples_split=5, n_estimators=400;, score=(train=0.091, test=0.032) total time=   7.2s\n",
      "[CV 5/5; 55/100] START max_depth=10, max_features=auto, min_samples_leaf=4, min_samples_split=5, n_estimators=400\n"
     ]
    },
    {
     "name": "stderr",
     "output_type": "stream",
     "text": [
      "/Users/julianadaikawa/Documents/MBA/TCC/mba/lib/python3.10/site-packages/sklearn/ensemble/_forest.py:424: FutureWarning: `max_features='auto'` has been deprecated in 1.1 and will be removed in 1.3. To keep the past behaviour, explicitly set `max_features='sqrt'` or remove this parameter as it is also the default value for RandomForestClassifiers and ExtraTreesClassifiers.\n"
     ]
    },
    {
     "name": "stdout",
     "output_type": "stream",
     "text": [
      "[CV 5/5; 55/100] END max_depth=10, max_features=auto, min_samples_leaf=4, min_samples_split=5, n_estimators=400;, score=(train=0.089, test=0.033) total time=   7.3s\n",
      "[CV 1/5; 56/100] START max_depth=40, max_features=sqrt, min_samples_leaf=1, min_samples_split=2, n_estimators=100\n",
      "[CV 1/5; 56/100] END max_depth=40, max_features=sqrt, min_samples_leaf=1, min_samples_split=2, n_estimators=100;, score=(train=0.918, test=0.068) total time=   9.2s\n",
      "[CV 2/5; 56/100] START max_depth=40, max_features=sqrt, min_samples_leaf=1, min_samples_split=2, n_estimators=100\n",
      "[CV 2/5; 56/100] END max_depth=40, max_features=sqrt, min_samples_leaf=1, min_samples_split=2, n_estimators=100;, score=(train=0.914, test=0.079) total time=   9.8s\n",
      "[CV 3/5; 56/100] START max_depth=40, max_features=sqrt, min_samples_leaf=1, min_samples_split=2, n_estimators=100\n",
      "[CV 3/5; 56/100] END max_depth=40, max_features=sqrt, min_samples_leaf=1, min_samples_split=2, n_estimators=100;, score=(train=0.910, test=0.083) total time=   9.3s\n",
      "[CV 4/5; 56/100] START max_depth=40, max_features=sqrt, min_samples_leaf=1, min_samples_split=2, n_estimators=100\n",
      "[CV 4/5; 56/100] END max_depth=40, max_features=sqrt, min_samples_leaf=1, min_samples_split=2, n_estimators=100;, score=(train=0.902, test=0.074) total time=   9.4s\n",
      "[CV 5/5; 56/100] START max_depth=40, max_features=sqrt, min_samples_leaf=1, min_samples_split=2, n_estimators=100\n",
      "[CV 5/5; 56/100] END max_depth=40, max_features=sqrt, min_samples_leaf=1, min_samples_split=2, n_estimators=100;, score=(train=0.905, test=0.077) total time=   9.4s\n",
      "[CV 1/5; 57/100] START max_depth=110, max_features=auto, min_samples_leaf=2, min_samples_split=10, n_estimators=300\n"
     ]
    },
    {
     "name": "stderr",
     "output_type": "stream",
     "text": [
      "/Users/julianadaikawa/Documents/MBA/TCC/mba/lib/python3.10/site-packages/sklearn/ensemble/_forest.py:424: FutureWarning: `max_features='auto'` has been deprecated in 1.1 and will be removed in 1.3. To keep the past behaviour, explicitly set `max_features='sqrt'` or remove this parameter as it is also the default value for RandomForestClassifiers and ExtraTreesClassifiers.\n"
     ]
    },
    {
     "name": "stdout",
     "output_type": "stream",
     "text": [
      "[CV 1/5; 57/100] END max_depth=110, max_features=auto, min_samples_leaf=2, min_samples_split=10, n_estimators=300;, score=(train=0.942, test=0.088) total time=  36.1s\n",
      "[CV 2/5; 57/100] START max_depth=110, max_features=auto, min_samples_leaf=2, min_samples_split=10, n_estimators=300\n"
     ]
    },
    {
     "name": "stderr",
     "output_type": "stream",
     "text": [
      "/Users/julianadaikawa/Documents/MBA/TCC/mba/lib/python3.10/site-packages/sklearn/ensemble/_forest.py:424: FutureWarning: `max_features='auto'` has been deprecated in 1.1 and will be removed in 1.3. To keep the past behaviour, explicitly set `max_features='sqrt'` or remove this parameter as it is also the default value for RandomForestClassifiers and ExtraTreesClassifiers.\n"
     ]
    },
    {
     "name": "stdout",
     "output_type": "stream",
     "text": [
      "[CV 2/5; 57/100] END max_depth=110, max_features=auto, min_samples_leaf=2, min_samples_split=10, n_estimators=300;, score=(train=0.941, test=0.096) total time=  36.4s\n",
      "[CV 3/5; 57/100] START max_depth=110, max_features=auto, min_samples_leaf=2, min_samples_split=10, n_estimators=300\n"
     ]
    },
    {
     "name": "stderr",
     "output_type": "stream",
     "text": [
      "/Users/julianadaikawa/Documents/MBA/TCC/mba/lib/python3.10/site-packages/sklearn/ensemble/_forest.py:424: FutureWarning: `max_features='auto'` has been deprecated in 1.1 and will be removed in 1.3. To keep the past behaviour, explicitly set `max_features='sqrt'` or remove this parameter as it is also the default value for RandomForestClassifiers and ExtraTreesClassifiers.\n"
     ]
    },
    {
     "name": "stdout",
     "output_type": "stream",
     "text": [
      "[CV 3/5; 57/100] END max_depth=110, max_features=auto, min_samples_leaf=2, min_samples_split=10, n_estimators=300;, score=(train=0.941, test=0.093) total time=  35.8s\n",
      "[CV 4/5; 57/100] START max_depth=110, max_features=auto, min_samples_leaf=2, min_samples_split=10, n_estimators=300\n"
     ]
    },
    {
     "name": "stderr",
     "output_type": "stream",
     "text": [
      "/Users/julianadaikawa/Documents/MBA/TCC/mba/lib/python3.10/site-packages/sklearn/ensemble/_forest.py:424: FutureWarning: `max_features='auto'` has been deprecated in 1.1 and will be removed in 1.3. To keep the past behaviour, explicitly set `max_features='sqrt'` or remove this parameter as it is also the default value for RandomForestClassifiers and ExtraTreesClassifiers.\n"
     ]
    },
    {
     "name": "stdout",
     "output_type": "stream",
     "text": [
      "[CV 4/5; 57/100] END max_depth=110, max_features=auto, min_samples_leaf=2, min_samples_split=10, n_estimators=300;, score=(train=0.941, test=0.086) total time=  36.7s\n",
      "[CV 5/5; 57/100] START max_depth=110, max_features=auto, min_samples_leaf=2, min_samples_split=10, n_estimators=300\n"
     ]
    },
    {
     "name": "stderr",
     "output_type": "stream",
     "text": [
      "/Users/julianadaikawa/Documents/MBA/TCC/mba/lib/python3.10/site-packages/sklearn/ensemble/_forest.py:424: FutureWarning: `max_features='auto'` has been deprecated in 1.1 and will be removed in 1.3. To keep the past behaviour, explicitly set `max_features='sqrt'` or remove this parameter as it is also the default value for RandomForestClassifiers and ExtraTreesClassifiers.\n"
     ]
    },
    {
     "name": "stdout",
     "output_type": "stream",
     "text": [
      "[CV 5/5; 57/100] END max_depth=110, max_features=auto, min_samples_leaf=2, min_samples_split=10, n_estimators=300;, score=(train=0.937, test=0.096) total time=  36.2s\n",
      "[CV 1/5; 58/100] START max_depth=30, max_features=auto, min_samples_leaf=4, min_samples_split=5, n_estimators=500\n"
     ]
    },
    {
     "name": "stderr",
     "output_type": "stream",
     "text": [
      "/Users/julianadaikawa/Documents/MBA/TCC/mba/lib/python3.10/site-packages/sklearn/ensemble/_forest.py:424: FutureWarning: `max_features='auto'` has been deprecated in 1.1 and will be removed in 1.3. To keep the past behaviour, explicitly set `max_features='sqrt'` or remove this parameter as it is also the default value for RandomForestClassifiers and ExtraTreesClassifiers.\n"
     ]
    },
    {
     "name": "stdout",
     "output_type": "stream",
     "text": [
      "[CV 1/5; 58/100] END max_depth=30, max_features=auto, min_samples_leaf=4, min_samples_split=5, n_estimators=500;, score=(train=0.554, test=0.067) total time=  25.2s\n",
      "[CV 2/5; 58/100] START max_depth=30, max_features=auto, min_samples_leaf=4, min_samples_split=5, n_estimators=500\n"
     ]
    },
    {
     "name": "stderr",
     "output_type": "stream",
     "text": [
      "/Users/julianadaikawa/Documents/MBA/TCC/mba/lib/python3.10/site-packages/sklearn/ensemble/_forest.py:424: FutureWarning: `max_features='auto'` has been deprecated in 1.1 and will be removed in 1.3. To keep the past behaviour, explicitly set `max_features='sqrt'` or remove this parameter as it is also the default value for RandomForestClassifiers and ExtraTreesClassifiers.\n"
     ]
    },
    {
     "name": "stdout",
     "output_type": "stream",
     "text": [
      "[CV 2/5; 58/100] END max_depth=30, max_features=auto, min_samples_leaf=4, min_samples_split=5, n_estimators=500;, score=(train=0.554, test=0.072) total time=  24.9s\n",
      "[CV 3/5; 58/100] START max_depth=30, max_features=auto, min_samples_leaf=4, min_samples_split=5, n_estimators=500\n"
     ]
    },
    {
     "name": "stderr",
     "output_type": "stream",
     "text": [
      "/Users/julianadaikawa/Documents/MBA/TCC/mba/lib/python3.10/site-packages/sklearn/ensemble/_forest.py:424: FutureWarning: `max_features='auto'` has been deprecated in 1.1 and will be removed in 1.3. To keep the past behaviour, explicitly set `max_features='sqrt'` or remove this parameter as it is also the default value for RandomForestClassifiers and ExtraTreesClassifiers.\n"
     ]
    },
    {
     "name": "stdout",
     "output_type": "stream",
     "text": [
      "[CV 3/5; 58/100] END max_depth=30, max_features=auto, min_samples_leaf=4, min_samples_split=5, n_estimators=500;, score=(train=0.569, test=0.073) total time=  25.5s\n",
      "[CV 4/5; 58/100] START max_depth=30, max_features=auto, min_samples_leaf=4, min_samples_split=5, n_estimators=500\n"
     ]
    },
    {
     "name": "stderr",
     "output_type": "stream",
     "text": [
      "/Users/julianadaikawa/Documents/MBA/TCC/mba/lib/python3.10/site-packages/sklearn/ensemble/_forest.py:424: FutureWarning: `max_features='auto'` has been deprecated in 1.1 and will be removed in 1.3. To keep the past behaviour, explicitly set `max_features='sqrt'` or remove this parameter as it is also the default value for RandomForestClassifiers and ExtraTreesClassifiers.\n"
     ]
    },
    {
     "name": "stdout",
     "output_type": "stream",
     "text": [
      "[CV 4/5; 58/100] END max_depth=30, max_features=auto, min_samples_leaf=4, min_samples_split=5, n_estimators=500;, score=(train=0.556, test=0.066) total time=  25.2s\n",
      "[CV 5/5; 58/100] START max_depth=30, max_features=auto, min_samples_leaf=4, min_samples_split=5, n_estimators=500\n"
     ]
    },
    {
     "name": "stderr",
     "output_type": "stream",
     "text": [
      "/Users/julianadaikawa/Documents/MBA/TCC/mba/lib/python3.10/site-packages/sklearn/ensemble/_forest.py:424: FutureWarning: `max_features='auto'` has been deprecated in 1.1 and will be removed in 1.3. To keep the past behaviour, explicitly set `max_features='sqrt'` or remove this parameter as it is also the default value for RandomForestClassifiers and ExtraTreesClassifiers.\n"
     ]
    },
    {
     "name": "stdout",
     "output_type": "stream",
     "text": [
      "[CV 5/5; 58/100] END max_depth=30, max_features=auto, min_samples_leaf=4, min_samples_split=5, n_estimators=500;, score=(train=0.546, test=0.067) total time=  30.6s\n",
      "[CV 1/5; 59/100] START max_depth=40, max_features=sqrt, min_samples_leaf=1, min_samples_split=10, n_estimators=300\n",
      "[CV 1/5; 59/100] END max_depth=40, max_features=sqrt, min_samples_leaf=1, min_samples_split=10, n_estimators=300;, score=(train=0.865, test=0.068) total time=  21.9s\n",
      "[CV 2/5; 59/100] START max_depth=40, max_features=sqrt, min_samples_leaf=1, min_samples_split=10, n_estimators=300\n",
      "[CV 2/5; 59/100] END max_depth=40, max_features=sqrt, min_samples_leaf=1, min_samples_split=10, n_estimators=300;, score=(train=0.853, test=0.076) total time=  22.0s\n",
      "[CV 3/5; 59/100] START max_depth=40, max_features=sqrt, min_samples_leaf=1, min_samples_split=10, n_estimators=300\n",
      "[CV 3/5; 59/100] END max_depth=40, max_features=sqrt, min_samples_leaf=1, min_samples_split=10, n_estimators=300;, score=(train=0.855, test=0.071) total time=  21.9s\n",
      "[CV 4/5; 59/100] START max_depth=40, max_features=sqrt, min_samples_leaf=1, min_samples_split=10, n_estimators=300\n",
      "[CV 4/5; 59/100] END max_depth=40, max_features=sqrt, min_samples_leaf=1, min_samples_split=10, n_estimators=300;, score=(train=0.857, test=0.075) total time=  22.0s\n",
      "[CV 5/5; 59/100] START max_depth=40, max_features=sqrt, min_samples_leaf=1, min_samples_split=10, n_estimators=300\n",
      "[CV 5/5; 59/100] END max_depth=40, max_features=sqrt, min_samples_leaf=1, min_samples_split=10, n_estimators=300;, score=(train=0.854, test=0.077) total time=  21.4s\n",
      "[CV 1/5; 60/100] START max_depth=110, max_features=auto, min_samples_leaf=4, min_samples_split=10, n_estimators=300\n"
     ]
    },
    {
     "name": "stderr",
     "output_type": "stream",
     "text": [
      "/Users/julianadaikawa/Documents/MBA/TCC/mba/lib/python3.10/site-packages/sklearn/ensemble/_forest.py:424: FutureWarning: `max_features='auto'` has been deprecated in 1.1 and will be removed in 1.3. To keep the past behaviour, explicitly set `max_features='sqrt'` or remove this parameter as it is also the default value for RandomForestClassifiers and ExtraTreesClassifiers.\n"
     ]
    },
    {
     "name": "stdout",
     "output_type": "stream",
     "text": [
      "[CV 1/5; 60/100] END max_depth=110, max_features=auto, min_samples_leaf=4, min_samples_split=10, n_estimators=300;, score=(train=0.896, test=0.072) total time=  27.2s\n",
      "[CV 2/5; 60/100] START max_depth=110, max_features=auto, min_samples_leaf=4, min_samples_split=10, n_estimators=300\n"
     ]
    },
    {
     "name": "stderr",
     "output_type": "stream",
     "text": [
      "/Users/julianadaikawa/Documents/MBA/TCC/mba/lib/python3.10/site-packages/sklearn/ensemble/_forest.py:424: FutureWarning: `max_features='auto'` has been deprecated in 1.1 and will be removed in 1.3. To keep the past behaviour, explicitly set `max_features='sqrt'` or remove this parameter as it is also the default value for RandomForestClassifiers and ExtraTreesClassifiers.\n"
     ]
    },
    {
     "name": "stdout",
     "output_type": "stream",
     "text": [
      "[CV 2/5; 60/100] END max_depth=110, max_features=auto, min_samples_leaf=4, min_samples_split=10, n_estimators=300;, score=(train=0.899, test=0.088) total time=  27.5s\n",
      "[CV 3/5; 60/100] START max_depth=110, max_features=auto, min_samples_leaf=4, min_samples_split=10, n_estimators=300\n"
     ]
    },
    {
     "name": "stderr",
     "output_type": "stream",
     "text": [
      "/Users/julianadaikawa/Documents/MBA/TCC/mba/lib/python3.10/site-packages/sklearn/ensemble/_forest.py:424: FutureWarning: `max_features='auto'` has been deprecated in 1.1 and will be removed in 1.3. To keep the past behaviour, explicitly set `max_features='sqrt'` or remove this parameter as it is also the default value for RandomForestClassifiers and ExtraTreesClassifiers.\n"
     ]
    },
    {
     "name": "stdout",
     "output_type": "stream",
     "text": [
      "[CV 3/5; 60/100] END max_depth=110, max_features=auto, min_samples_leaf=4, min_samples_split=10, n_estimators=300;, score=(train=0.895, test=0.083) total time=  27.0s\n",
      "[CV 4/5; 60/100] START max_depth=110, max_features=auto, min_samples_leaf=4, min_samples_split=10, n_estimators=300\n"
     ]
    },
    {
     "name": "stderr",
     "output_type": "stream",
     "text": [
      "/Users/julianadaikawa/Documents/MBA/TCC/mba/lib/python3.10/site-packages/sklearn/ensemble/_forest.py:424: FutureWarning: `max_features='auto'` has been deprecated in 1.1 and will be removed in 1.3. To keep the past behaviour, explicitly set `max_features='sqrt'` or remove this parameter as it is also the default value for RandomForestClassifiers and ExtraTreesClassifiers.\n"
     ]
    },
    {
     "name": "stdout",
     "output_type": "stream",
     "text": [
      "[CV 4/5; 60/100] END max_depth=110, max_features=auto, min_samples_leaf=4, min_samples_split=10, n_estimators=300;, score=(train=0.914, test=0.083) total time=  27.5s\n",
      "[CV 5/5; 60/100] START max_depth=110, max_features=auto, min_samples_leaf=4, min_samples_split=10, n_estimators=300\n"
     ]
    },
    {
     "name": "stderr",
     "output_type": "stream",
     "text": [
      "/Users/julianadaikawa/Documents/MBA/TCC/mba/lib/python3.10/site-packages/sklearn/ensemble/_forest.py:424: FutureWarning: `max_features='auto'` has been deprecated in 1.1 and will be removed in 1.3. To keep the past behaviour, explicitly set `max_features='sqrt'` or remove this parameter as it is also the default value for RandomForestClassifiers and ExtraTreesClassifiers.\n"
     ]
    },
    {
     "name": "stdout",
     "output_type": "stream",
     "text": [
      "[CV 5/5; 60/100] END max_depth=110, max_features=auto, min_samples_leaf=4, min_samples_split=10, n_estimators=300;, score=(train=0.905, test=0.084) total time=  27.2s\n",
      "[CV 1/5; 61/100] START max_depth=80, max_features=sqrt, min_samples_leaf=10, min_samples_split=5, n_estimators=1000\n",
      "[CV 1/5; 61/100] END max_depth=80, max_features=sqrt, min_samples_leaf=10, min_samples_split=5, n_estimators=1000;, score=(train=0.512, test=0.066) total time=  56.2s\n",
      "[CV 2/5; 61/100] START max_depth=80, max_features=sqrt, min_samples_leaf=10, min_samples_split=5, n_estimators=1000\n",
      "[CV 2/5; 61/100] END max_depth=80, max_features=sqrt, min_samples_leaf=10, min_samples_split=5, n_estimators=1000;, score=(train=0.528, test=0.070) total time=  56.3s\n",
      "[CV 3/5; 61/100] START max_depth=80, max_features=sqrt, min_samples_leaf=10, min_samples_split=5, n_estimators=1000\n",
      "[CV 3/5; 61/100] END max_depth=80, max_features=sqrt, min_samples_leaf=10, min_samples_split=5, n_estimators=1000;, score=(train=0.522, test=0.068) total time=  55.7s\n",
      "[CV 4/5; 61/100] START max_depth=80, max_features=sqrt, min_samples_leaf=10, min_samples_split=5, n_estimators=1000\n",
      "[CV 4/5; 61/100] END max_depth=80, max_features=sqrt, min_samples_leaf=10, min_samples_split=5, n_estimators=1000;, score=(train=0.531, test=0.067) total time=  56.7s\n",
      "[CV 5/5; 61/100] START max_depth=80, max_features=sqrt, min_samples_leaf=10, min_samples_split=5, n_estimators=1000\n",
      "[CV 5/5; 61/100] END max_depth=80, max_features=sqrt, min_samples_leaf=10, min_samples_split=5, n_estimators=1000;, score=(train=0.523, test=0.071) total time=  56.0s\n",
      "[CV 1/5; 62/100] START max_depth=40, max_features=auto, min_samples_leaf=2, min_samples_split=2, n_estimators=1000\n"
     ]
    },
    {
     "name": "stderr",
     "output_type": "stream",
     "text": [
      "/Users/julianadaikawa/Documents/MBA/TCC/mba/lib/python3.10/site-packages/sklearn/ensemble/_forest.py:424: FutureWarning: `max_features='auto'` has been deprecated in 1.1 and will be removed in 1.3. To keep the past behaviour, explicitly set `max_features='sqrt'` or remove this parameter as it is also the default value for RandomForestClassifiers and ExtraTreesClassifiers.\n"
     ]
    },
    {
     "name": "stdout",
     "output_type": "stream",
     "text": [
      "[CV 1/5; 62/100] END max_depth=40, max_features=auto, min_samples_leaf=2, min_samples_split=2, n_estimators=1000;, score=(train=0.861, test=0.069) total time= 1.2min\n",
      "[CV 2/5; 62/100] START max_depth=40, max_features=auto, min_samples_leaf=2, min_samples_split=2, n_estimators=1000\n"
     ]
    },
    {
     "name": "stderr",
     "output_type": "stream",
     "text": [
      "/Users/julianadaikawa/Documents/MBA/TCC/mba/lib/python3.10/site-packages/sklearn/ensemble/_forest.py:424: FutureWarning: `max_features='auto'` has been deprecated in 1.1 and will be removed in 1.3. To keep the past behaviour, explicitly set `max_features='sqrt'` or remove this parameter as it is also the default value for RandomForestClassifiers and ExtraTreesClassifiers.\n"
     ]
    },
    {
     "name": "stdout",
     "output_type": "stream",
     "text": [
      "[CV 2/5; 62/100] END max_depth=40, max_features=auto, min_samples_leaf=2, min_samples_split=2, n_estimators=1000;, score=(train=0.875, test=0.080) total time= 1.2min\n",
      "[CV 3/5; 62/100] START max_depth=40, max_features=auto, min_samples_leaf=2, min_samples_split=2, n_estimators=1000\n"
     ]
    },
    {
     "name": "stderr",
     "output_type": "stream",
     "text": [
      "/Users/julianadaikawa/Documents/MBA/TCC/mba/lib/python3.10/site-packages/sklearn/ensemble/_forest.py:424: FutureWarning: `max_features='auto'` has been deprecated in 1.1 and will be removed in 1.3. To keep the past behaviour, explicitly set `max_features='sqrt'` or remove this parameter as it is also the default value for RandomForestClassifiers and ExtraTreesClassifiers.\n"
     ]
    },
    {
     "name": "stdout",
     "output_type": "stream",
     "text": [
      "[CV 3/5; 62/100] END max_depth=40, max_features=auto, min_samples_leaf=2, min_samples_split=2, n_estimators=1000;, score=(train=0.864, test=0.075) total time= 1.1min\n",
      "[CV 4/5; 62/100] START max_depth=40, max_features=auto, min_samples_leaf=2, min_samples_split=2, n_estimators=1000\n"
     ]
    },
    {
     "name": "stderr",
     "output_type": "stream",
     "text": [
      "/Users/julianadaikawa/Documents/MBA/TCC/mba/lib/python3.10/site-packages/sklearn/ensemble/_forest.py:424: FutureWarning: `max_features='auto'` has been deprecated in 1.1 and will be removed in 1.3. To keep the past behaviour, explicitly set `max_features='sqrt'` or remove this parameter as it is also the default value for RandomForestClassifiers and ExtraTreesClassifiers.\n"
     ]
    },
    {
     "name": "stdout",
     "output_type": "stream",
     "text": [
      "[CV 4/5; 62/100] END max_depth=40, max_features=auto, min_samples_leaf=2, min_samples_split=2, n_estimators=1000;, score=(train=0.861, test=0.075) total time= 1.2min\n",
      "[CV 5/5; 62/100] START max_depth=40, max_features=auto, min_samples_leaf=2, min_samples_split=2, n_estimators=1000\n"
     ]
    },
    {
     "name": "stderr",
     "output_type": "stream",
     "text": [
      "/Users/julianadaikawa/Documents/MBA/TCC/mba/lib/python3.10/site-packages/sklearn/ensemble/_forest.py:424: FutureWarning: `max_features='auto'` has been deprecated in 1.1 and will be removed in 1.3. To keep the past behaviour, explicitly set `max_features='sqrt'` or remove this parameter as it is also the default value for RandomForestClassifiers and ExtraTreesClassifiers.\n"
     ]
    },
    {
     "name": "stdout",
     "output_type": "stream",
     "text": [
      "[CV 5/5; 62/100] END max_depth=40, max_features=auto, min_samples_leaf=2, min_samples_split=2, n_estimators=1000;, score=(train=0.859, test=0.075) total time= 1.1min\n",
      "[CV 1/5; 63/100] START max_depth=70, max_features=auto, min_samples_leaf=10, min_samples_split=2, n_estimators=100\n"
     ]
    },
    {
     "name": "stderr",
     "output_type": "stream",
     "text": [
      "/Users/julianadaikawa/Documents/MBA/TCC/mba/lib/python3.10/site-packages/sklearn/ensemble/_forest.py:424: FutureWarning: `max_features='auto'` has been deprecated in 1.1 and will be removed in 1.3. To keep the past behaviour, explicitly set `max_features='sqrt'` or remove this parameter as it is also the default value for RandomForestClassifiers and ExtraTreesClassifiers.\n"
     ]
    },
    {
     "name": "stdout",
     "output_type": "stream",
     "text": [
      "[CV 1/5; 63/100] END max_depth=70, max_features=auto, min_samples_leaf=10, min_samples_split=2, n_estimators=100;, score=(train=0.488, test=0.066) total time=   5.8s\n",
      "[CV 2/5; 63/100] START max_depth=70, max_features=auto, min_samples_leaf=10, min_samples_split=2, n_estimators=100\n"
     ]
    },
    {
     "name": "stderr",
     "output_type": "stream",
     "text": [
      "/Users/julianadaikawa/Documents/MBA/TCC/mba/lib/python3.10/site-packages/sklearn/ensemble/_forest.py:424: FutureWarning: `max_features='auto'` has been deprecated in 1.1 and will be removed in 1.3. To keep the past behaviour, explicitly set `max_features='sqrt'` or remove this parameter as it is also the default value for RandomForestClassifiers and ExtraTreesClassifiers.\n"
     ]
    },
    {
     "name": "stdout",
     "output_type": "stream",
     "text": [
      "[CV 2/5; 63/100] END max_depth=70, max_features=auto, min_samples_leaf=10, min_samples_split=2, n_estimators=100;, score=(train=0.500, test=0.069) total time=   5.5s\n",
      "[CV 3/5; 63/100] START max_depth=70, max_features=auto, min_samples_leaf=10, min_samples_split=2, n_estimators=100\n"
     ]
    },
    {
     "name": "stderr",
     "output_type": "stream",
     "text": [
      "/Users/julianadaikawa/Documents/MBA/TCC/mba/lib/python3.10/site-packages/sklearn/ensemble/_forest.py:424: FutureWarning: `max_features='auto'` has been deprecated in 1.1 and will be removed in 1.3. To keep the past behaviour, explicitly set `max_features='sqrt'` or remove this parameter as it is also the default value for RandomForestClassifiers and ExtraTreesClassifiers.\n"
     ]
    },
    {
     "name": "stdout",
     "output_type": "stream",
     "text": [
      "[CV 3/5; 63/100] END max_depth=70, max_features=auto, min_samples_leaf=10, min_samples_split=2, n_estimators=100;, score=(train=0.480, test=0.067) total time=   5.5s\n",
      "[CV 4/5; 63/100] START max_depth=70, max_features=auto, min_samples_leaf=10, min_samples_split=2, n_estimators=100\n"
     ]
    },
    {
     "name": "stderr",
     "output_type": "stream",
     "text": [
      "/Users/julianadaikawa/Documents/MBA/TCC/mba/lib/python3.10/site-packages/sklearn/ensemble/_forest.py:424: FutureWarning: `max_features='auto'` has been deprecated in 1.1 and will be removed in 1.3. To keep the past behaviour, explicitly set `max_features='sqrt'` or remove this parameter as it is also the default value for RandomForestClassifiers and ExtraTreesClassifiers.\n"
     ]
    },
    {
     "name": "stdout",
     "output_type": "stream",
     "text": [
      "[CV 4/5; 63/100] END max_depth=70, max_features=auto, min_samples_leaf=10, min_samples_split=2, n_estimators=100;, score=(train=0.493, test=0.062) total time=   5.6s\n",
      "[CV 5/5; 63/100] START max_depth=70, max_features=auto, min_samples_leaf=10, min_samples_split=2, n_estimators=100\n"
     ]
    },
    {
     "name": "stderr",
     "output_type": "stream",
     "text": [
      "/Users/julianadaikawa/Documents/MBA/TCC/mba/lib/python3.10/site-packages/sklearn/ensemble/_forest.py:424: FutureWarning: `max_features='auto'` has been deprecated in 1.1 and will be removed in 1.3. To keep the past behaviour, explicitly set `max_features='sqrt'` or remove this parameter as it is also the default value for RandomForestClassifiers and ExtraTreesClassifiers.\n"
     ]
    },
    {
     "name": "stdout",
     "output_type": "stream",
     "text": [
      "[CV 5/5; 63/100] END max_depth=70, max_features=auto, min_samples_leaf=10, min_samples_split=2, n_estimators=100;, score=(train=0.495, test=0.071) total time=   5.6s\n",
      "[CV 1/5; 64/100] START max_depth=40, max_features=auto, min_samples_leaf=10, min_samples_split=2, n_estimators=100\n"
     ]
    },
    {
     "name": "stderr",
     "output_type": "stream",
     "text": [
      "/Users/julianadaikawa/Documents/MBA/TCC/mba/lib/python3.10/site-packages/sklearn/ensemble/_forest.py:424: FutureWarning: `max_features='auto'` has been deprecated in 1.1 and will be removed in 1.3. To keep the past behaviour, explicitly set `max_features='sqrt'` or remove this parameter as it is also the default value for RandomForestClassifiers and ExtraTreesClassifiers.\n"
     ]
    },
    {
     "name": "stdout",
     "output_type": "stream",
     "text": [
      "[CV 1/5; 64/100] END max_depth=40, max_features=auto, min_samples_leaf=10, min_samples_split=2, n_estimators=100;, score=(train=0.361, test=0.062) total time=   4.9s\n",
      "[CV 2/5; 64/100] START max_depth=40, max_features=auto, min_samples_leaf=10, min_samples_split=2, n_estimators=100\n"
     ]
    },
    {
     "name": "stderr",
     "output_type": "stream",
     "text": [
      "/Users/julianadaikawa/Documents/MBA/TCC/mba/lib/python3.10/site-packages/sklearn/ensemble/_forest.py:424: FutureWarning: `max_features='auto'` has been deprecated in 1.1 and will be removed in 1.3. To keep the past behaviour, explicitly set `max_features='sqrt'` or remove this parameter as it is also the default value for RandomForestClassifiers and ExtraTreesClassifiers.\n"
     ]
    },
    {
     "name": "stdout",
     "output_type": "stream",
     "text": [
      "[CV 2/5; 64/100] END max_depth=40, max_features=auto, min_samples_leaf=10, min_samples_split=2, n_estimators=100;, score=(train=0.365, test=0.069) total time=   4.9s\n",
      "[CV 3/5; 64/100] START max_depth=40, max_features=auto, min_samples_leaf=10, min_samples_split=2, n_estimators=100\n"
     ]
    },
    {
     "name": "stderr",
     "output_type": "stream",
     "text": [
      "/Users/julianadaikawa/Documents/MBA/TCC/mba/lib/python3.10/site-packages/sklearn/ensemble/_forest.py:424: FutureWarning: `max_features='auto'` has been deprecated in 1.1 and will be removed in 1.3. To keep the past behaviour, explicitly set `max_features='sqrt'` or remove this parameter as it is also the default value for RandomForestClassifiers and ExtraTreesClassifiers.\n"
     ]
    },
    {
     "name": "stdout",
     "output_type": "stream",
     "text": [
      "[CV 3/5; 64/100] END max_depth=40, max_features=auto, min_samples_leaf=10, min_samples_split=2, n_estimators=100;, score=(train=0.367, test=0.066) total time=   4.8s\n",
      "[CV 4/5; 64/100] START max_depth=40, max_features=auto, min_samples_leaf=10, min_samples_split=2, n_estimators=100\n"
     ]
    },
    {
     "name": "stderr",
     "output_type": "stream",
     "text": [
      "/Users/julianadaikawa/Documents/MBA/TCC/mba/lib/python3.10/site-packages/sklearn/ensemble/_forest.py:424: FutureWarning: `max_features='auto'` has been deprecated in 1.1 and will be removed in 1.3. To keep the past behaviour, explicitly set `max_features='sqrt'` or remove this parameter as it is also the default value for RandomForestClassifiers and ExtraTreesClassifiers.\n"
     ]
    },
    {
     "name": "stdout",
     "output_type": "stream",
     "text": [
      "[CV 4/5; 64/100] END max_depth=40, max_features=auto, min_samples_leaf=10, min_samples_split=2, n_estimators=100;, score=(train=0.367, test=0.064) total time=   4.9s\n",
      "[CV 5/5; 64/100] START max_depth=40, max_features=auto, min_samples_leaf=10, min_samples_split=2, n_estimators=100\n"
     ]
    },
    {
     "name": "stderr",
     "output_type": "stream",
     "text": [
      "/Users/julianadaikawa/Documents/MBA/TCC/mba/lib/python3.10/site-packages/sklearn/ensemble/_forest.py:424: FutureWarning: `max_features='auto'` has been deprecated in 1.1 and will be removed in 1.3. To keep the past behaviour, explicitly set `max_features='sqrt'` or remove this parameter as it is also the default value for RandomForestClassifiers and ExtraTreesClassifiers.\n"
     ]
    },
    {
     "name": "stdout",
     "output_type": "stream",
     "text": [
      "[CV 5/5; 64/100] END max_depth=40, max_features=auto, min_samples_leaf=10, min_samples_split=2, n_estimators=100;, score=(train=0.375, test=0.073) total time=   4.9s\n",
      "[CV 1/5; 65/100] START max_depth=10, max_features=sqrt, min_samples_leaf=1, min_samples_split=2, n_estimators=500\n",
      "[CV 1/5; 65/100] END max_depth=10, max_features=sqrt, min_samples_leaf=1, min_samples_split=2, n_estimators=500;, score=(train=0.143, test=0.034) total time=   9.3s\n",
      "[CV 2/5; 65/100] START max_depth=10, max_features=sqrt, min_samples_leaf=1, min_samples_split=2, n_estimators=500\n",
      "[CV 2/5; 65/100] END max_depth=10, max_features=sqrt, min_samples_leaf=1, min_samples_split=2, n_estimators=500;, score=(train=0.142, test=0.036) total time=   9.3s\n",
      "[CV 3/5; 65/100] START max_depth=10, max_features=sqrt, min_samples_leaf=1, min_samples_split=2, n_estimators=500\n",
      "[CV 3/5; 65/100] END max_depth=10, max_features=sqrt, min_samples_leaf=1, min_samples_split=2, n_estimators=500;, score=(train=0.143, test=0.042) total time=   9.4s\n",
      "[CV 4/5; 65/100] START max_depth=10, max_features=sqrt, min_samples_leaf=1, min_samples_split=2, n_estimators=500\n",
      "[CV 4/5; 65/100] END max_depth=10, max_features=sqrt, min_samples_leaf=1, min_samples_split=2, n_estimators=500;, score=(train=0.144, test=0.035) total time=   9.4s\n",
      "[CV 5/5; 65/100] START max_depth=10, max_features=sqrt, min_samples_leaf=1, min_samples_split=2, n_estimators=500\n",
      "[CV 5/5; 65/100] END max_depth=10, max_features=sqrt, min_samples_leaf=1, min_samples_split=2, n_estimators=500;, score=(train=0.135, test=0.038) total time=   9.3s\n",
      "[CV 1/5; 66/100] START max_depth=70, max_features=sqrt, min_samples_leaf=1, min_samples_split=10, n_estimators=100\n",
      "[CV 1/5; 66/100] END max_depth=70, max_features=sqrt, min_samples_leaf=1, min_samples_split=10, n_estimators=100;, score=(train=0.931, test=0.088) total time=  10.8s\n",
      "[CV 2/5; 66/100] START max_depth=70, max_features=sqrt, min_samples_leaf=1, min_samples_split=10, n_estimators=100\n",
      "[CV 2/5; 66/100] END max_depth=70, max_features=sqrt, min_samples_leaf=1, min_samples_split=10, n_estimators=100;, score=(train=0.930, test=0.083) total time=  10.7s\n",
      "[CV 3/5; 66/100] START max_depth=70, max_features=sqrt, min_samples_leaf=1, min_samples_split=10, n_estimators=100\n",
      "[CV 3/5; 66/100] END max_depth=70, max_features=sqrt, min_samples_leaf=1, min_samples_split=10, n_estimators=100;, score=(train=0.938, test=0.091) total time=  10.8s\n",
      "[CV 4/5; 66/100] START max_depth=70, max_features=sqrt, min_samples_leaf=1, min_samples_split=10, n_estimators=100\n",
      "[CV 4/5; 66/100] END max_depth=70, max_features=sqrt, min_samples_leaf=1, min_samples_split=10, n_estimators=100;, score=(train=0.938, test=0.082) total time=  10.8s\n",
      "[CV 5/5; 66/100] START max_depth=70, max_features=sqrt, min_samples_leaf=1, min_samples_split=10, n_estimators=100\n",
      "[CV 5/5; 66/100] END max_depth=70, max_features=sqrt, min_samples_leaf=1, min_samples_split=10, n_estimators=100;, score=(train=0.937, test=0.090) total time=  10.8s\n",
      "[CV 1/5; 67/100] START max_depth=100, max_features=sqrt, min_samples_leaf=1, min_samples_split=10, n_estimators=700\n",
      "[CV 1/5; 67/100] END max_depth=100, max_features=sqrt, min_samples_leaf=1, min_samples_split=10, n_estimators=700;, score=(train=0.946, test=0.084) total time= 1.5min\n",
      "[CV 2/5; 67/100] START max_depth=100, max_features=sqrt, min_samples_leaf=1, min_samples_split=10, n_estimators=700\n",
      "[CV 2/5; 67/100] END max_depth=100, max_features=sqrt, min_samples_leaf=1, min_samples_split=10, n_estimators=700;, score=(train=0.945, test=0.096) total time= 1.5min\n",
      "[CV 3/5; 67/100] START max_depth=100, max_features=sqrt, min_samples_leaf=1, min_samples_split=10, n_estimators=700\n",
      "[CV 3/5; 67/100] END max_depth=100, max_features=sqrt, min_samples_leaf=1, min_samples_split=10, n_estimators=700;, score=(train=0.945, test=0.092) total time= 1.5min\n",
      "[CV 4/5; 67/100] START max_depth=100, max_features=sqrt, min_samples_leaf=1, min_samples_split=10, n_estimators=700\n",
      "[CV 4/5; 67/100] END max_depth=100, max_features=sqrt, min_samples_leaf=1, min_samples_split=10, n_estimators=700;, score=(train=0.945, test=0.090) total time= 1.5min\n",
      "[CV 5/5; 67/100] START max_depth=100, max_features=sqrt, min_samples_leaf=1, min_samples_split=10, n_estimators=700\n",
      "[CV 5/5; 67/100] END max_depth=100, max_features=sqrt, min_samples_leaf=1, min_samples_split=10, n_estimators=700;, score=(train=0.944, test=0.093) total time= 1.5min\n",
      "[CV 1/5; 68/100] START max_depth=60, max_features=auto, min_samples_leaf=2, min_samples_split=5, n_estimators=300\n"
     ]
    },
    {
     "name": "stderr",
     "output_type": "stream",
     "text": [
      "/Users/julianadaikawa/Documents/MBA/TCC/mba/lib/python3.10/site-packages/sklearn/ensemble/_forest.py:424: FutureWarning: `max_features='auto'` has been deprecated in 1.1 and will be removed in 1.3. To keep the past behaviour, explicitly set `max_features='sqrt'` or remove this parameter as it is also the default value for RandomForestClassifiers and ExtraTreesClassifiers.\n"
     ]
    },
    {
     "name": "stdout",
     "output_type": "stream",
     "text": [
      "[CV 1/5; 68/100] END max_depth=60, max_features=auto, min_samples_leaf=2, min_samples_split=5, n_estimators=300;, score=(train=0.923, test=0.076) total time=  27.0s\n",
      "[CV 2/5; 68/100] START max_depth=60, max_features=auto, min_samples_leaf=2, min_samples_split=5, n_estimators=300\n"
     ]
    },
    {
     "name": "stderr",
     "output_type": "stream",
     "text": [
      "/Users/julianadaikawa/Documents/MBA/TCC/mba/lib/python3.10/site-packages/sklearn/ensemble/_forest.py:424: FutureWarning: `max_features='auto'` has been deprecated in 1.1 and will be removed in 1.3. To keep the past behaviour, explicitly set `max_features='sqrt'` or remove this parameter as it is also the default value for RandomForestClassifiers and ExtraTreesClassifiers.\n"
     ]
    },
    {
     "name": "stdout",
     "output_type": "stream",
     "text": [
      "[CV 2/5; 68/100] END max_depth=60, max_features=auto, min_samples_leaf=2, min_samples_split=5, n_estimators=300;, score=(train=0.922, test=0.084) total time=  26.9s\n",
      "[CV 3/5; 68/100] START max_depth=60, max_features=auto, min_samples_leaf=2, min_samples_split=5, n_estimators=300\n"
     ]
    },
    {
     "name": "stderr",
     "output_type": "stream",
     "text": [
      "/Users/julianadaikawa/Documents/MBA/TCC/mba/lib/python3.10/site-packages/sklearn/ensemble/_forest.py:424: FutureWarning: `max_features='auto'` has been deprecated in 1.1 and will be removed in 1.3. To keep the past behaviour, explicitly set `max_features='sqrt'` or remove this parameter as it is also the default value for RandomForestClassifiers and ExtraTreesClassifiers.\n"
     ]
    },
    {
     "name": "stdout",
     "output_type": "stream",
     "text": [
      "[CV 3/5; 68/100] END max_depth=60, max_features=auto, min_samples_leaf=2, min_samples_split=5, n_estimators=300;, score=(train=0.925, test=0.077) total time=  26.8s\n",
      "[CV 4/5; 68/100] START max_depth=60, max_features=auto, min_samples_leaf=2, min_samples_split=5, n_estimators=300\n"
     ]
    },
    {
     "name": "stderr",
     "output_type": "stream",
     "text": [
      "/Users/julianadaikawa/Documents/MBA/TCC/mba/lib/python3.10/site-packages/sklearn/ensemble/_forest.py:424: FutureWarning: `max_features='auto'` has been deprecated in 1.1 and will be removed in 1.3. To keep the past behaviour, explicitly set `max_features='sqrt'` or remove this parameter as it is also the default value for RandomForestClassifiers and ExtraTreesClassifiers.\n"
     ]
    },
    {
     "name": "stdout",
     "output_type": "stream",
     "text": [
      "[CV 4/5; 68/100] END max_depth=60, max_features=auto, min_samples_leaf=2, min_samples_split=5, n_estimators=300;, score=(train=0.911, test=0.081) total time=  26.7s\n",
      "[CV 5/5; 68/100] START max_depth=60, max_features=auto, min_samples_leaf=2, min_samples_split=5, n_estimators=300\n"
     ]
    },
    {
     "name": "stderr",
     "output_type": "stream",
     "text": [
      "/Users/julianadaikawa/Documents/MBA/TCC/mba/lib/python3.10/site-packages/sklearn/ensemble/_forest.py:424: FutureWarning: `max_features='auto'` has been deprecated in 1.1 and will be removed in 1.3. To keep the past behaviour, explicitly set `max_features='sqrt'` or remove this parameter as it is also the default value for RandomForestClassifiers and ExtraTreesClassifiers.\n"
     ]
    },
    {
     "name": "stdout",
     "output_type": "stream",
     "text": [
      "[CV 5/5; 68/100] END max_depth=60, max_features=auto, min_samples_leaf=2, min_samples_split=5, n_estimators=300;, score=(train=0.923, test=0.085) total time=  26.7s\n",
      "[CV 1/5; 69/100] START max_depth=50, max_features=auto, min_samples_leaf=1, min_samples_split=2, n_estimators=200\n"
     ]
    },
    {
     "name": "stderr",
     "output_type": "stream",
     "text": [
      "/Users/julianadaikawa/Documents/MBA/TCC/mba/lib/python3.10/site-packages/sklearn/ensemble/_forest.py:424: FutureWarning: `max_features='auto'` has been deprecated in 1.1 and will be removed in 1.3. To keep the past behaviour, explicitly set `max_features='sqrt'` or remove this parameter as it is also the default value for RandomForestClassifiers and ExtraTreesClassifiers.\n"
     ]
    },
    {
     "name": "stdout",
     "output_type": "stream",
     "text": [
      "[CV 1/5; 69/100] END max_depth=50, max_features=auto, min_samples_leaf=1, min_samples_split=2, n_estimators=200;, score=(train=0.933, test=0.080) total time=  21.9s\n",
      "[CV 2/5; 69/100] START max_depth=50, max_features=auto, min_samples_leaf=1, min_samples_split=2, n_estimators=200\n"
     ]
    },
    {
     "name": "stderr",
     "output_type": "stream",
     "text": [
      "/Users/julianadaikawa/Documents/MBA/TCC/mba/lib/python3.10/site-packages/sklearn/ensemble/_forest.py:424: FutureWarning: `max_features='auto'` has been deprecated in 1.1 and will be removed in 1.3. To keep the past behaviour, explicitly set `max_features='sqrt'` or remove this parameter as it is also the default value for RandomForestClassifiers and ExtraTreesClassifiers.\n"
     ]
    },
    {
     "name": "stdout",
     "output_type": "stream",
     "text": [
      "[CV 2/5; 69/100] END max_depth=50, max_features=auto, min_samples_leaf=1, min_samples_split=2, n_estimators=200;, score=(train=0.934, test=0.081) total time=  21.8s\n",
      "[CV 3/5; 69/100] START max_depth=50, max_features=auto, min_samples_leaf=1, min_samples_split=2, n_estimators=200\n"
     ]
    },
    {
     "name": "stderr",
     "output_type": "stream",
     "text": [
      "/Users/julianadaikawa/Documents/MBA/TCC/mba/lib/python3.10/site-packages/sklearn/ensemble/_forest.py:424: FutureWarning: `max_features='auto'` has been deprecated in 1.1 and will be removed in 1.3. To keep the past behaviour, explicitly set `max_features='sqrt'` or remove this parameter as it is also the default value for RandomForestClassifiers and ExtraTreesClassifiers.\n"
     ]
    },
    {
     "name": "stdout",
     "output_type": "stream",
     "text": [
      "[CV 3/5; 69/100] END max_depth=50, max_features=auto, min_samples_leaf=1, min_samples_split=2, n_estimators=200;, score=(train=0.941, test=0.081) total time=  21.9s\n",
      "[CV 4/5; 69/100] START max_depth=50, max_features=auto, min_samples_leaf=1, min_samples_split=2, n_estimators=200\n"
     ]
    },
    {
     "name": "stderr",
     "output_type": "stream",
     "text": [
      "/Users/julianadaikawa/Documents/MBA/TCC/mba/lib/python3.10/site-packages/sklearn/ensemble/_forest.py:424: FutureWarning: `max_features='auto'` has been deprecated in 1.1 and will be removed in 1.3. To keep the past behaviour, explicitly set `max_features='sqrt'` or remove this parameter as it is also the default value for RandomForestClassifiers and ExtraTreesClassifiers.\n"
     ]
    },
    {
     "name": "stdout",
     "output_type": "stream",
     "text": [
      "[CV 4/5; 69/100] END max_depth=50, max_features=auto, min_samples_leaf=1, min_samples_split=2, n_estimators=200;, score=(train=0.935, test=0.080) total time=  21.9s\n",
      "[CV 5/5; 69/100] START max_depth=50, max_features=auto, min_samples_leaf=1, min_samples_split=2, n_estimators=200\n"
     ]
    },
    {
     "name": "stderr",
     "output_type": "stream",
     "text": [
      "/Users/julianadaikawa/Documents/MBA/TCC/mba/lib/python3.10/site-packages/sklearn/ensemble/_forest.py:424: FutureWarning: `max_features='auto'` has been deprecated in 1.1 and will be removed in 1.3. To keep the past behaviour, explicitly set `max_features='sqrt'` or remove this parameter as it is also the default value for RandomForestClassifiers and ExtraTreesClassifiers.\n"
     ]
    },
    {
     "name": "stdout",
     "output_type": "stream",
     "text": [
      "[CV 5/5; 69/100] END max_depth=50, max_features=auto, min_samples_leaf=1, min_samples_split=2, n_estimators=200;, score=(train=0.931, test=0.084) total time=  22.0s\n",
      "[CV 1/5; 70/100] START max_depth=10, max_features=auto, min_samples_leaf=4, min_samples_split=5, n_estimators=100\n"
     ]
    },
    {
     "name": "stderr",
     "output_type": "stream",
     "text": [
      "/Users/julianadaikawa/Documents/MBA/TCC/mba/lib/python3.10/site-packages/sklearn/ensemble/_forest.py:424: FutureWarning: `max_features='auto'` has been deprecated in 1.1 and will be removed in 1.3. To keep the past behaviour, explicitly set `max_features='sqrt'` or remove this parameter as it is also the default value for RandomForestClassifiers and ExtraTreesClassifiers.\n"
     ]
    },
    {
     "name": "stdout",
     "output_type": "stream",
     "text": [
      "[CV 1/5; 70/100] END max_depth=10, max_features=auto, min_samples_leaf=4, min_samples_split=5, n_estimators=100;, score=(train=0.097, test=0.033) total time=   2.0s\n",
      "[CV 2/5; 70/100] START max_depth=10, max_features=auto, min_samples_leaf=4, min_samples_split=5, n_estimators=100\n"
     ]
    },
    {
     "name": "stderr",
     "output_type": "stream",
     "text": [
      "/Users/julianadaikawa/Documents/MBA/TCC/mba/lib/python3.10/site-packages/sklearn/ensemble/_forest.py:424: FutureWarning: `max_features='auto'` has been deprecated in 1.1 and will be removed in 1.3. To keep the past behaviour, explicitly set `max_features='sqrt'` or remove this parameter as it is also the default value for RandomForestClassifiers and ExtraTreesClassifiers.\n"
     ]
    },
    {
     "name": "stdout",
     "output_type": "stream",
     "text": [
      "[CV 2/5; 70/100] END max_depth=10, max_features=auto, min_samples_leaf=4, min_samples_split=5, n_estimators=100;, score=(train=0.092, test=0.038) total time=   1.9s\n",
      "[CV 3/5; 70/100] START max_depth=10, max_features=auto, min_samples_leaf=4, min_samples_split=5, n_estimators=100\n"
     ]
    },
    {
     "name": "stderr",
     "output_type": "stream",
     "text": [
      "/Users/julianadaikawa/Documents/MBA/TCC/mba/lib/python3.10/site-packages/sklearn/ensemble/_forest.py:424: FutureWarning: `max_features='auto'` has been deprecated in 1.1 and will be removed in 1.3. To keep the past behaviour, explicitly set `max_features='sqrt'` or remove this parameter as it is also the default value for RandomForestClassifiers and ExtraTreesClassifiers.\n"
     ]
    },
    {
     "name": "stdout",
     "output_type": "stream",
     "text": [
      "[CV 3/5; 70/100] END max_depth=10, max_features=auto, min_samples_leaf=4, min_samples_split=5, n_estimators=100;, score=(train=0.102, test=0.035) total time=   1.9s\n",
      "[CV 4/5; 70/100] START max_depth=10, max_features=auto, min_samples_leaf=4, min_samples_split=5, n_estimators=100\n"
     ]
    },
    {
     "name": "stderr",
     "output_type": "stream",
     "text": [
      "/Users/julianadaikawa/Documents/MBA/TCC/mba/lib/python3.10/site-packages/sklearn/ensemble/_forest.py:424: FutureWarning: `max_features='auto'` has been deprecated in 1.1 and will be removed in 1.3. To keep the past behaviour, explicitly set `max_features='sqrt'` or remove this parameter as it is also the default value for RandomForestClassifiers and ExtraTreesClassifiers.\n"
     ]
    },
    {
     "name": "stdout",
     "output_type": "stream",
     "text": [
      "[CV 4/5; 70/100] END max_depth=10, max_features=auto, min_samples_leaf=4, min_samples_split=5, n_estimators=100;, score=(train=0.100, test=0.038) total time=   1.9s\n",
      "[CV 5/5; 70/100] START max_depth=10, max_features=auto, min_samples_leaf=4, min_samples_split=5, n_estimators=100\n"
     ]
    },
    {
     "name": "stderr",
     "output_type": "stream",
     "text": [
      "/Users/julianadaikawa/Documents/MBA/TCC/mba/lib/python3.10/site-packages/sklearn/ensemble/_forest.py:424: FutureWarning: `max_features='auto'` has been deprecated in 1.1 and will be removed in 1.3. To keep the past behaviour, explicitly set `max_features='sqrt'` or remove this parameter as it is also the default value for RandomForestClassifiers and ExtraTreesClassifiers.\n"
     ]
    },
    {
     "name": "stdout",
     "output_type": "stream",
     "text": [
      "[CV 5/5; 70/100] END max_depth=10, max_features=auto, min_samples_leaf=4, min_samples_split=5, n_estimators=100;, score=(train=0.098, test=0.038) total time=   1.9s\n",
      "[CV 1/5; 71/100] START max_depth=50, max_features=auto, min_samples_leaf=4, min_samples_split=5, n_estimators=800\n"
     ]
    },
    {
     "name": "stderr",
     "output_type": "stream",
     "text": [
      "/Users/julianadaikawa/Documents/MBA/TCC/mba/lib/python3.10/site-packages/sklearn/ensemble/_forest.py:424: FutureWarning: `max_features='auto'` has been deprecated in 1.1 and will be removed in 1.3. To keep the past behaviour, explicitly set `max_features='sqrt'` or remove this parameter as it is also the default value for RandomForestClassifiers and ExtraTreesClassifiers.\n"
     ]
    },
    {
     "name": "stdout",
     "output_type": "stream",
     "text": [
      "[CV 1/5; 71/100] END max_depth=50, max_features=auto, min_samples_leaf=4, min_samples_split=5, n_estimators=800;, score=(train=0.829, test=0.070) total time=  54.1s\n",
      "[CV 2/5; 71/100] START max_depth=50, max_features=auto, min_samples_leaf=4, min_samples_split=5, n_estimators=800\n"
     ]
    },
    {
     "name": "stderr",
     "output_type": "stream",
     "text": [
      "/Users/julianadaikawa/Documents/MBA/TCC/mba/lib/python3.10/site-packages/sklearn/ensemble/_forest.py:424: FutureWarning: `max_features='auto'` has been deprecated in 1.1 and will be removed in 1.3. To keep the past behaviour, explicitly set `max_features='sqrt'` or remove this parameter as it is also the default value for RandomForestClassifiers and ExtraTreesClassifiers.\n"
     ]
    },
    {
     "name": "stdout",
     "output_type": "stream",
     "text": [
      "[CV 2/5; 71/100] END max_depth=50, max_features=auto, min_samples_leaf=4, min_samples_split=5, n_estimators=800;, score=(train=0.823, test=0.086) total time=  54.3s\n",
      "[CV 3/5; 71/100] START max_depth=50, max_features=auto, min_samples_leaf=4, min_samples_split=5, n_estimators=800\n"
     ]
    },
    {
     "name": "stderr",
     "output_type": "stream",
     "text": [
      "/Users/julianadaikawa/Documents/MBA/TCC/mba/lib/python3.10/site-packages/sklearn/ensemble/_forest.py:424: FutureWarning: `max_features='auto'` has been deprecated in 1.1 and will be removed in 1.3. To keep the past behaviour, explicitly set `max_features='sqrt'` or remove this parameter as it is also the default value for RandomForestClassifiers and ExtraTreesClassifiers.\n"
     ]
    },
    {
     "name": "stdout",
     "output_type": "stream",
     "text": [
      "[CV 3/5; 71/100] END max_depth=50, max_features=auto, min_samples_leaf=4, min_samples_split=5, n_estimators=800;, score=(train=0.828, test=0.079) total time=  54.1s\n",
      "[CV 4/5; 71/100] START max_depth=50, max_features=auto, min_samples_leaf=4, min_samples_split=5, n_estimators=800\n"
     ]
    },
    {
     "name": "stderr",
     "output_type": "stream",
     "text": [
      "/Users/julianadaikawa/Documents/MBA/TCC/mba/lib/python3.10/site-packages/sklearn/ensemble/_forest.py:424: FutureWarning: `max_features='auto'` has been deprecated in 1.1 and will be removed in 1.3. To keep the past behaviour, explicitly set `max_features='sqrt'` or remove this parameter as it is also the default value for RandomForestClassifiers and ExtraTreesClassifiers.\n"
     ]
    },
    {
     "name": "stdout",
     "output_type": "stream",
     "text": [
      "[CV 4/5; 71/100] END max_depth=50, max_features=auto, min_samples_leaf=4, min_samples_split=5, n_estimators=800;, score=(train=0.824, test=0.073) total time=  54.1s\n",
      "[CV 5/5; 71/100] START max_depth=50, max_features=auto, min_samples_leaf=4, min_samples_split=5, n_estimators=800\n"
     ]
    },
    {
     "name": "stderr",
     "output_type": "stream",
     "text": [
      "/Users/julianadaikawa/Documents/MBA/TCC/mba/lib/python3.10/site-packages/sklearn/ensemble/_forest.py:424: FutureWarning: `max_features='auto'` has been deprecated in 1.1 and will be removed in 1.3. To keep the past behaviour, explicitly set `max_features='sqrt'` or remove this parameter as it is also the default value for RandomForestClassifiers and ExtraTreesClassifiers.\n"
     ]
    },
    {
     "name": "stdout",
     "output_type": "stream",
     "text": [
      "[CV 5/5; 71/100] END max_depth=50, max_features=auto, min_samples_leaf=4, min_samples_split=5, n_estimators=800;, score=(train=0.827, test=0.080) total time=  54.1s\n",
      "[CV 1/5; 72/100] START max_depth=30, max_features=sqrt, min_samples_leaf=1, min_samples_split=10, n_estimators=100\n",
      "[CV 1/5; 72/100] END max_depth=30, max_features=sqrt, min_samples_leaf=1, min_samples_split=10, n_estimators=100;, score=(train=0.699, test=0.061) total time=   5.6s\n",
      "[CV 2/5; 72/100] START max_depth=30, max_features=sqrt, min_samples_leaf=1, min_samples_split=10, n_estimators=100\n",
      "[CV 2/5; 72/100] END max_depth=30, max_features=sqrt, min_samples_leaf=1, min_samples_split=10, n_estimators=100;, score=(train=0.683, test=0.068) total time=   5.5s\n",
      "[CV 3/5; 72/100] START max_depth=30, max_features=sqrt, min_samples_leaf=1, min_samples_split=10, n_estimators=100\n",
      "[CV 3/5; 72/100] END max_depth=30, max_features=sqrt, min_samples_leaf=1, min_samples_split=10, n_estimators=100;, score=(train=0.702, test=0.068) total time=   5.5s\n",
      "[CV 4/5; 72/100] START max_depth=30, max_features=sqrt, min_samples_leaf=1, min_samples_split=10, n_estimators=100\n",
      "[CV 4/5; 72/100] END max_depth=30, max_features=sqrt, min_samples_leaf=1, min_samples_split=10, n_estimators=100;, score=(train=0.683, test=0.065) total time=   5.5s\n",
      "[CV 5/5; 72/100] START max_depth=30, max_features=sqrt, min_samples_leaf=1, min_samples_split=10, n_estimators=100\n",
      "[CV 5/5; 72/100] END max_depth=30, max_features=sqrt, min_samples_leaf=1, min_samples_split=10, n_estimators=100;, score=(train=0.683, test=0.080) total time=   5.5s\n",
      "[CV 1/5; 73/100] START max_depth=40, max_features=sqrt, min_samples_leaf=2, min_samples_split=2, n_estimators=500\n",
      "[CV 1/5; 73/100] END max_depth=40, max_features=sqrt, min_samples_leaf=2, min_samples_split=2, n_estimators=500;, score=(train=0.859, test=0.072) total time=  33.4s\n",
      "[CV 2/5; 73/100] START max_depth=40, max_features=sqrt, min_samples_leaf=2, min_samples_split=2, n_estimators=500\n",
      "[CV 2/5; 73/100] END max_depth=40, max_features=sqrt, min_samples_leaf=2, min_samples_split=2, n_estimators=500;, score=(train=0.869, test=0.080) total time=  33.4s\n",
      "[CV 3/5; 73/100] START max_depth=40, max_features=sqrt, min_samples_leaf=2, min_samples_split=2, n_estimators=500\n",
      "[CV 3/5; 73/100] END max_depth=40, max_features=sqrt, min_samples_leaf=2, min_samples_split=2, n_estimators=500;, score=(train=0.861, test=0.079) total time=  33.5s\n",
      "[CV 4/5; 73/100] START max_depth=40, max_features=sqrt, min_samples_leaf=2, min_samples_split=2, n_estimators=500\n",
      "[CV 4/5; 73/100] END max_depth=40, max_features=sqrt, min_samples_leaf=2, min_samples_split=2, n_estimators=500;, score=(train=0.855, test=0.074) total time=  33.3s\n",
      "[CV 5/5; 73/100] START max_depth=40, max_features=sqrt, min_samples_leaf=2, min_samples_split=2, n_estimators=500\n",
      "[CV 5/5; 73/100] END max_depth=40, max_features=sqrt, min_samples_leaf=2, min_samples_split=2, n_estimators=500;, score=(train=0.855, test=0.081) total time=  33.4s\n",
      "[CV 1/5; 74/100] START max_depth=100, max_features=sqrt, min_samples_leaf=10, min_samples_split=10, n_estimators=100\n",
      "[CV 1/5; 74/100] END max_depth=100, max_features=sqrt, min_samples_leaf=10, min_samples_split=10, n_estimators=100;, score=(train=0.514, test=0.059) total time=   5.6s\n",
      "[CV 2/5; 74/100] START max_depth=100, max_features=sqrt, min_samples_leaf=10, min_samples_split=10, n_estimators=100\n",
      "[CV 2/5; 74/100] END max_depth=100, max_features=sqrt, min_samples_leaf=10, min_samples_split=10, n_estimators=100;, score=(train=0.516, test=0.070) total time=   5.7s\n",
      "[CV 3/5; 74/100] START max_depth=100, max_features=sqrt, min_samples_leaf=10, min_samples_split=10, n_estimators=100\n",
      "[CV 3/5; 74/100] END max_depth=100, max_features=sqrt, min_samples_leaf=10, min_samples_split=10, n_estimators=100;, score=(train=0.505, test=0.069) total time=   5.6s\n",
      "[CV 4/5; 74/100] START max_depth=100, max_features=sqrt, min_samples_leaf=10, min_samples_split=10, n_estimators=100\n",
      "[CV 4/5; 74/100] END max_depth=100, max_features=sqrt, min_samples_leaf=10, min_samples_split=10, n_estimators=100;, score=(train=0.505, test=0.070) total time=   5.6s\n",
      "[CV 5/5; 74/100] START max_depth=100, max_features=sqrt, min_samples_leaf=10, min_samples_split=10, n_estimators=100\n",
      "[CV 5/5; 74/100] END max_depth=100, max_features=sqrt, min_samples_leaf=10, min_samples_split=10, n_estimators=100;, score=(train=0.523, test=0.072) total time=   5.6s\n",
      "[CV 1/5; 75/100] START max_depth=80, max_features=sqrt, min_samples_leaf=4, min_samples_split=5, n_estimators=700\n",
      "[CV 1/5; 75/100] END max_depth=80, max_features=sqrt, min_samples_leaf=4, min_samples_split=5, n_estimators=700;, score=(train=0.892, test=0.075) total time=  57.1s\n",
      "[CV 2/5; 75/100] START max_depth=80, max_features=sqrt, min_samples_leaf=4, min_samples_split=5, n_estimators=700\n",
      "[CV 2/5; 75/100] END max_depth=80, max_features=sqrt, min_samples_leaf=4, min_samples_split=5, n_estimators=700;, score=(train=0.887, test=0.092) total time=  57.7s\n",
      "[CV 3/5; 75/100] START max_depth=80, max_features=sqrt, min_samples_leaf=4, min_samples_split=5, n_estimators=700\n",
      "[CV 3/5; 75/100] END max_depth=80, max_features=sqrt, min_samples_leaf=4, min_samples_split=5, n_estimators=700;, score=(train=0.890, test=0.076) total time=  57.1s\n",
      "[CV 4/5; 75/100] START max_depth=80, max_features=sqrt, min_samples_leaf=4, min_samples_split=5, n_estimators=700\n",
      "[CV 4/5; 75/100] END max_depth=80, max_features=sqrt, min_samples_leaf=4, min_samples_split=5, n_estimators=700;, score=(train=0.886, test=0.082) total time=  57.3s\n",
      "[CV 5/5; 75/100] START max_depth=80, max_features=sqrt, min_samples_leaf=4, min_samples_split=5, n_estimators=700\n",
      "[CV 5/5; 75/100] END max_depth=80, max_features=sqrt, min_samples_leaf=4, min_samples_split=5, n_estimators=700;, score=(train=0.889, test=0.087) total time=  57.3s\n",
      "[CV 1/5; 76/100] START max_depth=60, max_features=sqrt, min_samples_leaf=2, min_samples_split=5, n_estimators=700\n",
      "[CV 1/5; 76/100] END max_depth=60, max_features=sqrt, min_samples_leaf=2, min_samples_split=5, n_estimators=700;, score=(train=0.923, test=0.077) total time= 1.0min\n",
      "[CV 2/5; 76/100] START max_depth=60, max_features=sqrt, min_samples_leaf=2, min_samples_split=5, n_estimators=700\n",
      "[CV 2/5; 76/100] END max_depth=60, max_features=sqrt, min_samples_leaf=2, min_samples_split=5, n_estimators=700;, score=(train=0.925, test=0.087) total time= 1.0min\n",
      "[CV 3/5; 76/100] START max_depth=60, max_features=sqrt, min_samples_leaf=2, min_samples_split=5, n_estimators=700\n",
      "[CV 3/5; 76/100] END max_depth=60, max_features=sqrt, min_samples_leaf=2, min_samples_split=5, n_estimators=700;, score=(train=0.925, test=0.085) total time= 1.0min\n",
      "[CV 4/5; 76/100] START max_depth=60, max_features=sqrt, min_samples_leaf=2, min_samples_split=5, n_estimators=700\n",
      "[CV 4/5; 76/100] END max_depth=60, max_features=sqrt, min_samples_leaf=2, min_samples_split=5, n_estimators=700;, score=(train=0.914, test=0.082) total time= 1.0min\n",
      "[CV 5/5; 76/100] START max_depth=60, max_features=sqrt, min_samples_leaf=2, min_samples_split=5, n_estimators=700\n",
      "[CV 5/5; 76/100] END max_depth=60, max_features=sqrt, min_samples_leaf=2, min_samples_split=5, n_estimators=700;, score=(train=0.925, test=0.087) total time= 1.0min\n",
      "[CV 1/5; 77/100] START max_depth=30, max_features=auto, min_samples_leaf=1, min_samples_split=2, n_estimators=100\n"
     ]
    },
    {
     "name": "stderr",
     "output_type": "stream",
     "text": [
      "/Users/julianadaikawa/Documents/MBA/TCC/mba/lib/python3.10/site-packages/sklearn/ensemble/_forest.py:424: FutureWarning: `max_features='auto'` has been deprecated in 1.1 and will be removed in 1.3. To keep the past behaviour, explicitly set `max_features='sqrt'` or remove this parameter as it is also the default value for RandomForestClassifiers and ExtraTreesClassifiers.\n"
     ]
    },
    {
     "name": "stdout",
     "output_type": "stream",
     "text": [
      "[CV 1/5; 77/100] END max_depth=30, max_features=auto, min_samples_leaf=1, min_samples_split=2, n_estimators=100;, score=(train=0.844, test=0.069) total time=   6.7s\n",
      "[CV 2/5; 77/100] START max_depth=30, max_features=auto, min_samples_leaf=1, min_samples_split=2, n_estimators=100\n"
     ]
    },
    {
     "name": "stderr",
     "output_type": "stream",
     "text": [
      "/Users/julianadaikawa/Documents/MBA/TCC/mba/lib/python3.10/site-packages/sklearn/ensemble/_forest.py:424: FutureWarning: `max_features='auto'` has been deprecated in 1.1 and will be removed in 1.3. To keep the past behaviour, explicitly set `max_features='sqrt'` or remove this parameter as it is also the default value for RandomForestClassifiers and ExtraTreesClassifiers.\n"
     ]
    },
    {
     "name": "stdout",
     "output_type": "stream",
     "text": [
      "[CV 2/5; 77/100] END max_depth=30, max_features=auto, min_samples_leaf=1, min_samples_split=2, n_estimators=100;, score=(train=0.837, test=0.073) total time=   6.6s\n",
      "[CV 3/5; 77/100] START max_depth=30, max_features=auto, min_samples_leaf=1, min_samples_split=2, n_estimators=100\n"
     ]
    },
    {
     "name": "stderr",
     "output_type": "stream",
     "text": [
      "/Users/julianadaikawa/Documents/MBA/TCC/mba/lib/python3.10/site-packages/sklearn/ensemble/_forest.py:424: FutureWarning: `max_features='auto'` has been deprecated in 1.1 and will be removed in 1.3. To keep the past behaviour, explicitly set `max_features='sqrt'` or remove this parameter as it is also the default value for RandomForestClassifiers and ExtraTreesClassifiers.\n"
     ]
    },
    {
     "name": "stdout",
     "output_type": "stream",
     "text": [
      "[CV 3/5; 77/100] END max_depth=30, max_features=auto, min_samples_leaf=1, min_samples_split=2, n_estimators=100;, score=(train=0.834, test=0.071) total time=   6.6s\n",
      "[CV 4/5; 77/100] START max_depth=30, max_features=auto, min_samples_leaf=1, min_samples_split=2, n_estimators=100\n"
     ]
    },
    {
     "name": "stderr",
     "output_type": "stream",
     "text": [
      "/Users/julianadaikawa/Documents/MBA/TCC/mba/lib/python3.10/site-packages/sklearn/ensemble/_forest.py:424: FutureWarning: `max_features='auto'` has been deprecated in 1.1 and will be removed in 1.3. To keep the past behaviour, explicitly set `max_features='sqrt'` or remove this parameter as it is also the default value for RandomForestClassifiers and ExtraTreesClassifiers.\n"
     ]
    },
    {
     "name": "stdout",
     "output_type": "stream",
     "text": [
      "[CV 4/5; 77/100] END max_depth=30, max_features=auto, min_samples_leaf=1, min_samples_split=2, n_estimators=100;, score=(train=0.825, test=0.067) total time=   6.5s\n",
      "[CV 5/5; 77/100] START max_depth=30, max_features=auto, min_samples_leaf=1, min_samples_split=2, n_estimators=100\n"
     ]
    },
    {
     "name": "stderr",
     "output_type": "stream",
     "text": [
      "/Users/julianadaikawa/Documents/MBA/TCC/mba/lib/python3.10/site-packages/sklearn/ensemble/_forest.py:424: FutureWarning: `max_features='auto'` has been deprecated in 1.1 and will be removed in 1.3. To keep the past behaviour, explicitly set `max_features='sqrt'` or remove this parameter as it is also the default value for RandomForestClassifiers and ExtraTreesClassifiers.\n"
     ]
    },
    {
     "name": "stdout",
     "output_type": "stream",
     "text": [
      "[CV 5/5; 77/100] END max_depth=30, max_features=auto, min_samples_leaf=1, min_samples_split=2, n_estimators=100;, score=(train=0.843, test=0.069) total time=   6.5s\n",
      "[CV 1/5; 78/100] START max_depth=70, max_features=sqrt, min_samples_leaf=4, min_samples_split=5, n_estimators=800\n",
      "[CV 1/5; 78/100] END max_depth=70, max_features=sqrt, min_samples_leaf=4, min_samples_split=5, n_estimators=800;, score=(train=0.881, test=0.082) total time= 1.0min\n",
      "[CV 2/5; 78/100] START max_depth=70, max_features=sqrt, min_samples_leaf=4, min_samples_split=5, n_estimators=800\n",
      "[CV 2/5; 78/100] END max_depth=70, max_features=sqrt, min_samples_leaf=4, min_samples_split=5, n_estimators=800;, score=(train=0.879, test=0.088) total time= 1.0min\n",
      "[CV 3/5; 78/100] START max_depth=70, max_features=sqrt, min_samples_leaf=4, min_samples_split=5, n_estimators=800\n",
      "[CV 3/5; 78/100] END max_depth=70, max_features=sqrt, min_samples_leaf=4, min_samples_split=5, n_estimators=800;, score=(train=0.880, test=0.079) total time= 1.0min\n",
      "[CV 4/5; 78/100] START max_depth=70, max_features=sqrt, min_samples_leaf=4, min_samples_split=5, n_estimators=800\n",
      "[CV 4/5; 78/100] END max_depth=70, max_features=sqrt, min_samples_leaf=4, min_samples_split=5, n_estimators=800;, score=(train=0.876, test=0.084) total time= 1.1min\n",
      "[CV 5/5; 78/100] START max_depth=70, max_features=sqrt, min_samples_leaf=4, min_samples_split=5, n_estimators=800\n",
      "[CV 5/5; 78/100] END max_depth=70, max_features=sqrt, min_samples_leaf=4, min_samples_split=5, n_estimators=800;, score=(train=0.879, test=0.078) total time= 1.0min\n",
      "[CV 1/5; 79/100] START max_depth=20, max_features=auto, min_samples_leaf=1, min_samples_split=5, n_estimators=500\n"
     ]
    },
    {
     "name": "stderr",
     "output_type": "stream",
     "text": [
      "/Users/julianadaikawa/Documents/MBA/TCC/mba/lib/python3.10/site-packages/sklearn/ensemble/_forest.py:424: FutureWarning: `max_features='auto'` has been deprecated in 1.1 and will be removed in 1.3. To keep the past behaviour, explicitly set `max_features='sqrt'` or remove this parameter as it is also the default value for RandomForestClassifiers and ExtraTreesClassifiers.\n"
     ]
    },
    {
     "name": "stdout",
     "output_type": "stream",
     "text": [
      "[CV 1/5; 79/100] END max_depth=20, max_features=auto, min_samples_leaf=1, min_samples_split=5, n_estimators=500;, score=(train=0.480, test=0.058) total time=  18.2s\n",
      "[CV 2/5; 79/100] START max_depth=20, max_features=auto, min_samples_leaf=1, min_samples_split=5, n_estimators=500\n"
     ]
    },
    {
     "name": "stderr",
     "output_type": "stream",
     "text": [
      "/Users/julianadaikawa/Documents/MBA/TCC/mba/lib/python3.10/site-packages/sklearn/ensemble/_forest.py:424: FutureWarning: `max_features='auto'` has been deprecated in 1.1 and will be removed in 1.3. To keep the past behaviour, explicitly set `max_features='sqrt'` or remove this parameter as it is also the default value for RandomForestClassifiers and ExtraTreesClassifiers.\n"
     ]
    },
    {
     "name": "stdout",
     "output_type": "stream",
     "text": [
      "[CV 2/5; 79/100] END max_depth=20, max_features=auto, min_samples_leaf=1, min_samples_split=5, n_estimators=500;, score=(train=0.476, test=0.057) total time=  18.0s\n",
      "[CV 3/5; 79/100] START max_depth=20, max_features=auto, min_samples_leaf=1, min_samples_split=5, n_estimators=500\n"
     ]
    },
    {
     "name": "stderr",
     "output_type": "stream",
     "text": [
      "/Users/julianadaikawa/Documents/MBA/TCC/mba/lib/python3.10/site-packages/sklearn/ensemble/_forest.py:424: FutureWarning: `max_features='auto'` has been deprecated in 1.1 and will be removed in 1.3. To keep the past behaviour, explicitly set `max_features='sqrt'` or remove this parameter as it is also the default value for RandomForestClassifiers and ExtraTreesClassifiers.\n"
     ]
    },
    {
     "name": "stdout",
     "output_type": "stream",
     "text": [
      "[CV 3/5; 79/100] END max_depth=20, max_features=auto, min_samples_leaf=1, min_samples_split=5, n_estimators=500;, score=(train=0.496, test=0.057) total time=  18.1s\n",
      "[CV 4/5; 79/100] START max_depth=20, max_features=auto, min_samples_leaf=1, min_samples_split=5, n_estimators=500\n"
     ]
    },
    {
     "name": "stderr",
     "output_type": "stream",
     "text": [
      "/Users/julianadaikawa/Documents/MBA/TCC/mba/lib/python3.10/site-packages/sklearn/ensemble/_forest.py:424: FutureWarning: `max_features='auto'` has been deprecated in 1.1 and will be removed in 1.3. To keep the past behaviour, explicitly set `max_features='sqrt'` or remove this parameter as it is also the default value for RandomForestClassifiers and ExtraTreesClassifiers.\n"
     ]
    },
    {
     "name": "stdout",
     "output_type": "stream",
     "text": [
      "[CV 4/5; 79/100] END max_depth=20, max_features=auto, min_samples_leaf=1, min_samples_split=5, n_estimators=500;, score=(train=0.479, test=0.058) total time=  18.0s\n",
      "[CV 5/5; 79/100] START max_depth=20, max_features=auto, min_samples_leaf=1, min_samples_split=5, n_estimators=500\n"
     ]
    },
    {
     "name": "stderr",
     "output_type": "stream",
     "text": [
      "/Users/julianadaikawa/Documents/MBA/TCC/mba/lib/python3.10/site-packages/sklearn/ensemble/_forest.py:424: FutureWarning: `max_features='auto'` has been deprecated in 1.1 and will be removed in 1.3. To keep the past behaviour, explicitly set `max_features='sqrt'` or remove this parameter as it is also the default value for RandomForestClassifiers and ExtraTreesClassifiers.\n"
     ]
    },
    {
     "name": "stdout",
     "output_type": "stream",
     "text": [
      "[CV 5/5; 79/100] END max_depth=20, max_features=auto, min_samples_leaf=1, min_samples_split=5, n_estimators=500;, score=(train=0.472, test=0.055) total time=  17.9s\n",
      "[CV 1/5; 80/100] START max_depth=20, max_features=sqrt, min_samples_leaf=4, min_samples_split=2, n_estimators=100\n",
      "[CV 1/5; 80/100] END max_depth=20, max_features=sqrt, min_samples_leaf=4, min_samples_split=2, n_estimators=100;, score=(train=0.303, test=0.058) total time=   3.5s\n",
      "[CV 2/5; 80/100] START max_depth=20, max_features=sqrt, min_samples_leaf=4, min_samples_split=2, n_estimators=100\n",
      "[CV 2/5; 80/100] END max_depth=20, max_features=sqrt, min_samples_leaf=4, min_samples_split=2, n_estimators=100;, score=(train=0.293, test=0.063) total time=   3.5s\n",
      "[CV 3/5; 80/100] START max_depth=20, max_features=sqrt, min_samples_leaf=4, min_samples_split=2, n_estimators=100\n",
      "[CV 3/5; 80/100] END max_depth=20, max_features=sqrt, min_samples_leaf=4, min_samples_split=2, n_estimators=100;, score=(train=0.313, test=0.058) total time=   3.6s\n",
      "[CV 4/5; 80/100] START max_depth=20, max_features=sqrt, min_samples_leaf=4, min_samples_split=2, n_estimators=100\n",
      "[CV 4/5; 80/100] END max_depth=20, max_features=sqrt, min_samples_leaf=4, min_samples_split=2, n_estimators=100;, score=(train=0.305, test=0.061) total time=   3.5s\n",
      "[CV 5/5; 80/100] START max_depth=20, max_features=sqrt, min_samples_leaf=4, min_samples_split=2, n_estimators=100\n",
      "[CV 5/5; 80/100] END max_depth=20, max_features=sqrt, min_samples_leaf=4, min_samples_split=2, n_estimators=100;, score=(train=0.295, test=0.059) total time=   3.5s\n",
      "[CV 1/5; 81/100] START max_depth=90, max_features=sqrt, min_samples_leaf=10, min_samples_split=10, n_estimators=100\n",
      "[CV 1/5; 81/100] END max_depth=90, max_features=sqrt, min_samples_leaf=10, min_samples_split=10, n_estimators=100;, score=(train=0.510, test=0.065) total time=   5.6s\n",
      "[CV 2/5; 81/100] START max_depth=90, max_features=sqrt, min_samples_leaf=10, min_samples_split=10, n_estimators=100\n",
      "[CV 2/5; 81/100] END max_depth=90, max_features=sqrt, min_samples_leaf=10, min_samples_split=10, n_estimators=100;, score=(train=0.514, test=0.068) total time=   5.5s\n",
      "[CV 3/5; 81/100] START max_depth=90, max_features=sqrt, min_samples_leaf=10, min_samples_split=10, n_estimators=100\n",
      "[CV 3/5; 81/100] END max_depth=90, max_features=sqrt, min_samples_leaf=10, min_samples_split=10, n_estimators=100;, score=(train=0.503, test=0.064) total time=   5.5s\n",
      "[CV 4/5; 81/100] START max_depth=90, max_features=sqrt, min_samples_leaf=10, min_samples_split=10, n_estimators=100\n",
      "[CV 4/5; 81/100] END max_depth=90, max_features=sqrt, min_samples_leaf=10, min_samples_split=10, n_estimators=100;, score=(train=0.514, test=0.062) total time=   5.5s\n",
      "[CV 5/5; 81/100] START max_depth=90, max_features=sqrt, min_samples_leaf=10, min_samples_split=10, n_estimators=100\n",
      "[CV 5/5; 81/100] END max_depth=90, max_features=sqrt, min_samples_leaf=10, min_samples_split=10, n_estimators=100;, score=(train=0.506, test=0.069) total time=   5.5s\n",
      "[CV 1/5; 82/100] START max_depth=10, max_features=sqrt, min_samples_leaf=10, min_samples_split=10, n_estimators=400\n",
      "[CV 1/5; 82/100] END max_depth=10, max_features=sqrt, min_samples_leaf=10, min_samples_split=10, n_estimators=400;, score=(train=0.067, test=0.033) total time=   6.8s\n",
      "[CV 2/5; 82/100] START max_depth=10, max_features=sqrt, min_samples_leaf=10, min_samples_split=10, n_estimators=400\n",
      "[CV 2/5; 82/100] END max_depth=10, max_features=sqrt, min_samples_leaf=10, min_samples_split=10, n_estimators=400;, score=(train=0.068, test=0.032) total time=   6.8s\n",
      "[CV 3/5; 82/100] START max_depth=10, max_features=sqrt, min_samples_leaf=10, min_samples_split=10, n_estimators=400\n",
      "[CV 3/5; 82/100] END max_depth=10, max_features=sqrt, min_samples_leaf=10, min_samples_split=10, n_estimators=400;, score=(train=0.065, test=0.029) total time=   6.9s\n",
      "[CV 4/5; 82/100] START max_depth=10, max_features=sqrt, min_samples_leaf=10, min_samples_split=10, n_estimators=400\n",
      "[CV 4/5; 82/100] END max_depth=10, max_features=sqrt, min_samples_leaf=10, min_samples_split=10, n_estimators=400;, score=(train=0.063, test=0.032) total time=   6.8s\n",
      "[CV 5/5; 82/100] START max_depth=10, max_features=sqrt, min_samples_leaf=10, min_samples_split=10, n_estimators=400\n",
      "[CV 5/5; 82/100] END max_depth=10, max_features=sqrt, min_samples_leaf=10, min_samples_split=10, n_estimators=400;, score=(train=0.062, test=0.029) total time=   6.8s\n",
      "[CV 1/5; 83/100] START max_depth=20, max_features=sqrt, min_samples_leaf=4, min_samples_split=2, n_estimators=300\n",
      "[CV 1/5; 83/100] END max_depth=20, max_features=sqrt, min_samples_leaf=4, min_samples_split=2, n_estimators=300;, score=(train=0.296, test=0.060) total time=  10.2s\n",
      "[CV 2/5; 83/100] START max_depth=20, max_features=sqrt, min_samples_leaf=4, min_samples_split=2, n_estimators=300\n",
      "[CV 2/5; 83/100] END max_depth=20, max_features=sqrt, min_samples_leaf=4, min_samples_split=2, n_estimators=300;, score=(train=0.307, test=0.061) total time=  10.2s\n",
      "[CV 3/5; 83/100] START max_depth=20, max_features=sqrt, min_samples_leaf=4, min_samples_split=2, n_estimators=300\n",
      "[CV 3/5; 83/100] END max_depth=20, max_features=sqrt, min_samples_leaf=4, min_samples_split=2, n_estimators=300;, score=(train=0.317, test=0.061) total time=  10.3s\n",
      "[CV 4/5; 83/100] START max_depth=20, max_features=sqrt, min_samples_leaf=4, min_samples_split=2, n_estimators=300\n",
      "[CV 4/5; 83/100] END max_depth=20, max_features=sqrt, min_samples_leaf=4, min_samples_split=2, n_estimators=300;, score=(train=0.305, test=0.057) total time=  10.2s\n",
      "[CV 5/5; 83/100] START max_depth=20, max_features=sqrt, min_samples_leaf=4, min_samples_split=2, n_estimators=300\n",
      "[CV 5/5; 83/100] END max_depth=20, max_features=sqrt, min_samples_leaf=4, min_samples_split=2, n_estimators=300;, score=(train=0.297, test=0.057) total time=  10.3s\n",
      "[CV 1/5; 84/100] START max_depth=70, max_features=auto, min_samples_leaf=2, min_samples_split=2, n_estimators=500\n"
     ]
    },
    {
     "name": "stderr",
     "output_type": "stream",
     "text": [
      "/Users/julianadaikawa/Documents/MBA/TCC/mba/lib/python3.10/site-packages/sklearn/ensemble/_forest.py:424: FutureWarning: `max_features='auto'` has been deprecated in 1.1 and will be removed in 1.3. To keep the past behaviour, explicitly set `max_features='sqrt'` or remove this parameter as it is also the default value for RandomForestClassifiers and ExtraTreesClassifiers.\n"
     ]
    },
    {
     "name": "stdout",
     "output_type": "stream",
     "text": [
      "[CV 1/5; 84/100] END max_depth=70, max_features=auto, min_samples_leaf=2, min_samples_split=2, n_estimators=500;, score=(train=0.935, test=0.081) total time=  48.8s\n",
      "[CV 2/5; 84/100] START max_depth=70, max_features=auto, min_samples_leaf=2, min_samples_split=2, n_estimators=500\n"
     ]
    },
    {
     "name": "stderr",
     "output_type": "stream",
     "text": [
      "/Users/julianadaikawa/Documents/MBA/TCC/mba/lib/python3.10/site-packages/sklearn/ensemble/_forest.py:424: FutureWarning: `max_features='auto'` has been deprecated in 1.1 and will be removed in 1.3. To keep the past behaviour, explicitly set `max_features='sqrt'` or remove this parameter as it is also the default value for RandomForestClassifiers and ExtraTreesClassifiers.\n"
     ]
    },
    {
     "name": "stdout",
     "output_type": "stream",
     "text": [
      "[CV 2/5; 84/100] END max_depth=70, max_features=auto, min_samples_leaf=2, min_samples_split=2, n_estimators=500;, score=(train=0.930, test=0.096) total time=  49.4s\n",
      "[CV 3/5; 84/100] START max_depth=70, max_features=auto, min_samples_leaf=2, min_samples_split=2, n_estimators=500\n"
     ]
    },
    {
     "name": "stderr",
     "output_type": "stream",
     "text": [
      "/Users/julianadaikawa/Documents/MBA/TCC/mba/lib/python3.10/site-packages/sklearn/ensemble/_forest.py:424: FutureWarning: `max_features='auto'` has been deprecated in 1.1 and will be removed in 1.3. To keep the past behaviour, explicitly set `max_features='sqrt'` or remove this parameter as it is also the default value for RandomForestClassifiers and ExtraTreesClassifiers.\n"
     ]
    },
    {
     "name": "stdout",
     "output_type": "stream",
     "text": [
      "[CV 3/5; 84/100] END max_depth=70, max_features=auto, min_samples_leaf=2, min_samples_split=2, n_estimators=500;, score=(train=0.938, test=0.086) total time=  49.3s\n",
      "[CV 4/5; 84/100] START max_depth=70, max_features=auto, min_samples_leaf=2, min_samples_split=2, n_estimators=500\n"
     ]
    },
    {
     "name": "stderr",
     "output_type": "stream",
     "text": [
      "/Users/julianadaikawa/Documents/MBA/TCC/mba/lib/python3.10/site-packages/sklearn/ensemble/_forest.py:424: FutureWarning: `max_features='auto'` has been deprecated in 1.1 and will be removed in 1.3. To keep the past behaviour, explicitly set `max_features='sqrt'` or remove this parameter as it is also the default value for RandomForestClassifiers and ExtraTreesClassifiers.\n"
     ]
    },
    {
     "name": "stdout",
     "output_type": "stream",
     "text": [
      "[CV 4/5; 84/100] END max_depth=70, max_features=auto, min_samples_leaf=2, min_samples_split=2, n_estimators=500;, score=(train=0.931, test=0.087) total time=  49.2s\n",
      "[CV 5/5; 84/100] START max_depth=70, max_features=auto, min_samples_leaf=2, min_samples_split=2, n_estimators=500\n"
     ]
    },
    {
     "name": "stderr",
     "output_type": "stream",
     "text": [
      "/Users/julianadaikawa/Documents/MBA/TCC/mba/lib/python3.10/site-packages/sklearn/ensemble/_forest.py:424: FutureWarning: `max_features='auto'` has been deprecated in 1.1 and will be removed in 1.3. To keep the past behaviour, explicitly set `max_features='sqrt'` or remove this parameter as it is also the default value for RandomForestClassifiers and ExtraTreesClassifiers.\n"
     ]
    },
    {
     "name": "stdout",
     "output_type": "stream",
     "text": [
      "[CV 5/5; 84/100] END max_depth=70, max_features=auto, min_samples_leaf=2, min_samples_split=2, n_estimators=500;, score=(train=0.935, test=0.091) total time=  49.1s\n",
      "[CV 1/5; 85/100] START max_depth=80, max_features=sqrt, min_samples_leaf=2, min_samples_split=10, n_estimators=900\n",
      "[CV 1/5; 85/100] END max_depth=80, max_features=sqrt, min_samples_leaf=2, min_samples_split=10, n_estimators=900;, score=(train=0.935, test=0.080) total time= 1.5min\n",
      "[CV 2/5; 85/100] START max_depth=80, max_features=sqrt, min_samples_leaf=2, min_samples_split=10, n_estimators=900\n",
      "[CV 2/5; 85/100] END max_depth=80, max_features=sqrt, min_samples_leaf=2, min_samples_split=10, n_estimators=900;, score=(train=0.931, test=0.088) total time= 1.5min\n",
      "[CV 3/5; 85/100] START max_depth=80, max_features=sqrt, min_samples_leaf=2, min_samples_split=10, n_estimators=900\n",
      "[CV 3/5; 85/100] END max_depth=80, max_features=sqrt, min_samples_leaf=2, min_samples_split=10, n_estimators=900;, score=(train=0.938, test=0.090) total time= 1.5min\n",
      "[CV 4/5; 85/100] START max_depth=80, max_features=sqrt, min_samples_leaf=2, min_samples_split=10, n_estimators=900\n",
      "[CV 4/5; 85/100] END max_depth=80, max_features=sqrt, min_samples_leaf=2, min_samples_split=10, n_estimators=900;, score=(train=0.932, test=0.085) total time= 1.5min\n",
      "[CV 5/5; 85/100] START max_depth=80, max_features=sqrt, min_samples_leaf=2, min_samples_split=10, n_estimators=900\n",
      "[CV 5/5; 85/100] END max_depth=80, max_features=sqrt, min_samples_leaf=2, min_samples_split=10, n_estimators=900;, score=(train=0.935, test=0.089) total time= 1.5min\n",
      "[CV 1/5; 86/100] START max_depth=100, max_features=sqrt, min_samples_leaf=1, min_samples_split=2, n_estimators=700\n",
      "[CV 1/5; 86/100] END max_depth=100, max_features=sqrt, min_samples_leaf=1, min_samples_split=2, n_estimators=700;, score=(train=0.948, test=0.077) total time= 2.1min\n",
      "[CV 2/5; 86/100] START max_depth=100, max_features=sqrt, min_samples_leaf=1, min_samples_split=2, n_estimators=700\n",
      "[CV 2/5; 86/100] END max_depth=100, max_features=sqrt, min_samples_leaf=1, min_samples_split=2, n_estimators=700;, score=(train=0.946, test=0.091) total time= 2.1min\n",
      "[CV 3/5; 86/100] START max_depth=100, max_features=sqrt, min_samples_leaf=1, min_samples_split=2, n_estimators=700\n",
      "[CV 3/5; 86/100] END max_depth=100, max_features=sqrt, min_samples_leaf=1, min_samples_split=2, n_estimators=700;, score=(train=0.946, test=0.095) total time= 2.1min\n",
      "[CV 4/5; 86/100] START max_depth=100, max_features=sqrt, min_samples_leaf=1, min_samples_split=2, n_estimators=700\n",
      "[CV 4/5; 86/100] END max_depth=100, max_features=sqrt, min_samples_leaf=1, min_samples_split=2, n_estimators=700;, score=(train=0.947, test=0.092) total time= 2.1min\n",
      "[CV 5/5; 86/100] START max_depth=100, max_features=sqrt, min_samples_leaf=1, min_samples_split=2, n_estimators=700\n",
      "[CV 5/5; 86/100] END max_depth=100, max_features=sqrt, min_samples_leaf=1, min_samples_split=2, n_estimators=700;, score=(train=0.946, test=0.091) total time= 2.1min\n",
      "[CV 1/5; 87/100] START max_depth=60, max_features=sqrt, min_samples_leaf=4, min_samples_split=5, n_estimators=1000\n",
      "[CV 1/5; 87/100] END max_depth=60, max_features=sqrt, min_samples_leaf=4, min_samples_split=5, n_estimators=1000;, score=(train=0.863, test=0.074) total time= 1.2min\n",
      "[CV 2/5; 87/100] START max_depth=60, max_features=sqrt, min_samples_leaf=4, min_samples_split=5, n_estimators=1000\n",
      "[CV 2/5; 87/100] END max_depth=60, max_features=sqrt, min_samples_leaf=4, min_samples_split=5, n_estimators=1000;, score=(train=0.866, test=0.081) total time= 1.2min\n",
      "[CV 3/5; 87/100] START max_depth=60, max_features=sqrt, min_samples_leaf=4, min_samples_split=5, n_estimators=1000\n",
      "[CV 3/5; 87/100] END max_depth=60, max_features=sqrt, min_samples_leaf=4, min_samples_split=5, n_estimators=1000;, score=(train=0.865, test=0.073) total time= 1.2min\n",
      "[CV 4/5; 87/100] START max_depth=60, max_features=sqrt, min_samples_leaf=4, min_samples_split=5, n_estimators=1000\n",
      "[CV 4/5; 87/100] END max_depth=60, max_features=sqrt, min_samples_leaf=4, min_samples_split=5, n_estimators=1000;, score=(train=0.861, test=0.081) total time= 1.2min\n",
      "[CV 5/5; 87/100] START max_depth=60, max_features=sqrt, min_samples_leaf=4, min_samples_split=5, n_estimators=1000\n",
      "[CV 5/5; 87/100] END max_depth=60, max_features=sqrt, min_samples_leaf=4, min_samples_split=5, n_estimators=1000;, score=(train=0.864, test=0.083) total time= 1.2min\n",
      "[CV 1/5; 88/100] START max_depth=30, max_features=auto, min_samples_leaf=4, min_samples_split=10, n_estimators=800\n"
     ]
    },
    {
     "name": "stderr",
     "output_type": "stream",
     "text": [
      "/Users/julianadaikawa/Documents/MBA/TCC/mba/lib/python3.10/site-packages/sklearn/ensemble/_forest.py:424: FutureWarning: `max_features='auto'` has been deprecated in 1.1 and will be removed in 1.3. To keep the past behaviour, explicitly set `max_features='sqrt'` or remove this parameter as it is also the default value for RandomForestClassifiers and ExtraTreesClassifiers.\n"
     ]
    },
    {
     "name": "stdout",
     "output_type": "stream",
     "text": [
      "[CV 1/5; 88/100] END max_depth=30, max_features=auto, min_samples_leaf=4, min_samples_split=10, n_estimators=800;, score=(train=0.545, test=0.066) total time=  38.6s\n",
      "[CV 2/5; 88/100] START max_depth=30, max_features=auto, min_samples_leaf=4, min_samples_split=10, n_estimators=800\n"
     ]
    },
    {
     "name": "stderr",
     "output_type": "stream",
     "text": [
      "/Users/julianadaikawa/Documents/MBA/TCC/mba/lib/python3.10/site-packages/sklearn/ensemble/_forest.py:424: FutureWarning: `max_features='auto'` has been deprecated in 1.1 and will be removed in 1.3. To keep the past behaviour, explicitly set `max_features='sqrt'` or remove this parameter as it is also the default value for RandomForestClassifiers and ExtraTreesClassifiers.\n"
     ]
    },
    {
     "name": "stdout",
     "output_type": "stream",
     "text": [
      "[CV 2/5; 88/100] END max_depth=30, max_features=auto, min_samples_leaf=4, min_samples_split=10, n_estimators=800;, score=(train=0.548, test=0.069) total time=  38.7s\n",
      "[CV 3/5; 88/100] START max_depth=30, max_features=auto, min_samples_leaf=4, min_samples_split=10, n_estimators=800\n"
     ]
    },
    {
     "name": "stderr",
     "output_type": "stream",
     "text": [
      "/Users/julianadaikawa/Documents/MBA/TCC/mba/lib/python3.10/site-packages/sklearn/ensemble/_forest.py:424: FutureWarning: `max_features='auto'` has been deprecated in 1.1 and will be removed in 1.3. To keep the past behaviour, explicitly set `max_features='sqrt'` or remove this parameter as it is also the default value for RandomForestClassifiers and ExtraTreesClassifiers.\n"
     ]
    },
    {
     "name": "stdout",
     "output_type": "stream",
     "text": [
      "[CV 3/5; 88/100] END max_depth=30, max_features=auto, min_samples_leaf=4, min_samples_split=10, n_estimators=800;, score=(train=0.559, test=0.065) total time=  38.8s\n",
      "[CV 4/5; 88/100] START max_depth=30, max_features=auto, min_samples_leaf=4, min_samples_split=10, n_estimators=800\n"
     ]
    },
    {
     "name": "stderr",
     "output_type": "stream",
     "text": [
      "/Users/julianadaikawa/Documents/MBA/TCC/mba/lib/python3.10/site-packages/sklearn/ensemble/_forest.py:424: FutureWarning: `max_features='auto'` has been deprecated in 1.1 and will be removed in 1.3. To keep the past behaviour, explicitly set `max_features='sqrt'` or remove this parameter as it is also the default value for RandomForestClassifiers and ExtraTreesClassifiers.\n"
     ]
    },
    {
     "name": "stdout",
     "output_type": "stream",
     "text": [
      "[CV 4/5; 88/100] END max_depth=30, max_features=auto, min_samples_leaf=4, min_samples_split=10, n_estimators=800;, score=(train=0.557, test=0.067) total time=  38.6s\n",
      "[CV 5/5; 88/100] START max_depth=30, max_features=auto, min_samples_leaf=4, min_samples_split=10, n_estimators=800\n"
     ]
    },
    {
     "name": "stderr",
     "output_type": "stream",
     "text": [
      "/Users/julianadaikawa/Documents/MBA/TCC/mba/lib/python3.10/site-packages/sklearn/ensemble/_forest.py:424: FutureWarning: `max_features='auto'` has been deprecated in 1.1 and will be removed in 1.3. To keep the past behaviour, explicitly set `max_features='sqrt'` or remove this parameter as it is also the default value for RandomForestClassifiers and ExtraTreesClassifiers.\n"
     ]
    },
    {
     "name": "stdout",
     "output_type": "stream",
     "text": [
      "[CV 5/5; 88/100] END max_depth=30, max_features=auto, min_samples_leaf=4, min_samples_split=10, n_estimators=800;, score=(train=0.544, test=0.067) total time=  38.8s\n",
      "[CV 1/5; 89/100] START max_depth=60, max_features=sqrt, min_samples_leaf=2, min_samples_split=5, n_estimators=200\n",
      "[CV 1/5; 89/100] END max_depth=60, max_features=sqrt, min_samples_leaf=2, min_samples_split=5, n_estimators=200;, score=(train=0.921, test=0.082) total time=  18.2s\n",
      "[CV 2/5; 89/100] START max_depth=60, max_features=sqrt, min_samples_leaf=2, min_samples_split=5, n_estimators=200\n",
      "[CV 2/5; 89/100] END max_depth=60, max_features=sqrt, min_samples_leaf=2, min_samples_split=5, n_estimators=200;, score=(train=0.921, test=0.089) total time=  18.4s\n",
      "[CV 3/5; 89/100] START max_depth=60, max_features=sqrt, min_samples_leaf=2, min_samples_split=5, n_estimators=200\n",
      "[CV 3/5; 89/100] END max_depth=60, max_features=sqrt, min_samples_leaf=2, min_samples_split=5, n_estimators=200;, score=(train=0.921, test=0.088) total time=  18.4s\n",
      "[CV 4/5; 89/100] START max_depth=60, max_features=sqrt, min_samples_leaf=2, min_samples_split=5, n_estimators=200\n",
      "[CV 4/5; 89/100] END max_depth=60, max_features=sqrt, min_samples_leaf=2, min_samples_split=5, n_estimators=200;, score=(train=0.920, test=0.077) total time=  18.1s\n",
      "[CV 5/5; 89/100] START max_depth=60, max_features=sqrt, min_samples_leaf=2, min_samples_split=5, n_estimators=200\n",
      "[CV 5/5; 89/100] END max_depth=60, max_features=sqrt, min_samples_leaf=2, min_samples_split=5, n_estimators=200;, score=(train=0.921, test=0.081) total time=  18.2s\n",
      "[CV 1/5; 90/100] START max_depth=50, max_features=sqrt, min_samples_leaf=1, min_samples_split=10, n_estimators=100\n",
      "[CV 1/5; 90/100] END max_depth=50, max_features=sqrt, min_samples_leaf=1, min_samples_split=10, n_estimators=100;, score=(train=0.898, test=0.069) total time=   9.0s\n",
      "[CV 2/5; 90/100] START max_depth=50, max_features=sqrt, min_samples_leaf=1, min_samples_split=10, n_estimators=100\n",
      "[CV 2/5; 90/100] END max_depth=50, max_features=sqrt, min_samples_leaf=1, min_samples_split=10, n_estimators=100;, score=(train=0.901, test=0.083) total time=   8.7s\n",
      "[CV 3/5; 90/100] START max_depth=50, max_features=sqrt, min_samples_leaf=1, min_samples_split=10, n_estimators=100\n",
      "[CV 3/5; 90/100] END max_depth=50, max_features=sqrt, min_samples_leaf=1, min_samples_split=10, n_estimators=100;, score=(train=0.906, test=0.072) total time=   8.7s\n",
      "[CV 4/5; 90/100] START max_depth=50, max_features=sqrt, min_samples_leaf=1, min_samples_split=10, n_estimators=100\n",
      "[CV 4/5; 90/100] END max_depth=50, max_features=sqrt, min_samples_leaf=1, min_samples_split=10, n_estimators=100;, score=(train=0.887, test=0.076) total time=   8.6s\n",
      "[CV 5/5; 90/100] START max_depth=50, max_features=sqrt, min_samples_leaf=1, min_samples_split=10, n_estimators=100\n",
      "[CV 5/5; 90/100] END max_depth=50, max_features=sqrt, min_samples_leaf=1, min_samples_split=10, n_estimators=100;, score=(train=0.895, test=0.082) total time=   8.5s\n",
      "[CV 1/5; 91/100] START max_depth=50, max_features=sqrt, min_samples_leaf=2, min_samples_split=5, n_estimators=600\n",
      "[CV 1/5; 91/100] END max_depth=50, max_features=sqrt, min_samples_leaf=2, min_samples_split=5, n_estimators=600;, score=(train=0.909, test=0.076) total time=  47.6s\n",
      "[CV 2/5; 91/100] START max_depth=50, max_features=sqrt, min_samples_leaf=2, min_samples_split=5, n_estimators=600\n",
      "[CV 2/5; 91/100] END max_depth=50, max_features=sqrt, min_samples_leaf=2, min_samples_split=5, n_estimators=600;, score=(train=0.912, test=0.083) total time=  47.9s\n",
      "[CV 3/5; 91/100] START max_depth=50, max_features=sqrt, min_samples_leaf=2, min_samples_split=5, n_estimators=600\n",
      "[CV 3/5; 91/100] END max_depth=50, max_features=sqrt, min_samples_leaf=2, min_samples_split=5, n_estimators=600;, score=(train=0.913, test=0.079) total time=  47.7s\n",
      "[CV 4/5; 91/100] START max_depth=50, max_features=sqrt, min_samples_leaf=2, min_samples_split=5, n_estimators=600\n",
      "[CV 4/5; 91/100] END max_depth=50, max_features=sqrt, min_samples_leaf=2, min_samples_split=5, n_estimators=600;, score=(train=0.899, test=0.081) total time=  47.9s\n",
      "[CV 5/5; 91/100] START max_depth=50, max_features=sqrt, min_samples_leaf=2, min_samples_split=5, n_estimators=600\n",
      "[CV 5/5; 91/100] END max_depth=50, max_features=sqrt, min_samples_leaf=2, min_samples_split=5, n_estimators=600;, score=(train=0.907, test=0.086) total time=  47.7s\n",
      "[CV 1/5; 92/100] START max_depth=90, max_features=auto, min_samples_leaf=1, min_samples_split=2, n_estimators=900\n"
     ]
    },
    {
     "name": "stderr",
     "output_type": "stream",
     "text": [
      "/Users/julianadaikawa/Documents/MBA/TCC/mba/lib/python3.10/site-packages/sklearn/ensemble/_forest.py:424: FutureWarning: `max_features='auto'` has been deprecated in 1.1 and will be removed in 1.3. To keep the past behaviour, explicitly set `max_features='sqrt'` or remove this parameter as it is also the default value for RandomForestClassifiers and ExtraTreesClassifiers.\n"
     ]
    },
    {
     "name": "stdout",
     "output_type": "stream",
     "text": [
      "[CV 1/5; 92/100] END max_depth=90, max_features=auto, min_samples_leaf=1, min_samples_split=2, n_estimators=900;, score=(train=0.948, test=0.086) total time= 2.6min\n",
      "[CV 2/5; 92/100] START max_depth=90, max_features=auto, min_samples_leaf=1, min_samples_split=2, n_estimators=900\n"
     ]
    },
    {
     "name": "stderr",
     "output_type": "stream",
     "text": [
      "/Users/julianadaikawa/Documents/MBA/TCC/mba/lib/python3.10/site-packages/sklearn/ensemble/_forest.py:424: FutureWarning: `max_features='auto'` has been deprecated in 1.1 and will be removed in 1.3. To keep the past behaviour, explicitly set `max_features='sqrt'` or remove this parameter as it is also the default value for RandomForestClassifiers and ExtraTreesClassifiers.\n"
     ]
    },
    {
     "name": "stdout",
     "output_type": "stream",
     "text": [
      "[CV 2/5; 92/100] END max_depth=90, max_features=auto, min_samples_leaf=1, min_samples_split=2, n_estimators=900;, score=(train=0.945, test=0.095) total time= 2.6min\n",
      "[CV 3/5; 92/100] START max_depth=90, max_features=auto, min_samples_leaf=1, min_samples_split=2, n_estimators=900\n"
     ]
    },
    {
     "name": "stderr",
     "output_type": "stream",
     "text": [
      "/Users/julianadaikawa/Documents/MBA/TCC/mba/lib/python3.10/site-packages/sklearn/ensemble/_forest.py:424: FutureWarning: `max_features='auto'` has been deprecated in 1.1 and will be removed in 1.3. To keep the past behaviour, explicitly set `max_features='sqrt'` or remove this parameter as it is also the default value for RandomForestClassifiers and ExtraTreesClassifiers.\n"
     ]
    },
    {
     "name": "stdout",
     "output_type": "stream",
     "text": [
      "[CV 3/5; 92/100] END max_depth=90, max_features=auto, min_samples_leaf=1, min_samples_split=2, n_estimators=900;, score=(train=0.946, test=0.092) total time= 2.6min\n",
      "[CV 4/5; 92/100] START max_depth=90, max_features=auto, min_samples_leaf=1, min_samples_split=2, n_estimators=900\n"
     ]
    },
    {
     "name": "stderr",
     "output_type": "stream",
     "text": [
      "/Users/julianadaikawa/Documents/MBA/TCC/mba/lib/python3.10/site-packages/sklearn/ensemble/_forest.py:424: FutureWarning: `max_features='auto'` has been deprecated in 1.1 and will be removed in 1.3. To keep the past behaviour, explicitly set `max_features='sqrt'` or remove this parameter as it is also the default value for RandomForestClassifiers and ExtraTreesClassifiers.\n"
     ]
    },
    {
     "name": "stdout",
     "output_type": "stream",
     "text": [
      "[CV 4/5; 92/100] END max_depth=90, max_features=auto, min_samples_leaf=1, min_samples_split=2, n_estimators=900;, score=(train=0.946, test=0.086) total time= 2.6min\n",
      "[CV 5/5; 92/100] START max_depth=90, max_features=auto, min_samples_leaf=1, min_samples_split=2, n_estimators=900\n"
     ]
    },
    {
     "name": "stderr",
     "output_type": "stream",
     "text": [
      "/Users/julianadaikawa/Documents/MBA/TCC/mba/lib/python3.10/site-packages/sklearn/ensemble/_forest.py:424: FutureWarning: `max_features='auto'` has been deprecated in 1.1 and will be removed in 1.3. To keep the past behaviour, explicitly set `max_features='sqrt'` or remove this parameter as it is also the default value for RandomForestClassifiers and ExtraTreesClassifiers.\n"
     ]
    },
    {
     "name": "stdout",
     "output_type": "stream",
     "text": [
      "[CV 5/5; 92/100] END max_depth=90, max_features=auto, min_samples_leaf=1, min_samples_split=2, n_estimators=900;, score=(train=0.946, test=0.091) total time= 2.6min\n",
      "[CV 1/5; 93/100] START max_depth=100, max_features=auto, min_samples_leaf=2, min_samples_split=5, n_estimators=300\n"
     ]
    },
    {
     "name": "stderr",
     "output_type": "stream",
     "text": [
      "/Users/julianadaikawa/Documents/MBA/TCC/mba/lib/python3.10/site-packages/sklearn/ensemble/_forest.py:424: FutureWarning: `max_features='auto'` has been deprecated in 1.1 and will be removed in 1.3. To keep the past behaviour, explicitly set `max_features='sqrt'` or remove this parameter as it is also the default value for RandomForestClassifiers and ExtraTreesClassifiers.\n"
     ]
    },
    {
     "name": "stdout",
     "output_type": "stream",
     "text": [
      "[CV 1/5; 93/100] END max_depth=100, max_features=auto, min_samples_leaf=2, min_samples_split=5, n_estimators=300;, score=(train=0.943, test=0.082) total time=  35.3s\n",
      "[CV 2/5; 93/100] START max_depth=100, max_features=auto, min_samples_leaf=2, min_samples_split=5, n_estimators=300\n"
     ]
    },
    {
     "name": "stderr",
     "output_type": "stream",
     "text": [
      "/Users/julianadaikawa/Documents/MBA/TCC/mba/lib/python3.10/site-packages/sklearn/ensemble/_forest.py:424: FutureWarning: `max_features='auto'` has been deprecated in 1.1 and will be removed in 1.3. To keep the past behaviour, explicitly set `max_features='sqrt'` or remove this parameter as it is also the default value for RandomForestClassifiers and ExtraTreesClassifiers.\n"
     ]
    },
    {
     "name": "stdout",
     "output_type": "stream",
     "text": [
      "[CV 2/5; 93/100] END max_depth=100, max_features=auto, min_samples_leaf=2, min_samples_split=5, n_estimators=300;, score=(train=0.942, test=0.091) total time=  34.9s\n",
      "[CV 3/5; 93/100] START max_depth=100, max_features=auto, min_samples_leaf=2, min_samples_split=5, n_estimators=300\n"
     ]
    },
    {
     "name": "stderr",
     "output_type": "stream",
     "text": [
      "/Users/julianadaikawa/Documents/MBA/TCC/mba/lib/python3.10/site-packages/sklearn/ensemble/_forest.py:424: FutureWarning: `max_features='auto'` has been deprecated in 1.1 and will be removed in 1.3. To keep the past behaviour, explicitly set `max_features='sqrt'` or remove this parameter as it is also the default value for RandomForestClassifiers and ExtraTreesClassifiers.\n"
     ]
    },
    {
     "name": "stdout",
     "output_type": "stream",
     "text": [
      "[CV 3/5; 93/100] END max_depth=100, max_features=auto, min_samples_leaf=2, min_samples_split=5, n_estimators=300;, score=(train=0.942, test=0.099) total time=  34.6s\n",
      "[CV 4/5; 93/100] START max_depth=100, max_features=auto, min_samples_leaf=2, min_samples_split=5, n_estimators=300\n"
     ]
    },
    {
     "name": "stderr",
     "output_type": "stream",
     "text": [
      "/Users/julianadaikawa/Documents/MBA/TCC/mba/lib/python3.10/site-packages/sklearn/ensemble/_forest.py:424: FutureWarning: `max_features='auto'` has been deprecated in 1.1 and will be removed in 1.3. To keep the past behaviour, explicitly set `max_features='sqrt'` or remove this parameter as it is also the default value for RandomForestClassifiers and ExtraTreesClassifiers.\n"
     ]
    },
    {
     "name": "stdout",
     "output_type": "stream",
     "text": [
      "[CV 4/5; 93/100] END max_depth=100, max_features=auto, min_samples_leaf=2, min_samples_split=5, n_estimators=300;, score=(train=0.941, test=0.089) total time=  34.6s\n",
      "[CV 5/5; 93/100] START max_depth=100, max_features=auto, min_samples_leaf=2, min_samples_split=5, n_estimators=300\n"
     ]
    },
    {
     "name": "stderr",
     "output_type": "stream",
     "text": [
      "/Users/julianadaikawa/Documents/MBA/TCC/mba/lib/python3.10/site-packages/sklearn/ensemble/_forest.py:424: FutureWarning: `max_features='auto'` has been deprecated in 1.1 and will be removed in 1.3. To keep the past behaviour, explicitly set `max_features='sqrt'` or remove this parameter as it is also the default value for RandomForestClassifiers and ExtraTreesClassifiers.\n"
     ]
    },
    {
     "name": "stdout",
     "output_type": "stream",
     "text": [
      "[CV 5/5; 93/100] END max_depth=100, max_features=auto, min_samples_leaf=2, min_samples_split=5, n_estimators=300;, score=(train=0.942, test=0.094) total time=  34.9s\n",
      "[CV 1/5; 94/100] START max_depth=10, max_features=sqrt, min_samples_leaf=10, min_samples_split=5, n_estimators=200\n",
      "[CV 1/5; 94/100] END max_depth=10, max_features=sqrt, min_samples_leaf=10, min_samples_split=5, n_estimators=200;, score=(train=0.066, test=0.032) total time=   4.0s\n",
      "[CV 2/5; 94/100] START max_depth=10, max_features=sqrt, min_samples_leaf=10, min_samples_split=5, n_estimators=200\n",
      "[CV 2/5; 94/100] END max_depth=10, max_features=sqrt, min_samples_leaf=10, min_samples_split=5, n_estimators=200;, score=(train=0.062, test=0.030) total time=   3.6s\n",
      "[CV 3/5; 94/100] START max_depth=10, max_features=sqrt, min_samples_leaf=10, min_samples_split=5, n_estimators=200\n",
      "[CV 3/5; 94/100] END max_depth=10, max_features=sqrt, min_samples_leaf=10, min_samples_split=5, n_estimators=200;, score=(train=0.067, test=0.033) total time=   3.5s\n",
      "[CV 4/5; 94/100] START max_depth=10, max_features=sqrt, min_samples_leaf=10, min_samples_split=5, n_estimators=200\n",
      "[CV 4/5; 94/100] END max_depth=10, max_features=sqrt, min_samples_leaf=10, min_samples_split=5, n_estimators=200;, score=(train=0.069, test=0.030) total time=   3.5s\n",
      "[CV 5/5; 94/100] START max_depth=10, max_features=sqrt, min_samples_leaf=10, min_samples_split=5, n_estimators=200\n",
      "[CV 5/5; 94/100] END max_depth=10, max_features=sqrt, min_samples_leaf=10, min_samples_split=5, n_estimators=200;, score=(train=0.061, test=0.031) total time=   3.5s\n",
      "[CV 1/5; 95/100] START max_depth=60, max_features=sqrt, min_samples_leaf=1, min_samples_split=10, n_estimators=1000\n",
      "[CV 1/5; 95/100] END max_depth=60, max_features=sqrt, min_samples_leaf=1, min_samples_split=10, n_estimators=1000;, score=(train=0.931, test=0.079) total time= 1.6min\n",
      "[CV 2/5; 95/100] START max_depth=60, max_features=sqrt, min_samples_leaf=1, min_samples_split=10, n_estimators=1000\n",
      "[CV 2/5; 95/100] END max_depth=60, max_features=sqrt, min_samples_leaf=1, min_samples_split=10, n_estimators=1000;, score=(train=0.932, test=0.084) total time= 1.6min\n",
      "[CV 3/5; 95/100] START max_depth=60, max_features=sqrt, min_samples_leaf=1, min_samples_split=10, n_estimators=1000\n",
      "[CV 3/5; 95/100] END max_depth=60, max_features=sqrt, min_samples_leaf=1, min_samples_split=10, n_estimators=1000;, score=(train=0.931, test=0.085) total time= 1.6min\n",
      "[CV 4/5; 95/100] START max_depth=60, max_features=sqrt, min_samples_leaf=1, min_samples_split=10, n_estimators=1000\n",
      "[CV 4/5; 95/100] END max_depth=60, max_features=sqrt, min_samples_leaf=1, min_samples_split=10, n_estimators=1000;, score=(train=0.919, test=0.084) total time= 1.6min\n",
      "[CV 5/5; 95/100] START max_depth=60, max_features=sqrt, min_samples_leaf=1, min_samples_split=10, n_estimators=1000\n",
      "[CV 5/5; 95/100] END max_depth=60, max_features=sqrt, min_samples_leaf=1, min_samples_split=10, n_estimators=1000;, score=(train=0.935, test=0.083) total time= 1.6min\n",
      "[CV 1/5; 96/100] START max_depth=70, max_features=sqrt, min_samples_leaf=10, min_samples_split=2, n_estimators=600\n",
      "[CV 1/5; 96/100] END max_depth=70, max_features=sqrt, min_samples_leaf=10, min_samples_split=2, n_estimators=600;, score=(train=0.500, test=0.062) total time=  32.5s\n",
      "[CV 2/5; 96/100] START max_depth=70, max_features=sqrt, min_samples_leaf=10, min_samples_split=2, n_estimators=600\n",
      "[CV 2/5; 96/100] END max_depth=70, max_features=sqrt, min_samples_leaf=10, min_samples_split=2, n_estimators=600;, score=(train=0.525, test=0.069) total time=  32.8s\n",
      "[CV 3/5; 96/100] START max_depth=70, max_features=sqrt, min_samples_leaf=10, min_samples_split=2, n_estimators=600\n",
      "[CV 3/5; 96/100] END max_depth=70, max_features=sqrt, min_samples_leaf=10, min_samples_split=2, n_estimators=600;, score=(train=0.509, test=0.066) total time=  32.5s\n",
      "[CV 4/5; 96/100] START max_depth=70, max_features=sqrt, min_samples_leaf=10, min_samples_split=2, n_estimators=600\n",
      "[CV 4/5; 96/100] END max_depth=70, max_features=sqrt, min_samples_leaf=10, min_samples_split=2, n_estimators=600;, score=(train=0.519, test=0.064) total time=  32.9s\n",
      "[CV 5/5; 96/100] START max_depth=70, max_features=sqrt, min_samples_leaf=10, min_samples_split=2, n_estimators=600\n",
      "[CV 5/5; 96/100] END max_depth=70, max_features=sqrt, min_samples_leaf=10, min_samples_split=2, n_estimators=600;, score=(train=0.510, test=0.068) total time=  32.5s\n",
      "[CV 1/5; 97/100] START max_depth=90, max_features=auto, min_samples_leaf=1, min_samples_split=5, n_estimators=800\n"
     ]
    },
    {
     "name": "stderr",
     "output_type": "stream",
     "text": [
      "/Users/julianadaikawa/Documents/MBA/TCC/mba/lib/python3.10/site-packages/sklearn/ensemble/_forest.py:424: FutureWarning: `max_features='auto'` has been deprecated in 1.1 and will be removed in 1.3. To keep the past behaviour, explicitly set `max_features='sqrt'` or remove this parameter as it is also the default value for RandomForestClassifiers and ExtraTreesClassifiers.\n"
     ]
    },
    {
     "name": "stdout",
     "output_type": "stream",
     "text": [
      "[CV 1/5; 97/100] END max_depth=90, max_features=auto, min_samples_leaf=1, min_samples_split=5, n_estimators=800;, score=(train=0.947, test=0.081) total time= 1.7min\n",
      "[CV 2/5; 97/100] START max_depth=90, max_features=auto, min_samples_leaf=1, min_samples_split=5, n_estimators=800\n"
     ]
    },
    {
     "name": "stderr",
     "output_type": "stream",
     "text": [
      "/Users/julianadaikawa/Documents/MBA/TCC/mba/lib/python3.10/site-packages/sklearn/ensemble/_forest.py:424: FutureWarning: `max_features='auto'` has been deprecated in 1.1 and will be removed in 1.3. To keep the past behaviour, explicitly set `max_features='sqrt'` or remove this parameter as it is also the default value for RandomForestClassifiers and ExtraTreesClassifiers.\n"
     ]
    },
    {
     "name": "stdout",
     "output_type": "stream",
     "text": [
      "[CV 2/5; 97/100] END max_depth=90, max_features=auto, min_samples_leaf=1, min_samples_split=5, n_estimators=800;, score=(train=0.945, test=0.092) total time= 1.7min\n",
      "[CV 3/5; 97/100] START max_depth=90, max_features=auto, min_samples_leaf=1, min_samples_split=5, n_estimators=800\n"
     ]
    },
    {
     "name": "stderr",
     "output_type": "stream",
     "text": [
      "/Users/julianadaikawa/Documents/MBA/TCC/mba/lib/python3.10/site-packages/sklearn/ensemble/_forest.py:424: FutureWarning: `max_features='auto'` has been deprecated in 1.1 and will be removed in 1.3. To keep the past behaviour, explicitly set `max_features='sqrt'` or remove this parameter as it is also the default value for RandomForestClassifiers and ExtraTreesClassifiers.\n"
     ]
    },
    {
     "name": "stdout",
     "output_type": "stream",
     "text": [
      "[CV 3/5; 97/100] END max_depth=90, max_features=auto, min_samples_leaf=1, min_samples_split=5, n_estimators=800;, score=(train=0.945, test=0.096) total time= 1.7min\n",
      "[CV 4/5; 97/100] START max_depth=90, max_features=auto, min_samples_leaf=1, min_samples_split=5, n_estimators=800\n"
     ]
    },
    {
     "name": "stderr",
     "output_type": "stream",
     "text": [
      "/Users/julianadaikawa/Documents/MBA/TCC/mba/lib/python3.10/site-packages/sklearn/ensemble/_forest.py:424: FutureWarning: `max_features='auto'` has been deprecated in 1.1 and will be removed in 1.3. To keep the past behaviour, explicitly set `max_features='sqrt'` or remove this parameter as it is also the default value for RandomForestClassifiers and ExtraTreesClassifiers.\n"
     ]
    },
    {
     "name": "stdout",
     "output_type": "stream",
     "text": [
      "[CV 4/5; 97/100] END max_depth=90, max_features=auto, min_samples_leaf=1, min_samples_split=5, n_estimators=800;, score=(train=0.946, test=0.089) total time= 1.7min\n",
      "[CV 5/5; 97/100] START max_depth=90, max_features=auto, min_samples_leaf=1, min_samples_split=5, n_estimators=800\n"
     ]
    },
    {
     "name": "stderr",
     "output_type": "stream",
     "text": [
      "/Users/julianadaikawa/Documents/MBA/TCC/mba/lib/python3.10/site-packages/sklearn/ensemble/_forest.py:424: FutureWarning: `max_features='auto'` has been deprecated in 1.1 and will be removed in 1.3. To keep the past behaviour, explicitly set `max_features='sqrt'` or remove this parameter as it is also the default value for RandomForestClassifiers and ExtraTreesClassifiers.\n"
     ]
    },
    {
     "name": "stdout",
     "output_type": "stream",
     "text": [
      "[CV 5/5; 97/100] END max_depth=90, max_features=auto, min_samples_leaf=1, min_samples_split=5, n_estimators=800;, score=(train=0.945, test=0.089) total time= 1.7min\n",
      "[CV 1/5; 98/100] START max_depth=90, max_features=sqrt, min_samples_leaf=4, min_samples_split=10, n_estimators=300\n",
      "[CV 1/5; 98/100] END max_depth=90, max_features=sqrt, min_samples_leaf=4, min_samples_split=10, n_estimators=300;, score=(train=0.890, test=0.078) total time=  25.9s\n",
      "[CV 2/5; 98/100] START max_depth=90, max_features=sqrt, min_samples_leaf=4, min_samples_split=10, n_estimators=300\n",
      "[CV 2/5; 98/100] END max_depth=90, max_features=sqrt, min_samples_leaf=4, min_samples_split=10, n_estimators=300;, score=(train=0.890, test=0.088) total time=  26.1s\n",
      "[CV 3/5; 98/100] START max_depth=90, max_features=sqrt, min_samples_leaf=4, min_samples_split=10, n_estimators=300\n",
      "[CV 3/5; 98/100] END max_depth=90, max_features=sqrt, min_samples_leaf=4, min_samples_split=10, n_estimators=300;, score=(train=0.892, test=0.071) total time=  25.3s\n",
      "[CV 4/5; 98/100] START max_depth=90, max_features=sqrt, min_samples_leaf=4, min_samples_split=10, n_estimators=300\n",
      "[CV 4/5; 98/100] END max_depth=90, max_features=sqrt, min_samples_leaf=4, min_samples_split=10, n_estimators=300;, score=(train=0.886, test=0.083) total time=  26.1s\n",
      "[CV 5/5; 98/100] START max_depth=90, max_features=sqrt, min_samples_leaf=4, min_samples_split=10, n_estimators=300\n",
      "[CV 5/5; 98/100] END max_depth=90, max_features=sqrt, min_samples_leaf=4, min_samples_split=10, n_estimators=300;, score=(train=0.890, test=0.086) total time=  25.8s\n",
      "[CV 1/5; 99/100] START max_depth=110, max_features=sqrt, min_samples_leaf=2, min_samples_split=2, n_estimators=100\n",
      "[CV 1/5; 99/100] END max_depth=110, max_features=sqrt, min_samples_leaf=2, min_samples_split=2, n_estimators=100;, score=(train=0.942, test=0.087) total time=  12.1s\n",
      "[CV 2/5; 99/100] START max_depth=110, max_features=sqrt, min_samples_leaf=2, min_samples_split=2, n_estimators=100\n",
      "[CV 2/5; 99/100] END max_depth=110, max_features=sqrt, min_samples_leaf=2, min_samples_split=2, n_estimators=100;, score=(train=0.941, test=0.088) total time=  12.3s\n",
      "[CV 3/5; 99/100] START max_depth=110, max_features=sqrt, min_samples_leaf=2, min_samples_split=2, n_estimators=100\n",
      "[CV 3/5; 99/100] END max_depth=110, max_features=sqrt, min_samples_leaf=2, min_samples_split=2, n_estimators=100;, score=(train=0.941, test=0.080) total time=  12.3s\n",
      "[CV 4/5; 99/100] START max_depth=110, max_features=sqrt, min_samples_leaf=2, min_samples_split=2, n_estimators=100\n",
      "[CV 4/5; 99/100] END max_depth=110, max_features=sqrt, min_samples_leaf=2, min_samples_split=2, n_estimators=100;, score=(train=0.940, test=0.080) total time=  12.5s\n",
      "[CV 5/5; 99/100] START max_depth=110, max_features=sqrt, min_samples_leaf=2, min_samples_split=2, n_estimators=100\n",
      "[CV 5/5; 99/100] END max_depth=110, max_features=sqrt, min_samples_leaf=2, min_samples_split=2, n_estimators=100;, score=(train=0.942, test=0.097) total time=  12.3s\n",
      "[CV 1/5; 100/100] START max_depth=80, max_features=auto, min_samples_leaf=10, min_samples_split=5, n_estimators=400\n"
     ]
    },
    {
     "name": "stderr",
     "output_type": "stream",
     "text": [
      "/Users/julianadaikawa/Documents/MBA/TCC/mba/lib/python3.10/site-packages/sklearn/ensemble/_forest.py:424: FutureWarning: `max_features='auto'` has been deprecated in 1.1 and will be removed in 1.3. To keep the past behaviour, explicitly set `max_features='sqrt'` or remove this parameter as it is also the default value for RandomForestClassifiers and ExtraTreesClassifiers.\n"
     ]
    },
    {
     "name": "stdout",
     "output_type": "stream",
     "text": [
      "[CV 1/5; 100/100] END max_depth=80, max_features=auto, min_samples_leaf=10, min_samples_split=5, n_estimators=400;, score=(train=0.519, test=0.065) total time=  22.1s\n",
      "[CV 2/5; 100/100] START max_depth=80, max_features=auto, min_samples_leaf=10, min_samples_split=5, n_estimators=400\n"
     ]
    },
    {
     "name": "stderr",
     "output_type": "stream",
     "text": [
      "/Users/julianadaikawa/Documents/MBA/TCC/mba/lib/python3.10/site-packages/sklearn/ensemble/_forest.py:424: FutureWarning: `max_features='auto'` has been deprecated in 1.1 and will be removed in 1.3. To keep the past behaviour, explicitly set `max_features='sqrt'` or remove this parameter as it is also the default value for RandomForestClassifiers and ExtraTreesClassifiers.\n"
     ]
    },
    {
     "name": "stdout",
     "output_type": "stream",
     "text": [
      "[CV 2/5; 100/100] END max_depth=80, max_features=auto, min_samples_leaf=10, min_samples_split=5, n_estimators=400;, score=(train=0.523, test=0.071) total time=  22.2s\n",
      "[CV 3/5; 100/100] START max_depth=80, max_features=auto, min_samples_leaf=10, min_samples_split=5, n_estimators=400\n"
     ]
    },
    {
     "name": "stderr",
     "output_type": "stream",
     "text": [
      "/Users/julianadaikawa/Documents/MBA/TCC/mba/lib/python3.10/site-packages/sklearn/ensemble/_forest.py:424: FutureWarning: `max_features='auto'` has been deprecated in 1.1 and will be removed in 1.3. To keep the past behaviour, explicitly set `max_features='sqrt'` or remove this parameter as it is also the default value for RandomForestClassifiers and ExtraTreesClassifiers.\n"
     ]
    },
    {
     "name": "stdout",
     "output_type": "stream",
     "text": [
      "[CV 3/5; 100/100] END max_depth=80, max_features=auto, min_samples_leaf=10, min_samples_split=5, n_estimators=400;, score=(train=0.518, test=0.064) total time=  22.1s\n",
      "[CV 4/5; 100/100] START max_depth=80, max_features=auto, min_samples_leaf=10, min_samples_split=5, n_estimators=400\n"
     ]
    },
    {
     "name": "stderr",
     "output_type": "stream",
     "text": [
      "/Users/julianadaikawa/Documents/MBA/TCC/mba/lib/python3.10/site-packages/sklearn/ensemble/_forest.py:424: FutureWarning: `max_features='auto'` has been deprecated in 1.1 and will be removed in 1.3. To keep the past behaviour, explicitly set `max_features='sqrt'` or remove this parameter as it is also the default value for RandomForestClassifiers and ExtraTreesClassifiers.\n"
     ]
    },
    {
     "name": "stdout",
     "output_type": "stream",
     "text": [
      "[CV 4/5; 100/100] END max_depth=80, max_features=auto, min_samples_leaf=10, min_samples_split=5, n_estimators=400;, score=(train=0.534, test=0.061) total time=  22.1s\n",
      "[CV 5/5; 100/100] START max_depth=80, max_features=auto, min_samples_leaf=10, min_samples_split=5, n_estimators=400\n"
     ]
    },
    {
     "name": "stderr",
     "output_type": "stream",
     "text": [
      "/Users/julianadaikawa/Documents/MBA/TCC/mba/lib/python3.10/site-packages/sklearn/ensemble/_forest.py:424: FutureWarning: `max_features='auto'` has been deprecated in 1.1 and will be removed in 1.3. To keep the past behaviour, explicitly set `max_features='sqrt'` or remove this parameter as it is also the default value for RandomForestClassifiers and ExtraTreesClassifiers.\n"
     ]
    },
    {
     "name": "stdout",
     "output_type": "stream",
     "text": [
      "[CV 5/5; 100/100] END max_depth=80, max_features=auto, min_samples_leaf=10, min_samples_split=5, n_estimators=400;, score=(train=0.518, test=0.072) total time=  22.4s\n"
     ]
    }
   ],
   "source": [
    "random_grid = {\n",
    "    'n_estimators': [int(x) for x in np.linspace(start = 100, stop = 1000, num = 10)],\n",
    "    'max_depth': [int(x) for x in np.linspace(10, 110, num = 11)],\n",
    "    'max_features': ['auto', 'sqrt'],\n",
    "    'min_samples_split': [2, 5, 10],\n",
    "    'min_samples_leaf': [1, 2, 4, 10]\n",
    "    }\n",
    "clf = RandomizedSearchCV(RandomForestClassifier(), random_grid, random_state=seed, n_iter=100, cv=5, verbose=10, return_train_score=True, scoring='f1_macro')\n",
    "clf.fit(X_train,y_train)\n",
    "clf.best_params_\n",
    "clf_final = RandomForestClassifier(**clf.best_params_).fit(X_train,y_train)"
   ]
  },
  {
   "cell_type": "code",
   "execution_count": 40,
   "metadata": {},
   "outputs": [
    {
     "data": {
      "text/plain": [
       "{'n_estimators': 300,\n",
       " 'min_samples_split': 10,\n",
       " 'min_samples_leaf': 2,\n",
       " 'max_features': 'sqrt',\n",
       " 'max_depth': 100}"
      ]
     },
     "execution_count": 40,
     "metadata": {},
     "output_type": "execute_result"
    }
   ],
   "source": [
    "clf.best_params_"
   ]
  },
  {
   "cell_type": "code",
   "execution_count": 41,
   "metadata": {},
   "outputs": [],
   "source": [
    "pred_train_rf = clf_final.predict(X_train)\n",
    "pred_test_rf = clf_final.predict(X_test)"
   ]
  },
  {
   "cell_type": "code",
   "execution_count": 42,
   "metadata": {},
   "outputs": [
    {
     "name": "stderr",
     "output_type": "stream",
     "text": [
      "/Users/julianadaikawa/Documents/MBA/TCC/mba/lib/python3.10/site-packages/sklearn/metrics/_classification.py:1344: UndefinedMetricWarning: Precision and F-score are ill-defined and being set to 0.0 in labels with no predicted samples. Use `zero_division` parameter to control this behavior.\n",
      "/Users/julianadaikawa/Documents/MBA/TCC/mba/lib/python3.10/site-packages/sklearn/metrics/_classification.py:1344: UndefinedMetricWarning: Precision and F-score are ill-defined and being set to 0.0 in labels with no predicted samples. Use `zero_division` parameter to control this behavior.\n",
      "/Users/julianadaikawa/Documents/MBA/TCC/mba/lib/python3.10/site-packages/sklearn/metrics/_classification.py:1344: UndefinedMetricWarning: Precision and F-score are ill-defined and being set to 0.0 in labels with no predicted samples. Use `zero_division` parameter to control this behavior.\n"
     ]
    },
    {
     "data": {
      "text/html": [
       "<div>\n",
       "<style scoped>\n",
       "    .dataframe tbody tr th:only-of-type {\n",
       "        vertical-align: middle;\n",
       "    }\n",
       "\n",
       "    .dataframe tbody tr th {\n",
       "        vertical-align: top;\n",
       "    }\n",
       "\n",
       "    .dataframe thead th {\n",
       "        text-align: right;\n",
       "    }\n",
       "</style>\n",
       "<table border=\"1\" class=\"dataframe\">\n",
       "  <thead>\n",
       "    <tr style=\"text-align: right;\">\n",
       "      <th></th>\n",
       "      <th>precision</th>\n",
       "      <th>recall</th>\n",
       "      <th>f1-score</th>\n",
       "      <th>support</th>\n",
       "    </tr>\n",
       "  </thead>\n",
       "  <tbody>\n",
       "    <tr>\n",
       "      <th>Songs about war</th>\n",
       "      <td>0.292308</td>\n",
       "      <td>0.678571</td>\n",
       "      <td>0.408602</td>\n",
       "      <td>28.000000</td>\n",
       "    </tr>\n",
       "    <tr>\n",
       "      <th>Songs about the environment</th>\n",
       "      <td>0.600000</td>\n",
       "      <td>0.250000</td>\n",
       "      <td>0.352941</td>\n",
       "      <td>12.000000</td>\n",
       "    </tr>\n",
       "    <tr>\n",
       "      <th>Songs about a mother or father</th>\n",
       "      <td>0.250000</td>\n",
       "      <td>0.366667</td>\n",
       "      <td>0.297297</td>\n",
       "      <td>30.000000</td>\n",
       "    </tr>\n",
       "    <tr>\n",
       "      <th>Songs about drugs</th>\n",
       "      <td>0.258065</td>\n",
       "      <td>0.258065</td>\n",
       "      <td>0.258065</td>\n",
       "      <td>31.000000</td>\n",
       "    </tr>\n",
       "    <tr>\n",
       "      <th>Songs about being free</th>\n",
       "      <td>0.375000</td>\n",
       "      <td>0.176471</td>\n",
       "      <td>0.240000</td>\n",
       "      <td>17.000000</td>\n",
       "    </tr>\n",
       "    <tr>\n",
       "      <th>Songs about sex</th>\n",
       "      <td>0.143750</td>\n",
       "      <td>0.522727</td>\n",
       "      <td>0.225490</td>\n",
       "      <td>44.000000</td>\n",
       "    </tr>\n",
       "    <tr>\n",
       "      <th>Songs about spirituality or religion</th>\n",
       "      <td>0.151786</td>\n",
       "      <td>0.404762</td>\n",
       "      <td>0.220779</td>\n",
       "      <td>42.000000</td>\n",
       "    </tr>\n",
       "    <tr>\n",
       "      <th>Songs with political statements</th>\n",
       "      <td>0.184211</td>\n",
       "      <td>0.194444</td>\n",
       "      <td>0.189189</td>\n",
       "      <td>36.000000</td>\n",
       "    </tr>\n",
       "    <tr>\n",
       "      <th>Songs about clubbing or a night out</th>\n",
       "      <td>0.187500</td>\n",
       "      <td>0.187500</td>\n",
       "      <td>0.187500</td>\n",
       "      <td>16.000000</td>\n",
       "    </tr>\n",
       "    <tr>\n",
       "      <th>Songs about racism or discrimination</th>\n",
       "      <td>0.333333</td>\n",
       "      <td>0.125000</td>\n",
       "      <td>0.181818</td>\n",
       "      <td>16.000000</td>\n",
       "    </tr>\n",
       "    <tr>\n",
       "      <th>Songs about heartache</th>\n",
       "      <td>0.104000</td>\n",
       "      <td>0.650000</td>\n",
       "      <td>0.179310</td>\n",
       "      <td>80.000000</td>\n",
       "    </tr>\n",
       "    <tr>\n",
       "      <th>Songs about loneliness or isolation</th>\n",
       "      <td>0.238095</td>\n",
       "      <td>0.121951</td>\n",
       "      <td>0.161290</td>\n",
       "      <td>41.000000</td>\n",
       "    </tr>\n",
       "    <tr>\n",
       "      <th>Songs about alcohol</th>\n",
       "      <td>0.114286</td>\n",
       "      <td>0.235294</td>\n",
       "      <td>0.153846</td>\n",
       "      <td>17.000000</td>\n",
       "    </tr>\n",
       "    <tr>\n",
       "      <th>Songs about traveling</th>\n",
       "      <td>0.500000</td>\n",
       "      <td>0.083333</td>\n",
       "      <td>0.142857</td>\n",
       "      <td>24.000000</td>\n",
       "    </tr>\n",
       "    <tr>\n",
       "      <th>accuracy</th>\n",
       "      <td>0.133858</td>\n",
       "      <td>0.133858</td>\n",
       "      <td>0.133858</td>\n",
       "      <td>0.133858</td>\n",
       "    </tr>\n",
       "    <tr>\n",
       "      <th>Songs about friendship</th>\n",
       "      <td>0.166667</td>\n",
       "      <td>0.111111</td>\n",
       "      <td>0.133333</td>\n",
       "      <td>18.000000</td>\n",
       "    </tr>\n",
       "    <tr>\n",
       "      <th>Songs about magic, witchcraft, UFOs or the occult</th>\n",
       "      <td>0.250000</td>\n",
       "      <td>0.083333</td>\n",
       "      <td>0.125000</td>\n",
       "      <td>12.000000</td>\n",
       "    </tr>\n",
       "    <tr>\n",
       "      <th>Songs about music</th>\n",
       "      <td>0.133333</td>\n",
       "      <td>0.111111</td>\n",
       "      <td>0.121212</td>\n",
       "      <td>18.000000</td>\n",
       "    </tr>\n",
       "    <tr>\n",
       "      <th>Songs about dealing with fame</th>\n",
       "      <td>0.166667</td>\n",
       "      <td>0.080000</td>\n",
       "      <td>0.108108</td>\n",
       "      <td>25.000000</td>\n",
       "    </tr>\n",
       "    <tr>\n",
       "      <th>Songs about death</th>\n",
       "      <td>0.120000</td>\n",
       "      <td>0.096774</td>\n",
       "      <td>0.107143</td>\n",
       "      <td>31.000000</td>\n",
       "    </tr>\n",
       "    <tr>\n",
       "      <th>Songs about change</th>\n",
       "      <td>0.111111</td>\n",
       "      <td>0.090909</td>\n",
       "      <td>0.100000</td>\n",
       "      <td>22.000000</td>\n",
       "    </tr>\n",
       "    <tr>\n",
       "      <th>Songs written for a girl</th>\n",
       "      <td>0.086957</td>\n",
       "      <td>0.115385</td>\n",
       "      <td>0.099174</td>\n",
       "      <td>52.000000</td>\n",
       "    </tr>\n",
       "    <tr>\n",
       "      <th>weighted avg</th>\n",
       "      <td>0.115675</td>\n",
       "      <td>0.133858</td>\n",
       "      <td>0.092374</td>\n",
       "      <td>1397.000000</td>\n",
       "    </tr>\n",
       "    <tr>\n",
       "      <th>Songs about joy and happiness</th>\n",
       "      <td>0.166667</td>\n",
       "      <td>0.062500</td>\n",
       "      <td>0.090909</td>\n",
       "      <td>16.000000</td>\n",
       "    </tr>\n",
       "    <tr>\n",
       "      <th>macro avg</th>\n",
       "      <td>0.108842</td>\n",
       "      <td>0.093983</td>\n",
       "      <td>0.079422</td>\n",
       "      <td>1397.000000</td>\n",
       "    </tr>\n",
       "    <tr>\n",
       "      <th>Songs about an ex-girlfriend or ex-boyfriend</th>\n",
       "      <td>0.093750</td>\n",
       "      <td>0.056604</td>\n",
       "      <td>0.070588</td>\n",
       "      <td>53.000000</td>\n",
       "    </tr>\n",
       "    <tr>\n",
       "      <th>Songs about places</th>\n",
       "      <td>0.074074</td>\n",
       "      <td>0.066667</td>\n",
       "      <td>0.070175</td>\n",
       "      <td>30.000000</td>\n",
       "    </tr>\n",
       "    <tr>\n",
       "      <th>Songs about specific musicians</th>\n",
       "      <td>0.166667</td>\n",
       "      <td>0.041667</td>\n",
       "      <td>0.066667</td>\n",
       "      <td>24.000000</td>\n",
       "    </tr>\n",
       "    <tr>\n",
       "      <th>Songs about desire or longing</th>\n",
       "      <td>0.250000</td>\n",
       "      <td>0.033333</td>\n",
       "      <td>0.058824</td>\n",
       "      <td>30.000000</td>\n",
       "    </tr>\n",
       "    <tr>\n",
       "      <th>Songs about confidence or courage</th>\n",
       "      <td>0.500000</td>\n",
       "      <td>0.028571</td>\n",
       "      <td>0.054054</td>\n",
       "      <td>35.000000</td>\n",
       "    </tr>\n",
       "    <tr>\n",
       "      <th>Songs about events in the news</th>\n",
       "      <td>0.076923</td>\n",
       "      <td>0.030303</td>\n",
       "      <td>0.043478</td>\n",
       "      <td>33.000000</td>\n",
       "    </tr>\n",
       "    <tr>\n",
       "      <th>Songs about cheating</th>\n",
       "      <td>0.000000</td>\n",
       "      <td>0.000000</td>\n",
       "      <td>0.000000</td>\n",
       "      <td>31.000000</td>\n",
       "    </tr>\n",
       "    <tr>\n",
       "      <th>Songs about unhealthy relationships</th>\n",
       "      <td>0.000000</td>\n",
       "      <td>0.000000</td>\n",
       "      <td>0.000000</td>\n",
       "      <td>19.000000</td>\n",
       "    </tr>\n",
       "    <tr>\n",
       "      <th>Songs about unrequited love</th>\n",
       "      <td>0.000000</td>\n",
       "      <td>0.000000</td>\n",
       "      <td>0.000000</td>\n",
       "      <td>17.000000</td>\n",
       "    </tr>\n",
       "    <tr>\n",
       "      <th>Songs about being young and confused</th>\n",
       "      <td>0.000000</td>\n",
       "      <td>0.000000</td>\n",
       "      <td>0.000000</td>\n",
       "      <td>10.000000</td>\n",
       "    </tr>\n",
       "    <tr>\n",
       "      <th>Songs that are tributes to friends who died</th>\n",
       "      <td>0.000000</td>\n",
       "      <td>0.000000</td>\n",
       "      <td>0.000000</td>\n",
       "      <td>38.000000</td>\n",
       "    </tr>\n",
       "    <tr>\n",
       "      <th>Songs of or about the Northern Soul movement</th>\n",
       "      <td>0.000000</td>\n",
       "      <td>0.000000</td>\n",
       "      <td>0.000000</td>\n",
       "      <td>2.000000</td>\n",
       "    </tr>\n",
       "    <tr>\n",
       "      <th>Songs that are autobiographical</th>\n",
       "      <td>0.000000</td>\n",
       "      <td>0.000000</td>\n",
       "      <td>0.000000</td>\n",
       "      <td>30.000000</td>\n",
       "    </tr>\n",
       "    <tr>\n",
       "      <th>Songs about childhood</th>\n",
       "      <td>0.000000</td>\n",
       "      <td>0.000000</td>\n",
       "      <td>0.000000</td>\n",
       "      <td>13.000000</td>\n",
       "    </tr>\n",
       "    <tr>\n",
       "      <th>Songs about being there for someone</th>\n",
       "      <td>0.000000</td>\n",
       "      <td>0.000000</td>\n",
       "      <td>0.000000</td>\n",
       "      <td>13.000000</td>\n",
       "    </tr>\n",
       "    <tr>\n",
       "      <th>Songs about being away from loved ones</th>\n",
       "      <td>0.000000</td>\n",
       "      <td>0.000000</td>\n",
       "      <td>0.000000</td>\n",
       "      <td>20.000000</td>\n",
       "    </tr>\n",
       "    <tr>\n",
       "      <th>Songs written for a son or daughter</th>\n",
       "      <td>0.000000</td>\n",
       "      <td>0.000000</td>\n",
       "      <td>0.000000</td>\n",
       "      <td>21.000000</td>\n",
       "    </tr>\n",
       "    <tr>\n",
       "      <th>Songs about the music industry</th>\n",
       "      <td>0.000000</td>\n",
       "      <td>0.000000</td>\n",
       "      <td>0.000000</td>\n",
       "      <td>15.000000</td>\n",
       "    </tr>\n",
       "    <tr>\n",
       "      <th>Songs about getting away</th>\n",
       "      <td>0.000000</td>\n",
       "      <td>0.000000</td>\n",
       "      <td>0.000000</td>\n",
       "      <td>16.000000</td>\n",
       "    </tr>\n",
       "    <tr>\n",
       "      <th>Songs about the dangers of materialism</th>\n",
       "      <td>0.000000</td>\n",
       "      <td>0.000000</td>\n",
       "      <td>0.000000</td>\n",
       "      <td>14.000000</td>\n",
       "    </tr>\n",
       "    <tr>\n",
       "      <th>Songs about computers or technology</th>\n",
       "      <td>0.000000</td>\n",
       "      <td>0.000000</td>\n",
       "      <td>0.000000</td>\n",
       "      <td>12.000000</td>\n",
       "    </tr>\n",
       "    <tr>\n",
       "      <th>Songs about getting older</th>\n",
       "      <td>0.000000</td>\n",
       "      <td>0.000000</td>\n",
       "      <td>0.000000</td>\n",
       "      <td>24.000000</td>\n",
       "    </tr>\n",
       "    <tr>\n",
       "      <th>Songs about radio stations</th>\n",
       "      <td>0.000000</td>\n",
       "      <td>0.000000</td>\n",
       "      <td>0.000000</td>\n",
       "      <td>4.000000</td>\n",
       "    </tr>\n",
       "    <tr>\n",
       "      <th>Songs about dependency or addiction</th>\n",
       "      <td>0.000000</td>\n",
       "      <td>0.000000</td>\n",
       "      <td>0.000000</td>\n",
       "      <td>18.000000</td>\n",
       "    </tr>\n",
       "    <tr>\n",
       "      <th>Songs about political figures</th>\n",
       "      <td>0.000000</td>\n",
       "      <td>0.000000</td>\n",
       "      <td>0.000000</td>\n",
       "      <td>25.000000</td>\n",
       "    </tr>\n",
       "    <tr>\n",
       "      <th>Songs about perseverance</th>\n",
       "      <td>0.000000</td>\n",
       "      <td>0.000000</td>\n",
       "      <td>0.000000</td>\n",
       "      <td>24.000000</td>\n",
       "    </tr>\n",
       "    <tr>\n",
       "      <th>Songs about people who committed crimes</th>\n",
       "      <td>0.000000</td>\n",
       "      <td>0.000000</td>\n",
       "      <td>0.000000</td>\n",
       "      <td>18.000000</td>\n",
       "    </tr>\n",
       "    <tr>\n",
       "      <th>Songs about depression</th>\n",
       "      <td>0.000000</td>\n",
       "      <td>0.000000</td>\n",
       "      <td>0.000000</td>\n",
       "      <td>23.000000</td>\n",
       "    </tr>\n",
       "    <tr>\n",
       "      <th>Songs about medical conditions</th>\n",
       "      <td>0.000000</td>\n",
       "      <td>0.000000</td>\n",
       "      <td>0.000000</td>\n",
       "      <td>20.000000</td>\n",
       "    </tr>\n",
       "    <tr>\n",
       "      <th>Songs about marital problems or divorce</th>\n",
       "      <td>0.000000</td>\n",
       "      <td>0.000000</td>\n",
       "      <td>0.000000</td>\n",
       "      <td>20.000000</td>\n",
       "    </tr>\n",
       "    <tr>\n",
       "      <th>Songs about individuality</th>\n",
       "      <td>0.000000</td>\n",
       "      <td>0.000000</td>\n",
       "      <td>0.000000</td>\n",
       "      <td>22.000000</td>\n",
       "    </tr>\n",
       "    <tr>\n",
       "      <th>Songs about historical events</th>\n",
       "      <td>0.000000</td>\n",
       "      <td>0.000000</td>\n",
       "      <td>0.000000</td>\n",
       "      <td>19.000000</td>\n",
       "    </tr>\n",
       "    <tr>\n",
       "      <th>Songs about finding love</th>\n",
       "      <td>0.000000</td>\n",
       "      <td>0.000000</td>\n",
       "      <td>0.000000</td>\n",
       "      <td>24.000000</td>\n",
       "    </tr>\n",
       "    <tr>\n",
       "      <th>Songs about a breakup</th>\n",
       "      <td>0.000000</td>\n",
       "      <td>0.000000</td>\n",
       "      <td>0.000000</td>\n",
       "      <td>52.000000</td>\n",
       "    </tr>\n",
       "  </tbody>\n",
       "</table>\n",
       "</div>"
      ],
      "text/plain": [
       "                                                   precision    recall  \\\n",
       "Songs about war                                     0.292308  0.678571   \n",
       "Songs about the environment                         0.600000  0.250000   \n",
       "Songs about a mother or father                      0.250000  0.366667   \n",
       "Songs about drugs                                   0.258065  0.258065   \n",
       "Songs about being free                              0.375000  0.176471   \n",
       "Songs about sex                                     0.143750  0.522727   \n",
       "Songs about spirituality or religion                0.151786  0.404762   \n",
       "Songs with political statements                     0.184211  0.194444   \n",
       "Songs about clubbing or a night out                 0.187500  0.187500   \n",
       "Songs about racism or discrimination                0.333333  0.125000   \n",
       "Songs about heartache                               0.104000  0.650000   \n",
       "Songs about loneliness or isolation                 0.238095  0.121951   \n",
       "Songs about alcohol                                 0.114286  0.235294   \n",
       "Songs about traveling                               0.500000  0.083333   \n",
       "accuracy                                            0.133858  0.133858   \n",
       "Songs about friendship                              0.166667  0.111111   \n",
       "Songs about magic, witchcraft, UFOs or the occult   0.250000  0.083333   \n",
       "Songs about music                                   0.133333  0.111111   \n",
       "Songs about dealing with fame                       0.166667  0.080000   \n",
       "Songs about death                                   0.120000  0.096774   \n",
       "Songs about change                                  0.111111  0.090909   \n",
       "Songs written for a girl                            0.086957  0.115385   \n",
       "weighted avg                                        0.115675  0.133858   \n",
       "Songs about joy and happiness                       0.166667  0.062500   \n",
       "macro avg                                           0.108842  0.093983   \n",
       "Songs about an ex-girlfriend or ex-boyfriend        0.093750  0.056604   \n",
       "Songs about places                                  0.074074  0.066667   \n",
       "Songs about specific musicians                      0.166667  0.041667   \n",
       "Songs about desire or longing                       0.250000  0.033333   \n",
       "Songs about confidence or courage                   0.500000  0.028571   \n",
       "Songs about events in the news                      0.076923  0.030303   \n",
       "Songs about cheating                                0.000000  0.000000   \n",
       "Songs about unhealthy relationships                 0.000000  0.000000   \n",
       "Songs about unrequited love                         0.000000  0.000000   \n",
       "Songs about being young and confused                0.000000  0.000000   \n",
       "Songs that are tributes to friends who died         0.000000  0.000000   \n",
       "Songs of or about the Northern Soul movement        0.000000  0.000000   \n",
       "Songs that are autobiographical                     0.000000  0.000000   \n",
       "Songs about childhood                               0.000000  0.000000   \n",
       "Songs about being there for someone                 0.000000  0.000000   \n",
       "Songs about being away from loved ones              0.000000  0.000000   \n",
       "Songs written for a son or daughter                 0.000000  0.000000   \n",
       "Songs about the music industry                      0.000000  0.000000   \n",
       "Songs about getting away                            0.000000  0.000000   \n",
       "Songs about the dangers of materialism              0.000000  0.000000   \n",
       "Songs about computers or technology                 0.000000  0.000000   \n",
       "Songs about getting older                           0.000000  0.000000   \n",
       "Songs about radio stations                          0.000000  0.000000   \n",
       "Songs about dependency or addiction                 0.000000  0.000000   \n",
       "Songs about political figures                       0.000000  0.000000   \n",
       "Songs about perseverance                            0.000000  0.000000   \n",
       "Songs about people who committed crimes             0.000000  0.000000   \n",
       "Songs about depression                              0.000000  0.000000   \n",
       "Songs about medical conditions                      0.000000  0.000000   \n",
       "Songs about marital problems or divorce             0.000000  0.000000   \n",
       "Songs about individuality                           0.000000  0.000000   \n",
       "Songs about historical events                       0.000000  0.000000   \n",
       "Songs about finding love                            0.000000  0.000000   \n",
       "Songs about a breakup                               0.000000  0.000000   \n",
       "\n",
       "                                                   f1-score      support  \n",
       "Songs about war                                    0.408602    28.000000  \n",
       "Songs about the environment                        0.352941    12.000000  \n",
       "Songs about a mother or father                     0.297297    30.000000  \n",
       "Songs about drugs                                  0.258065    31.000000  \n",
       "Songs about being free                             0.240000    17.000000  \n",
       "Songs about sex                                    0.225490    44.000000  \n",
       "Songs about spirituality or religion               0.220779    42.000000  \n",
       "Songs with political statements                    0.189189    36.000000  \n",
       "Songs about clubbing or a night out                0.187500    16.000000  \n",
       "Songs about racism or discrimination               0.181818    16.000000  \n",
       "Songs about heartache                              0.179310    80.000000  \n",
       "Songs about loneliness or isolation                0.161290    41.000000  \n",
       "Songs about alcohol                                0.153846    17.000000  \n",
       "Songs about traveling                              0.142857    24.000000  \n",
       "accuracy                                           0.133858     0.133858  \n",
       "Songs about friendship                             0.133333    18.000000  \n",
       "Songs about magic, witchcraft, UFOs or the occult  0.125000    12.000000  \n",
       "Songs about music                                  0.121212    18.000000  \n",
       "Songs about dealing with fame                      0.108108    25.000000  \n",
       "Songs about death                                  0.107143    31.000000  \n",
       "Songs about change                                 0.100000    22.000000  \n",
       "Songs written for a girl                           0.099174    52.000000  \n",
       "weighted avg                                       0.092374  1397.000000  \n",
       "Songs about joy and happiness                      0.090909    16.000000  \n",
       "macro avg                                          0.079422  1397.000000  \n",
       "Songs about an ex-girlfriend or ex-boyfriend       0.070588    53.000000  \n",
       "Songs about places                                 0.070175    30.000000  \n",
       "Songs about specific musicians                     0.066667    24.000000  \n",
       "Songs about desire or longing                      0.058824    30.000000  \n",
       "Songs about confidence or courage                  0.054054    35.000000  \n",
       "Songs about events in the news                     0.043478    33.000000  \n",
       "Songs about cheating                               0.000000    31.000000  \n",
       "Songs about unhealthy relationships                0.000000    19.000000  \n",
       "Songs about unrequited love                        0.000000    17.000000  \n",
       "Songs about being young and confused               0.000000    10.000000  \n",
       "Songs that are tributes to friends who died        0.000000    38.000000  \n",
       "Songs of or about the Northern Soul movement       0.000000     2.000000  \n",
       "Songs that are autobiographical                    0.000000    30.000000  \n",
       "Songs about childhood                              0.000000    13.000000  \n",
       "Songs about being there for someone                0.000000    13.000000  \n",
       "Songs about being away from loved ones             0.000000    20.000000  \n",
       "Songs written for a son or daughter                0.000000    21.000000  \n",
       "Songs about the music industry                     0.000000    15.000000  \n",
       "Songs about getting away                           0.000000    16.000000  \n",
       "Songs about the dangers of materialism             0.000000    14.000000  \n",
       "Songs about computers or technology                0.000000    12.000000  \n",
       "Songs about getting older                          0.000000    24.000000  \n",
       "Songs about radio stations                         0.000000     4.000000  \n",
       "Songs about dependency or addiction                0.000000    18.000000  \n",
       "Songs about political figures                      0.000000    25.000000  \n",
       "Songs about perseverance                           0.000000    24.000000  \n",
       "Songs about people who committed crimes            0.000000    18.000000  \n",
       "Songs about depression                             0.000000    23.000000  \n",
       "Songs about medical conditions                     0.000000    20.000000  \n",
       "Songs about marital problems or divorce            0.000000    20.000000  \n",
       "Songs about individuality                          0.000000    22.000000  \n",
       "Songs about historical events                      0.000000    19.000000  \n",
       "Songs about finding love                           0.000000    24.000000  \n",
       "Songs about a breakup                              0.000000    52.000000  "
      ]
     },
     "execution_count": 42,
     "metadata": {},
     "output_type": "execute_result"
    }
   ],
   "source": [
    "classification_report_df_RF = pd.DataFrame(classification_report([id_to_topic[i] for i in y_test], \n",
    "                                                              [id_to_topic[i] for i in pred_test_rf], \n",
    "                                                              output_dict=True)).transpose()\n",
    "classification_report_df_RF.sort_values('f1-score', ascending=False)"
   ]
  },
  {
   "cell_type": "code",
   "execution_count": 43,
   "metadata": {},
   "outputs": [
    {
     "data": {
      "text/html": [
       "<div>\n",
       "<style scoped>\n",
       "    .dataframe tbody tr th:only-of-type {\n",
       "        vertical-align: middle;\n",
       "    }\n",
       "\n",
       "    .dataframe tbody tr th {\n",
       "        vertical-align: top;\n",
       "    }\n",
       "\n",
       "    .dataframe thead th {\n",
       "        text-align: right;\n",
       "    }\n",
       "</style>\n",
       "<table border=\"1\" class=\"dataframe\">\n",
       "  <thead>\n",
       "    <tr style=\"text-align: right;\">\n",
       "      <th></th>\n",
       "      <th>precision</th>\n",
       "      <th>recall</th>\n",
       "      <th>f1-score</th>\n",
       "      <th>support</th>\n",
       "    </tr>\n",
       "  </thead>\n",
       "  <tbody>\n",
       "    <tr>\n",
       "      <th>Songs of or about the Northern Soul movement</th>\n",
       "      <td>1.000000</td>\n",
       "      <td>1.000000</td>\n",
       "      <td>1.000000</td>\n",
       "      <td>3.000000</td>\n",
       "    </tr>\n",
       "    <tr>\n",
       "      <th>Songs about joy and happiness</th>\n",
       "      <td>0.962162</td>\n",
       "      <td>0.978022</td>\n",
       "      <td>0.970027</td>\n",
       "      <td>182.000000</td>\n",
       "    </tr>\n",
       "    <tr>\n",
       "      <th>Songs about confidence or courage</th>\n",
       "      <td>0.971429</td>\n",
       "      <td>0.953271</td>\n",
       "      <td>0.962264</td>\n",
       "      <td>214.000000</td>\n",
       "    </tr>\n",
       "    <tr>\n",
       "      <th>Songs about unrequited love</th>\n",
       "      <td>0.981928</td>\n",
       "      <td>0.942197</td>\n",
       "      <td>0.961652</td>\n",
       "      <td>173.000000</td>\n",
       "    </tr>\n",
       "    <tr>\n",
       "      <th>Songs about individuality</th>\n",
       "      <td>0.964072</td>\n",
       "      <td>0.958333</td>\n",
       "      <td>0.961194</td>\n",
       "      <td>168.000000</td>\n",
       "    </tr>\n",
       "    <tr>\n",
       "      <th>Songs about magic, witchcraft, UFOs or the occult</th>\n",
       "      <td>0.969697</td>\n",
       "      <td>0.950495</td>\n",
       "      <td>0.960000</td>\n",
       "      <td>101.000000</td>\n",
       "    </tr>\n",
       "    <tr>\n",
       "      <th>Songs about finding love</th>\n",
       "      <td>0.990909</td>\n",
       "      <td>0.927660</td>\n",
       "      <td>0.958242</td>\n",
       "      <td>235.000000</td>\n",
       "    </tr>\n",
       "    <tr>\n",
       "      <th>Songs about perseverance</th>\n",
       "      <td>0.973684</td>\n",
       "      <td>0.934343</td>\n",
       "      <td>0.953608</td>\n",
       "      <td>198.000000</td>\n",
       "    </tr>\n",
       "    <tr>\n",
       "      <th>Songs about sex</th>\n",
       "      <td>0.915114</td>\n",
       "      <td>0.993258</td>\n",
       "      <td>0.952586</td>\n",
       "      <td>445.000000</td>\n",
       "    </tr>\n",
       "    <tr>\n",
       "      <th>Songs with political statements</th>\n",
       "      <td>0.929054</td>\n",
       "      <td>0.975177</td>\n",
       "      <td>0.951557</td>\n",
       "      <td>282.000000</td>\n",
       "    </tr>\n",
       "    <tr>\n",
       "      <th>Songs about the dangers of materialism</th>\n",
       "      <td>1.000000</td>\n",
       "      <td>0.904255</td>\n",
       "      <td>0.949721</td>\n",
       "      <td>94.000000</td>\n",
       "    </tr>\n",
       "    <tr>\n",
       "      <th>Songs about radio stations</th>\n",
       "      <td>1.000000</td>\n",
       "      <td>0.903226</td>\n",
       "      <td>0.949153</td>\n",
       "      <td>31.000000</td>\n",
       "    </tr>\n",
       "    <tr>\n",
       "      <th>Songs about an ex-girlfriend or ex-boyfriend</th>\n",
       "      <td>0.927273</td>\n",
       "      <td>0.971429</td>\n",
       "      <td>0.948837</td>\n",
       "      <td>420.000000</td>\n",
       "    </tr>\n",
       "    <tr>\n",
       "      <th>Songs about cheating</th>\n",
       "      <td>0.966102</td>\n",
       "      <td>0.930612</td>\n",
       "      <td>0.948025</td>\n",
       "      <td>245.000000</td>\n",
       "    </tr>\n",
       "    <tr>\n",
       "      <th>Songs about music</th>\n",
       "      <td>0.956938</td>\n",
       "      <td>0.938967</td>\n",
       "      <td>0.947867</td>\n",
       "      <td>213.000000</td>\n",
       "    </tr>\n",
       "    <tr>\n",
       "      <th>Songs about the music industry</th>\n",
       "      <td>0.966102</td>\n",
       "      <td>0.926829</td>\n",
       "      <td>0.946058</td>\n",
       "      <td>123.000000</td>\n",
       "    </tr>\n",
       "    <tr>\n",
       "      <th>Songs about spirituality or religion</th>\n",
       "      <td>0.910448</td>\n",
       "      <td>0.983871</td>\n",
       "      <td>0.945736</td>\n",
       "      <td>434.000000</td>\n",
       "    </tr>\n",
       "    <tr>\n",
       "      <th>Songs about the environment</th>\n",
       "      <td>0.982759</td>\n",
       "      <td>0.904762</td>\n",
       "      <td>0.942149</td>\n",
       "      <td>126.000000</td>\n",
       "    </tr>\n",
       "    <tr>\n",
       "      <th>Songs about getting older</th>\n",
       "      <td>0.977528</td>\n",
       "      <td>0.906250</td>\n",
       "      <td>0.940541</td>\n",
       "      <td>192.000000</td>\n",
       "    </tr>\n",
       "    <tr>\n",
       "      <th>Songs about change</th>\n",
       "      <td>0.939227</td>\n",
       "      <td>0.939227</td>\n",
       "      <td>0.939227</td>\n",
       "      <td>181.000000</td>\n",
       "    </tr>\n",
       "    <tr>\n",
       "      <th>Songs about historical events</th>\n",
       "      <td>0.944444</td>\n",
       "      <td>0.934066</td>\n",
       "      <td>0.939227</td>\n",
       "      <td>182.000000</td>\n",
       "    </tr>\n",
       "    <tr>\n",
       "      <th>Songs about computers or technology</th>\n",
       "      <td>0.968504</td>\n",
       "      <td>0.911111</td>\n",
       "      <td>0.938931</td>\n",
       "      <td>135.000000</td>\n",
       "    </tr>\n",
       "    <tr>\n",
       "      <th>Songs about places</th>\n",
       "      <td>0.924731</td>\n",
       "      <td>0.948529</td>\n",
       "      <td>0.936479</td>\n",
       "      <td>272.000000</td>\n",
       "    </tr>\n",
       "    <tr>\n",
       "      <th>Songs about medical conditions</th>\n",
       "      <td>0.988095</td>\n",
       "      <td>0.887701</td>\n",
       "      <td>0.935211</td>\n",
       "      <td>187.000000</td>\n",
       "    </tr>\n",
       "    <tr>\n",
       "      <th>Songs about political figures</th>\n",
       "      <td>0.985401</td>\n",
       "      <td>0.888158</td>\n",
       "      <td>0.934256</td>\n",
       "      <td>152.000000</td>\n",
       "    </tr>\n",
       "    <tr>\n",
       "      <th>Songs about unhealthy relationships</th>\n",
       "      <td>0.981818</td>\n",
       "      <td>0.890110</td>\n",
       "      <td>0.933718</td>\n",
       "      <td>182.000000</td>\n",
       "    </tr>\n",
       "    <tr>\n",
       "      <th>Songs about clubbing or a night out</th>\n",
       "      <td>0.941704</td>\n",
       "      <td>0.925110</td>\n",
       "      <td>0.933333</td>\n",
       "      <td>227.000000</td>\n",
       "    </tr>\n",
       "    <tr>\n",
       "      <th>Songs about depression</th>\n",
       "      <td>0.931915</td>\n",
       "      <td>0.931915</td>\n",
       "      <td>0.931915</td>\n",
       "      <td>235.000000</td>\n",
       "    </tr>\n",
       "    <tr>\n",
       "      <th>Songs about marital problems or divorce</th>\n",
       "      <td>0.985294</td>\n",
       "      <td>0.881579</td>\n",
       "      <td>0.930556</td>\n",
       "      <td>228.000000</td>\n",
       "    </tr>\n",
       "    <tr>\n",
       "      <th>Songs written for a son or daughter</th>\n",
       "      <td>0.946809</td>\n",
       "      <td>0.912821</td>\n",
       "      <td>0.929504</td>\n",
       "      <td>195.000000</td>\n",
       "    </tr>\n",
       "    <tr>\n",
       "      <th>macro avg</th>\n",
       "      <td>0.941246</td>\n",
       "      <td>0.918850</td>\n",
       "      <td>0.928891</td>\n",
       "      <td>12569.000000</td>\n",
       "    </tr>\n",
       "    <tr>\n",
       "      <th>Songs about desire or longing</th>\n",
       "      <td>0.969231</td>\n",
       "      <td>0.891509</td>\n",
       "      <td>0.928747</td>\n",
       "      <td>212.000000</td>\n",
       "    </tr>\n",
       "    <tr>\n",
       "      <th>accuracy</th>\n",
       "      <td>0.926884</td>\n",
       "      <td>0.926884</td>\n",
       "      <td>0.926884</td>\n",
       "      <td>0.926884</td>\n",
       "    </tr>\n",
       "    <tr>\n",
       "      <th>Songs about being there for someone</th>\n",
       "      <td>0.935961</td>\n",
       "      <td>0.917874</td>\n",
       "      <td>0.926829</td>\n",
       "      <td>207.000000</td>\n",
       "    </tr>\n",
       "    <tr>\n",
       "      <th>weighted avg</th>\n",
       "      <td>0.929105</td>\n",
       "      <td>0.926884</td>\n",
       "      <td>0.926825</td>\n",
       "      <td>12569.000000</td>\n",
       "    </tr>\n",
       "    <tr>\n",
       "      <th>Songs about traveling</th>\n",
       "      <td>0.939189</td>\n",
       "      <td>0.914474</td>\n",
       "      <td>0.926667</td>\n",
       "      <td>152.000000</td>\n",
       "    </tr>\n",
       "    <tr>\n",
       "      <th>Songs about death</th>\n",
       "      <td>0.926667</td>\n",
       "      <td>0.926667</td>\n",
       "      <td>0.926667</td>\n",
       "      <td>300.000000</td>\n",
       "    </tr>\n",
       "    <tr>\n",
       "      <th>Songs written for a girl</th>\n",
       "      <td>0.872340</td>\n",
       "      <td>0.980435</td>\n",
       "      <td>0.923234</td>\n",
       "      <td>460.000000</td>\n",
       "    </tr>\n",
       "    <tr>\n",
       "      <th>Songs about being young and confused</th>\n",
       "      <td>1.000000</td>\n",
       "      <td>0.854839</td>\n",
       "      <td>0.921739</td>\n",
       "      <td>124.000000</td>\n",
       "    </tr>\n",
       "    <tr>\n",
       "      <th>Songs about war</th>\n",
       "      <td>0.880546</td>\n",
       "      <td>0.966292</td>\n",
       "      <td>0.921429</td>\n",
       "      <td>267.000000</td>\n",
       "    </tr>\n",
       "    <tr>\n",
       "      <th>Songs about dealing with fame</th>\n",
       "      <td>0.905172</td>\n",
       "      <td>0.937500</td>\n",
       "      <td>0.921053</td>\n",
       "      <td>224.000000</td>\n",
       "    </tr>\n",
       "    <tr>\n",
       "      <th>Songs about heartache</th>\n",
       "      <td>0.870634</td>\n",
       "      <td>0.976778</td>\n",
       "      <td>0.920657</td>\n",
       "      <td>689.000000</td>\n",
       "    </tr>\n",
       "    <tr>\n",
       "      <th>Songs about a breakup</th>\n",
       "      <td>0.956113</td>\n",
       "      <td>0.886628</td>\n",
       "      <td>0.920060</td>\n",
       "      <td>344.000000</td>\n",
       "    </tr>\n",
       "    <tr>\n",
       "      <th>Songs about getting away</th>\n",
       "      <td>0.922156</td>\n",
       "      <td>0.911243</td>\n",
       "      <td>0.916667</td>\n",
       "      <td>169.000000</td>\n",
       "    </tr>\n",
       "    <tr>\n",
       "      <th>Songs about drugs</th>\n",
       "      <td>0.897959</td>\n",
       "      <td>0.933333</td>\n",
       "      <td>0.915305</td>\n",
       "      <td>330.000000</td>\n",
       "    </tr>\n",
       "    <tr>\n",
       "      <th>Songs about people who committed crimes</th>\n",
       "      <td>0.915663</td>\n",
       "      <td>0.910180</td>\n",
       "      <td>0.912913</td>\n",
       "      <td>167.000000</td>\n",
       "    </tr>\n",
       "    <tr>\n",
       "      <th>Songs about a mother or father</th>\n",
       "      <td>0.887701</td>\n",
       "      <td>0.935211</td>\n",
       "      <td>0.910837</td>\n",
       "      <td>355.000000</td>\n",
       "    </tr>\n",
       "    <tr>\n",
       "      <th>Songs that are tributes to friends who died</th>\n",
       "      <td>0.898148</td>\n",
       "      <td>0.923810</td>\n",
       "      <td>0.910798</td>\n",
       "      <td>315.000000</td>\n",
       "    </tr>\n",
       "    <tr>\n",
       "      <th>Songs about childhood</th>\n",
       "      <td>0.941176</td>\n",
       "      <td>0.876712</td>\n",
       "      <td>0.907801</td>\n",
       "      <td>146.000000</td>\n",
       "    </tr>\n",
       "    <tr>\n",
       "      <th>Songs about being free</th>\n",
       "      <td>0.932836</td>\n",
       "      <td>0.868056</td>\n",
       "      <td>0.899281</td>\n",
       "      <td>144.000000</td>\n",
       "    </tr>\n",
       "    <tr>\n",
       "      <th>Songs about friendship</th>\n",
       "      <td>0.951220</td>\n",
       "      <td>0.852459</td>\n",
       "      <td>0.899135</td>\n",
       "      <td>183.000000</td>\n",
       "    </tr>\n",
       "    <tr>\n",
       "      <th>Songs about being away from loved ones</th>\n",
       "      <td>0.887967</td>\n",
       "      <td>0.906780</td>\n",
       "      <td>0.897275</td>\n",
       "      <td>236.000000</td>\n",
       "    </tr>\n",
       "    <tr>\n",
       "      <th>Songs about events in the news</th>\n",
       "      <td>0.891386</td>\n",
       "      <td>0.894737</td>\n",
       "      <td>0.893058</td>\n",
       "      <td>266.000000</td>\n",
       "    </tr>\n",
       "    <tr>\n",
       "      <th>Songs about loneliness or isolation</th>\n",
       "      <td>0.871324</td>\n",
       "      <td>0.908046</td>\n",
       "      <td>0.889306</td>\n",
       "      <td>261.000000</td>\n",
       "    </tr>\n",
       "    <tr>\n",
       "      <th>Songs about dependency or addiction</th>\n",
       "      <td>0.956522</td>\n",
       "      <td>0.830189</td>\n",
       "      <td>0.888889</td>\n",
       "      <td>159.000000</td>\n",
       "    </tr>\n",
       "    <tr>\n",
       "      <th>Songs about alcohol</th>\n",
       "      <td>0.859574</td>\n",
       "      <td>0.918182</td>\n",
       "      <td>0.887912</td>\n",
       "      <td>220.000000</td>\n",
       "    </tr>\n",
       "    <tr>\n",
       "      <th>Songs about racism or discrimination</th>\n",
       "      <td>0.932203</td>\n",
       "      <td>0.846154</td>\n",
       "      <td>0.887097</td>\n",
       "      <td>130.000000</td>\n",
       "    </tr>\n",
       "    <tr>\n",
       "      <th>Songs about specific musicians</th>\n",
       "      <td>0.961290</td>\n",
       "      <td>0.809783</td>\n",
       "      <td>0.879056</td>\n",
       "      <td>184.000000</td>\n",
       "    </tr>\n",
       "    <tr>\n",
       "      <th>Songs that are autobiographical</th>\n",
       "      <td>0.863636</td>\n",
       "      <td>0.844444</td>\n",
       "      <td>0.853933</td>\n",
       "      <td>270.000000</td>\n",
       "    </tr>\n",
       "  </tbody>\n",
       "</table>\n",
       "</div>"
      ],
      "text/plain": [
       "                                                   precision    recall  \\\n",
       "Songs of or about the Northern Soul movement        1.000000  1.000000   \n",
       "Songs about joy and happiness                       0.962162  0.978022   \n",
       "Songs about confidence or courage                   0.971429  0.953271   \n",
       "Songs about unrequited love                         0.981928  0.942197   \n",
       "Songs about individuality                           0.964072  0.958333   \n",
       "Songs about magic, witchcraft, UFOs or the occult   0.969697  0.950495   \n",
       "Songs about finding love                            0.990909  0.927660   \n",
       "Songs about perseverance                            0.973684  0.934343   \n",
       "Songs about sex                                     0.915114  0.993258   \n",
       "Songs with political statements                     0.929054  0.975177   \n",
       "Songs about the dangers of materialism              1.000000  0.904255   \n",
       "Songs about radio stations                          1.000000  0.903226   \n",
       "Songs about an ex-girlfriend or ex-boyfriend        0.927273  0.971429   \n",
       "Songs about cheating                                0.966102  0.930612   \n",
       "Songs about music                                   0.956938  0.938967   \n",
       "Songs about the music industry                      0.966102  0.926829   \n",
       "Songs about spirituality or religion                0.910448  0.983871   \n",
       "Songs about the environment                         0.982759  0.904762   \n",
       "Songs about getting older                           0.977528  0.906250   \n",
       "Songs about change                                  0.939227  0.939227   \n",
       "Songs about historical events                       0.944444  0.934066   \n",
       "Songs about computers or technology                 0.968504  0.911111   \n",
       "Songs about places                                  0.924731  0.948529   \n",
       "Songs about medical conditions                      0.988095  0.887701   \n",
       "Songs about political figures                       0.985401  0.888158   \n",
       "Songs about unhealthy relationships                 0.981818  0.890110   \n",
       "Songs about clubbing or a night out                 0.941704  0.925110   \n",
       "Songs about depression                              0.931915  0.931915   \n",
       "Songs about marital problems or divorce             0.985294  0.881579   \n",
       "Songs written for a son or daughter                 0.946809  0.912821   \n",
       "macro avg                                           0.941246  0.918850   \n",
       "Songs about desire or longing                       0.969231  0.891509   \n",
       "accuracy                                            0.926884  0.926884   \n",
       "Songs about being there for someone                 0.935961  0.917874   \n",
       "weighted avg                                        0.929105  0.926884   \n",
       "Songs about traveling                               0.939189  0.914474   \n",
       "Songs about death                                   0.926667  0.926667   \n",
       "Songs written for a girl                            0.872340  0.980435   \n",
       "Songs about being young and confused                1.000000  0.854839   \n",
       "Songs about war                                     0.880546  0.966292   \n",
       "Songs about dealing with fame                       0.905172  0.937500   \n",
       "Songs about heartache                               0.870634  0.976778   \n",
       "Songs about a breakup                               0.956113  0.886628   \n",
       "Songs about getting away                            0.922156  0.911243   \n",
       "Songs about drugs                                   0.897959  0.933333   \n",
       "Songs about people who committed crimes             0.915663  0.910180   \n",
       "Songs about a mother or father                      0.887701  0.935211   \n",
       "Songs that are tributes to friends who died         0.898148  0.923810   \n",
       "Songs about childhood                               0.941176  0.876712   \n",
       "Songs about being free                              0.932836  0.868056   \n",
       "Songs about friendship                              0.951220  0.852459   \n",
       "Songs about being away from loved ones              0.887967  0.906780   \n",
       "Songs about events in the news                      0.891386  0.894737   \n",
       "Songs about loneliness or isolation                 0.871324  0.908046   \n",
       "Songs about dependency or addiction                 0.956522  0.830189   \n",
       "Songs about alcohol                                 0.859574  0.918182   \n",
       "Songs about racism or discrimination                0.932203  0.846154   \n",
       "Songs about specific musicians                      0.961290  0.809783   \n",
       "Songs that are autobiographical                     0.863636  0.844444   \n",
       "\n",
       "                                                   f1-score       support  \n",
       "Songs of or about the Northern Soul movement       1.000000      3.000000  \n",
       "Songs about joy and happiness                      0.970027    182.000000  \n",
       "Songs about confidence or courage                  0.962264    214.000000  \n",
       "Songs about unrequited love                        0.961652    173.000000  \n",
       "Songs about individuality                          0.961194    168.000000  \n",
       "Songs about magic, witchcraft, UFOs or the occult  0.960000    101.000000  \n",
       "Songs about finding love                           0.958242    235.000000  \n",
       "Songs about perseverance                           0.953608    198.000000  \n",
       "Songs about sex                                    0.952586    445.000000  \n",
       "Songs with political statements                    0.951557    282.000000  \n",
       "Songs about the dangers of materialism             0.949721     94.000000  \n",
       "Songs about radio stations                         0.949153     31.000000  \n",
       "Songs about an ex-girlfriend or ex-boyfriend       0.948837    420.000000  \n",
       "Songs about cheating                               0.948025    245.000000  \n",
       "Songs about music                                  0.947867    213.000000  \n",
       "Songs about the music industry                     0.946058    123.000000  \n",
       "Songs about spirituality or religion               0.945736    434.000000  \n",
       "Songs about the environment                        0.942149    126.000000  \n",
       "Songs about getting older                          0.940541    192.000000  \n",
       "Songs about change                                 0.939227    181.000000  \n",
       "Songs about historical events                      0.939227    182.000000  \n",
       "Songs about computers or technology                0.938931    135.000000  \n",
       "Songs about places                                 0.936479    272.000000  \n",
       "Songs about medical conditions                     0.935211    187.000000  \n",
       "Songs about political figures                      0.934256    152.000000  \n",
       "Songs about unhealthy relationships                0.933718    182.000000  \n",
       "Songs about clubbing or a night out                0.933333    227.000000  \n",
       "Songs about depression                             0.931915    235.000000  \n",
       "Songs about marital problems or divorce            0.930556    228.000000  \n",
       "Songs written for a son or daughter                0.929504    195.000000  \n",
       "macro avg                                          0.928891  12569.000000  \n",
       "Songs about desire or longing                      0.928747    212.000000  \n",
       "accuracy                                           0.926884      0.926884  \n",
       "Songs about being there for someone                0.926829    207.000000  \n",
       "weighted avg                                       0.926825  12569.000000  \n",
       "Songs about traveling                              0.926667    152.000000  \n",
       "Songs about death                                  0.926667    300.000000  \n",
       "Songs written for a girl                           0.923234    460.000000  \n",
       "Songs about being young and confused               0.921739    124.000000  \n",
       "Songs about war                                    0.921429    267.000000  \n",
       "Songs about dealing with fame                      0.921053    224.000000  \n",
       "Songs about heartache                              0.920657    689.000000  \n",
       "Songs about a breakup                              0.920060    344.000000  \n",
       "Songs about getting away                           0.916667    169.000000  \n",
       "Songs about drugs                                  0.915305    330.000000  \n",
       "Songs about people who committed crimes            0.912913    167.000000  \n",
       "Songs about a mother or father                     0.910837    355.000000  \n",
       "Songs that are tributes to friends who died        0.910798    315.000000  \n",
       "Songs about childhood                              0.907801    146.000000  \n",
       "Songs about being free                             0.899281    144.000000  \n",
       "Songs about friendship                             0.899135    183.000000  \n",
       "Songs about being away from loved ones             0.897275    236.000000  \n",
       "Songs about events in the news                     0.893058    266.000000  \n",
       "Songs about loneliness or isolation                0.889306    261.000000  \n",
       "Songs about dependency or addiction                0.888889    159.000000  \n",
       "Songs about alcohol                                0.887912    220.000000  \n",
       "Songs about racism or discrimination               0.887097    130.000000  \n",
       "Songs about specific musicians                     0.879056    184.000000  \n",
       "Songs that are autobiographical                    0.853933    270.000000  "
      ]
     },
     "execution_count": 43,
     "metadata": {},
     "output_type": "execute_result"
    }
   ],
   "source": [
    "classification_report_df_RF_train = pd.DataFrame(classification_report([id_to_topic[i] for i in y_train], \n",
    "                                                              [id_to_topic[i] for i in pred_train_rf], \n",
    "                                                              output_dict=True)).transpose()\n",
    "classification_report_df_RF_train.sort_values('f1-score', ascending=False)"
   ]
  },
  {
   "cell_type": "markdown",
   "metadata": {},
   "source": [
    "XGBoost"
   ]
  },
  {
   "cell_type": "code",
   "execution_count": 430,
   "metadata": {},
   "outputs": [],
   "source": [
    "# xgb_modeldefault.fit(X_train, y_train)\n",
    "# # predict\n",
    "# xgb_predictions = xgb_modeldefault.predict(X_test)\n",
    "# # accuracy\n",
    "# print(\"Accuracy Train = \", accuracy_score(y_train,xgb_modeldefault.predict(X_train))) \n",
    "# print(\"Accuracy Test = \", accuracy_score(y_test,xgb_predictions)) "
   ]
  },
  {
   "cell_type": "code",
   "execution_count": 371,
   "metadata": {},
   "outputs": [],
   "source": [
    "test_df = pd.concat([X_test,pd.DataFrame({'real':[id_to_topic[i] for i in y_test]}),pd.DataFrame({'pred':[id_to_topic[i] for i in predictions]})],axis=1)"
   ]
  },
  {
   "cell_type": "code",
   "execution_count": 368,
   "metadata": {},
   "outputs": [
    {
     "name": "stderr",
     "output_type": "stream",
     "text": [
      "/Users/julianadaikawa/Documents/MBA/TCC/mba/lib/python3.10/site-packages/sklearn/metrics/_classification.py:1344: UndefinedMetricWarning: Precision and F-score are ill-defined and being set to 0.0 in labels with no predicted samples. Use `zero_division` parameter to control this behavior.\n",
      "/Users/julianadaikawa/Documents/MBA/TCC/mba/lib/python3.10/site-packages/sklearn/metrics/_classification.py:1344: UndefinedMetricWarning: Precision and F-score are ill-defined and being set to 0.0 in labels with no predicted samples. Use `zero_division` parameter to control this behavior.\n",
      "/Users/julianadaikawa/Documents/MBA/TCC/mba/lib/python3.10/site-packages/sklearn/metrics/_classification.py:1344: UndefinedMetricWarning: Precision and F-score are ill-defined and being set to 0.0 in labels with no predicted samples. Use `zero_division` parameter to control this behavior.\n"
     ]
    },
    {
     "data": {
      "text/html": [
       "<div>\n",
       "<style scoped>\n",
       "    .dataframe tbody tr th:only-of-type {\n",
       "        vertical-align: middle;\n",
       "    }\n",
       "\n",
       "    .dataframe tbody tr th {\n",
       "        vertical-align: top;\n",
       "    }\n",
       "\n",
       "    .dataframe thead th {\n",
       "        text-align: right;\n",
       "    }\n",
       "</style>\n",
       "<table border=\"1\" class=\"dataframe\">\n",
       "  <thead>\n",
       "    <tr style=\"text-align: right;\">\n",
       "      <th></th>\n",
       "      <th>precision</th>\n",
       "      <th>recall</th>\n",
       "      <th>f1-score</th>\n",
       "      <th>support</th>\n",
       "    </tr>\n",
       "  </thead>\n",
       "  <tbody>\n",
       "    <tr>\n",
       "      <th>Songs about war</th>\n",
       "      <td>0.368421</td>\n",
       "      <td>0.500000</td>\n",
       "      <td>0.424242</td>\n",
       "      <td>28.000000</td>\n",
       "    </tr>\n",
       "    <tr>\n",
       "      <th>Songs about alcohol</th>\n",
       "      <td>0.333333</td>\n",
       "      <td>0.352941</td>\n",
       "      <td>0.342857</td>\n",
       "      <td>17.000000</td>\n",
       "    </tr>\n",
       "    <tr>\n",
       "      <th>Songs about a mother or father</th>\n",
       "      <td>0.254902</td>\n",
       "      <td>0.433333</td>\n",
       "      <td>0.320988</td>\n",
       "      <td>30.000000</td>\n",
       "    </tr>\n",
       "    <tr>\n",
       "      <th>Songs about computers or technology</th>\n",
       "      <td>0.500000</td>\n",
       "      <td>0.166667</td>\n",
       "      <td>0.250000</td>\n",
       "      <td>12.000000</td>\n",
       "    </tr>\n",
       "    <tr>\n",
       "      <th>Songs about loneliness or isolation</th>\n",
       "      <td>0.320000</td>\n",
       "      <td>0.195122</td>\n",
       "      <td>0.242424</td>\n",
       "      <td>41.000000</td>\n",
       "    </tr>\n",
       "    <tr>\n",
       "      <th>Songs about sex</th>\n",
       "      <td>0.159091</td>\n",
       "      <td>0.477273</td>\n",
       "      <td>0.238636</td>\n",
       "      <td>44.000000</td>\n",
       "    </tr>\n",
       "    <tr>\n",
       "      <th>Songs about clubbing or a night out</th>\n",
       "      <td>0.222222</td>\n",
       "      <td>0.250000</td>\n",
       "      <td>0.235294</td>\n",
       "      <td>16.000000</td>\n",
       "    </tr>\n",
       "    <tr>\n",
       "      <th>Songs about heartache</th>\n",
       "      <td>0.150350</td>\n",
       "      <td>0.537500</td>\n",
       "      <td>0.234973</td>\n",
       "      <td>80.000000</td>\n",
       "    </tr>\n",
       "    <tr>\n",
       "      <th>Songs about desire or longing</th>\n",
       "      <td>0.384615</td>\n",
       "      <td>0.166667</td>\n",
       "      <td>0.232558</td>\n",
       "      <td>30.000000</td>\n",
       "    </tr>\n",
       "    <tr>\n",
       "      <th>Songs about drugs</th>\n",
       "      <td>0.191489</td>\n",
       "      <td>0.290323</td>\n",
       "      <td>0.230769</td>\n",
       "      <td>31.000000</td>\n",
       "    </tr>\n",
       "    <tr>\n",
       "      <th>Songs about dealing with fame</th>\n",
       "      <td>0.400000</td>\n",
       "      <td>0.160000</td>\n",
       "      <td>0.228571</td>\n",
       "      <td>25.000000</td>\n",
       "    </tr>\n",
       "    <tr>\n",
       "      <th>Songs about spirituality or religion</th>\n",
       "      <td>0.145161</td>\n",
       "      <td>0.428571</td>\n",
       "      <td>0.216867</td>\n",
       "      <td>42.000000</td>\n",
       "    </tr>\n",
       "    <tr>\n",
       "      <th>Songs about cheating</th>\n",
       "      <td>0.312500</td>\n",
       "      <td>0.161290</td>\n",
       "      <td>0.212766</td>\n",
       "      <td>31.000000</td>\n",
       "    </tr>\n",
       "    <tr>\n",
       "      <th>Songs about being free</th>\n",
       "      <td>0.250000</td>\n",
       "      <td>0.176471</td>\n",
       "      <td>0.206897</td>\n",
       "      <td>17.000000</td>\n",
       "    </tr>\n",
       "    <tr>\n",
       "      <th>Songs about racism or discrimination</th>\n",
       "      <td>0.400000</td>\n",
       "      <td>0.125000</td>\n",
       "      <td>0.190476</td>\n",
       "      <td>16.000000</td>\n",
       "    </tr>\n",
       "    <tr>\n",
       "      <th>Songs about traveling</th>\n",
       "      <td>0.333333</td>\n",
       "      <td>0.125000</td>\n",
       "      <td>0.181818</td>\n",
       "      <td>24.000000</td>\n",
       "    </tr>\n",
       "    <tr>\n",
       "      <th>Songs about friendship</th>\n",
       "      <td>0.400000</td>\n",
       "      <td>0.111111</td>\n",
       "      <td>0.173913</td>\n",
       "      <td>18.000000</td>\n",
       "    </tr>\n",
       "    <tr>\n",
       "      <th>Songs about being there for someone</th>\n",
       "      <td>0.200000</td>\n",
       "      <td>0.153846</td>\n",
       "      <td>0.173913</td>\n",
       "      <td>13.000000</td>\n",
       "    </tr>\n",
       "    <tr>\n",
       "      <th>accuracy</th>\n",
       "      <td>0.164639</td>\n",
       "      <td>0.164639</td>\n",
       "      <td>0.164639</td>\n",
       "      <td>0.164639</td>\n",
       "    </tr>\n",
       "    <tr>\n",
       "      <th>Songs about music</th>\n",
       "      <td>0.157895</td>\n",
       "      <td>0.166667</td>\n",
       "      <td>0.162162</td>\n",
       "      <td>18.000000</td>\n",
       "    </tr>\n",
       "    <tr>\n",
       "      <th>Songs about an ex-girlfriend or ex-boyfriend</th>\n",
       "      <td>0.131579</td>\n",
       "      <td>0.188679</td>\n",
       "      <td>0.155039</td>\n",
       "      <td>53.000000</td>\n",
       "    </tr>\n",
       "    <tr>\n",
       "      <th>Songs about the environment</th>\n",
       "      <td>1.000000</td>\n",
       "      <td>0.083333</td>\n",
       "      <td>0.153846</td>\n",
       "      <td>12.000000</td>\n",
       "    </tr>\n",
       "    <tr>\n",
       "      <th>Songs about being away from loved ones</th>\n",
       "      <td>0.157895</td>\n",
       "      <td>0.150000</td>\n",
       "      <td>0.153846</td>\n",
       "      <td>20.000000</td>\n",
       "    </tr>\n",
       "    <tr>\n",
       "      <th>Songs with political statements</th>\n",
       "      <td>0.125000</td>\n",
       "      <td>0.194444</td>\n",
       "      <td>0.152174</td>\n",
       "      <td>36.000000</td>\n",
       "    </tr>\n",
       "    <tr>\n",
       "      <th>weighted avg</th>\n",
       "      <td>0.186992</td>\n",
       "      <td>0.164639</td>\n",
       "      <td>0.139064</td>\n",
       "      <td>1397.000000</td>\n",
       "    </tr>\n",
       "    <tr>\n",
       "      <th>Songs about specific musicians</th>\n",
       "      <td>0.333333</td>\n",
       "      <td>0.083333</td>\n",
       "      <td>0.133333</td>\n",
       "      <td>24.000000</td>\n",
       "    </tr>\n",
       "    <tr>\n",
       "      <th>Songs about death</th>\n",
       "      <td>0.113636</td>\n",
       "      <td>0.161290</td>\n",
       "      <td>0.133333</td>\n",
       "      <td>31.000000</td>\n",
       "    </tr>\n",
       "    <tr>\n",
       "      <th>Songs about magic, witchcraft, UFOs or the occult</th>\n",
       "      <td>0.333333</td>\n",
       "      <td>0.083333</td>\n",
       "      <td>0.133333</td>\n",
       "      <td>12.000000</td>\n",
       "    </tr>\n",
       "    <tr>\n",
       "      <th>Songs that are tributes to friends who died</th>\n",
       "      <td>0.131579</td>\n",
       "      <td>0.131579</td>\n",
       "      <td>0.131579</td>\n",
       "      <td>38.000000</td>\n",
       "    </tr>\n",
       "    <tr>\n",
       "      <th>macro avg</th>\n",
       "      <td>0.191455</td>\n",
       "      <td>0.124810</td>\n",
       "      <td>0.121475</td>\n",
       "      <td>1397.000000</td>\n",
       "    </tr>\n",
       "    <tr>\n",
       "      <th>Songs about change</th>\n",
       "      <td>0.153846</td>\n",
       "      <td>0.090909</td>\n",
       "      <td>0.114286</td>\n",
       "      <td>22.000000</td>\n",
       "    </tr>\n",
       "    <tr>\n",
       "      <th>Songs about finding love</th>\n",
       "      <td>0.153846</td>\n",
       "      <td>0.083333</td>\n",
       "      <td>0.108108</td>\n",
       "      <td>24.000000</td>\n",
       "    </tr>\n",
       "    <tr>\n",
       "      <th>Songs written for a girl</th>\n",
       "      <td>0.078431</td>\n",
       "      <td>0.153846</td>\n",
       "      <td>0.103896</td>\n",
       "      <td>52.000000</td>\n",
       "    </tr>\n",
       "    <tr>\n",
       "      <th>Songs about unhealthy relationships</th>\n",
       "      <td>0.500000</td>\n",
       "      <td>0.052632</td>\n",
       "      <td>0.095238</td>\n",
       "      <td>19.000000</td>\n",
       "    </tr>\n",
       "    <tr>\n",
       "      <th>Songs written for a son or daughter</th>\n",
       "      <td>1.000000</td>\n",
       "      <td>0.047619</td>\n",
       "      <td>0.090909</td>\n",
       "      <td>21.000000</td>\n",
       "    </tr>\n",
       "    <tr>\n",
       "      <th>Songs about a breakup</th>\n",
       "      <td>0.200000</td>\n",
       "      <td>0.057692</td>\n",
       "      <td>0.089552</td>\n",
       "      <td>52.000000</td>\n",
       "    </tr>\n",
       "    <tr>\n",
       "      <th>Songs about confidence or courage</th>\n",
       "      <td>0.181818</td>\n",
       "      <td>0.057143</td>\n",
       "      <td>0.086957</td>\n",
       "      <td>35.000000</td>\n",
       "    </tr>\n",
       "    <tr>\n",
       "      <th>Songs about getting away</th>\n",
       "      <td>0.125000</td>\n",
       "      <td>0.062500</td>\n",
       "      <td>0.083333</td>\n",
       "      <td>16.000000</td>\n",
       "    </tr>\n",
       "    <tr>\n",
       "      <th>Songs about places</th>\n",
       "      <td>0.069767</td>\n",
       "      <td>0.100000</td>\n",
       "      <td>0.082192</td>\n",
       "      <td>30.000000</td>\n",
       "    </tr>\n",
       "    <tr>\n",
       "      <th>Songs about events in the news</th>\n",
       "      <td>0.111111</td>\n",
       "      <td>0.060606</td>\n",
       "      <td>0.078431</td>\n",
       "      <td>33.000000</td>\n",
       "    </tr>\n",
       "    <tr>\n",
       "      <th>Songs about historical events</th>\n",
       "      <td>0.083333</td>\n",
       "      <td>0.052632</td>\n",
       "      <td>0.064516</td>\n",
       "      <td>19.000000</td>\n",
       "    </tr>\n",
       "    <tr>\n",
       "      <th>Songs about perseverance</th>\n",
       "      <td>0.111111</td>\n",
       "      <td>0.041667</td>\n",
       "      <td>0.060606</td>\n",
       "      <td>24.000000</td>\n",
       "    </tr>\n",
       "    <tr>\n",
       "      <th>Songs about getting older</th>\n",
       "      <td>0.090909</td>\n",
       "      <td>0.041667</td>\n",
       "      <td>0.057143</td>\n",
       "      <td>24.000000</td>\n",
       "    </tr>\n",
       "    <tr>\n",
       "      <th>Songs that are autobiographical</th>\n",
       "      <td>0.052632</td>\n",
       "      <td>0.033333</td>\n",
       "      <td>0.040816</td>\n",
       "      <td>30.000000</td>\n",
       "    </tr>\n",
       "    <tr>\n",
       "      <th>Songs about the dangers of materialism</th>\n",
       "      <td>0.000000</td>\n",
       "      <td>0.000000</td>\n",
       "      <td>0.000000</td>\n",
       "      <td>14.000000</td>\n",
       "    </tr>\n",
       "    <tr>\n",
       "      <th>Songs about depression</th>\n",
       "      <td>0.000000</td>\n",
       "      <td>0.000000</td>\n",
       "      <td>0.000000</td>\n",
       "      <td>23.000000</td>\n",
       "    </tr>\n",
       "    <tr>\n",
       "      <th>Songs about the music industry</th>\n",
       "      <td>0.000000</td>\n",
       "      <td>0.000000</td>\n",
       "      <td>0.000000</td>\n",
       "      <td>15.000000</td>\n",
       "    </tr>\n",
       "    <tr>\n",
       "      <th>Songs about radio stations</th>\n",
       "      <td>0.000000</td>\n",
       "      <td>0.000000</td>\n",
       "      <td>0.000000</td>\n",
       "      <td>4.000000</td>\n",
       "    </tr>\n",
       "    <tr>\n",
       "      <th>Songs about political figures</th>\n",
       "      <td>0.000000</td>\n",
       "      <td>0.000000</td>\n",
       "      <td>0.000000</td>\n",
       "      <td>25.000000</td>\n",
       "    </tr>\n",
       "    <tr>\n",
       "      <th>Songs about unrequited love</th>\n",
       "      <td>0.000000</td>\n",
       "      <td>0.000000</td>\n",
       "      <td>0.000000</td>\n",
       "      <td>17.000000</td>\n",
       "    </tr>\n",
       "    <tr>\n",
       "      <th>Songs about childhood</th>\n",
       "      <td>0.000000</td>\n",
       "      <td>0.000000</td>\n",
       "      <td>0.000000</td>\n",
       "      <td>13.000000</td>\n",
       "    </tr>\n",
       "    <tr>\n",
       "      <th>Songs of or about the Northern Soul movement</th>\n",
       "      <td>0.000000</td>\n",
       "      <td>0.000000</td>\n",
       "      <td>0.000000</td>\n",
       "      <td>2.000000</td>\n",
       "    </tr>\n",
       "    <tr>\n",
       "      <th>Songs about people who committed crimes</th>\n",
       "      <td>0.000000</td>\n",
       "      <td>0.000000</td>\n",
       "      <td>0.000000</td>\n",
       "      <td>18.000000</td>\n",
       "    </tr>\n",
       "    <tr>\n",
       "      <th>Songs about medical conditions</th>\n",
       "      <td>0.000000</td>\n",
       "      <td>0.000000</td>\n",
       "      <td>0.000000</td>\n",
       "      <td>20.000000</td>\n",
       "    </tr>\n",
       "    <tr>\n",
       "      <th>Songs about marital problems or divorce</th>\n",
       "      <td>0.000000</td>\n",
       "      <td>0.000000</td>\n",
       "      <td>0.000000</td>\n",
       "      <td>20.000000</td>\n",
       "    </tr>\n",
       "    <tr>\n",
       "      <th>Songs about joy and happiness</th>\n",
       "      <td>0.000000</td>\n",
       "      <td>0.000000</td>\n",
       "      <td>0.000000</td>\n",
       "      <td>16.000000</td>\n",
       "    </tr>\n",
       "    <tr>\n",
       "      <th>Songs about being young and confused</th>\n",
       "      <td>0.000000</td>\n",
       "      <td>0.000000</td>\n",
       "      <td>0.000000</td>\n",
       "      <td>10.000000</td>\n",
       "    </tr>\n",
       "    <tr>\n",
       "      <th>Songs about individuality</th>\n",
       "      <td>0.000000</td>\n",
       "      <td>0.000000</td>\n",
       "      <td>0.000000</td>\n",
       "      <td>22.000000</td>\n",
       "    </tr>\n",
       "    <tr>\n",
       "      <th>Songs about dependency or addiction</th>\n",
       "      <td>0.000000</td>\n",
       "      <td>0.000000</td>\n",
       "      <td>0.000000</td>\n",
       "      <td>18.000000</td>\n",
       "    </tr>\n",
       "  </tbody>\n",
       "</table>\n",
       "</div>"
      ],
      "text/plain": [
       "                                                   precision    recall  \\\n",
       "Songs about war                                     0.368421  0.500000   \n",
       "Songs about alcohol                                 0.333333  0.352941   \n",
       "Songs about a mother or father                      0.254902  0.433333   \n",
       "Songs about computers or technology                 0.500000  0.166667   \n",
       "Songs about loneliness or isolation                 0.320000  0.195122   \n",
       "Songs about sex                                     0.159091  0.477273   \n",
       "Songs about clubbing or a night out                 0.222222  0.250000   \n",
       "Songs about heartache                               0.150350  0.537500   \n",
       "Songs about desire or longing                       0.384615  0.166667   \n",
       "Songs about drugs                                   0.191489  0.290323   \n",
       "Songs about dealing with fame                       0.400000  0.160000   \n",
       "Songs about spirituality or religion                0.145161  0.428571   \n",
       "Songs about cheating                                0.312500  0.161290   \n",
       "Songs about being free                              0.250000  0.176471   \n",
       "Songs about racism or discrimination                0.400000  0.125000   \n",
       "Songs about traveling                               0.333333  0.125000   \n",
       "Songs about friendship                              0.400000  0.111111   \n",
       "Songs about being there for someone                 0.200000  0.153846   \n",
       "accuracy                                            0.164639  0.164639   \n",
       "Songs about music                                   0.157895  0.166667   \n",
       "Songs about an ex-girlfriend or ex-boyfriend        0.131579  0.188679   \n",
       "Songs about the environment                         1.000000  0.083333   \n",
       "Songs about being away from loved ones              0.157895  0.150000   \n",
       "Songs with political statements                     0.125000  0.194444   \n",
       "weighted avg                                        0.186992  0.164639   \n",
       "Songs about specific musicians                      0.333333  0.083333   \n",
       "Songs about death                                   0.113636  0.161290   \n",
       "Songs about magic, witchcraft, UFOs or the occult   0.333333  0.083333   \n",
       "Songs that are tributes to friends who died         0.131579  0.131579   \n",
       "macro avg                                           0.191455  0.124810   \n",
       "Songs about change                                  0.153846  0.090909   \n",
       "Songs about finding love                            0.153846  0.083333   \n",
       "Songs written for a girl                            0.078431  0.153846   \n",
       "Songs about unhealthy relationships                 0.500000  0.052632   \n",
       "Songs written for a son or daughter                 1.000000  0.047619   \n",
       "Songs about a breakup                               0.200000  0.057692   \n",
       "Songs about confidence or courage                   0.181818  0.057143   \n",
       "Songs about getting away                            0.125000  0.062500   \n",
       "Songs about places                                  0.069767  0.100000   \n",
       "Songs about events in the news                      0.111111  0.060606   \n",
       "Songs about historical events                       0.083333  0.052632   \n",
       "Songs about perseverance                            0.111111  0.041667   \n",
       "Songs about getting older                           0.090909  0.041667   \n",
       "Songs that are autobiographical                     0.052632  0.033333   \n",
       "Songs about the dangers of materialism              0.000000  0.000000   \n",
       "Songs about depression                              0.000000  0.000000   \n",
       "Songs about the music industry                      0.000000  0.000000   \n",
       "Songs about radio stations                          0.000000  0.000000   \n",
       "Songs about political figures                       0.000000  0.000000   \n",
       "Songs about unrequited love                         0.000000  0.000000   \n",
       "Songs about childhood                               0.000000  0.000000   \n",
       "Songs of or about the Northern Soul movement        0.000000  0.000000   \n",
       "Songs about people who committed crimes             0.000000  0.000000   \n",
       "Songs about medical conditions                      0.000000  0.000000   \n",
       "Songs about marital problems or divorce             0.000000  0.000000   \n",
       "Songs about joy and happiness                       0.000000  0.000000   \n",
       "Songs about being young and confused                0.000000  0.000000   \n",
       "Songs about individuality                           0.000000  0.000000   \n",
       "Songs about dependency or addiction                 0.000000  0.000000   \n",
       "\n",
       "                                                   f1-score      support  \n",
       "Songs about war                                    0.424242    28.000000  \n",
       "Songs about alcohol                                0.342857    17.000000  \n",
       "Songs about a mother or father                     0.320988    30.000000  \n",
       "Songs about computers or technology                0.250000    12.000000  \n",
       "Songs about loneliness or isolation                0.242424    41.000000  \n",
       "Songs about sex                                    0.238636    44.000000  \n",
       "Songs about clubbing or a night out                0.235294    16.000000  \n",
       "Songs about heartache                              0.234973    80.000000  \n",
       "Songs about desire or longing                      0.232558    30.000000  \n",
       "Songs about drugs                                  0.230769    31.000000  \n",
       "Songs about dealing with fame                      0.228571    25.000000  \n",
       "Songs about spirituality or religion               0.216867    42.000000  \n",
       "Songs about cheating                               0.212766    31.000000  \n",
       "Songs about being free                             0.206897    17.000000  \n",
       "Songs about racism or discrimination               0.190476    16.000000  \n",
       "Songs about traveling                              0.181818    24.000000  \n",
       "Songs about friendship                             0.173913    18.000000  \n",
       "Songs about being there for someone                0.173913    13.000000  \n",
       "accuracy                                           0.164639     0.164639  \n",
       "Songs about music                                  0.162162    18.000000  \n",
       "Songs about an ex-girlfriend or ex-boyfriend       0.155039    53.000000  \n",
       "Songs about the environment                        0.153846    12.000000  \n",
       "Songs about being away from loved ones             0.153846    20.000000  \n",
       "Songs with political statements                    0.152174    36.000000  \n",
       "weighted avg                                       0.139064  1397.000000  \n",
       "Songs about specific musicians                     0.133333    24.000000  \n",
       "Songs about death                                  0.133333    31.000000  \n",
       "Songs about magic, witchcraft, UFOs or the occult  0.133333    12.000000  \n",
       "Songs that are tributes to friends who died        0.131579    38.000000  \n",
       "macro avg                                          0.121475  1397.000000  \n",
       "Songs about change                                 0.114286    22.000000  \n",
       "Songs about finding love                           0.108108    24.000000  \n",
       "Songs written for a girl                           0.103896    52.000000  \n",
       "Songs about unhealthy relationships                0.095238    19.000000  \n",
       "Songs written for a son or daughter                0.090909    21.000000  \n",
       "Songs about a breakup                              0.089552    52.000000  \n",
       "Songs about confidence or courage                  0.086957    35.000000  \n",
       "Songs about getting away                           0.083333    16.000000  \n",
       "Songs about places                                 0.082192    30.000000  \n",
       "Songs about events in the news                     0.078431    33.000000  \n",
       "Songs about historical events                      0.064516    19.000000  \n",
       "Songs about perseverance                           0.060606    24.000000  \n",
       "Songs about getting older                          0.057143    24.000000  \n",
       "Songs that are autobiographical                    0.040816    30.000000  \n",
       "Songs about the dangers of materialism             0.000000    14.000000  \n",
       "Songs about depression                             0.000000    23.000000  \n",
       "Songs about the music industry                     0.000000    15.000000  \n",
       "Songs about radio stations                         0.000000     4.000000  \n",
       "Songs about political figures                      0.000000    25.000000  \n",
       "Songs about unrequited love                        0.000000    17.000000  \n",
       "Songs about childhood                              0.000000    13.000000  \n",
       "Songs of or about the Northern Soul movement       0.000000     2.000000  \n",
       "Songs about people who committed crimes            0.000000    18.000000  \n",
       "Songs about medical conditions                     0.000000    20.000000  \n",
       "Songs about marital problems or divorce            0.000000    20.000000  \n",
       "Songs about joy and happiness                      0.000000    16.000000  \n",
       "Songs about being young and confused               0.000000    10.000000  \n",
       "Songs about individuality                          0.000000    22.000000  \n",
       "Songs about dependency or addiction                0.000000    18.000000  "
      ]
     },
     "execution_count": 368,
     "metadata": {},
     "output_type": "execute_result"
    }
   ],
   "source": [
    "classification_report_df = pd.DataFrame(classification_report([id_to_topic[i] for i in y_test], \n",
    "                                                              [id_to_topic[i] for i in predictions], \n",
    "                                                              output_dict=True)).transpose()\n",
    "classification_report_df.sort_values('f1-score', ascending=False)"
   ]
  },
  {
   "cell_type": "code",
   "execution_count": null,
   "metadata": {},
   "outputs": [],
   "source": []
  }
 ],
 "metadata": {
  "kernelspec": {
   "display_name": "mba",
   "language": "python",
   "name": "python3"
  },
  "language_info": {
   "codemirror_mode": {
    "name": "ipython",
    "version": 3
   },
   "file_extension": ".py",
   "mimetype": "text/x-python",
   "name": "python",
   "nbconvert_exporter": "python",
   "pygments_lexer": "ipython3",
   "version": "3.10.9"
  },
  "orig_nbformat": 4,
  "vscode": {
   "interpreter": {
    "hash": "8b2fbc7061a72f32b0b3d3f7c992c07fdf7345e09149e7cb0b597745dfe94e82"
   }
  }
 },
 "nbformat": 4,
 "nbformat_minor": 2
}
